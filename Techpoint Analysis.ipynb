{
 "cells": [
  {
   "cell_type": "code",
   "execution_count": 18,
   "metadata": {
    "collapsed": true
   },
   "outputs": [],
   "source": [
    "import pandas as pd\n",
    "import re\n",
    "import numpy as np\n",
    "import matplotlib.pyplot as plt\n",
    "import pygal \n",
    "import cairosvg\n",
    "import os"
   ]
  },
  {
   "cell_type": "code",
   "execution_count": 3,
   "metadata": {
    "collapsed": true
   },
   "outputs": [],
   "source": [
    "df = pd.read_csv('point.csv', encoding = \"cp1252\")"
   ]
  },
  {
   "cell_type": "code",
   "execution_count": null,
   "metadata": {
    "collapsed": true
   },
   "outputs": [],
   "source": [
    "# df.tail()"
   ]
  },
  {
   "cell_type": "code",
   "execution_count": null,
   "metadata": {
    "collapsed": true
   },
   "outputs": [],
   "source": [
    "# df[df['headline'].str.lower().str.contains((\"seed funding|seed round|seed capital\"))]\n",
    "# df[df['headline'].str.lower().str.contains((\"(?x)usd | USD\"))]"
   ]
  },
  {
   "cell_type": "markdown",
   "metadata": {},
   "source": [
    "### All steps in a function"
   ]
  },
  {
   "cell_type": "code",
   "execution_count": 4,
   "metadata": {
    "collapsed": true
   },
   "outputs": [],
   "source": [
    "def stabilize(df):\n",
    "    df['date'] = pd.to_datetime(df['date'])\n",
    "    df['months'] = df['date'].apply(lambda x: x.strftime('%Y-%m')) \n",
    "    df['count'] = 1    "
   ]
  },
  {
   "cell_type": "code",
   "execution_count": 5,
   "metadata": {
    "collapsed": true
   },
   "outputs": [],
   "source": [
    "stabilize(df)"
   ]
  },
  {
   "cell_type": "code",
   "execution_count": 6,
   "metadata": {
    "collapsed": true
   },
   "outputs": [],
   "source": [
    "funding = df[df['headline'].str.lower().str.contains('raises|raised|raising|secures|closes|secured|closed')]\n",
    "acquisition = df[df['headline'].str.lower().str.contains((\"acquiring|acquired|acquiring|acquires\"))]"
   ]
  },
  {
   "cell_type": "code",
   "execution_count": null,
   "metadata": {
    "collapsed": true
   },
   "outputs": [],
   "source": [
    "# chart = df.groupby('months', as_index=False)['date'].count()\n",
    "# line_chart = pygal.Line(x_label_rotation=20, show_minor_x_labels=False)\n",
    "# line_chart.title = 'title'\n",
    "# line_chart.x_labels = map(str, chart['months'])\n",
    "# line_chart.x_labels_major = [chart['months'][0], chart['months'][10], chart['months'][20], chart['months'][30], chart['months'][40], chart['months'][50], chart['months'][57], chart['months'][65]]\n",
    "# line_chart.add('',chart['date'])\n",
    "# display({'image/svg+xml': line_chart.render()}, raw=True)"
   ]
  },
  {
   "cell_type": "code",
   "execution_count": 19,
   "metadata": {},
   "outputs": [],
   "source": [
    "path = './Output'\n",
    "os.chdir(path)"
   ]
  },
  {
   "cell_type": "code",
   "execution_count": 7,
   "metadata": {
    "collapsed": true
   },
   "outputs": [],
   "source": [
    "def createChart(df, title, fileName):\n",
    "    chart = df.groupby('months', as_index=False)['date'].count()\n",
    "    l = int(len(chart)/7)\n",
    "    line_chart = pygal.Line(x_label_rotation=20, show_minor_x_labels=False)\n",
    "    line_chart.title = title\n",
    "    line_chart.x_labels = map(str, chart['months'])\n",
    "    line_chart.x_labels_major = [chart['months'][0], chart['months'][l], chart['months'][l+l], chart['months'][l+l+l], chart['months'][l+l+l+l], chart['months'][l+l+l+l+l], chart['months'][l+l+l+l+l+l], chart['months'][len(chart) - 1]]\n",
    "    line_chart.add('', chart['date'])\n",
    "    \n",
    "    line_chart.render_to_png( fileName + '.png')\n",
    "    \n",
    "#     drawing = svg2rlg('draws.svg')\n",
    "#     renderPM.drawToFile(drawing, 'rer.png')\n",
    "    display({'image/svg+xml': line_chart.render()}, raw=True)"
   ]
  },
  {
   "cell_type": "code",
   "execution_count": 8,
   "metadata": {
    "scrolled": true
   },
   "outputs": [
    {
     "data": {
      "image/svg+xml": [
       "<?xml version='1.0' encoding='utf-8'?>\n",
       "<svg xmlns:xlink=\"http://www.w3.org/1999/xlink\" xmlns=\"http://www.w3.org/2000/svg\" id=\"chart-01c48804-32a7-4792-857d-fe6209c9e538\" class=\"pygal-chart\" viewBox=\"0 0 800 600\"><!--Generated with pygal 2.4.0 (lxml) Â©Kozea 2012-2016 on 2018-08-26--><!--http://pygal.org--><!--http://github.com/Kozea/pygal--><defs><style type=\"text/css\">#chart-01c48804-32a7-4792-857d-fe6209c9e538{-webkit-user-select:none;-webkit-font-smoothing:antialiased;font-family:Consolas,\"Liberation Mono\",Menlo,Courier,monospace}#chart-01c48804-32a7-4792-857d-fe6209c9e538 .title{font-family:Consolas,\"Liberation Mono\",Menlo,Courier,monospace;font-size:16px}#chart-01c48804-32a7-4792-857d-fe6209c9e538 .legends .legend text{font-family:Consolas,\"Liberation Mono\",Menlo,Courier,monospace;font-size:14px}#chart-01c48804-32a7-4792-857d-fe6209c9e538 .axis text{font-family:Consolas,\"Liberation Mono\",Menlo,Courier,monospace;font-size:10px}#chart-01c48804-32a7-4792-857d-fe6209c9e538 .axis text.major{font-family:Consolas,\"Liberation Mono\",Menlo,Courier,monospace;font-size:10px}#chart-01c48804-32a7-4792-857d-fe6209c9e538 .text-overlay text.value{font-family:Consolas,\"Liberation Mono\",Menlo,Courier,monospace;font-size:16px}#chart-01c48804-32a7-4792-857d-fe6209c9e538 .text-overlay text.label{font-family:Consolas,\"Liberation Mono\",Menlo,Courier,monospace;font-size:10px}#chart-01c48804-32a7-4792-857d-fe6209c9e538 .tooltip{font-family:Consolas,\"Liberation Mono\",Menlo,Courier,monospace;font-size:14px}#chart-01c48804-32a7-4792-857d-fe6209c9e538 text.no_data{font-family:Consolas,\"Liberation Mono\",Menlo,Courier,monospace;font-size:64px}\n",
       "#chart-01c48804-32a7-4792-857d-fe6209c9e538{background-color:rgba(249,249,249,1)}#chart-01c48804-32a7-4792-857d-fe6209c9e538 path,#chart-01c48804-32a7-4792-857d-fe6209c9e538 line,#chart-01c48804-32a7-4792-857d-fe6209c9e538 rect,#chart-01c48804-32a7-4792-857d-fe6209c9e538 circle{-webkit-transition:150ms;-moz-transition:150ms;transition:150ms}#chart-01c48804-32a7-4792-857d-fe6209c9e538 .graph &gt; .background{fill:rgba(249,249,249,1)}#chart-01c48804-32a7-4792-857d-fe6209c9e538 .plot &gt; .background{fill:rgba(255,255,255,1)}#chart-01c48804-32a7-4792-857d-fe6209c9e538 .graph{fill:rgba(0,0,0,.87)}#chart-01c48804-32a7-4792-857d-fe6209c9e538 text.no_data{fill:rgba(0,0,0,1)}#chart-01c48804-32a7-4792-857d-fe6209c9e538 .title{fill:rgba(0,0,0,1)}#chart-01c48804-32a7-4792-857d-fe6209c9e538 .legends .legend text{fill:rgba(0,0,0,.87)}#chart-01c48804-32a7-4792-857d-fe6209c9e538 .legends .legend:hover text{fill:rgba(0,0,0,1)}#chart-01c48804-32a7-4792-857d-fe6209c9e538 .axis .line{stroke:rgba(0,0,0,1)}#chart-01c48804-32a7-4792-857d-fe6209c9e538 .axis .guide.line{stroke:rgba(0,0,0,.54)}#chart-01c48804-32a7-4792-857d-fe6209c9e538 .axis .major.line{stroke:rgba(0,0,0,.87)}#chart-01c48804-32a7-4792-857d-fe6209c9e538 .axis text.major{fill:rgba(0,0,0,1)}#chart-01c48804-32a7-4792-857d-fe6209c9e538 .axis.y .guides:hover .guide.line,#chart-01c48804-32a7-4792-857d-fe6209c9e538 .line-graph .axis.x .guides:hover .guide.line,#chart-01c48804-32a7-4792-857d-fe6209c9e538 .stackedline-graph .axis.x .guides:hover .guide.line,#chart-01c48804-32a7-4792-857d-fe6209c9e538 .xy-graph .axis.x .guides:hover .guide.line{stroke:rgba(0,0,0,1)}#chart-01c48804-32a7-4792-857d-fe6209c9e538 .axis .guides:hover text{fill:rgba(0,0,0,1)}#chart-01c48804-32a7-4792-857d-fe6209c9e538 .reactive{fill-opacity:.7;stroke-opacity:.8}#chart-01c48804-32a7-4792-857d-fe6209c9e538 .ci{stroke:rgba(0,0,0,.87)}#chart-01c48804-32a7-4792-857d-fe6209c9e538 .reactive.active,#chart-01c48804-32a7-4792-857d-fe6209c9e538 .active .reactive{fill-opacity:.8;stroke-opacity:.9;stroke-width:4}#chart-01c48804-32a7-4792-857d-fe6209c9e538 .ci .reactive.active{stroke-width:1.5}#chart-01c48804-32a7-4792-857d-fe6209c9e538 .series text{fill:rgba(0,0,0,1)}#chart-01c48804-32a7-4792-857d-fe6209c9e538 .tooltip rect{fill:rgba(255,255,255,1);stroke:rgba(0,0,0,1);-webkit-transition:opacity 150ms;-moz-transition:opacity 150ms;transition:opacity 150ms}#chart-01c48804-32a7-4792-857d-fe6209c9e538 .tooltip .label{fill:rgba(0,0,0,.87)}#chart-01c48804-32a7-4792-857d-fe6209c9e538 .tooltip .label{fill:rgba(0,0,0,.87)}#chart-01c48804-32a7-4792-857d-fe6209c9e538 .tooltip .legend{font-size:.8em;fill:rgba(0,0,0,.54)}#chart-01c48804-32a7-4792-857d-fe6209c9e538 .tooltip .x_label{font-size:.6em;fill:rgba(0,0,0,1)}#chart-01c48804-32a7-4792-857d-fe6209c9e538 .tooltip .xlink{font-size:.5em;text-decoration:underline}#chart-01c48804-32a7-4792-857d-fe6209c9e538 .tooltip .value{font-size:1.5em}#chart-01c48804-32a7-4792-857d-fe6209c9e538 .bound{font-size:.5em}#chart-01c48804-32a7-4792-857d-fe6209c9e538 .max-value{font-size:.75em;fill:rgba(0,0,0,.54)}#chart-01c48804-32a7-4792-857d-fe6209c9e538 .map-element{fill:rgba(255,255,255,1);stroke:rgba(0,0,0,.54) !important}#chart-01c48804-32a7-4792-857d-fe6209c9e538 .map-element .reactive{fill-opacity:inherit;stroke-opacity:inherit}#chart-01c48804-32a7-4792-857d-fe6209c9e538 .color-0,#chart-01c48804-32a7-4792-857d-fe6209c9e538 .color-0 a:visited{stroke:#F44336;fill:#F44336}#chart-01c48804-32a7-4792-857d-fe6209c9e538 .text-overlay .color-0 text{fill:black}\n",
       "#chart-01c48804-32a7-4792-857d-fe6209c9e538 text.no_data{text-anchor:middle}#chart-01c48804-32a7-4792-857d-fe6209c9e538 .guide.line{fill:none}#chart-01c48804-32a7-4792-857d-fe6209c9e538 .centered{text-anchor:middle}#chart-01c48804-32a7-4792-857d-fe6209c9e538 .title{text-anchor:middle}#chart-01c48804-32a7-4792-857d-fe6209c9e538 .legends .legend text{fill-opacity:1}#chart-01c48804-32a7-4792-857d-fe6209c9e538 .axis.x text{text-anchor:middle}#chart-01c48804-32a7-4792-857d-fe6209c9e538 .axis.x:not(.web) text[transform]{text-anchor:start}#chart-01c48804-32a7-4792-857d-fe6209c9e538 .axis.x:not(.web) text[transform].backwards{text-anchor:end}#chart-01c48804-32a7-4792-857d-fe6209c9e538 .axis.y text{text-anchor:end}#chart-01c48804-32a7-4792-857d-fe6209c9e538 .axis.y text[transform].backwards{text-anchor:start}#chart-01c48804-32a7-4792-857d-fe6209c9e538 .axis.y2 text{text-anchor:start}#chart-01c48804-32a7-4792-857d-fe6209c9e538 .axis.y2 text[transform].backwards{text-anchor:end}#chart-01c48804-32a7-4792-857d-fe6209c9e538 .axis .guide.line{stroke-dasharray:4,4}#chart-01c48804-32a7-4792-857d-fe6209c9e538 .axis .major.guide.line{stroke-dasharray:6,6}#chart-01c48804-32a7-4792-857d-fe6209c9e538 .horizontal .axis.y .guide.line,#chart-01c48804-32a7-4792-857d-fe6209c9e538 .horizontal .axis.y2 .guide.line,#chart-01c48804-32a7-4792-857d-fe6209c9e538 .vertical .axis.x .guide.line{opacity:0}#chart-01c48804-32a7-4792-857d-fe6209c9e538 .horizontal .axis.always_show .guide.line,#chart-01c48804-32a7-4792-857d-fe6209c9e538 .vertical .axis.always_show .guide.line{opacity:1 !important}#chart-01c48804-32a7-4792-857d-fe6209c9e538 .axis.y .guides:hover .guide.line,#chart-01c48804-32a7-4792-857d-fe6209c9e538 .axis.y2 .guides:hover .guide.line,#chart-01c48804-32a7-4792-857d-fe6209c9e538 .axis.x .guides:hover .guide.line{opacity:1}#chart-01c48804-32a7-4792-857d-fe6209c9e538 .axis .guides:hover text{opacity:1}#chart-01c48804-32a7-4792-857d-fe6209c9e538 .nofill{fill:none}#chart-01c48804-32a7-4792-857d-fe6209c9e538 .subtle-fill{fill-opacity:.2}#chart-01c48804-32a7-4792-857d-fe6209c9e538 .dot{stroke-width:1px;fill-opacity:1}#chart-01c48804-32a7-4792-857d-fe6209c9e538 .dot.active{stroke-width:5px}#chart-01c48804-32a7-4792-857d-fe6209c9e538 .dot.negative{fill:transparent}#chart-01c48804-32a7-4792-857d-fe6209c9e538 text,#chart-01c48804-32a7-4792-857d-fe6209c9e538 tspan{stroke:none !important}#chart-01c48804-32a7-4792-857d-fe6209c9e538 .series text.active{opacity:1}#chart-01c48804-32a7-4792-857d-fe6209c9e538 .tooltip rect{fill-opacity:.95;stroke-width:.5}#chart-01c48804-32a7-4792-857d-fe6209c9e538 .tooltip text{fill-opacity:1}#chart-01c48804-32a7-4792-857d-fe6209c9e538 .showable{visibility:hidden}#chart-01c48804-32a7-4792-857d-fe6209c9e538 .showable.shown{visibility:visible}#chart-01c48804-32a7-4792-857d-fe6209c9e538 .gauge-background{fill:rgba(229,229,229,1);stroke:none}#chart-01c48804-32a7-4792-857d-fe6209c9e538 .bg-lines{stroke:rgba(249,249,249,1);stroke-width:2px}</style><script type=\"text/javascript\">window.pygal = window.pygal || {};window.pygal.config = window.pygal.config || {};window.pygal.config['01c48804-32a7-4792-857d-fe6209c9e538'] = {\"allow_interruptions\": false, \"box_mode\": \"extremes\", \"classes\": [\"pygal-chart\"], \"css\": [\"file://style.css\", \"file://graph.css\"], \"defs\": [], \"disable_xml_declaration\": false, \"dots_size\": 2.5, \"dynamic_print_values\": false, \"explicit_size\": false, \"fill\": false, \"force_uri_protocol\": \"https\", \"formatter\": null, \"half_pie\": false, \"height\": 600, \"include_x_axis\": false, \"inner_radius\": 0, \"interpolate\": null, \"interpolation_parameters\": {}, \"interpolation_precision\": 250, \"inverse_y_axis\": false, \"js\": [\"//kozea.github.io/pygal.js/2.0.x/pygal-tooltips.min.js\"], \"legend_at_bottom\": false, \"legend_at_bottom_columns\": null, \"legend_box_size\": 12, \"logarithmic\": false, \"margin\": 20, \"margin_bottom\": null, \"margin_left\": null, \"margin_right\": null, \"margin_top\": null, \"max_scale\": 16, \"min_scale\": 4, \"missing_value_fill_truncation\": \"x\", \"no_data_text\": \"No data\", \"no_prefix\": false, \"order_min\": null, \"pretty_print\": false, \"print_labels\": false, \"print_values\": false, \"print_values_position\": \"center\", \"print_zeroes\": true, \"range\": null, \"rounded_bars\": null, \"secondary_range\": null, \"show_dots\": true, \"show_legend\": true, \"show_minor_x_labels\": false, \"show_minor_y_labels\": true, \"show_only_major_dots\": false, \"show_x_guides\": false, \"show_x_labels\": true, \"show_y_guides\": true, \"show_y_labels\": true, \"spacing\": 10, \"stack_from_top\": false, \"strict\": false, \"stroke\": true, \"stroke_style\": null, \"style\": {\"background\": \"rgba(249, 249, 249, 1)\", \"ci_colors\": [], \"colors\": [\"#F44336\", \"#3F51B5\", \"#009688\", \"#FFC107\", \"#FF5722\", \"#9C27B0\", \"#03A9F4\", \"#8BC34A\", \"#FF9800\", \"#E91E63\", \"#2196F3\", \"#4CAF50\", \"#FFEB3B\", \"#673AB7\", \"#00BCD4\", \"#CDDC39\", \"#9E9E9E\", \"#607D8B\"], \"font_family\": \"Consolas, \\\"Liberation Mono\\\", Menlo, Courier, monospace\", \"foreground\": \"rgba(0, 0, 0, .87)\", \"foreground_strong\": \"rgba(0, 0, 0, 1)\", \"foreground_subtle\": \"rgba(0, 0, 0, .54)\", \"guide_stroke_dasharray\": \"4,4\", \"label_font_family\": \"Consolas, \\\"Liberation Mono\\\", Menlo, Courier, monospace\", \"label_font_size\": 10, \"legend_font_family\": \"Consolas, \\\"Liberation Mono\\\", Menlo, Courier, monospace\", \"legend_font_size\": 14, \"major_guide_stroke_dasharray\": \"6,6\", \"major_label_font_family\": \"Consolas, \\\"Liberation Mono\\\", Menlo, Courier, monospace\", \"major_label_font_size\": 10, \"no_data_font_family\": \"Consolas, \\\"Liberation Mono\\\", Menlo, Courier, monospace\", \"no_data_font_size\": 64, \"opacity\": \".7\", \"opacity_hover\": \".8\", \"plot_background\": \"rgba(255, 255, 255, 1)\", \"stroke_opacity\": \".8\", \"stroke_opacity_hover\": \".9\", \"title_font_family\": \"Consolas, \\\"Liberation Mono\\\", Menlo, Courier, monospace\", \"title_font_size\": 16, \"tooltip_font_family\": \"Consolas, \\\"Liberation Mono\\\", Menlo, Courier, monospace\", \"tooltip_font_size\": 14, \"transition\": \"150ms\", \"value_background\": \"rgba(229, 229, 229, 1)\", \"value_colors\": [], \"value_font_family\": \"Consolas, \\\"Liberation Mono\\\", Menlo, Courier, monospace\", \"value_font_size\": 16, \"value_label_font_family\": \"Consolas, \\\"Liberation Mono\\\", Menlo, Courier, monospace\", \"value_label_font_size\": 10}, \"title\": \"Total articles published on TechPoint (month total)\", \"tooltip_border_radius\": 0, \"tooltip_fancy_mode\": true, \"truncate_label\": null, \"truncate_legend\": null, \"width\": 800, \"x_label_rotation\": 20, \"x_labels\": [\"2014-12\", \"2015-01\", \"2015-02\", \"2015-03\", \"2015-04\", \"2015-05\", \"2015-06\", \"2015-07\", \"2015-08\", \"2015-09\", \"2015-10\", \"2015-11\", \"2015-12\", \"2016-01\", \"2016-02\", \"2016-03\", \"2016-04\", \"2016-05\", \"2016-06\", \"2016-07\", \"2016-08\", \"2016-09\", \"2016-10\", \"2016-11\", \"2016-12\", \"2017-01\", \"2017-02\", \"2017-03\", \"2017-04\", \"2017-05\", \"2017-06\", \"2017-07\", \"2017-08\", \"2017-09\", \"2017-10\", \"2017-11\", \"2017-12\", \"2018-01\", \"2018-02\", \"2018-03\", \"2018-04\", \"2018-05\", \"2018-06\", \"2018-07\", \"2018-08\"], \"x_labels_major\": [\"2014-12\", \"2015-06\", \"2015-12\", \"2016-06\", \"2016-12\", \"2017-06\", \"2017-12\", \"2018-08\"], \"x_labels_major_count\": null, \"x_labels_major_every\": null, \"x_title\": null, \"xrange\": null, \"y_label_rotation\": 0, \"y_labels\": null, \"y_labels_major\": null, \"y_labels_major_count\": null, \"y_labels_major_every\": null, \"y_title\": null, \"zero\": 0, \"legends\": [\"\"]}</script><script type=\"text/javascript\" xlink:href=\"https://kozea.github.io/pygal.js/2.0.x/pygal-tooltips.min.js\"/></defs><title>Total articles published on TechPoint (month total)</title><g class=\"graph line-graph vertical\"><rect class=\"background\" height=\"600\" width=\"800\" x=\"0\" y=\"0\"/><g class=\"plot\" transform=\"translate(70, 46)\"><rect class=\"background\" height=\"509.6351539803219\" width=\"690.5329099269918\" x=\"0\" y=\"0\"/><g class=\"axis y always_show\"><path class=\"line\" d=\"M0.000000 509.635154 h690.532910\"/><g class=\"guides\"><path class=\"guide line\" d=\"M0.000000 475.332788 h690.532910\"/><text class=\"\" x=\"-5\" y=\"478.832787847\">10</text><title>10</title></g><g class=\"guides\"><path class=\"guide line\" d=\"M0.000000 434.496638 h690.532910\"/><text class=\"\" x=\"-5\" y=\"437.996637688\">20</text><title>20</title></g><g class=\"guides\"><path class=\"guide line\" d=\"M0.000000 393.660488 h690.532910\"/><text class=\"\" x=\"-5\" y=\"397.16048753\">30</text><title>30</title></g><g class=\"guides\"><path class=\"guide line\" d=\"M0.000000 352.824337 h690.532910\"/><text class=\"\" x=\"-5\" y=\"356.324337371\">40</text><title>40</title></g><g class=\"guides\"><path class=\"major guide line\" d=\"M0.000000 311.988187 h690.532910\"/><text class=\"major\" x=\"-5\" y=\"315.488187212\">50</text><title>50</title></g><g class=\"guides\"><path class=\"guide line\" d=\"M0.000000 271.152037 h690.532910\"/><text class=\"\" x=\"-5\" y=\"274.652037054\">60</text><title>60</title></g><g class=\"guides\"><path class=\"guide line\" d=\"M0.000000 230.315887 h690.532910\"/><text class=\"\" x=\"-5\" y=\"233.815886895\">70</text><title>70</title></g><g class=\"guides\"><path class=\"guide line\" d=\"M0.000000 189.479737 h690.532910\"/><text class=\"\" x=\"-5\" y=\"192.979736736\">80</text><title>80</title></g><g class=\"guides\"><path class=\"guide line\" d=\"M0.000000 148.643587 h690.532910\"/><text class=\"\" x=\"-5\" y=\"152.143586578\">90</text><title>90</title></g><g class=\"guides\"><path class=\"major guide line\" d=\"M0.000000 107.807436 h690.532910\"/><text class=\"major\" x=\"-5\" y=\"111.307436419\">100</text><title>100</title></g><g class=\"guides\"><path class=\"guide line\" d=\"M0.000000 66.971286 h690.532910\"/><text class=\"\" x=\"-5\" y=\"70.4712862602\">110</text><title>110</title></g><g class=\"guides\"><path class=\"guide line\" d=\"M0.000000 26.135136 h690.532910\"/><text class=\"\" x=\"-5\" y=\"29.6351361016\">120</text><title>120</title></g></g><g class=\"axis x\"><g class=\"guides\"><path class=\"major line\" d=\"M13.279479 0.000000 v509.635154\"/><text class=\"major\" x=\"13.279479037057536\" y=\"524.6351539803219\" transform=\"rotate(20 13.279479 524.635154)\">2014-12</text></g><g class=\"guides\"><path class=\"major guide line\" d=\"M103.821382 0.000000 v509.635154\"/><text class=\"major\" x=\"103.8213815624498\" y=\"524.6351539803219\" transform=\"rotate(20 103.821382 524.635154)\">2015-06</text></g><g class=\"guides\"><path class=\"major guide line\" d=\"M194.363284 0.000000 v509.635154\"/><text class=\"major\" x=\"194.3632840878421\" y=\"524.6351539803219\" transform=\"rotate(20 194.363284 524.635154)\">2015-12</text></g><g class=\"guides\"><path class=\"major guide line\" d=\"M284.905187 0.000000 v509.635154\"/><text class=\"major\" x=\"284.90518661323443\" y=\"524.6351539803219\" transform=\"rotate(20 284.905187 524.635154)\">2016-06</text></g><g class=\"guides\"><path class=\"major guide line\" d=\"M375.447089 0.000000 v509.635154\"/><text class=\"major\" x=\"375.4470891386266\" y=\"524.6351539803219\" transform=\"rotate(20 375.447089 524.635154)\">2016-12</text></g><g class=\"guides\"><path class=\"major guide line\" d=\"M465.988992 0.000000 v509.635154\"/><text class=\"major\" x=\"465.9889916640189\" y=\"524.6351539803219\" transform=\"rotate(20 465.988992 524.635154)\">2017-06</text></g><g class=\"guides\"><path class=\"major guide line\" d=\"M556.530894 0.000000 v509.635154\"/><text class=\"major\" x=\"556.5308941894112\" y=\"524.6351539803219\" transform=\"rotate(20 556.530894 524.635154)\">2017-12</text></g><g class=\"guides\"><path class=\"major guide line\" d=\"M677.253431 0.000000 v509.635154\"/><text class=\"major\" x=\"677.2534308899343\" y=\"524.6351539803219\" transform=\"rotate(20 677.253431 524.635154)\">2018-08</text></g></g><g class=\"series serie-0 color-0\"><path class=\"line reactive nofill\" d=\"M13.279479 499.834478 L28.369796 201.730582 43.460113 136.392742 58.550430 111.891051 73.640747 103.723821 88.731064 189.479737 103.821382 91.472976 118.911699 9.800676 134.002016 205.814197 149.092333 173.145277 164.182650 173.145277 179.272967 75.138516 194.363284 169.061662 209.453601 148.643587 224.543918 160.894432 239.634235 173.145277 254.724552 242.566732 269.814870 177.228892 284.905187 115.974666 299.995504 234.399502 315.085821 83.305746 330.176138 250.733962 345.266455 181.312507 360.356772 279.319267 375.447089 250.733962 390.537406 107.807436 405.627723 99.640206 420.718040 75.138516 435.808357 71.054901 450.898675 50.636826 465.988992 115.974666 481.079309 136.392742 496.169626 107.807436 511.259943 152.727202 526.350260 169.061662 541.440577 156.810817 556.530894 197.646967 571.621211 201.730582 586.711528 103.723821 601.801845 46.553211 616.892163 50.636826 631.982480 62.887671 647.072797 197.646967 662.163114 218.065042 677.253431 328.322647\"/></g></g><g class=\"titles\"><text class=\"title plot_title\" x=\"400.0\" y=\"26\">Total articles published on TechPoint (month total)</text></g><g class=\"plot overlay\" transform=\"translate(70, 46)\"><g class=\"series serie-0 color-0\"><g class=\"dots\"><circle class=\"dot reactive tooltip-trigger\" cx=\"13.279479037057536\" cy=\"499.834477942\" r=\"2.5\"/><desc class=\"value\">4</desc><desc class=\"x top\">13.279479037057536</desc><desc class=\"y top\">499.834477942</desc><desc class=\"x_label\">2014-12</desc></g><g class=\"dots\"><circle class=\"dot reactive tooltip-trigger\" cx=\"28.369796124622912\" cy=\"201.730581784\" r=\"2.5\"/><desc class=\"value\">77</desc><desc class=\"x \">28.369796124622912</desc><desc class=\"y \">201.730581784</desc><desc class=\"x_label\">2015-01</desc></g><g class=\"dots\"><circle class=\"dot reactive tooltip-trigger\" cx=\"43.4601132121883\" cy=\"136.39274153\" r=\"2.5\"/><desc class=\"value\">93</desc><desc class=\"x \">43.4601132121883</desc><desc class=\"y \">136.39274153</desc><desc class=\"x_label\">2015-02</desc></g><g class=\"dots\"><circle class=\"dot reactive tooltip-trigger\" cx=\"58.55043029975368\" cy=\"111.891051435\" r=\"2.5\"/><desc class=\"value\">99</desc><desc class=\"x \">58.55043029975368</desc><desc class=\"y \">111.891051435</desc><desc class=\"x_label\">2015-03</desc></g><g class=\"dots\"><circle class=\"dot reactive tooltip-trigger\" cx=\"73.64074738731905\" cy=\"103.723821403\" r=\"2.5\"/><desc class=\"value\">101</desc><desc class=\"x \">73.64074738731905</desc><desc class=\"y \">103.723821403</desc><desc class=\"x_label\">2015-04</desc></g><g class=\"dots\"><circle class=\"dot reactive tooltip-trigger\" cx=\"88.73106447488443\" cy=\"189.479736736\" r=\"2.5\"/><desc class=\"value\">80</desc><desc class=\"x \">88.73106447488443</desc><desc class=\"y \">189.479736736</desc><desc class=\"x_label\">2015-05</desc></g><g class=\"dots\"><circle class=\"dot reactive tooltip-trigger\" cx=\"103.8213815624498\" cy=\"91.4729763554\" r=\"2.5\"/><desc class=\"value\">104</desc><desc class=\"x \">103.8213815624498</desc><desc class=\"y \">91.4729763554</desc><desc class=\"x_label\">2015-06</desc></g><g class=\"dots\"><circle class=\"dot reactive tooltip-trigger\" cx=\"118.91169865001518\" cy=\"9.80067603808\" r=\"2.5\"/><desc class=\"value\">124</desc><desc class=\"x \">118.91169865001518</desc><desc class=\"y \">9.80067603808</desc><desc class=\"x_label\">2015-07</desc></g><g class=\"dots\"><circle class=\"dot reactive tooltip-trigger\" cx=\"134.0020157375806\" cy=\"205.8141968\" r=\"2.5\"/><desc class=\"value\">76</desc><desc class=\"x \">134.0020157375806</desc><desc class=\"y \">205.8141968</desc><desc class=\"x_label\">2015-08</desc></g><g class=\"dots\"><circle class=\"dot reactive tooltip-trigger\" cx=\"149.09233282514595\" cy=\"173.145276673\" r=\"2.5\"/><desc class=\"value\">84</desc><desc class=\"x \">149.09233282514595</desc><desc class=\"y \">173.145276673</desc><desc class=\"x_label\">2015-09</desc></g><g class=\"dots\"><circle class=\"dot reactive tooltip-trigger\" cx=\"164.18264991271133\" cy=\"173.145276673\" r=\"2.5\"/><desc class=\"value\">84</desc><desc class=\"x \">164.18264991271133</desc><desc class=\"y \">173.145276673</desc><desc class=\"x_label\">2015-10</desc></g><g class=\"dots\"><circle class=\"dot reactive tooltip-trigger\" cx=\"179.2729670002767\" cy=\"75.138516292\" r=\"2.5\"/><desc class=\"value\">108</desc><desc class=\"x \">179.2729670002767</desc><desc class=\"y \">75.138516292</desc><desc class=\"x_label\">2015-11</desc></g><g class=\"dots\"><circle class=\"dot reactive tooltip-trigger\" cx=\"194.3632840878421\" cy=\"169.061661657\" r=\"2.5\"/><desc class=\"value\">85</desc><desc class=\"x \">194.3632840878421</desc><desc class=\"y \">169.061661657</desc><desc class=\"x_label\">2015-12</desc></g><g class=\"dots\"><circle class=\"dot reactive tooltip-trigger\" cx=\"209.45360117540747\" cy=\"148.643586578\" r=\"2.5\"/><desc class=\"value\">90</desc><desc class=\"x \">209.45360117540747</desc><desc class=\"y \">148.643586578</desc><desc class=\"x_label\">2016-01</desc></g><g class=\"dots\"><circle class=\"dot reactive tooltip-trigger\" cx=\"224.54391826297285\" cy=\"160.894431625\" r=\"2.5\"/><desc class=\"value\">87</desc><desc class=\"x \">224.54391826297285</desc><desc class=\"y \">160.894431625</desc><desc class=\"x_label\">2016-02</desc></g><g class=\"dots\"><circle class=\"dot reactive tooltip-trigger\" cx=\"239.63423535053823\" cy=\"173.145276673\" r=\"2.5\"/><desc class=\"value\">84</desc><desc class=\"x \">239.63423535053823</desc><desc class=\"y \">173.145276673</desc><desc class=\"x_label\">2016-03</desc></g><g class=\"dots\"><circle class=\"dot reactive tooltip-trigger\" cx=\"254.72455243810361\" cy=\"242.566731943\" r=\"2.5\"/><desc class=\"value\">67</desc><desc class=\"x \">254.72455243810361</desc><desc class=\"y \">242.566731943</desc><desc class=\"x_label\">2016-04</desc></g><g class=\"dots\"><circle class=\"dot reactive tooltip-trigger\" cx=\"269.814869525669\" cy=\"177.228891689\" r=\"2.5\"/><desc class=\"value\">83</desc><desc class=\"x \">269.814869525669</desc><desc class=\"y \">177.228891689</desc><desc class=\"x_label\">2016-05</desc></g><g class=\"dots\"><circle class=\"dot reactive tooltip-trigger\" cx=\"284.90518661323443\" cy=\"115.974666451\" r=\"2.5\"/><desc class=\"value\">98</desc><desc class=\"x \">284.90518661323443</desc><desc class=\"y \">115.974666451</desc><desc class=\"x_label\">2016-06</desc></g><g class=\"dots\"><circle class=\"dot reactive tooltip-trigger\" cx=\"299.99550370079976\" cy=\"234.399501911\" r=\"2.5\"/><desc class=\"value\">69</desc><desc class=\"x \">299.99550370079976</desc><desc class=\"y \">234.399501911</desc><desc class=\"x_label\">2016-07</desc></g><g class=\"dots\"><circle class=\"dot reactive tooltip-trigger\" cx=\"315.08582078836514\" cy=\"83.3057463237\" r=\"2.5\"/><desc class=\"value\">106</desc><desc class=\"x \">315.08582078836514</desc><desc class=\"y \">83.3057463237</desc><desc class=\"x_label\">2016-08</desc></g><g class=\"dots\"><circle class=\"dot reactive tooltip-trigger\" cx=\"330.1761378759305\" cy=\"250.733961974\" r=\"2.5\"/><desc class=\"value\">65</desc><desc class=\"x \">330.1761378759305</desc><desc class=\"y \">250.733961974</desc><desc class=\"x_label\">2016-09</desc></g><g class=\"dots\"><circle class=\"dot reactive tooltip-trigger\" cx=\"345.2664549634959\" cy=\"181.312506705\" r=\"2.5\"/><desc class=\"value\">82</desc><desc class=\"x \">345.2664549634959</desc><desc class=\"y \">181.312506705</desc><desc class=\"x_label\">2016-10</desc></g><g class=\"dots\"><circle class=\"dot reactive tooltip-trigger\" cx=\"360.3567720510613\" cy=\"279.319267085\" r=\"2.5\"/><desc class=\"value\">58</desc><desc class=\"x left top\">360.3567720510613</desc><desc class=\"y left top\">279.319267085</desc><desc class=\"x_label\">2016-11</desc></g><g class=\"dots\"><circle class=\"dot reactive tooltip-trigger\" cx=\"375.4470891386266\" cy=\"250.733961974\" r=\"2.5\"/><desc class=\"value\">65</desc><desc class=\"x left\">375.4470891386266</desc><desc class=\"y left\">250.733961974</desc><desc class=\"x_label\">2016-12</desc></g><g class=\"dots\"><circle class=\"dot reactive tooltip-trigger\" cx=\"390.53740622619205\" cy=\"107.807436419\" r=\"2.5\"/><desc class=\"value\">100</desc><desc class=\"x left\">390.53740622619205</desc><desc class=\"y left\">107.807436419</desc><desc class=\"x_label\">2017-01</desc></g><g class=\"dots\"><circle class=\"dot reactive tooltip-trigger\" cx=\"405.62772331375743\" cy=\"99.6402063872\" r=\"2.5\"/><desc class=\"value\">102</desc><desc class=\"x left\">405.62772331375743</desc><desc class=\"y left\">99.6402063872</desc><desc class=\"x_label\">2017-02</desc></g><g class=\"dots\"><circle class=\"dot reactive tooltip-trigger\" cx=\"420.7180404013228\" cy=\"75.138516292\" r=\"2.5\"/><desc class=\"value\">108</desc><desc class=\"x left\">420.7180404013228</desc><desc class=\"y left\">75.138516292</desc><desc class=\"x_label\">2017-03</desc></g><g class=\"dots\"><circle class=\"dot reactive tooltip-trigger\" cx=\"435.8083574888882\" cy=\"71.0549012761\" r=\"2.5\"/><desc class=\"value\">109</desc><desc class=\"x left\">435.8083574888882</desc><desc class=\"y left\">71.0549012761</desc><desc class=\"x_label\">2017-04</desc></g><g class=\"dots\"><circle class=\"dot reactive tooltip-trigger\" cx=\"450.8986745764535\" cy=\"50.6368261968\" r=\"2.5\"/><desc class=\"value\">114</desc><desc class=\"x left\">450.8986745764535</desc><desc class=\"y left\">50.6368261968</desc><desc class=\"x_label\">2017-05</desc></g><g class=\"dots\"><circle class=\"dot reactive tooltip-trigger\" cx=\"465.9889916640189\" cy=\"115.974666451\" r=\"2.5\"/><desc class=\"value\">98</desc><desc class=\"x left\">465.9889916640189</desc><desc class=\"y left\">115.974666451</desc><desc class=\"x_label\">2017-06</desc></g><g class=\"dots\"><circle class=\"dot reactive tooltip-trigger\" cx=\"481.07930875158434\" cy=\"136.39274153\" r=\"2.5\"/><desc class=\"value\">93</desc><desc class=\"x left\">481.07930875158434</desc><desc class=\"y left\">136.39274153</desc><desc class=\"x_label\">2017-07</desc></g><g class=\"dots\"><circle class=\"dot reactive tooltip-trigger\" cx=\"496.1696258391497\" cy=\"107.807436419\" r=\"2.5\"/><desc class=\"value\">100</desc><desc class=\"x left\">496.1696258391497</desc><desc class=\"y left\">107.807436419</desc><desc class=\"x_label\">2017-08</desc></g><g class=\"dots\"><circle class=\"dot reactive tooltip-trigger\" cx=\"511.25994292671515\" cy=\"152.727201593\" r=\"2.5\"/><desc class=\"value\">89</desc><desc class=\"x left\">511.25994292671515</desc><desc class=\"y left\">152.727201593</desc><desc class=\"x_label\">2017-09</desc></g><g class=\"dots\"><circle class=\"dot reactive tooltip-trigger\" cx=\"526.3502600142805\" cy=\"169.061661657\" r=\"2.5\"/><desc class=\"value\">85</desc><desc class=\"x left\">526.3502600142805</desc><desc class=\"y left\">169.061661657</desc><desc class=\"x_label\">2017-10</desc></g><g class=\"dots\"><circle class=\"dot reactive tooltip-trigger\" cx=\"541.4405771018459\" cy=\"156.810816609\" r=\"2.5\"/><desc class=\"value\">88</desc><desc class=\"x left\">541.4405771018459</desc><desc class=\"y left\">156.810816609</desc><desc class=\"x_label\">2017-11</desc></g><g class=\"dots\"><circle class=\"dot reactive tooltip-trigger\" cx=\"556.5308941894112\" cy=\"197.646966768\" r=\"2.5\"/><desc class=\"value\">78</desc><desc class=\"x left\">556.5308941894112</desc><desc class=\"y left\">197.646966768</desc><desc class=\"x_label\">2017-12</desc></g><g class=\"dots\"><circle class=\"dot reactive tooltip-trigger\" cx=\"571.6212112769766\" cy=\"201.730581784\" r=\"2.5\"/><desc class=\"value\">77</desc><desc class=\"x left\">571.6212112769766</desc><desc class=\"y left\">201.730581784</desc><desc class=\"x_label\">2018-01</desc></g><g class=\"dots\"><circle class=\"dot reactive tooltip-trigger\" cx=\"586.711528364542\" cy=\"103.723821403\" r=\"2.5\"/><desc class=\"value\">101</desc><desc class=\"x left\">586.711528364542</desc><desc class=\"y left\">103.723821403</desc><desc class=\"x_label\">2018-02</desc></g><g class=\"dots\"><circle class=\"dot reactive tooltip-trigger\" cx=\"601.8018454521074\" cy=\"46.5532111809\" r=\"2.5\"/><desc class=\"value\">115</desc><desc class=\"x left\">601.8018454521074</desc><desc class=\"y left\">46.5532111809</desc><desc class=\"x_label\">2018-03</desc></g><g class=\"dots\"><circle class=\"dot reactive tooltip-trigger\" cx=\"616.8921625396728\" cy=\"50.6368261968\" r=\"2.5\"/><desc class=\"value\">114</desc><desc class=\"x left\">616.8921625396728</desc><desc class=\"y left\">50.6368261968</desc><desc class=\"x_label\">2018-04</desc></g><g class=\"dots\"><circle class=\"dot reactive tooltip-trigger\" cx=\"631.982479627238\" cy=\"62.8876712444\" r=\"2.5\"/><desc class=\"value\">111</desc><desc class=\"x left\">631.982479627238</desc><desc class=\"y left\">62.8876712444</desc><desc class=\"x_label\">2018-05</desc></g><g class=\"dots\"><circle class=\"dot reactive tooltip-trigger\" cx=\"647.0727967148035\" cy=\"197.646966768\" r=\"2.5\"/><desc class=\"value\">78</desc><desc class=\"x left\">647.0727967148035</desc><desc class=\"y left\">197.646966768</desc><desc class=\"x_label\">2018-06</desc></g><g class=\"dots\"><circle class=\"dot reactive tooltip-trigger\" cx=\"662.1631138023689\" cy=\"218.065041847\" r=\"2.5\"/><desc class=\"value\">73</desc><desc class=\"x left\">662.1631138023689</desc><desc class=\"y left\">218.065041847</desc><desc class=\"x_label\">2018-07</desc></g><g class=\"dots\"><circle class=\"dot reactive tooltip-trigger\" cx=\"677.2534308899343\" cy=\"328.322647276\" r=\"2.5\"/><desc class=\"value\">46</desc><desc class=\"x left top\">677.2534308899343</desc><desc class=\"y left top\">328.322647276</desc><desc class=\"x_label\">2018-08</desc></g></g></g><g class=\"plot text-overlay\" transform=\"translate(70, 46)\"><g class=\"series serie-0 color-0\"/></g><g class=\"plot tooltip-overlay\" transform=\"translate(70, 46)\"><g class=\"tooltip\" style=\"opacity: 0\" transform=\"translate(0 0)\"><rect class=\"tooltip-box\" height=\"0\" rx=\"0\" ry=\"0\" width=\"0\"/><g class=\"text\"/></g></g><g class=\"legends\" transform=\"translate(10, 56)\"><g class=\"legend reactive activate-serie\" id=\"activate-serie-0\"><rect class=\"color-0 reactive\" height=\"12\" width=\"12\" x=\"0.0\" y=\"1.0\"/><text x=\"17.0\" y=\"11.2\"></text></g></g><g class=\"legends\" transform=\"translate(770, 56)\"/></g></svg>"
      ]
     },
     "metadata": {},
     "output_type": "display_data"
    }
   ],
   "source": [
    "createChart(df, 'Total articles published on TechPoint (month total)', 'Total Articles Point' )"
   ]
  },
  {
   "cell_type": "code",
   "execution_count": 9,
   "metadata": {
    "scrolled": true
   },
   "outputs": [
    {
     "data": {
      "image/svg+xml": [
       "<?xml version='1.0' encoding='utf-8'?>\n",
       "<svg xmlns:xlink=\"http://www.w3.org/1999/xlink\" xmlns=\"http://www.w3.org/2000/svg\" id=\"chart-a34fd01f-46e3-4297-81a7-03458477f971\" class=\"pygal-chart\" viewBox=\"0 0 800 600\"><!--Generated with pygal 2.4.0 (lxml) Â©Kozea 2012-2016 on 2018-08-26--><!--http://pygal.org--><!--http://github.com/Kozea/pygal--><defs><style type=\"text/css\">#chart-a34fd01f-46e3-4297-81a7-03458477f971{-webkit-user-select:none;-webkit-font-smoothing:antialiased;font-family:Consolas,\"Liberation Mono\",Menlo,Courier,monospace}#chart-a34fd01f-46e3-4297-81a7-03458477f971 .title{font-family:Consolas,\"Liberation Mono\",Menlo,Courier,monospace;font-size:16px}#chart-a34fd01f-46e3-4297-81a7-03458477f971 .legends .legend text{font-family:Consolas,\"Liberation Mono\",Menlo,Courier,monospace;font-size:14px}#chart-a34fd01f-46e3-4297-81a7-03458477f971 .axis text{font-family:Consolas,\"Liberation Mono\",Menlo,Courier,monospace;font-size:10px}#chart-a34fd01f-46e3-4297-81a7-03458477f971 .axis text.major{font-family:Consolas,\"Liberation Mono\",Menlo,Courier,monospace;font-size:10px}#chart-a34fd01f-46e3-4297-81a7-03458477f971 .text-overlay text.value{font-family:Consolas,\"Liberation Mono\",Menlo,Courier,monospace;font-size:16px}#chart-a34fd01f-46e3-4297-81a7-03458477f971 .text-overlay text.label{font-family:Consolas,\"Liberation Mono\",Menlo,Courier,monospace;font-size:10px}#chart-a34fd01f-46e3-4297-81a7-03458477f971 .tooltip{font-family:Consolas,\"Liberation Mono\",Menlo,Courier,monospace;font-size:14px}#chart-a34fd01f-46e3-4297-81a7-03458477f971 text.no_data{font-family:Consolas,\"Liberation Mono\",Menlo,Courier,monospace;font-size:64px}\n",
       "#chart-a34fd01f-46e3-4297-81a7-03458477f971{background-color:rgba(249,249,249,1)}#chart-a34fd01f-46e3-4297-81a7-03458477f971 path,#chart-a34fd01f-46e3-4297-81a7-03458477f971 line,#chart-a34fd01f-46e3-4297-81a7-03458477f971 rect,#chart-a34fd01f-46e3-4297-81a7-03458477f971 circle{-webkit-transition:150ms;-moz-transition:150ms;transition:150ms}#chart-a34fd01f-46e3-4297-81a7-03458477f971 .graph &gt; .background{fill:rgba(249,249,249,1)}#chart-a34fd01f-46e3-4297-81a7-03458477f971 .plot &gt; .background{fill:rgba(255,255,255,1)}#chart-a34fd01f-46e3-4297-81a7-03458477f971 .graph{fill:rgba(0,0,0,.87)}#chart-a34fd01f-46e3-4297-81a7-03458477f971 text.no_data{fill:rgba(0,0,0,1)}#chart-a34fd01f-46e3-4297-81a7-03458477f971 .title{fill:rgba(0,0,0,1)}#chart-a34fd01f-46e3-4297-81a7-03458477f971 .legends .legend text{fill:rgba(0,0,0,.87)}#chart-a34fd01f-46e3-4297-81a7-03458477f971 .legends .legend:hover text{fill:rgba(0,0,0,1)}#chart-a34fd01f-46e3-4297-81a7-03458477f971 .axis .line{stroke:rgba(0,0,0,1)}#chart-a34fd01f-46e3-4297-81a7-03458477f971 .axis .guide.line{stroke:rgba(0,0,0,.54)}#chart-a34fd01f-46e3-4297-81a7-03458477f971 .axis .major.line{stroke:rgba(0,0,0,.87)}#chart-a34fd01f-46e3-4297-81a7-03458477f971 .axis text.major{fill:rgba(0,0,0,1)}#chart-a34fd01f-46e3-4297-81a7-03458477f971 .axis.y .guides:hover .guide.line,#chart-a34fd01f-46e3-4297-81a7-03458477f971 .line-graph .axis.x .guides:hover .guide.line,#chart-a34fd01f-46e3-4297-81a7-03458477f971 .stackedline-graph .axis.x .guides:hover .guide.line,#chart-a34fd01f-46e3-4297-81a7-03458477f971 .xy-graph .axis.x .guides:hover .guide.line{stroke:rgba(0,0,0,1)}#chart-a34fd01f-46e3-4297-81a7-03458477f971 .axis .guides:hover text{fill:rgba(0,0,0,1)}#chart-a34fd01f-46e3-4297-81a7-03458477f971 .reactive{fill-opacity:.7;stroke-opacity:.8}#chart-a34fd01f-46e3-4297-81a7-03458477f971 .ci{stroke:rgba(0,0,0,.87)}#chart-a34fd01f-46e3-4297-81a7-03458477f971 .reactive.active,#chart-a34fd01f-46e3-4297-81a7-03458477f971 .active .reactive{fill-opacity:.8;stroke-opacity:.9;stroke-width:4}#chart-a34fd01f-46e3-4297-81a7-03458477f971 .ci .reactive.active{stroke-width:1.5}#chart-a34fd01f-46e3-4297-81a7-03458477f971 .series text{fill:rgba(0,0,0,1)}#chart-a34fd01f-46e3-4297-81a7-03458477f971 .tooltip rect{fill:rgba(255,255,255,1);stroke:rgba(0,0,0,1);-webkit-transition:opacity 150ms;-moz-transition:opacity 150ms;transition:opacity 150ms}#chart-a34fd01f-46e3-4297-81a7-03458477f971 .tooltip .label{fill:rgba(0,0,0,.87)}#chart-a34fd01f-46e3-4297-81a7-03458477f971 .tooltip .label{fill:rgba(0,0,0,.87)}#chart-a34fd01f-46e3-4297-81a7-03458477f971 .tooltip .legend{font-size:.8em;fill:rgba(0,0,0,.54)}#chart-a34fd01f-46e3-4297-81a7-03458477f971 .tooltip .x_label{font-size:.6em;fill:rgba(0,0,0,1)}#chart-a34fd01f-46e3-4297-81a7-03458477f971 .tooltip .xlink{font-size:.5em;text-decoration:underline}#chart-a34fd01f-46e3-4297-81a7-03458477f971 .tooltip .value{font-size:1.5em}#chart-a34fd01f-46e3-4297-81a7-03458477f971 .bound{font-size:.5em}#chart-a34fd01f-46e3-4297-81a7-03458477f971 .max-value{font-size:.75em;fill:rgba(0,0,0,.54)}#chart-a34fd01f-46e3-4297-81a7-03458477f971 .map-element{fill:rgba(255,255,255,1);stroke:rgba(0,0,0,.54) !important}#chart-a34fd01f-46e3-4297-81a7-03458477f971 .map-element .reactive{fill-opacity:inherit;stroke-opacity:inherit}#chart-a34fd01f-46e3-4297-81a7-03458477f971 .color-0,#chart-a34fd01f-46e3-4297-81a7-03458477f971 .color-0 a:visited{stroke:#F44336;fill:#F44336}#chart-a34fd01f-46e3-4297-81a7-03458477f971 .text-overlay .color-0 text{fill:black}\n",
       "#chart-a34fd01f-46e3-4297-81a7-03458477f971 text.no_data{text-anchor:middle}#chart-a34fd01f-46e3-4297-81a7-03458477f971 .guide.line{fill:none}#chart-a34fd01f-46e3-4297-81a7-03458477f971 .centered{text-anchor:middle}#chart-a34fd01f-46e3-4297-81a7-03458477f971 .title{text-anchor:middle}#chart-a34fd01f-46e3-4297-81a7-03458477f971 .legends .legend text{fill-opacity:1}#chart-a34fd01f-46e3-4297-81a7-03458477f971 .axis.x text{text-anchor:middle}#chart-a34fd01f-46e3-4297-81a7-03458477f971 .axis.x:not(.web) text[transform]{text-anchor:start}#chart-a34fd01f-46e3-4297-81a7-03458477f971 .axis.x:not(.web) text[transform].backwards{text-anchor:end}#chart-a34fd01f-46e3-4297-81a7-03458477f971 .axis.y text{text-anchor:end}#chart-a34fd01f-46e3-4297-81a7-03458477f971 .axis.y text[transform].backwards{text-anchor:start}#chart-a34fd01f-46e3-4297-81a7-03458477f971 .axis.y2 text{text-anchor:start}#chart-a34fd01f-46e3-4297-81a7-03458477f971 .axis.y2 text[transform].backwards{text-anchor:end}#chart-a34fd01f-46e3-4297-81a7-03458477f971 .axis .guide.line{stroke-dasharray:4,4}#chart-a34fd01f-46e3-4297-81a7-03458477f971 .axis .major.guide.line{stroke-dasharray:6,6}#chart-a34fd01f-46e3-4297-81a7-03458477f971 .horizontal .axis.y .guide.line,#chart-a34fd01f-46e3-4297-81a7-03458477f971 .horizontal .axis.y2 .guide.line,#chart-a34fd01f-46e3-4297-81a7-03458477f971 .vertical .axis.x .guide.line{opacity:0}#chart-a34fd01f-46e3-4297-81a7-03458477f971 .horizontal .axis.always_show .guide.line,#chart-a34fd01f-46e3-4297-81a7-03458477f971 .vertical .axis.always_show .guide.line{opacity:1 !important}#chart-a34fd01f-46e3-4297-81a7-03458477f971 .axis.y .guides:hover .guide.line,#chart-a34fd01f-46e3-4297-81a7-03458477f971 .axis.y2 .guides:hover .guide.line,#chart-a34fd01f-46e3-4297-81a7-03458477f971 .axis.x .guides:hover .guide.line{opacity:1}#chart-a34fd01f-46e3-4297-81a7-03458477f971 .axis .guides:hover text{opacity:1}#chart-a34fd01f-46e3-4297-81a7-03458477f971 .nofill{fill:none}#chart-a34fd01f-46e3-4297-81a7-03458477f971 .subtle-fill{fill-opacity:.2}#chart-a34fd01f-46e3-4297-81a7-03458477f971 .dot{stroke-width:1px;fill-opacity:1}#chart-a34fd01f-46e3-4297-81a7-03458477f971 .dot.active{stroke-width:5px}#chart-a34fd01f-46e3-4297-81a7-03458477f971 .dot.negative{fill:transparent}#chart-a34fd01f-46e3-4297-81a7-03458477f971 text,#chart-a34fd01f-46e3-4297-81a7-03458477f971 tspan{stroke:none !important}#chart-a34fd01f-46e3-4297-81a7-03458477f971 .series text.active{opacity:1}#chart-a34fd01f-46e3-4297-81a7-03458477f971 .tooltip rect{fill-opacity:.95;stroke-width:.5}#chart-a34fd01f-46e3-4297-81a7-03458477f971 .tooltip text{fill-opacity:1}#chart-a34fd01f-46e3-4297-81a7-03458477f971 .showable{visibility:hidden}#chart-a34fd01f-46e3-4297-81a7-03458477f971 .showable.shown{visibility:visible}#chart-a34fd01f-46e3-4297-81a7-03458477f971 .gauge-background{fill:rgba(229,229,229,1);stroke:none}#chart-a34fd01f-46e3-4297-81a7-03458477f971 .bg-lines{stroke:rgba(249,249,249,1);stroke-width:2px}</style><script type=\"text/javascript\">window.pygal = window.pygal || {};window.pygal.config = window.pygal.config || {};window.pygal.config['a34fd01f-46e3-4297-81a7-03458477f971'] = {\"allow_interruptions\": false, \"box_mode\": \"extremes\", \"classes\": [\"pygal-chart\"], \"css\": [\"file://style.css\", \"file://graph.css\"], \"defs\": [], \"disable_xml_declaration\": false, \"dots_size\": 2.5, \"dynamic_print_values\": false, \"explicit_size\": false, \"fill\": false, \"force_uri_protocol\": \"https\", \"formatter\": null, \"half_pie\": false, \"height\": 600, \"include_x_axis\": false, \"inner_radius\": 0, \"interpolate\": null, \"interpolation_parameters\": {}, \"interpolation_precision\": 250, \"inverse_y_axis\": false, \"js\": [\"//kozea.github.io/pygal.js/2.0.x/pygal-tooltips.min.js\"], \"legend_at_bottom\": false, \"legend_at_bottom_columns\": null, \"legend_box_size\": 12, \"logarithmic\": false, \"margin\": 20, \"margin_bottom\": null, \"margin_left\": null, \"margin_right\": null, \"margin_top\": null, \"max_scale\": 16, \"min_scale\": 4, \"missing_value_fill_truncation\": \"x\", \"no_data_text\": \"No data\", \"no_prefix\": false, \"order_min\": null, \"pretty_print\": false, \"print_labels\": false, \"print_values\": false, \"print_values_position\": \"center\", \"print_zeroes\": true, \"range\": null, \"rounded_bars\": null, \"secondary_range\": null, \"show_dots\": true, \"show_legend\": true, \"show_minor_x_labels\": false, \"show_minor_y_labels\": true, \"show_only_major_dots\": false, \"show_x_guides\": false, \"show_x_labels\": true, \"show_y_guides\": true, \"show_y_labels\": true, \"spacing\": 10, \"stack_from_top\": false, \"strict\": false, \"stroke\": true, \"stroke_style\": null, \"style\": {\"background\": \"rgba(249, 249, 249, 1)\", \"ci_colors\": [], \"colors\": [\"#F44336\", \"#3F51B5\", \"#009688\", \"#FFC107\", \"#FF5722\", \"#9C27B0\", \"#03A9F4\", \"#8BC34A\", \"#FF9800\", \"#E91E63\", \"#2196F3\", \"#4CAF50\", \"#FFEB3B\", \"#673AB7\", \"#00BCD4\", \"#CDDC39\", \"#9E9E9E\", \"#607D8B\"], \"font_family\": \"Consolas, \\\"Liberation Mono\\\", Menlo, Courier, monospace\", \"foreground\": \"rgba(0, 0, 0, .87)\", \"foreground_strong\": \"rgba(0, 0, 0, 1)\", \"foreground_subtle\": \"rgba(0, 0, 0, .54)\", \"guide_stroke_dasharray\": \"4,4\", \"label_font_family\": \"Consolas, \\\"Liberation Mono\\\", Menlo, Courier, monospace\", \"label_font_size\": 10, \"legend_font_family\": \"Consolas, \\\"Liberation Mono\\\", Menlo, Courier, monospace\", \"legend_font_size\": 14, \"major_guide_stroke_dasharray\": \"6,6\", \"major_label_font_family\": \"Consolas, \\\"Liberation Mono\\\", Menlo, Courier, monospace\", \"major_label_font_size\": 10, \"no_data_font_family\": \"Consolas, \\\"Liberation Mono\\\", Menlo, Courier, monospace\", \"no_data_font_size\": 64, \"opacity\": \".7\", \"opacity_hover\": \".8\", \"plot_background\": \"rgba(255, 255, 255, 1)\", \"stroke_opacity\": \".8\", \"stroke_opacity_hover\": \".9\", \"title_font_family\": \"Consolas, \\\"Liberation Mono\\\", Menlo, Courier, monospace\", \"title_font_size\": 16, \"tooltip_font_family\": \"Consolas, \\\"Liberation Mono\\\", Menlo, Courier, monospace\", \"tooltip_font_size\": 14, \"transition\": \"150ms\", \"value_background\": \"rgba(229, 229, 229, 1)\", \"value_colors\": [], \"value_font_family\": \"Consolas, \\\"Liberation Mono\\\", Menlo, Courier, monospace\", \"value_font_size\": 16, \"value_label_font_family\": \"Consolas, \\\"Liberation Mono\\\", Menlo, Courier, monospace\", \"value_label_font_size\": 10}, \"title\": \"Startup funding announcements in Techpoint headlines (months)\", \"tooltip_border_radius\": 0, \"tooltip_fancy_mode\": true, \"truncate_label\": null, \"truncate_legend\": null, \"width\": 800, \"x_label_rotation\": 20, \"x_labels\": [\"2015-01\", \"2015-02\", \"2015-03\", \"2015-04\", \"2015-05\", \"2015-06\", \"2015-07\", \"2015-08\", \"2015-09\", \"2015-10\", \"2015-11\", \"2015-12\", \"2016-01\", \"2016-02\", \"2016-03\", \"2016-05\", \"2016-06\", \"2016-08\", \"2016-09\", \"2016-12\", \"2017-01\", \"2017-03\", \"2017-05\", \"2017-06\", \"2017-07\", \"2017-08\", \"2017-10\", \"2017-11\", \"2017-12\", \"2018-01\", \"2018-02\", \"2018-03\", \"2018-04\", \"2018-05\", \"2018-06\", \"2018-07\", \"2018-08\"], \"x_labels_major\": [\"2015-01\", \"2015-06\", \"2015-11\", \"2016-05\", \"2017-01\", \"2017-08\", \"2018-02\", \"2018-08\"], \"x_labels_major_count\": null, \"x_labels_major_every\": null, \"x_title\": null, \"xrange\": null, \"y_label_rotation\": 0, \"y_labels\": null, \"y_labels_major\": null, \"y_labels_major_count\": null, \"y_labels_major_every\": null, \"y_title\": null, \"zero\": 0, \"legends\": [\"\"]}</script><script type=\"text/javascript\" xlink:href=\"https://kozea.github.io/pygal.js/2.0.x/pygal-tooltips.min.js\"/></defs><title>Startup funding announcements in Techpoint headlines (months)</title><g class=\"graph line-graph vertical\"><rect class=\"background\" height=\"600\" width=\"800\" x=\"0\" y=\"0\"/><g class=\"plot\" transform=\"translate(62, 46)\"><rect class=\"background\" height=\"509.6351539803219\" width=\"698.5329099269918\" x=\"0\" y=\"0\"/><g class=\"axis y always_show\"><path class=\"line\" d=\"M0.000000 509.635154 h698.532910\"/><g class=\"guides\"><path class=\"guide line\" d=\"M0.000000 499.834478 h698.532910\"/><text class=\"\" x=\"-5\" y=\"503.334477942\">1</text><title>1</title></g><g class=\"guides\"><path class=\"guide line\" d=\"M0.000000 401.827718 h698.532910\"/><text class=\"\" x=\"-5\" y=\"405.327717561\">2</text><title>2</title></g><g class=\"guides\"><path class=\"guide line\" d=\"M0.000000 303.820957 h698.532910\"/><text class=\"\" x=\"-5\" y=\"307.320957181\">3</text><title>3</title></g><g class=\"guides\"><path class=\"guide line\" d=\"M0.000000 205.814197 h698.532910\"/><text class=\"\" x=\"-5\" y=\"209.3141968\">4</text><title>4</title></g><g class=\"guides\"><path class=\"major guide line\" d=\"M0.000000 107.807436 h698.532910\"/><text class=\"major\" x=\"-5\" y=\"111.307436419\">5</text><title>5</title></g><g class=\"guides\"><path class=\"guide line\" d=\"M0.000000 9.800676 h698.532910\"/><text class=\"\" x=\"-5\" y=\"13.3006760381\">6</text><title>6</title></g></g><g class=\"axis x\"><g class=\"guides\"><path class=\"major line\" d=\"M13.433325 0.000000 v509.635154\"/><text class=\"major\" x=\"13.43332519090369\" y=\"524.6351539803219\" transform=\"rotate(20 13.433325 524.635154)\">2015-01</text></g><g class=\"guides\"><path class=\"major guide line\" d=\"M106.720306 0.000000 v509.635154\"/><text class=\"major\" x=\"106.7203056832904\" y=\"524.6351539803219\" transform=\"rotate(20 106.720306 524.635154)\">2015-06</text></g><g class=\"guides\"><path class=\"major guide line\" d=\"M200.007286 0.000000 v509.635154\"/><text class=\"major\" x=\"200.00728617567717\" y=\"524.6351539803219\" transform=\"rotate(20 200.007286 524.635154)\">2015-11</text></g><g class=\"guides\"><path class=\"major guide line\" d=\"M293.294267 0.000000 v509.635154\"/><text class=\"major\" x=\"293.29426666806387\" y=\"524.6351539803219\" transform=\"rotate(20 293.294267 524.635154)\">2016-05</text></g><g class=\"guides\"><path class=\"major guide line\" d=\"M386.581247 0.000000 v509.635154\"/><text class=\"major\" x=\"386.5812471604506\" y=\"524.6351539803219\" transform=\"rotate(20 386.581247 524.635154)\">2017-01</text></g><g class=\"guides\"><path class=\"major guide line\" d=\"M479.868228 0.000000 v509.635154\"/><text class=\"major\" x=\"479.8682276528373\" y=\"524.6351539803219\" transform=\"rotate(20 479.868228 524.635154)\">2017-08</text></g><g class=\"guides\"><path class=\"major guide line\" d=\"M573.155208 0.000000 v509.635154\"/><text class=\"major\" x=\"573.1552081452242\" y=\"524.6351539803219\" transform=\"rotate(20 573.155208 524.635154)\">2018-02</text></g><g class=\"guides\"><path class=\"major guide line\" d=\"M685.099585 0.000000 v509.635154\"/><text class=\"major\" x=\"685.0995847360881\" y=\"524.6351539803219\" transform=\"rotate(20 685.099585 524.635154)\">2018-08</text></g></g><g class=\"series serie-0 color-0\"><path class=\"line reactive nofill\" d=\"M13.433325 499.834478 L32.090721 499.834478 50.748117 499.834478 69.405513 499.834478 88.062910 499.834478 106.720306 499.834478 125.377702 499.834478 144.035098 499.834478 162.692494 499.834478 181.349890 499.834478 200.007286 401.827718 218.664682 499.834478 237.322078 303.820957 255.979474 499.834478 274.636871 401.827718 293.294267 499.834478 311.951663 401.827718 330.609059 499.834478 349.266455 499.834478 367.923851 303.820957 386.581247 303.820957 405.238643 499.834478 423.896039 499.834478 442.553435 303.820957 461.210832 499.834478 479.868228 499.834478 498.525624 401.827718 517.183020 499.834478 535.840416 401.827718 554.497812 499.834478 573.155208 401.827718 591.812604 401.827718 610.470000 9.800676 629.127396 107.807436 647.784793 401.827718 666.442189 401.827718 685.099585 401.827718\"/></g></g><g class=\"titles\"><text class=\"title plot_title\" x=\"400.0\" y=\"26\">Startup funding announcements in Techpoint headlines (months)</text></g><g class=\"plot overlay\" transform=\"translate(62, 46)\"><g class=\"series serie-0 color-0\"><g class=\"dots\"><circle class=\"dot reactive tooltip-trigger\" cx=\"13.43332519090369\" cy=\"499.834477942\" r=\"2.5\"/><desc class=\"value\">1</desc><desc class=\"x top\">13.43332519090369</desc><desc class=\"y top\">499.834477942</desc><desc class=\"x_label\">2015-01</desc></g><g class=\"dots\"><circle class=\"dot reactive tooltip-trigger\" cx=\"32.09072128938103\" cy=\"499.834477942\" r=\"2.5\"/><desc class=\"value\">1</desc><desc class=\"x top\">32.09072128938103</desc><desc class=\"y top\">499.834477942</desc><desc class=\"x_label\">2015-02</desc></g><g class=\"dots\"><circle class=\"dot reactive tooltip-trigger\" cx=\"50.74811738785838\" cy=\"499.834477942\" r=\"2.5\"/><desc class=\"value\">1</desc><desc class=\"x top\">50.74811738785838</desc><desc class=\"y top\">499.834477942</desc><desc class=\"x_label\">2015-03</desc></g><g class=\"dots\"><circle class=\"dot reactive tooltip-trigger\" cx=\"69.40551348633572\" cy=\"499.834477942\" r=\"2.5\"/><desc class=\"value\">1</desc><desc class=\"x top\">69.40551348633572</desc><desc class=\"y top\">499.834477942</desc><desc class=\"x_label\">2015-04</desc></g><g class=\"dots\"><circle class=\"dot reactive tooltip-trigger\" cx=\"88.06290958481306\" cy=\"499.834477942\" r=\"2.5\"/><desc class=\"value\">1</desc><desc class=\"x top\">88.06290958481306</desc><desc class=\"y top\">499.834477942</desc><desc class=\"x_label\">2015-05</desc></g><g class=\"dots\"><circle class=\"dot reactive tooltip-trigger\" cx=\"106.7203056832904\" cy=\"499.834477942\" r=\"2.5\"/><desc class=\"value\">1</desc><desc class=\"x top\">106.7203056832904</desc><desc class=\"y top\">499.834477942</desc><desc class=\"x_label\">2015-06</desc></g><g class=\"dots\"><circle class=\"dot reactive tooltip-trigger\" cx=\"125.37770178176773\" cy=\"499.834477942\" r=\"2.5\"/><desc class=\"value\">1</desc><desc class=\"x top\">125.37770178176773</desc><desc class=\"y top\">499.834477942</desc><desc class=\"x_label\">2015-07</desc></g><g class=\"dots\"><circle class=\"dot reactive tooltip-trigger\" cx=\"144.0350978802451\" cy=\"499.834477942\" r=\"2.5\"/><desc class=\"value\">1</desc><desc class=\"x top\">144.0350978802451</desc><desc class=\"y top\">499.834477942</desc><desc class=\"x_label\">2015-08</desc></g><g class=\"dots\"><circle class=\"dot reactive tooltip-trigger\" cx=\"162.69249397872244\" cy=\"499.834477942\" r=\"2.5\"/><desc class=\"value\">1</desc><desc class=\"x top\">162.69249397872244</desc><desc class=\"y top\">499.834477942</desc><desc class=\"x_label\">2015-09</desc></g><g class=\"dots\"><circle class=\"dot reactive tooltip-trigger\" cx=\"181.3498900771998\" cy=\"499.834477942\" r=\"2.5\"/><desc class=\"value\">1</desc><desc class=\"x top\">181.3498900771998</desc><desc class=\"y top\">499.834477942</desc><desc class=\"x_label\">2015-10</desc></g><g class=\"dots\"><circle class=\"dot reactive tooltip-trigger\" cx=\"200.00728617567717\" cy=\"401.827717561\" r=\"2.5\"/><desc class=\"value\">2</desc><desc class=\"x top\">200.00728617567717</desc><desc class=\"y top\">401.827717561</desc><desc class=\"x_label\">2015-11</desc></g><g class=\"dots\"><circle class=\"dot reactive tooltip-trigger\" cx=\"218.66468227415453\" cy=\"499.834477942\" r=\"2.5\"/><desc class=\"value\">1</desc><desc class=\"x top\">218.66468227415453</desc><desc class=\"y top\">499.834477942</desc><desc class=\"x_label\">2015-12</desc></g><g class=\"dots\"><circle class=\"dot reactive tooltip-trigger\" cx=\"237.32207837263184\" cy=\"303.820957181\" r=\"2.5\"/><desc class=\"value\">3</desc><desc class=\"x top\">237.32207837263184</desc><desc class=\"y top\">303.820957181</desc><desc class=\"x_label\">2016-01</desc></g><g class=\"dots\"><circle class=\"dot reactive tooltip-trigger\" cx=\"255.97947447110917\" cy=\"499.834477942\" r=\"2.5\"/><desc class=\"value\">1</desc><desc class=\"x top\">255.97947447110917</desc><desc class=\"y top\">499.834477942</desc><desc class=\"x_label\">2016-02</desc></g><g class=\"dots\"><circle class=\"dot reactive tooltip-trigger\" cx=\"274.6368705695865\" cy=\"401.827717561\" r=\"2.5\"/><desc class=\"value\">2</desc><desc class=\"x top\">274.6368705695865</desc><desc class=\"y top\">401.827717561</desc><desc class=\"x_label\">2016-03</desc></g><g class=\"dots\"><circle class=\"dot reactive tooltip-trigger\" cx=\"293.29426666806387\" cy=\"499.834477942\" r=\"2.5\"/><desc class=\"value\">1</desc><desc class=\"x top\">293.29426666806387</desc><desc class=\"y top\">499.834477942</desc><desc class=\"x_label\">2016-05</desc></g><g class=\"dots\"><circle class=\"dot reactive tooltip-trigger\" cx=\"311.9516627665412\" cy=\"401.827717561\" r=\"2.5\"/><desc class=\"value\">2</desc><desc class=\"x top\">311.9516627665412</desc><desc class=\"y top\">401.827717561</desc><desc class=\"x_label\">2016-06</desc></g><g class=\"dots\"><circle class=\"dot reactive tooltip-trigger\" cx=\"330.60905886501854\" cy=\"499.834477942\" r=\"2.5\"/><desc class=\"value\">1</desc><desc class=\"x top\">330.60905886501854</desc><desc class=\"y top\">499.834477942</desc><desc class=\"x_label\">2016-08</desc></g><g class=\"dots\"><circle class=\"dot reactive tooltip-trigger\" cx=\"349.2664549634959\" cy=\"499.834477942\" r=\"2.5\"/><desc class=\"value\">1</desc><desc class=\"x top\">349.2664549634959</desc><desc class=\"y top\">499.834477942</desc><desc class=\"x_label\">2016-09</desc></g><g class=\"dots\"><circle class=\"dot reactive tooltip-trigger\" cx=\"367.92385106197327\" cy=\"303.820957181\" r=\"2.5\"/><desc class=\"value\">3</desc><desc class=\"x left top\">367.92385106197327</desc><desc class=\"y left top\">303.820957181</desc><desc class=\"x_label\">2016-12</desc></g><g class=\"dots\"><circle class=\"dot reactive tooltip-trigger\" cx=\"386.5812471604506\" cy=\"303.820957181\" r=\"2.5\"/><desc class=\"value\">3</desc><desc class=\"x left top\">386.5812471604506</desc><desc class=\"y left top\">303.820957181</desc><desc class=\"x_label\">2017-01</desc></g><g class=\"dots\"><circle class=\"dot reactive tooltip-trigger\" cx=\"405.23864325892794\" cy=\"499.834477942\" r=\"2.5\"/><desc class=\"value\">1</desc><desc class=\"x left top\">405.23864325892794</desc><desc class=\"y left top\">499.834477942</desc><desc class=\"x_label\">2017-03</desc></g><g class=\"dots\"><circle class=\"dot reactive tooltip-trigger\" cx=\"423.8960393574053\" cy=\"499.834477942\" r=\"2.5\"/><desc class=\"value\">1</desc><desc class=\"x left top\">423.8960393574053</desc><desc class=\"y left top\">499.834477942</desc><desc class=\"x_label\">2017-05</desc></g><g class=\"dots\"><circle class=\"dot reactive tooltip-trigger\" cx=\"442.55343545588255\" cy=\"303.820957181\" r=\"2.5\"/><desc class=\"value\">3</desc><desc class=\"x left top\">442.55343545588255</desc><desc class=\"y left top\">303.820957181</desc><desc class=\"x_label\">2017-06</desc></g><g class=\"dots\"><circle class=\"dot reactive tooltip-trigger\" cx=\"461.2108315543599\" cy=\"499.834477942\" r=\"2.5\"/><desc class=\"value\">1</desc><desc class=\"x left top\">461.2108315543599</desc><desc class=\"y left top\">499.834477942</desc><desc class=\"x_label\">2017-07</desc></g><g class=\"dots\"><circle class=\"dot reactive tooltip-trigger\" cx=\"479.8682276528373\" cy=\"499.834477942\" r=\"2.5\"/><desc class=\"value\">1</desc><desc class=\"x left top\">479.8682276528373</desc><desc class=\"y left top\">499.834477942</desc><desc class=\"x_label\">2017-08</desc></g><g class=\"dots\"><circle class=\"dot reactive tooltip-trigger\" cx=\"498.52562375131464\" cy=\"401.827717561\" r=\"2.5\"/><desc class=\"value\">2</desc><desc class=\"x left top\">498.52562375131464</desc><desc class=\"y left top\">401.827717561</desc><desc class=\"x_label\">2017-10</desc></g><g class=\"dots\"><circle class=\"dot reactive tooltip-trigger\" cx=\"517.183019849792\" cy=\"499.834477942\" r=\"2.5\"/><desc class=\"value\">1</desc><desc class=\"x left top\">517.183019849792</desc><desc class=\"y left top\">499.834477942</desc><desc class=\"x_label\">2017-11</desc></g><g class=\"dots\"><circle class=\"dot reactive tooltip-trigger\" cx=\"535.8404159482694\" cy=\"401.827717561\" r=\"2.5\"/><desc class=\"value\">2</desc><desc class=\"x left top\">535.8404159482694</desc><desc class=\"y left top\">401.827717561</desc><desc class=\"x_label\">2017-12</desc></g><g class=\"dots\"><circle class=\"dot reactive tooltip-trigger\" cx=\"554.4978120467467\" cy=\"499.834477942\" r=\"2.5\"/><desc class=\"value\">1</desc><desc class=\"x left top\">554.4978120467467</desc><desc class=\"y left top\">499.834477942</desc><desc class=\"x_label\">2018-01</desc></g><g class=\"dots\"><circle class=\"dot reactive tooltip-trigger\" cx=\"573.1552081452242\" cy=\"401.827717561\" r=\"2.5\"/><desc class=\"value\">2</desc><desc class=\"x left top\">573.1552081452242</desc><desc class=\"y left top\">401.827717561</desc><desc class=\"x_label\">2018-02</desc></g><g class=\"dots\"><circle class=\"dot reactive tooltip-trigger\" cx=\"591.8126042437013\" cy=\"401.827717561\" r=\"2.5\"/><desc class=\"value\">2</desc><desc class=\"x left top\">591.8126042437013</desc><desc class=\"y left top\">401.827717561</desc><desc class=\"x_label\">2018-03</desc></g><g class=\"dots\"><circle class=\"dot reactive tooltip-trigger\" cx=\"610.4700003421788\" cy=\"9.80067603808\" r=\"2.5\"/><desc class=\"value\">6</desc><desc class=\"x left\">610.4700003421788</desc><desc class=\"y left\">9.80067603808</desc><desc class=\"x_label\">2018-04</desc></g><g class=\"dots\"><circle class=\"dot reactive tooltip-trigger\" cx=\"629.1273964406561\" cy=\"107.807436419\" r=\"2.5\"/><desc class=\"value\">5</desc><desc class=\"x left\">629.1273964406561</desc><desc class=\"y left\">107.807436419</desc><desc class=\"x_label\">2018-05</desc></g><g class=\"dots\"><circle class=\"dot reactive tooltip-trigger\" cx=\"647.7847925391335\" cy=\"401.827717561\" r=\"2.5\"/><desc class=\"value\">2</desc><desc class=\"x left top\">647.7847925391335</desc><desc class=\"y left top\">401.827717561</desc><desc class=\"x_label\">2018-06</desc></g><g class=\"dots\"><circle class=\"dot reactive tooltip-trigger\" cx=\"666.4421886376107\" cy=\"401.827717561\" r=\"2.5\"/><desc class=\"value\">2</desc><desc class=\"x left top\">666.4421886376107</desc><desc class=\"y left top\">401.827717561</desc><desc class=\"x_label\">2018-07</desc></g><g class=\"dots\"><circle class=\"dot reactive tooltip-trigger\" cx=\"685.0995847360881\" cy=\"401.827717561\" r=\"2.5\"/><desc class=\"value\">2</desc><desc class=\"x left top\">685.0995847360881</desc><desc class=\"y left top\">401.827717561</desc><desc class=\"x_label\">2018-08</desc></g></g></g><g class=\"plot text-overlay\" transform=\"translate(62, 46)\"><g class=\"series serie-0 color-0\"/></g><g class=\"plot tooltip-overlay\" transform=\"translate(62, 46)\"><g class=\"tooltip\" style=\"opacity: 0\" transform=\"translate(0 0)\"><rect class=\"tooltip-box\" height=\"0\" rx=\"0\" ry=\"0\" width=\"0\"/><g class=\"text\"/></g></g><g class=\"legends\" transform=\"translate(10, 56)\"><g class=\"legend reactive activate-serie\" id=\"activate-serie-0\"><rect class=\"color-0 reactive\" height=\"12\" width=\"12\" x=\"0.0\" y=\"1.0\"/><text x=\"17.0\" y=\"11.2\"></text></g></g><g class=\"legends\" transform=\"translate(770, 56)\"/></g></svg>"
      ]
     },
     "metadata": {},
     "output_type": "display_data"
    }
   ],
   "source": [
    "createChart(funding, 'Startup funding announcements in Techpoint headlines (months)', 'funding announcement point')"
   ]
  },
  {
   "cell_type": "code",
   "execution_count": null,
   "metadata": {
    "collapsed": true
   },
   "outputs": [],
   "source": [
    "createChart(acquisition, 'Startup acquisiton announcements in Techcabal headlines', '')"
   ]
  },
  {
   "cell_type": "code",
   "execution_count": 35,
   "metadata": {
    "collapsed": true
   },
   "outputs": [],
   "source": [
    "spons = df[df['sponsored'] == True]"
   ]
  },
  {
   "cell_type": "code",
   "execution_count": 36,
   "metadata": {},
   "outputs": [
    {
     "data": {
      "image/svg+xml": [
       "<?xml version='1.0' encoding='utf-8'?>\n",
       "<svg xmlns:xlink=\"http://www.w3.org/1999/xlink\" xmlns=\"http://www.w3.org/2000/svg\" id=\"chart-a6981c4b-8d64-4d56-b7d1-f7b0870972cf\" class=\"pygal-chart\" viewBox=\"0 0 800 600\"><!--Generated with pygal 2.4.0 (lxml) Â©Kozea 2012-2016 on 2018-08-26--><!--http://pygal.org--><!--http://github.com/Kozea/pygal--><defs><style type=\"text/css\">#chart-a6981c4b-8d64-4d56-b7d1-f7b0870972cf{-webkit-user-select:none;-webkit-font-smoothing:antialiased;font-family:Consolas,\"Liberation Mono\",Menlo,Courier,monospace}#chart-a6981c4b-8d64-4d56-b7d1-f7b0870972cf .title{font-family:Consolas,\"Liberation Mono\",Menlo,Courier,monospace;font-size:16px}#chart-a6981c4b-8d64-4d56-b7d1-f7b0870972cf .legends .legend text{font-family:Consolas,\"Liberation Mono\",Menlo,Courier,monospace;font-size:14px}#chart-a6981c4b-8d64-4d56-b7d1-f7b0870972cf .axis text{font-family:Consolas,\"Liberation Mono\",Menlo,Courier,monospace;font-size:10px}#chart-a6981c4b-8d64-4d56-b7d1-f7b0870972cf .axis text.major{font-family:Consolas,\"Liberation Mono\",Menlo,Courier,monospace;font-size:10px}#chart-a6981c4b-8d64-4d56-b7d1-f7b0870972cf .text-overlay text.value{font-family:Consolas,\"Liberation Mono\",Menlo,Courier,monospace;font-size:16px}#chart-a6981c4b-8d64-4d56-b7d1-f7b0870972cf .text-overlay text.label{font-family:Consolas,\"Liberation Mono\",Menlo,Courier,monospace;font-size:10px}#chart-a6981c4b-8d64-4d56-b7d1-f7b0870972cf .tooltip{font-family:Consolas,\"Liberation Mono\",Menlo,Courier,monospace;font-size:14px}#chart-a6981c4b-8d64-4d56-b7d1-f7b0870972cf text.no_data{font-family:Consolas,\"Liberation Mono\",Menlo,Courier,monospace;font-size:64px}\n",
       "#chart-a6981c4b-8d64-4d56-b7d1-f7b0870972cf{background-color:rgba(249,249,249,1)}#chart-a6981c4b-8d64-4d56-b7d1-f7b0870972cf path,#chart-a6981c4b-8d64-4d56-b7d1-f7b0870972cf line,#chart-a6981c4b-8d64-4d56-b7d1-f7b0870972cf rect,#chart-a6981c4b-8d64-4d56-b7d1-f7b0870972cf circle{-webkit-transition:150ms;-moz-transition:150ms;transition:150ms}#chart-a6981c4b-8d64-4d56-b7d1-f7b0870972cf .graph &gt; .background{fill:rgba(249,249,249,1)}#chart-a6981c4b-8d64-4d56-b7d1-f7b0870972cf .plot &gt; .background{fill:rgba(255,255,255,1)}#chart-a6981c4b-8d64-4d56-b7d1-f7b0870972cf .graph{fill:rgba(0,0,0,.87)}#chart-a6981c4b-8d64-4d56-b7d1-f7b0870972cf text.no_data{fill:rgba(0,0,0,1)}#chart-a6981c4b-8d64-4d56-b7d1-f7b0870972cf .title{fill:rgba(0,0,0,1)}#chart-a6981c4b-8d64-4d56-b7d1-f7b0870972cf .legends .legend text{fill:rgba(0,0,0,.87)}#chart-a6981c4b-8d64-4d56-b7d1-f7b0870972cf .legends .legend:hover text{fill:rgba(0,0,0,1)}#chart-a6981c4b-8d64-4d56-b7d1-f7b0870972cf .axis .line{stroke:rgba(0,0,0,1)}#chart-a6981c4b-8d64-4d56-b7d1-f7b0870972cf .axis .guide.line{stroke:rgba(0,0,0,.54)}#chart-a6981c4b-8d64-4d56-b7d1-f7b0870972cf .axis .major.line{stroke:rgba(0,0,0,.87)}#chart-a6981c4b-8d64-4d56-b7d1-f7b0870972cf .axis text.major{fill:rgba(0,0,0,1)}#chart-a6981c4b-8d64-4d56-b7d1-f7b0870972cf .axis.y .guides:hover .guide.line,#chart-a6981c4b-8d64-4d56-b7d1-f7b0870972cf .line-graph .axis.x .guides:hover .guide.line,#chart-a6981c4b-8d64-4d56-b7d1-f7b0870972cf .stackedline-graph .axis.x .guides:hover .guide.line,#chart-a6981c4b-8d64-4d56-b7d1-f7b0870972cf .xy-graph .axis.x .guides:hover .guide.line{stroke:rgba(0,0,0,1)}#chart-a6981c4b-8d64-4d56-b7d1-f7b0870972cf .axis .guides:hover text{fill:rgba(0,0,0,1)}#chart-a6981c4b-8d64-4d56-b7d1-f7b0870972cf .reactive{fill-opacity:.7;stroke-opacity:.8}#chart-a6981c4b-8d64-4d56-b7d1-f7b0870972cf .ci{stroke:rgba(0,0,0,.87)}#chart-a6981c4b-8d64-4d56-b7d1-f7b0870972cf .reactive.active,#chart-a6981c4b-8d64-4d56-b7d1-f7b0870972cf .active .reactive{fill-opacity:.8;stroke-opacity:.9;stroke-width:4}#chart-a6981c4b-8d64-4d56-b7d1-f7b0870972cf .ci .reactive.active{stroke-width:1.5}#chart-a6981c4b-8d64-4d56-b7d1-f7b0870972cf .series text{fill:rgba(0,0,0,1)}#chart-a6981c4b-8d64-4d56-b7d1-f7b0870972cf .tooltip rect{fill:rgba(255,255,255,1);stroke:rgba(0,0,0,1);-webkit-transition:opacity 150ms;-moz-transition:opacity 150ms;transition:opacity 150ms}#chart-a6981c4b-8d64-4d56-b7d1-f7b0870972cf .tooltip .label{fill:rgba(0,0,0,.87)}#chart-a6981c4b-8d64-4d56-b7d1-f7b0870972cf .tooltip .label{fill:rgba(0,0,0,.87)}#chart-a6981c4b-8d64-4d56-b7d1-f7b0870972cf .tooltip .legend{font-size:.8em;fill:rgba(0,0,0,.54)}#chart-a6981c4b-8d64-4d56-b7d1-f7b0870972cf .tooltip .x_label{font-size:.6em;fill:rgba(0,0,0,1)}#chart-a6981c4b-8d64-4d56-b7d1-f7b0870972cf .tooltip .xlink{font-size:.5em;text-decoration:underline}#chart-a6981c4b-8d64-4d56-b7d1-f7b0870972cf .tooltip .value{font-size:1.5em}#chart-a6981c4b-8d64-4d56-b7d1-f7b0870972cf .bound{font-size:.5em}#chart-a6981c4b-8d64-4d56-b7d1-f7b0870972cf .max-value{font-size:.75em;fill:rgba(0,0,0,.54)}#chart-a6981c4b-8d64-4d56-b7d1-f7b0870972cf .map-element{fill:rgba(255,255,255,1);stroke:rgba(0,0,0,.54) !important}#chart-a6981c4b-8d64-4d56-b7d1-f7b0870972cf .map-element .reactive{fill-opacity:inherit;stroke-opacity:inherit}#chart-a6981c4b-8d64-4d56-b7d1-f7b0870972cf .color-0,#chart-a6981c4b-8d64-4d56-b7d1-f7b0870972cf .color-0 a:visited{stroke:#F44336;fill:#F44336}#chart-a6981c4b-8d64-4d56-b7d1-f7b0870972cf .text-overlay .color-0 text{fill:black}\n",
       "#chart-a6981c4b-8d64-4d56-b7d1-f7b0870972cf text.no_data{text-anchor:middle}#chart-a6981c4b-8d64-4d56-b7d1-f7b0870972cf .guide.line{fill:none}#chart-a6981c4b-8d64-4d56-b7d1-f7b0870972cf .centered{text-anchor:middle}#chart-a6981c4b-8d64-4d56-b7d1-f7b0870972cf .title{text-anchor:middle}#chart-a6981c4b-8d64-4d56-b7d1-f7b0870972cf .legends .legend text{fill-opacity:1}#chart-a6981c4b-8d64-4d56-b7d1-f7b0870972cf .axis.x text{text-anchor:middle}#chart-a6981c4b-8d64-4d56-b7d1-f7b0870972cf .axis.x:not(.web) text[transform]{text-anchor:start}#chart-a6981c4b-8d64-4d56-b7d1-f7b0870972cf .axis.x:not(.web) text[transform].backwards{text-anchor:end}#chart-a6981c4b-8d64-4d56-b7d1-f7b0870972cf .axis.y text{text-anchor:end}#chart-a6981c4b-8d64-4d56-b7d1-f7b0870972cf .axis.y text[transform].backwards{text-anchor:start}#chart-a6981c4b-8d64-4d56-b7d1-f7b0870972cf .axis.y2 text{text-anchor:start}#chart-a6981c4b-8d64-4d56-b7d1-f7b0870972cf .axis.y2 text[transform].backwards{text-anchor:end}#chart-a6981c4b-8d64-4d56-b7d1-f7b0870972cf .axis .guide.line{stroke-dasharray:4,4}#chart-a6981c4b-8d64-4d56-b7d1-f7b0870972cf .axis .major.guide.line{stroke-dasharray:6,6}#chart-a6981c4b-8d64-4d56-b7d1-f7b0870972cf .horizontal .axis.y .guide.line,#chart-a6981c4b-8d64-4d56-b7d1-f7b0870972cf .horizontal .axis.y2 .guide.line,#chart-a6981c4b-8d64-4d56-b7d1-f7b0870972cf .vertical .axis.x .guide.line{opacity:0}#chart-a6981c4b-8d64-4d56-b7d1-f7b0870972cf .horizontal .axis.always_show .guide.line,#chart-a6981c4b-8d64-4d56-b7d1-f7b0870972cf .vertical .axis.always_show .guide.line{opacity:1 !important}#chart-a6981c4b-8d64-4d56-b7d1-f7b0870972cf .axis.y .guides:hover .guide.line,#chart-a6981c4b-8d64-4d56-b7d1-f7b0870972cf .axis.y2 .guides:hover .guide.line,#chart-a6981c4b-8d64-4d56-b7d1-f7b0870972cf .axis.x .guides:hover .guide.line{opacity:1}#chart-a6981c4b-8d64-4d56-b7d1-f7b0870972cf .axis .guides:hover text{opacity:1}#chart-a6981c4b-8d64-4d56-b7d1-f7b0870972cf .nofill{fill:none}#chart-a6981c4b-8d64-4d56-b7d1-f7b0870972cf .subtle-fill{fill-opacity:.2}#chart-a6981c4b-8d64-4d56-b7d1-f7b0870972cf .dot{stroke-width:1px;fill-opacity:1}#chart-a6981c4b-8d64-4d56-b7d1-f7b0870972cf .dot.active{stroke-width:5px}#chart-a6981c4b-8d64-4d56-b7d1-f7b0870972cf .dot.negative{fill:transparent}#chart-a6981c4b-8d64-4d56-b7d1-f7b0870972cf text,#chart-a6981c4b-8d64-4d56-b7d1-f7b0870972cf tspan{stroke:none !important}#chart-a6981c4b-8d64-4d56-b7d1-f7b0870972cf .series text.active{opacity:1}#chart-a6981c4b-8d64-4d56-b7d1-f7b0870972cf .tooltip rect{fill-opacity:.95;stroke-width:.5}#chart-a6981c4b-8d64-4d56-b7d1-f7b0870972cf .tooltip text{fill-opacity:1}#chart-a6981c4b-8d64-4d56-b7d1-f7b0870972cf .showable{visibility:hidden}#chart-a6981c4b-8d64-4d56-b7d1-f7b0870972cf .showable.shown{visibility:visible}#chart-a6981c4b-8d64-4d56-b7d1-f7b0870972cf .gauge-background{fill:rgba(229,229,229,1);stroke:none}#chart-a6981c4b-8d64-4d56-b7d1-f7b0870972cf .bg-lines{stroke:rgba(249,249,249,1);stroke-width:2px}</style><script type=\"text/javascript\">window.pygal = window.pygal || {};window.pygal.config = window.pygal.config || {};window.pygal.config['a6981c4b-8d64-4d56-b7d1-f7b0870972cf'] = {\"allow_interruptions\": false, \"box_mode\": \"extremes\", \"classes\": [\"pygal-chart\"], \"css\": [\"file://style.css\", \"file://graph.css\"], \"defs\": [], \"disable_xml_declaration\": false, \"dots_size\": 2.5, \"dynamic_print_values\": false, \"explicit_size\": false, \"fill\": false, \"force_uri_protocol\": \"https\", \"formatter\": null, \"half_pie\": false, \"height\": 600, \"include_x_axis\": false, \"inner_radius\": 0, \"interpolate\": null, \"interpolation_parameters\": {}, \"interpolation_precision\": 250, \"inverse_y_axis\": false, \"js\": [\"//kozea.github.io/pygal.js/2.0.x/pygal-tooltips.min.js\"], \"legend_at_bottom\": false, \"legend_at_bottom_columns\": null, \"legend_box_size\": 12, \"logarithmic\": false, \"margin\": 20, \"margin_bottom\": null, \"margin_left\": null, \"margin_right\": null, \"margin_top\": null, \"max_scale\": 16, \"min_scale\": 4, \"missing_value_fill_truncation\": \"x\", \"no_data_text\": \"No data\", \"no_prefix\": false, \"order_min\": null, \"pretty_print\": false, \"print_labels\": false, \"print_values\": false, \"print_values_position\": \"center\", \"print_zeroes\": true, \"range\": null, \"rounded_bars\": null, \"secondary_range\": null, \"show_dots\": true, \"show_legend\": true, \"show_minor_x_labels\": false, \"show_minor_y_labels\": true, \"show_only_major_dots\": false, \"show_x_guides\": false, \"show_x_labels\": true, \"show_y_guides\": true, \"show_y_labels\": true, \"spacing\": 10, \"stack_from_top\": false, \"strict\": false, \"stroke\": true, \"stroke_style\": null, \"style\": {\"background\": \"rgba(249, 249, 249, 1)\", \"ci_colors\": [], \"colors\": [\"#F44336\", \"#3F51B5\", \"#009688\", \"#FFC107\", \"#FF5722\", \"#9C27B0\", \"#03A9F4\", \"#8BC34A\", \"#FF9800\", \"#E91E63\", \"#2196F3\", \"#4CAF50\", \"#FFEB3B\", \"#673AB7\", \"#00BCD4\", \"#CDDC39\", \"#9E9E9E\", \"#607D8B\"], \"font_family\": \"Consolas, \\\"Liberation Mono\\\", Menlo, Courier, monospace\", \"foreground\": \"rgba(0, 0, 0, .87)\", \"foreground_strong\": \"rgba(0, 0, 0, 1)\", \"foreground_subtle\": \"rgba(0, 0, 0, .54)\", \"guide_stroke_dasharray\": \"4,4\", \"label_font_family\": \"Consolas, \\\"Liberation Mono\\\", Menlo, Courier, monospace\", \"label_font_size\": 10, \"legend_font_family\": \"Consolas, \\\"Liberation Mono\\\", Menlo, Courier, monospace\", \"legend_font_size\": 14, \"major_guide_stroke_dasharray\": \"6,6\", \"major_label_font_family\": \"Consolas, \\\"Liberation Mono\\\", Menlo, Courier, monospace\", \"major_label_font_size\": 10, \"no_data_font_family\": \"Consolas, \\\"Liberation Mono\\\", Menlo, Courier, monospace\", \"no_data_font_size\": 64, \"opacity\": \".7\", \"opacity_hover\": \".8\", \"plot_background\": \"rgba(255, 255, 255, 1)\", \"stroke_opacity\": \".8\", \"stroke_opacity_hover\": \".9\", \"title_font_family\": \"Consolas, \\\"Liberation Mono\\\", Menlo, Courier, monospace\", \"title_font_size\": 16, \"tooltip_font_family\": \"Consolas, \\\"Liberation Mono\\\", Menlo, Courier, monospace\", \"tooltip_font_size\": 14, \"transition\": \"150ms\", \"value_background\": \"rgba(229, 229, 229, 1)\", \"value_colors\": [], \"value_font_family\": \"Consolas, \\\"Liberation Mono\\\", Menlo, Courier, monospace\", \"value_font_size\": 16, \"value_label_font_family\": \"Consolas, \\\"Liberation Mono\\\", Menlo, Courier, monospace\", \"value_label_font_size\": 10}, \"title\": \"Sponsored articles on Techpoint (month total)\", \"tooltip_border_radius\": 0, \"tooltip_fancy_mode\": true, \"truncate_label\": null, \"truncate_legend\": null, \"width\": 800, \"x_label_rotation\": 20, \"x_labels\": [\"2015-06\", \"2015-07\", \"2015-09\", \"2015-11\", \"2015-12\", \"2016-02\", \"2016-03\", \"2016-04\", \"2016-05\", \"2016-06\", \"2016-07\", \"2016-08\", \"2016-09\", \"2016-10\", \"2016-11\", \"2016-12\", \"2017-01\", \"2017-02\", \"2017-03\", \"2017-04\", \"2017-05\", \"2017-06\", \"2017-07\", \"2017-08\", \"2017-09\", \"2017-10\", \"2017-11\", \"2017-12\", \"2018-01\", \"2018-02\", \"2018-03\", \"2018-04\", \"2018-05\", \"2018-06\", \"2018-07\", \"2018-08\"], \"x_labels_major\": [\"2015-06\", \"2016-02\", \"2016-07\", \"2016-12\", \"2017-05\", \"2017-10\", \"2018-03\", \"2018-08\"], \"x_labels_major_count\": null, \"x_labels_major_every\": null, \"x_title\": null, \"xrange\": null, \"y_label_rotation\": 0, \"y_labels\": null, \"y_labels_major\": null, \"y_labels_major_count\": null, \"y_labels_major_every\": null, \"y_title\": null, \"zero\": 0, \"legends\": [\"\"]}</script><script type=\"text/javascript\" xlink:href=\"https://kozea.github.io/pygal.js/2.0.x/pygal-tooltips.min.js\"/></defs><title>Sponsored articles on Techpoint (month total)</title><g class=\"graph line-graph vertical\"><rect class=\"background\" height=\"600\" width=\"800\" x=\"0\" y=\"0\"/><g class=\"plot\" transform=\"translate(64, 46)\"><rect class=\"background\" height=\"509.6351539803219\" width=\"696.5329099269918\" x=\"0\" y=\"0\"/><g class=\"axis y always_show\"><path class=\"line\" d=\"M0.000000 509.635154 h696.532910\"/><g class=\"guides\"><path class=\"guide line\" d=\"M0.000000 471.008960 h696.532910\"/><text class=\"\" x=\"-5\" y=\"474.508960183\">2</text><title>2</title></g><g class=\"guides\"><path class=\"guide line\" d=\"M0.000000 413.357925 h696.532910\"/><text class=\"\" x=\"-5\" y=\"416.857924665\">4</text><title>4</title></g><g class=\"guides\"><path class=\"guide line\" d=\"M0.000000 355.706889 h696.532910\"/><text class=\"\" x=\"-5\" y=\"359.206889147\">6</text><title>6</title></g><g class=\"guides\"><path class=\"guide line\" d=\"M0.000000 298.055854 h696.532910\"/><text class=\"\" x=\"-5\" y=\"301.555853629\">8</text><title>8</title></g><g class=\"guides\"><path class=\"major guide line\" d=\"M0.000000 240.404818 h696.532910\"/><text class=\"major\" x=\"-5\" y=\"243.904818111\">10</text><title>10</title></g><g class=\"guides\"><path class=\"guide line\" d=\"M0.000000 182.753783 h696.532910\"/><text class=\"\" x=\"-5\" y=\"186.253782592\">12</text><title>12</title></g><g class=\"guides\"><path class=\"guide line\" d=\"M0.000000 125.102747 h696.532910\"/><text class=\"\" x=\"-5\" y=\"128.602747074\">14</text><title>14</title></g><g class=\"guides\"><path class=\"guide line\" d=\"M0.000000 67.451712 h696.532910\"/><text class=\"\" x=\"-5\" y=\"70.9517115562\">16</text><title>16</title></g><g class=\"guides\"><path class=\"guide line\" d=\"M0.000000 9.800676 h696.532910\"/><text class=\"\" x=\"-5\" y=\"13.3006760381\">18</text><title>18</title></g></g><g class=\"axis x\"><g class=\"guides\"><path class=\"major line\" d=\"M13.394864 0.000000 v509.635154\"/><text class=\"major\" x=\"13.39486365244215\" y=\"524.6351539803219\" transform=\"rotate(20 13.394864 524.635154)\">2015-06</text></g><g class=\"guides\"><path class=\"major guide line\" d=\"M109.072461 0.000000 v509.635154\"/><text class=\"major\" x=\"109.07246116988607\" y=\"524.6351539803219\" transform=\"rotate(20 109.072461 524.635154)\">2016-02</text></g><g class=\"guides\"><path class=\"major guide line\" d=\"M204.750059 0.000000 v509.635154\"/><text class=\"major\" x=\"204.75005868732998\" y=\"524.6351539803219\" transform=\"rotate(20 204.750059 524.635154)\">2016-07</text></g><g class=\"guides\"><path class=\"major guide line\" d=\"M300.427656 0.000000 v509.635154\"/><text class=\"major\" x=\"300.42765620477394\" y=\"524.6351539803219\" transform=\"rotate(20 300.427656 524.635154)\">2016-12</text></g><g class=\"guides\"><path class=\"major guide line\" d=\"M396.105254 0.000000 v509.635154\"/><text class=\"major\" x=\"396.1052537222178\" y=\"524.6351539803219\" transform=\"rotate(20 396.105254 524.635154)\">2017-05</text></g><g class=\"guides\"><path class=\"major guide line\" d=\"M491.782851 0.000000 v509.635154\"/><text class=\"major\" x=\"491.7828512396618\" y=\"524.6351539803219\" transform=\"rotate(20 491.782851 524.635154)\">2017-10</text></g><g class=\"guides\"><path class=\"major guide line\" d=\"M587.460449 0.000000 v509.635154\"/><text class=\"major\" x=\"587.4604487571057\" y=\"524.6351539803219\" transform=\"rotate(20 587.460449 524.635154)\">2018-03</text></g><g class=\"guides\"><path class=\"major guide line\" d=\"M683.138046 0.000000 v509.635154\"/><text class=\"major\" x=\"683.1380462745497\" y=\"524.6351539803219\" transform=\"rotate(20 683.138046 524.635154)\">2018-08</text></g></g><g class=\"series serie-0 color-0\"><path class=\"line reactive nofill\" d=\"M13.394864 471.008960 L32.530383 499.834478 51.665903 499.834478 70.801422 499.834478 89.936942 413.357925 109.072461 499.834478 128.207981 499.834478 147.343500 442.183442 166.479020 355.706889 185.614539 326.881371 204.750059 442.183442 223.885578 384.532407 243.021098 442.183442 262.156617 355.706889 281.292137 355.706889 300.427656 326.881371 319.563176 413.357925 338.698695 355.706889 357.834215 240.404818 376.969734 384.532407 396.105254 182.753783 415.240773 355.706889 434.376293 240.404818 453.511812 182.753783 472.647332 211.579300 491.782851 355.706889 510.918371 269.230336 530.053890 211.579300 549.189410 298.055854 568.324929 153.928265 587.460449 125.102747 606.595968 38.626194 625.731488 153.928265 644.867007 153.928265 664.002527 9.800676 683.138046 269.230336\"/></g></g><g class=\"titles\"><text class=\"title plot_title\" x=\"400.0\" y=\"26\">Sponsored articles on Techpoint (month total)</text></g><g class=\"plot overlay\" transform=\"translate(64, 46)\"><g class=\"series serie-0 color-0\"><g class=\"dots\"><circle class=\"dot reactive tooltip-trigger\" cx=\"13.39486365244215\" cy=\"471.008960183\" r=\"2.5\"/><desc class=\"value\">2</desc><desc class=\"x top\">13.39486365244215</desc><desc class=\"y top\">471.008960183</desc><desc class=\"x_label\">2015-06</desc></g><g class=\"dots\"><circle class=\"dot reactive tooltip-trigger\" cx=\"32.530383155930934\" cy=\"499.834477942\" r=\"2.5\"/><desc class=\"value\">1</desc><desc class=\"x top\">32.530383155930934</desc><desc class=\"y top\">499.834477942</desc><desc class=\"x_label\">2015-07</desc></g><g class=\"dots\"><circle class=\"dot reactive tooltip-trigger\" cx=\"51.665902659419714\" cy=\"499.834477942\" r=\"2.5\"/><desc class=\"value\">1</desc><desc class=\"x top\">51.665902659419714</desc><desc class=\"y top\">499.834477942</desc><desc class=\"x_label\">2015-09</desc></g><g class=\"dots\"><circle class=\"dot reactive tooltip-trigger\" cx=\"70.80142216290851\" cy=\"499.834477942\" r=\"2.5\"/><desc class=\"value\">1</desc><desc class=\"x top\">70.80142216290851</desc><desc class=\"y top\">499.834477942</desc><desc class=\"x_label\">2015-11</desc></g><g class=\"dots\"><circle class=\"dot reactive tooltip-trigger\" cx=\"89.93694166639729\" cy=\"413.357924665\" r=\"2.5\"/><desc class=\"value\">4</desc><desc class=\"x top\">89.93694166639729</desc><desc class=\"y top\">413.357924665</desc><desc class=\"x_label\">2015-12</desc></g><g class=\"dots\"><circle class=\"dot reactive tooltip-trigger\" cx=\"109.07246116988607\" cy=\"499.834477942\" r=\"2.5\"/><desc class=\"value\">1</desc><desc class=\"x top\">109.07246116988607</desc><desc class=\"y top\">499.834477942</desc><desc class=\"x_label\">2016-02</desc></g><g class=\"dots\"><circle class=\"dot reactive tooltip-trigger\" cx=\"128.20798067337486\" cy=\"499.834477942\" r=\"2.5\"/><desc class=\"value\">1</desc><desc class=\"x top\">128.20798067337486</desc><desc class=\"y top\">499.834477942</desc><desc class=\"x_label\">2016-03</desc></g><g class=\"dots\"><circle class=\"dot reactive tooltip-trigger\" cx=\"147.34350017686367\" cy=\"442.183442424\" r=\"2.5\"/><desc class=\"value\">3</desc><desc class=\"x top\">147.34350017686367</desc><desc class=\"y top\">442.183442424</desc><desc class=\"x_label\">2016-04</desc></g><g class=\"dots\"><circle class=\"dot reactive tooltip-trigger\" cx=\"166.47901968035242\" cy=\"355.706889147\" r=\"2.5\"/><desc class=\"value\">6</desc><desc class=\"x top\">166.47901968035242</desc><desc class=\"y top\">355.706889147</desc><desc class=\"x_label\">2016-05</desc></g><g class=\"dots\"><circle class=\"dot reactive tooltip-trigger\" cx=\"185.61453918384123\" cy=\"326.881371388\" r=\"2.5\"/><desc class=\"value\">7</desc><desc class=\"x top\">185.61453918384123</desc><desc class=\"y top\">326.881371388</desc><desc class=\"x_label\">2016-06</desc></g><g class=\"dots\"><circle class=\"dot reactive tooltip-trigger\" cx=\"204.75005868732998\" cy=\"442.183442424\" r=\"2.5\"/><desc class=\"value\">3</desc><desc class=\"x top\">204.75005868732998</desc><desc class=\"y top\">442.183442424</desc><desc class=\"x_label\">2016-07</desc></g><g class=\"dots\"><circle class=\"dot reactive tooltip-trigger\" cx=\"223.8855781908188\" cy=\"384.532406906\" r=\"2.5\"/><desc class=\"value\">5</desc><desc class=\"x top\">223.8855781908188</desc><desc class=\"y top\">384.532406906</desc><desc class=\"x_label\">2016-08</desc></g><g class=\"dots\"><circle class=\"dot reactive tooltip-trigger\" cx=\"243.02109769430757\" cy=\"442.183442424\" r=\"2.5\"/><desc class=\"value\">3</desc><desc class=\"x top\">243.02109769430757</desc><desc class=\"y top\">442.183442424</desc><desc class=\"x_label\">2016-09</desc></g><g class=\"dots\"><circle class=\"dot reactive tooltip-trigger\" cx=\"262.1566171977964\" cy=\"355.706889147\" r=\"2.5\"/><desc class=\"value\">6</desc><desc class=\"x top\">262.1566171977964</desc><desc class=\"y top\">355.706889147</desc><desc class=\"x_label\">2016-10</desc></g><g class=\"dots\"><circle class=\"dot reactive tooltip-trigger\" cx=\"281.2921367012852\" cy=\"355.706889147\" r=\"2.5\"/><desc class=\"value\">6</desc><desc class=\"x top\">281.2921367012852</desc><desc class=\"y top\">355.706889147</desc><desc class=\"x_label\">2016-11</desc></g><g class=\"dots\"><circle class=\"dot reactive tooltip-trigger\" cx=\"300.42765620477394\" cy=\"326.881371388\" r=\"2.5\"/><desc class=\"value\">7</desc><desc class=\"x top\">300.42765620477394</desc><desc class=\"y top\">326.881371388</desc><desc class=\"x_label\">2016-12</desc></g><g class=\"dots\"><circle class=\"dot reactive tooltip-trigger\" cx=\"319.56317570826275\" cy=\"413.357924665\" r=\"2.5\"/><desc class=\"value\">4</desc><desc class=\"x top\">319.56317570826275</desc><desc class=\"y top\">413.357924665</desc><desc class=\"x_label\">2017-01</desc></g><g class=\"dots\"><circle class=\"dot reactive tooltip-trigger\" cx=\"338.69869521175144\" cy=\"355.706889147\" r=\"2.5\"/><desc class=\"value\">6</desc><desc class=\"x top\">338.69869521175144</desc><desc class=\"y top\">355.706889147</desc><desc class=\"x_label\">2017-02</desc></g><g class=\"dots\"><circle class=\"dot reactive tooltip-trigger\" cx=\"357.83421471524025\" cy=\"240.404818111\" r=\"2.5\"/><desc class=\"value\">10</desc><desc class=\"x left\">357.83421471524025</desc><desc class=\"y left\">240.404818111</desc><desc class=\"x_label\">2017-03</desc></g><g class=\"dots\"><circle class=\"dot reactive tooltip-trigger\" cx=\"376.969734218729\" cy=\"384.532406906\" r=\"2.5\"/><desc class=\"value\">5</desc><desc class=\"x left top\">376.969734218729</desc><desc class=\"y left top\">384.532406906</desc><desc class=\"x_label\">2017-04</desc></g><g class=\"dots\"><circle class=\"dot reactive tooltip-trigger\" cx=\"396.1052537222178\" cy=\"182.753782592\" r=\"2.5\"/><desc class=\"value\">12</desc><desc class=\"x left\">396.1052537222178</desc><desc class=\"y left\">182.753782592</desc><desc class=\"x_label\">2017-05</desc></g><g class=\"dots\"><circle class=\"dot reactive tooltip-trigger\" cx=\"415.2407732257066\" cy=\"355.706889147\" r=\"2.5\"/><desc class=\"value\">6</desc><desc class=\"x left top\">415.2407732257066</desc><desc class=\"y left top\">355.706889147</desc><desc class=\"x_label\">2017-06</desc></g><g class=\"dots\"><circle class=\"dot reactive tooltip-trigger\" cx=\"434.3762927291954\" cy=\"240.404818111\" r=\"2.5\"/><desc class=\"value\">10</desc><desc class=\"x left\">434.3762927291954</desc><desc class=\"y left\">240.404818111</desc><desc class=\"x_label\">2017-07</desc></g><g class=\"dots\"><circle class=\"dot reactive tooltip-trigger\" cx=\"453.5118122326842\" cy=\"182.753782592\" r=\"2.5\"/><desc class=\"value\">12</desc><desc class=\"x left\">453.5118122326842</desc><desc class=\"y left\">182.753782592</desc><desc class=\"x_label\">2017-08</desc></g><g class=\"dots\"><circle class=\"dot reactive tooltip-trigger\" cx=\"472.647331736173\" cy=\"211.579300352\" r=\"2.5\"/><desc class=\"value\">11</desc><desc class=\"x left\">472.647331736173</desc><desc class=\"y left\">211.579300352</desc><desc class=\"x_label\">2017-09</desc></g><g class=\"dots\"><circle class=\"dot reactive tooltip-trigger\" cx=\"491.7828512396618\" cy=\"355.706889147\" r=\"2.5\"/><desc class=\"value\">6</desc><desc class=\"x left top\">491.7828512396618</desc><desc class=\"y left top\">355.706889147</desc><desc class=\"x_label\">2017-10</desc></g><g class=\"dots\"><circle class=\"dot reactive tooltip-trigger\" cx=\"510.91837074315055\" cy=\"269.23033587\" r=\"2.5\"/><desc class=\"value\">9</desc><desc class=\"x left top\">510.91837074315055</desc><desc class=\"y left top\">269.23033587</desc><desc class=\"x_label\">2017-11</desc></g><g class=\"dots\"><circle class=\"dot reactive tooltip-trigger\" cx=\"530.0538902466394\" cy=\"211.579300352\" r=\"2.5\"/><desc class=\"value\">11</desc><desc class=\"x left\">530.0538902466394</desc><desc class=\"y left\">211.579300352</desc><desc class=\"x_label\">2017-12</desc></g><g class=\"dots\"><circle class=\"dot reactive tooltip-trigger\" cx=\"549.1894097501282\" cy=\"298.055853629\" r=\"2.5\"/><desc class=\"value\">8</desc><desc class=\"x left top\">549.1894097501282</desc><desc class=\"y left top\">298.055853629</desc><desc class=\"x_label\">2018-01</desc></g><g class=\"dots\"><circle class=\"dot reactive tooltip-trigger\" cx=\"568.3249292536169\" cy=\"153.928264833\" r=\"2.5\"/><desc class=\"value\">13</desc><desc class=\"x left\">568.3249292536169</desc><desc class=\"y left\">153.928264833</desc><desc class=\"x_label\">2018-02</desc></g><g class=\"dots\"><circle class=\"dot reactive tooltip-trigger\" cx=\"587.4604487571057\" cy=\"125.102747074\" r=\"2.5\"/><desc class=\"value\">14</desc><desc class=\"x left\">587.4604487571057</desc><desc class=\"y left\">125.102747074</desc><desc class=\"x_label\">2018-03</desc></g><g class=\"dots\"><circle class=\"dot reactive tooltip-trigger\" cx=\"606.5959682605945\" cy=\"38.6261937972\" r=\"2.5\"/><desc class=\"value\">17</desc><desc class=\"x left\">606.5959682605945</desc><desc class=\"y left\">38.6261937972</desc><desc class=\"x_label\">2018-04</desc></g><g class=\"dots\"><circle class=\"dot reactive tooltip-trigger\" cx=\"625.7314877640832\" cy=\"153.928264833\" r=\"2.5\"/><desc class=\"value\">13</desc><desc class=\"x left\">625.7314877640832</desc><desc class=\"y left\">153.928264833</desc><desc class=\"x_label\">2018-05</desc></g><g class=\"dots\"><circle class=\"dot reactive tooltip-trigger\" cx=\"644.867007267572\" cy=\"153.928264833\" r=\"2.5\"/><desc class=\"value\">13</desc><desc class=\"x left\">644.867007267572</desc><desc class=\"y left\">153.928264833</desc><desc class=\"x_label\">2018-06</desc></g><g class=\"dots\"><circle class=\"dot reactive tooltip-trigger\" cx=\"664.0025267710608\" cy=\"9.80067603808\" r=\"2.5\"/><desc class=\"value\">18</desc><desc class=\"x left\">664.0025267710608</desc><desc class=\"y left\">9.80067603808</desc><desc class=\"x_label\">2018-07</desc></g><g class=\"dots\"><circle class=\"dot reactive tooltip-trigger\" cx=\"683.1380462745497\" cy=\"269.23033587\" r=\"2.5\"/><desc class=\"value\">9</desc><desc class=\"x left top\">683.1380462745497</desc><desc class=\"y left top\">269.23033587</desc><desc class=\"x_label\">2018-08</desc></g></g></g><g class=\"plot text-overlay\" transform=\"translate(64, 46)\"><g class=\"series serie-0 color-0\"/></g><g class=\"plot tooltip-overlay\" transform=\"translate(64, 46)\"><g class=\"tooltip\" style=\"opacity: 0\" transform=\"translate(0 0)\"><rect class=\"tooltip-box\" height=\"0\" rx=\"0\" ry=\"0\" width=\"0\"/><g class=\"text\"/></g></g><g class=\"legends\" transform=\"translate(10, 56)\"><g class=\"legend reactive activate-serie\" id=\"activate-serie-0\"><rect class=\"color-0 reactive\" height=\"12\" width=\"12\" x=\"0.0\" y=\"1.0\"/><text x=\"17.0\" y=\"11.2\"></text></g></g><g class=\"legends\" transform=\"translate(770, 56)\"/></g></svg>"
      ]
     },
     "metadata": {},
     "output_type": "display_data"
    }
   ],
   "source": [
    "createChart(spons, 'Sponsored articles on Techpoint (month total)', 'sponsored techpoint')"
   ]
  },
  {
   "cell_type": "markdown",
   "metadata": {},
   "source": [
    "## Other Analysis"
   ]
  },
  {
   "cell_type": "markdown",
   "metadata": {},
   "source": [
    "##### Highest no of article churned out per month"
   ]
  },
  {
   "cell_type": "code",
   "execution_count": 13,
   "metadata": {},
   "outputs": [
    {
     "data": {
      "text/plain": [
       "124"
      ]
     },
     "execution_count": 13,
     "metadata": {},
     "output_type": "execute_result"
    }
   ],
   "source": [
    "df.groupby('months', as_index=False)['count'].count()['count'].max()"
   ]
  },
  {
   "cell_type": "code",
   "execution_count": null,
   "metadata": {
    "collapsed": true
   },
   "outputs": [],
   "source": [
    "##### Published articles by year"
   ]
  },
  {
   "cell_type": "code",
   "execution_count": 14,
   "metadata": {},
   "outputs": [
    {
     "data": {
      "text/plain": [
       "date\n",
       "2014       4\n",
       "2015    1115\n",
       "2016     954\n",
       "2017    1164\n",
       "2018     715\n",
       "Name: count, dtype: int64"
      ]
     },
     "execution_count": 14,
     "metadata": {},
     "output_type": "execute_result"
    }
   ],
   "source": [
    "df.groupby(df.date.dt.year)['count'].sum()"
   ]
  },
  {
   "cell_type": "code",
   "execution_count": 20,
   "metadata": {
    "scrolled": true
   },
   "outputs": [
    {
     "data": {
      "image/svg+xml": [
       "<?xml version='1.0' encoding='utf-8'?>\n",
       "<svg xmlns:xlink=\"http://www.w3.org/1999/xlink\" xmlns=\"http://www.w3.org/2000/svg\" id=\"chart-4d8e8262-8d62-4967-bf42-652cd5477066\" class=\"pygal-chart\" viewBox=\"0 0 800 600\"><!--Generated with pygal 2.4.0 (lxml) Â©Kozea 2012-2016 on 2018-08-26--><!--http://pygal.org--><!--http://github.com/Kozea/pygal--><defs><style type=\"text/css\">#chart-4d8e8262-8d62-4967-bf42-652cd5477066{-webkit-user-select:none;-webkit-font-smoothing:antialiased;font-family:Consolas,\"Liberation Mono\",Menlo,Courier,monospace}#chart-4d8e8262-8d62-4967-bf42-652cd5477066 .title{font-family:Consolas,\"Liberation Mono\",Menlo,Courier,monospace;font-size:16px}#chart-4d8e8262-8d62-4967-bf42-652cd5477066 .legends .legend text{font-family:Consolas,\"Liberation Mono\",Menlo,Courier,monospace;font-size:14px}#chart-4d8e8262-8d62-4967-bf42-652cd5477066 .axis text{font-family:Consolas,\"Liberation Mono\",Menlo,Courier,monospace;font-size:10px}#chart-4d8e8262-8d62-4967-bf42-652cd5477066 .axis text.major{font-family:Consolas,\"Liberation Mono\",Menlo,Courier,monospace;font-size:10px}#chart-4d8e8262-8d62-4967-bf42-652cd5477066 .text-overlay text.value{font-family:Consolas,\"Liberation Mono\",Menlo,Courier,monospace;font-size:16px}#chart-4d8e8262-8d62-4967-bf42-652cd5477066 .text-overlay text.label{font-family:Consolas,\"Liberation Mono\",Menlo,Courier,monospace;font-size:10px}#chart-4d8e8262-8d62-4967-bf42-652cd5477066 .tooltip{font-family:Consolas,\"Liberation Mono\",Menlo,Courier,monospace;font-size:14px}#chart-4d8e8262-8d62-4967-bf42-652cd5477066 text.no_data{font-family:Consolas,\"Liberation Mono\",Menlo,Courier,monospace;font-size:64px}\n",
       "#chart-4d8e8262-8d62-4967-bf42-652cd5477066{background-color:rgba(249,249,249,1)}#chart-4d8e8262-8d62-4967-bf42-652cd5477066 path,#chart-4d8e8262-8d62-4967-bf42-652cd5477066 line,#chart-4d8e8262-8d62-4967-bf42-652cd5477066 rect,#chart-4d8e8262-8d62-4967-bf42-652cd5477066 circle{-webkit-transition:150ms;-moz-transition:150ms;transition:150ms}#chart-4d8e8262-8d62-4967-bf42-652cd5477066 .graph &gt; .background{fill:rgba(249,249,249,1)}#chart-4d8e8262-8d62-4967-bf42-652cd5477066 .plot &gt; .background{fill:rgba(255,255,255,1)}#chart-4d8e8262-8d62-4967-bf42-652cd5477066 .graph{fill:rgba(0,0,0,.87)}#chart-4d8e8262-8d62-4967-bf42-652cd5477066 text.no_data{fill:rgba(0,0,0,1)}#chart-4d8e8262-8d62-4967-bf42-652cd5477066 .title{fill:rgba(0,0,0,1)}#chart-4d8e8262-8d62-4967-bf42-652cd5477066 .legends .legend text{fill:rgba(0,0,0,.87)}#chart-4d8e8262-8d62-4967-bf42-652cd5477066 .legends .legend:hover text{fill:rgba(0,0,0,1)}#chart-4d8e8262-8d62-4967-bf42-652cd5477066 .axis .line{stroke:rgba(0,0,0,1)}#chart-4d8e8262-8d62-4967-bf42-652cd5477066 .axis .guide.line{stroke:rgba(0,0,0,.54)}#chart-4d8e8262-8d62-4967-bf42-652cd5477066 .axis .major.line{stroke:rgba(0,0,0,.87)}#chart-4d8e8262-8d62-4967-bf42-652cd5477066 .axis text.major{fill:rgba(0,0,0,1)}#chart-4d8e8262-8d62-4967-bf42-652cd5477066 .axis.y .guides:hover .guide.line,#chart-4d8e8262-8d62-4967-bf42-652cd5477066 .line-graph .axis.x .guides:hover .guide.line,#chart-4d8e8262-8d62-4967-bf42-652cd5477066 .stackedline-graph .axis.x .guides:hover .guide.line,#chart-4d8e8262-8d62-4967-bf42-652cd5477066 .xy-graph .axis.x .guides:hover .guide.line{stroke:rgba(0,0,0,1)}#chart-4d8e8262-8d62-4967-bf42-652cd5477066 .axis .guides:hover text{fill:rgba(0,0,0,1)}#chart-4d8e8262-8d62-4967-bf42-652cd5477066 .reactive{fill-opacity:.7;stroke-opacity:.8}#chart-4d8e8262-8d62-4967-bf42-652cd5477066 .ci{stroke:rgba(0,0,0,.87)}#chart-4d8e8262-8d62-4967-bf42-652cd5477066 .reactive.active,#chart-4d8e8262-8d62-4967-bf42-652cd5477066 .active .reactive{fill-opacity:.8;stroke-opacity:.9;stroke-width:4}#chart-4d8e8262-8d62-4967-bf42-652cd5477066 .ci .reactive.active{stroke-width:1.5}#chart-4d8e8262-8d62-4967-bf42-652cd5477066 .series text{fill:rgba(0,0,0,1)}#chart-4d8e8262-8d62-4967-bf42-652cd5477066 .tooltip rect{fill:rgba(255,255,255,1);stroke:rgba(0,0,0,1);-webkit-transition:opacity 150ms;-moz-transition:opacity 150ms;transition:opacity 150ms}#chart-4d8e8262-8d62-4967-bf42-652cd5477066 .tooltip .label{fill:rgba(0,0,0,.87)}#chart-4d8e8262-8d62-4967-bf42-652cd5477066 .tooltip .label{fill:rgba(0,0,0,.87)}#chart-4d8e8262-8d62-4967-bf42-652cd5477066 .tooltip .legend{font-size:.8em;fill:rgba(0,0,0,.54)}#chart-4d8e8262-8d62-4967-bf42-652cd5477066 .tooltip .x_label{font-size:.6em;fill:rgba(0,0,0,1)}#chart-4d8e8262-8d62-4967-bf42-652cd5477066 .tooltip .xlink{font-size:.5em;text-decoration:underline}#chart-4d8e8262-8d62-4967-bf42-652cd5477066 .tooltip .value{font-size:1.5em}#chart-4d8e8262-8d62-4967-bf42-652cd5477066 .bound{font-size:.5em}#chart-4d8e8262-8d62-4967-bf42-652cd5477066 .max-value{font-size:.75em;fill:rgba(0,0,0,.54)}#chart-4d8e8262-8d62-4967-bf42-652cd5477066 .map-element{fill:rgba(255,255,255,1);stroke:rgba(0,0,0,.54) !important}#chart-4d8e8262-8d62-4967-bf42-652cd5477066 .map-element .reactive{fill-opacity:inherit;stroke-opacity:inherit}#chart-4d8e8262-8d62-4967-bf42-652cd5477066 .color-0,#chart-4d8e8262-8d62-4967-bf42-652cd5477066 .color-0 a:visited{stroke:#F44336;fill:#F44336}#chart-4d8e8262-8d62-4967-bf42-652cd5477066 .text-overlay .color-0 text{fill:black}\n",
       "#chart-4d8e8262-8d62-4967-bf42-652cd5477066 text.no_data{text-anchor:middle}#chart-4d8e8262-8d62-4967-bf42-652cd5477066 .guide.line{fill:none}#chart-4d8e8262-8d62-4967-bf42-652cd5477066 .centered{text-anchor:middle}#chart-4d8e8262-8d62-4967-bf42-652cd5477066 .title{text-anchor:middle}#chart-4d8e8262-8d62-4967-bf42-652cd5477066 .legends .legend text{fill-opacity:1}#chart-4d8e8262-8d62-4967-bf42-652cd5477066 .axis.x text{text-anchor:middle}#chart-4d8e8262-8d62-4967-bf42-652cd5477066 .axis.x:not(.web) text[transform]{text-anchor:start}#chart-4d8e8262-8d62-4967-bf42-652cd5477066 .axis.x:not(.web) text[transform].backwards{text-anchor:end}#chart-4d8e8262-8d62-4967-bf42-652cd5477066 .axis.y text{text-anchor:end}#chart-4d8e8262-8d62-4967-bf42-652cd5477066 .axis.y text[transform].backwards{text-anchor:start}#chart-4d8e8262-8d62-4967-bf42-652cd5477066 .axis.y2 text{text-anchor:start}#chart-4d8e8262-8d62-4967-bf42-652cd5477066 .axis.y2 text[transform].backwards{text-anchor:end}#chart-4d8e8262-8d62-4967-bf42-652cd5477066 .axis .guide.line{stroke-dasharray:4,4}#chart-4d8e8262-8d62-4967-bf42-652cd5477066 .axis .major.guide.line{stroke-dasharray:6,6}#chart-4d8e8262-8d62-4967-bf42-652cd5477066 .horizontal .axis.y .guide.line,#chart-4d8e8262-8d62-4967-bf42-652cd5477066 .horizontal .axis.y2 .guide.line,#chart-4d8e8262-8d62-4967-bf42-652cd5477066 .vertical .axis.x .guide.line{opacity:0}#chart-4d8e8262-8d62-4967-bf42-652cd5477066 .horizontal .axis.always_show .guide.line,#chart-4d8e8262-8d62-4967-bf42-652cd5477066 .vertical .axis.always_show .guide.line{opacity:1 !important}#chart-4d8e8262-8d62-4967-bf42-652cd5477066 .axis.y .guides:hover .guide.line,#chart-4d8e8262-8d62-4967-bf42-652cd5477066 .axis.y2 .guides:hover .guide.line,#chart-4d8e8262-8d62-4967-bf42-652cd5477066 .axis.x .guides:hover .guide.line{opacity:1}#chart-4d8e8262-8d62-4967-bf42-652cd5477066 .axis .guides:hover text{opacity:1}#chart-4d8e8262-8d62-4967-bf42-652cd5477066 .nofill{fill:none}#chart-4d8e8262-8d62-4967-bf42-652cd5477066 .subtle-fill{fill-opacity:.2}#chart-4d8e8262-8d62-4967-bf42-652cd5477066 .dot{stroke-width:1px;fill-opacity:1}#chart-4d8e8262-8d62-4967-bf42-652cd5477066 .dot.active{stroke-width:5px}#chart-4d8e8262-8d62-4967-bf42-652cd5477066 .dot.negative{fill:transparent}#chart-4d8e8262-8d62-4967-bf42-652cd5477066 text,#chart-4d8e8262-8d62-4967-bf42-652cd5477066 tspan{stroke:none !important}#chart-4d8e8262-8d62-4967-bf42-652cd5477066 .series text.active{opacity:1}#chart-4d8e8262-8d62-4967-bf42-652cd5477066 .tooltip rect{fill-opacity:.95;stroke-width:.5}#chart-4d8e8262-8d62-4967-bf42-652cd5477066 .tooltip text{fill-opacity:1}#chart-4d8e8262-8d62-4967-bf42-652cd5477066 .showable{visibility:hidden}#chart-4d8e8262-8d62-4967-bf42-652cd5477066 .showable.shown{visibility:visible}#chart-4d8e8262-8d62-4967-bf42-652cd5477066 .gauge-background{fill:rgba(229,229,229,1);stroke:none}#chart-4d8e8262-8d62-4967-bf42-652cd5477066 .bg-lines{stroke:rgba(249,249,249,1);stroke-width:2px}</style><script type=\"text/javascript\">window.pygal = window.pygal || {};window.pygal.config = window.pygal.config || {};window.pygal.config['4d8e8262-8d62-4967-bf42-652cd5477066'] = {\"allow_interruptions\": false, \"box_mode\": \"extremes\", \"classes\": [\"pygal-chart\"], \"css\": [\"file://style.css\", \"file://graph.css\"], \"defs\": [], \"disable_xml_declaration\": false, \"dots_size\": 2.5, \"dynamic_print_values\": false, \"explicit_size\": false, \"fill\": false, \"force_uri_protocol\": \"https\", \"formatter\": null, \"half_pie\": false, \"height\": 600, \"include_x_axis\": false, \"inner_radius\": 0, \"interpolate\": null, \"interpolation_parameters\": {}, \"interpolation_precision\": 250, \"inverse_y_axis\": false, \"js\": [\"//kozea.github.io/pygal.js/2.0.x/pygal-tooltips.min.js\"], \"legend_at_bottom\": false, \"legend_at_bottom_columns\": null, \"legend_box_size\": 12, \"logarithmic\": false, \"margin\": 20, \"margin_bottom\": null, \"margin_left\": null, \"margin_right\": null, \"margin_top\": null, \"max_scale\": 16, \"min_scale\": 4, \"missing_value_fill_truncation\": \"x\", \"no_data_text\": \"No data\", \"no_prefix\": false, \"order_min\": null, \"pretty_print\": false, \"print_labels\": false, \"print_values\": false, \"print_values_position\": \"center\", \"print_zeroes\": true, \"range\": null, \"rounded_bars\": null, \"secondary_range\": null, \"show_dots\": true, \"show_legend\": true, \"show_minor_x_labels\": true, \"show_minor_y_labels\": true, \"show_only_major_dots\": false, \"show_x_guides\": false, \"show_x_labels\": true, \"show_y_guides\": true, \"show_y_labels\": true, \"spacing\": 10, \"stack_from_top\": false, \"strict\": false, \"stroke\": true, \"stroke_style\": null, \"style\": {\"background\": \"rgba(249, 249, 249, 1)\", \"ci_colors\": [], \"colors\": [\"#F44336\", \"#3F51B5\", \"#009688\", \"#FFC107\", \"#FF5722\", \"#9C27B0\", \"#03A9F4\", \"#8BC34A\", \"#FF9800\", \"#E91E63\", \"#2196F3\", \"#4CAF50\", \"#FFEB3B\", \"#673AB7\", \"#00BCD4\", \"#CDDC39\", \"#9E9E9E\", \"#607D8B\"], \"font_family\": \"Consolas, \\\"Liberation Mono\\\", Menlo, Courier, monospace\", \"foreground\": \"rgba(0, 0, 0, .87)\", \"foreground_strong\": \"rgba(0, 0, 0, 1)\", \"foreground_subtle\": \"rgba(0, 0, 0, .54)\", \"guide_stroke_dasharray\": \"4,4\", \"label_font_family\": \"Consolas, \\\"Liberation Mono\\\", Menlo, Courier, monospace\", \"label_font_size\": 10, \"legend_font_family\": \"Consolas, \\\"Liberation Mono\\\", Menlo, Courier, monospace\", \"legend_font_size\": 14, \"major_guide_stroke_dasharray\": \"6,6\", \"major_label_font_family\": \"Consolas, \\\"Liberation Mono\\\", Menlo, Courier, monospace\", \"major_label_font_size\": 10, \"no_data_font_family\": \"Consolas, \\\"Liberation Mono\\\", Menlo, Courier, monospace\", \"no_data_font_size\": 64, \"opacity\": \".7\", \"opacity_hover\": \".8\", \"plot_background\": \"rgba(255, 255, 255, 1)\", \"stroke_opacity\": \".8\", \"stroke_opacity_hover\": \".9\", \"title_font_family\": \"Consolas, \\\"Liberation Mono\\\", Menlo, Courier, monospace\", \"title_font_size\": 16, \"tooltip_font_family\": \"Consolas, \\\"Liberation Mono\\\", Menlo, Courier, monospace\", \"tooltip_font_size\": 14, \"transition\": \"150ms\", \"value_background\": \"rgba(229, 229, 229, 1)\", \"value_colors\": [], \"value_font_family\": \"Consolas, \\\"Liberation Mono\\\", Menlo, Courier, monospace\", \"value_font_size\": 16, \"value_label_font_family\": \"Consolas, \\\"Liberation Mono\\\", Menlo, Courier, monospace\", \"value_label_font_size\": 10}, \"title\": \"Articles published on Techcabal by year\", \"tooltip_border_radius\": 0, \"tooltip_fancy_mode\": true, \"truncate_label\": null, \"truncate_legend\": null, \"width\": 800, \"x_label_rotation\": 0, \"x_labels\": [\"2014\", \"2015\", \"2016\", \"2017\", \"2018\"], \"x_labels_major\": null, \"x_labels_major_count\": null, \"x_labels_major_every\": null, \"x_title\": null, \"xrange\": null, \"y_label_rotation\": 0, \"y_labels\": null, \"y_labels_major\": null, \"y_labels_major_count\": null, \"y_labels_major_every\": null, \"y_title\": null, \"zero\": 0, \"legends\": [\"\"]}</script><script type=\"text/javascript\" xlink:href=\"https://kozea.github.io/pygal.js/2.0.x/pygal-tooltips.min.js\"/></defs><title>Articles published on Techcabal by year</title><g class=\"graph bar-graph vertical\"><rect class=\"background\" height=\"600\" width=\"800\" x=\"0\" y=\"0\"/><g class=\"plot\" transform=\"translate(76, 46)\"><rect class=\"background\" height=\"514\" width=\"704.0\" x=\"0\" y=\"0\"/><g class=\"axis y always_show\"><g class=\"guides\"><path class=\"axis major line\" d=\"M0.000000 504.115385 h704.000000\"/><text class=\"major\" x=\"-5\" y=\"507.61538461538464\">0</text><title>0</title></g><g class=\"guides\"><path class=\"guide line\" d=\"M0.000000 461.655697 h704.000000\"/><text class=\"\" x=\"-5\" y=\"465.1556965371398\">100</text><title>100</title></g><g class=\"guides\"><path class=\"guide line\" d=\"M0.000000 419.196008 h704.000000\"/><text class=\"\" x=\"-5\" y=\"422.69600845889505\">200</text><title>200</title></g><g class=\"guides\"><path class=\"guide line\" d=\"M0.000000 376.736320 h704.000000\"/><text class=\"\" x=\"-5\" y=\"380.2363203806503\">300</text><title>300</title></g><g class=\"guides\"><path class=\"guide line\" d=\"M0.000000 334.276632 h704.000000\"/><text class=\"\" x=\"-5\" y=\"337.7766323024055\">400</text><title>400</title></g><g class=\"guides\"><path class=\"major guide line\" d=\"M0.000000 291.816944 h704.000000\"/><text class=\"major\" x=\"-5\" y=\"295.3169442241607\">500</text><title>500</title></g><g class=\"guides\"><path class=\"guide line\" d=\"M0.000000 249.357256 h704.000000\"/><text class=\"\" x=\"-5\" y=\"252.85725614591593\">600</text><title>600</title></g><g class=\"guides\"><path class=\"guide line\" d=\"M0.000000 206.897568 h704.000000\"/><text class=\"\" x=\"-5\" y=\"210.39756806767116\">700</text><title>700</title></g><g class=\"guides\"><path class=\"guide line\" d=\"M0.000000 164.437880 h704.000000\"/><text class=\"\" x=\"-5\" y=\"167.9378799894264\">800</text><title>800</title></g><g class=\"guides\"><path class=\"guide line\" d=\"M0.000000 121.978192 h704.000000\"/><text class=\"\" x=\"-5\" y=\"125.47819191118163\">900</text><title>900</title></g><g class=\"guides\"><path class=\"major guide line\" d=\"M0.000000 79.518504 h704.000000\"/><text class=\"major\" x=\"-5\" y=\"83.01850383293674\">1000</text><title>1000</title></g><g class=\"guides\"><path class=\"guide line\" d=\"M0.000000 37.058816 h704.000000\"/><text class=\"\" x=\"-5\" y=\"40.55881575469198\">1100</text><title>1100</title></g></g><g class=\"axis x\"><path class=\"line\" d=\"M0.000000 0.000000 v514.000000\"/><g class=\"guides\"><path class=\"guide line\" d=\"M81.230769 0.000000 v514.000000\"/><text class=\"\" x=\"81.23076923076923\" y=\"529.0\">2014</text></g><g class=\"guides\"><path class=\"guide line\" d=\"M216.615385 0.000000 v514.000000\"/><text class=\"\" x=\"216.6153846153846\" y=\"529.0\">2015</text></g><g class=\"guides\"><path class=\"guide line\" d=\"M352.000000 0.000000 v514.000000\"/><text class=\"\" x=\"352.0\" y=\"529.0\">2016</text></g><g class=\"guides\"><path class=\"guide line\" d=\"M487.384615 0.000000 v514.000000\"/><text class=\"\" x=\"487.38461538461536\" y=\"529.0\">2017</text></g><g class=\"guides\"><path class=\"guide line\" d=\"M622.769231 0.000000 v514.000000\"/><text class=\"\" x=\"622.7692307692308\" y=\"529.0\">2018</text></g></g><g class=\"series serie-0 color-0\"><g class=\"bars\"><g class=\"bar\"><rect class=\"rect reactive tooltip-trigger\" height=\"1.6983875231298384\" rx=\"0\" ry=\"0\" width=\"104.84184615384616\" x=\"28.809846153846156\" y=\"502.4169970922548\"/><desc class=\"value\">4</desc><desc class=\"x centered\">81.23076923076924</desc><desc class=\"y centered\">503.2661908538197</desc><desc class=\"x_label\">2014</desc></g><g class=\"bar\"><rect class=\"rect reactive tooltip-trigger\" height=\"473.4255220724294\" rx=\"0\" ry=\"0\" width=\"104.84184615384616\" x=\"164.19446153846152\" y=\"30.689862542955268\"/><desc class=\"value\">1115</desc><desc class=\"x centered\">216.6153846153846</desc><desc class=\"y centered\">267.4026235791699</desc><desc class=\"x_label\">2015</desc></g><g class=\"bar\"><rect class=\"rect reactive tooltip-trigger\" height=\"405.06542426645524\" rx=\"0\" ry=\"0\" width=\"104.84184615384616\" x=\"299.5790769230769\" y=\"99.0499603489294\"/><desc class=\"value\">954</desc><desc class=\"x centered\">352.0</desc><desc class=\"y centered\">301.582672482157</desc><desc class=\"x_label\">2016</desc></g><g class=\"bar\"><rect class=\"rect reactive tooltip-trigger\" height=\"494.23076923076934\" rx=\"0\" ry=\"0\" width=\"104.84184615384616\" x=\"434.96369230769227\" y=\"9.884615384615302\"/><desc class=\"value\">1164</desc><desc class=\"x centered\">487.38461538461536</desc><desc class=\"y centered\">257.0</desc><desc class=\"x_label\">2017</desc></g><g class=\"bar\"><rect class=\"rect reactive tooltip-trigger\" height=\"303.5867697594502\" rx=\"0\" ry=\"0\" width=\"104.84184615384616\" x=\"570.3483076923077\" y=\"200.52861485593445\"/><desc class=\"value\">715</desc><desc class=\"x centered\">622.7692307692307</desc><desc class=\"y centered\">352.3219997356596</desc><desc class=\"x_label\">2018</desc></g></g></g></g><g class=\"titles\"><text class=\"title plot_title\" x=\"400.0\" y=\"26\">Articles published on Techcabal by year</text></g><g class=\"plot overlay\" transform=\"translate(76, 46)\"><g class=\"series serie-0 color-0\"/></g><g class=\"plot text-overlay\" transform=\"translate(76, 46)\"><g class=\"series serie-0 color-0\"/></g><g class=\"plot tooltip-overlay\" transform=\"translate(76, 46)\"><g class=\"tooltip\" style=\"opacity: 0\" transform=\"translate(0 0)\"><rect class=\"tooltip-box\" height=\"0\" rx=\"0\" ry=\"0\" width=\"0\"/><g class=\"text\"/></g></g><g class=\"legends\" transform=\"translate(10, 56)\"><g class=\"legend reactive activate-serie\" id=\"activate-serie-0\"><rect class=\"color-0 reactive\" height=\"12\" width=\"12\" x=\"0.0\" y=\"1.0\"/><text x=\"17.0\" y=\"11.2\"></text></g></g><g class=\"legends\" transform=\"translate(790, 56)\"/></g></svg>"
      ]
     },
     "metadata": {},
     "output_type": "display_data"
    }
   ],
   "source": [
    "bar_chart = pygal.Bar()\n",
    "bar_chart.title = 'Articles published on Techcabal by year'\n",
    "bar_chart.x_labels = map(str, range(2014, 2019))\n",
    "bar_chart.add('', [4, 1115, 954, 1164, 715])\n",
    "display({'image/svg+xml': bar_chart.render()}, raw=True)\n",
    "bar_chart.render_to_png('year articles point.png')"
   ]
  },
  {
   "cell_type": "code",
   "execution_count": 32,
   "metadata": {
    "collapsed": true
   },
   "outputs": [],
   "source": [
    "# df.groupby('months', as_index=False)['date'].max()"
   ]
  },
  {
   "cell_type": "code",
   "execution_count": null,
   "metadata": {
    "collapsed": true
   },
   "outputs": [],
   "source": [
    "# funding.groupby('months')['count'].sum()"
   ]
  },
  {
   "cell_type": "code",
   "execution_count": 10,
   "metadata": {
    "collapsed": true
   },
   "outputs": [],
   "source": [
    "# https://techcabal.com/2015/02/16/\n",
    "# https://techcabal.com/2015/02/10/\n"
   ]
  },
  {
   "cell_type": "code",
   "execution_count": 2,
   "metadata": {},
   "outputs": [
    {
     "ename": "NameError",
     "evalue": "name 'funding' is not defined",
     "output_type": "error",
     "traceback": [
      "\u001b[1;31m---------------------------------------------------------------------------\u001b[0m",
      "\u001b[1;31mNameError\u001b[0m                                 Traceback (most recent call last)",
      "\u001b[1;32m<ipython-input-2-cac8b56ff435>\u001b[0m in \u001b[0;36m<module>\u001b[1;34m()\u001b[0m\n\u001b[1;32m----> 1\u001b[1;33m \u001b[0mlen\u001b[0m\u001b[1;33m(\u001b[0m\u001b[0mfunding\u001b[0m\u001b[1;33m)\u001b[0m\u001b[1;33m\u001b[0m\u001b[0m\n\u001b[0m",
      "\u001b[1;31mNameError\u001b[0m: name 'funding' is not defined"
     ]
    }
   ],
   "source": [
    "len(funding)"
   ]
  },
  {
   "cell_type": "code",
   "execution_count": 36,
   "metadata": {
    "collapsed": true
   },
   "outputs": [],
   "source": [
    "# funding.groupby('months', as_index=False)['count'].count()"
   ]
  },
  {
   "cell_type": "code",
   "execution_count": 26,
   "metadata": {},
   "outputs": [
    {
     "data": {
      "text/html": [
       "<div>\n",
       "<style>\n",
       "    .dataframe thead tr:only-child th {\n",
       "        text-align: right;\n",
       "    }\n",
       "\n",
       "    .dataframe thead th {\n",
       "        text-align: left;\n",
       "    }\n",
       "\n",
       "    .dataframe tbody tr th {\n",
       "        vertical-align: top;\n",
       "    }\n",
       "</style>\n",
       "<table border=\"1\" class=\"dataframe\">\n",
       "  <thead>\n",
       "    <tr style=\"text-align: right;\">\n",
       "      <th></th>\n",
       "      <th>Unnamed: 0</th>\n",
       "      <th>date</th>\n",
       "      <th>headline</th>\n",
       "      <th>sponsored</th>\n",
       "      <th>months</th>\n",
       "      <th>count</th>\n",
       "    </tr>\n",
       "  </thead>\n",
       "  <tbody>\n",
       "    <tr>\n",
       "      <th>22</th>\n",
       "      <td>22</td>\n",
       "      <td>2018-08-10 19:29:21</td>\n",
       "      <td>Mines secures $13m to expand its digital credi...</td>\n",
       "      <td>False</td>\n",
       "      <td>2018-08</td>\n",
       "      <td>1</td>\n",
       "    </tr>\n",
       "    <tr>\n",
       "      <th>38</th>\n",
       "      <td>38</td>\n",
       "      <td>2018-08-01 17:23:12</td>\n",
       "      <td>Nigerian energy startup, Rensource secures €50...</td>\n",
       "      <td>False</td>\n",
       "      <td>2018-08</td>\n",
       "      <td>1</td>\n",
       "    </tr>\n",
       "    <tr>\n",
       "      <th>80</th>\n",
       "      <td>80</td>\n",
       "      <td>2018-07-16 09:00:14</td>\n",
       "      <td>Advertising startup, TaxiTV raises seed fund f...</td>\n",
       "      <td>False</td>\n",
       "      <td>2018-07</td>\n",
       "      <td>1</td>\n",
       "    </tr>\n",
       "    <tr>\n",
       "      <th>94</th>\n",
       "      <td>94</td>\n",
       "      <td>2018-07-10 09:02:12</td>\n",
       "      <td>“Nigerian startups raised $73.6 million in Q2 ...</td>\n",
       "      <td>False</td>\n",
       "      <td>2018-07</td>\n",
       "      <td>1</td>\n",
       "    </tr>\n",
       "    <tr>\n",
       "      <th>116</th>\n",
       "      <td>116</td>\n",
       "      <td>2018-06-29 12:00:30</td>\n",
       "      <td>Logistics startup Kobo360 raises $1.2 million ...</td>\n",
       "      <td>False</td>\n",
       "      <td>2018-06</td>\n",
       "      <td>1</td>\n",
       "    </tr>\n",
       "  </tbody>\n",
       "</table>\n",
       "</div>"
      ],
      "text/plain": [
       "     Unnamed: 0                date  \\\n",
       "22           22 2018-08-10 19:29:21   \n",
       "38           38 2018-08-01 17:23:12   \n",
       "80           80 2018-07-16 09:00:14   \n",
       "94           94 2018-07-10 09:02:12   \n",
       "116         116 2018-06-29 12:00:30   \n",
       "\n",
       "                                              headline  sponsored   months  \\\n",
       "22   Mines secures $13m to expand its digital credi...      False  2018-08   \n",
       "38   Nigerian energy startup, Rensource secures €50...      False  2018-08   \n",
       "80   Advertising startup, TaxiTV raises seed fund f...      False  2018-07   \n",
       "94   “Nigerian startups raised $73.6 million in Q2 ...      False  2018-07   \n",
       "116  Logistics startup Kobo360 raises $1.2 million ...      False  2018-06   \n",
       "\n",
       "     count  \n",
       "22       1  \n",
       "38       1  \n",
       "80       1  \n",
       "94       1  \n",
       "116      1  "
      ]
     },
     "execution_count": 26,
     "metadata": {},
     "output_type": "execute_result"
    }
   ],
   "source": [
    "funding.head()"
   ]
  },
  {
   "cell_type": "code",
   "execution_count": 13,
   "metadata": {
    "collapsed": true
   },
   "outputs": [],
   "source": [
    "amount = funding[funding['headline'].str.lower().str.contains('million')]"
   ]
  },
  {
   "cell_type": "code",
   "execution_count": 15,
   "metadata": {},
   "outputs": [
    {
     "data": {
      "text/plain": [
       "date\n",
       "2015    5\n",
       "2016    7\n",
       "2017    3\n",
       "2018    7\n",
       "Name: count, dtype: int64"
      ]
     },
     "execution_count": 15,
     "metadata": {},
     "output_type": "execute_result"
    }
   ],
   "source": [
    "amount.groupby(df.date.dt.year)['count'].sum()"
   ]
  },
  {
   "cell_type": "markdown",
   "metadata": {},
   "source": [
    "##### Percent of sponsored articles to all articles"
   ]
  },
  {
   "cell_type": "code",
   "execution_count": 21,
   "metadata": {
    "collapsed": true
   },
   "outputs": [],
   "source": [
    "groupedSpons = spons.groupby('months', as_index=False)['sponsored'].count()\n",
    "groupedAll = df.groupby('months', as_index=False)['date'].count()\n",
    "merged = groupedAll.merge(groupedSpons, on='months')\n",
    "merged['percent'] = merged['sponsored'] / merged['date']"
   ]
  },
  {
   "cell_type": "code",
   "execution_count": 38,
   "metadata": {},
   "outputs": [
    {
     "data": {
      "text/html": [
       "<div>\n",
       "<style>\n",
       "    .dataframe thead tr:only-child th {\n",
       "        text-align: right;\n",
       "    }\n",
       "\n",
       "    .dataframe thead th {\n",
       "        text-align: left;\n",
       "    }\n",
       "\n",
       "    .dataframe tbody tr th {\n",
       "        vertical-align: top;\n",
       "    }\n",
       "</style>\n",
       "<table border=\"1\" class=\"dataframe\">\n",
       "  <thead>\n",
       "    <tr style=\"text-align: right;\">\n",
       "      <th></th>\n",
       "      <th>months</th>\n",
       "      <th>date</th>\n",
       "      <th>sponsored</th>\n",
       "      <th>percent</th>\n",
       "      <th>percent prop</th>\n",
       "    </tr>\n",
       "  </thead>\n",
       "  <tbody>\n",
       "    <tr>\n",
       "      <th>31</th>\n",
       "      <td>2018-04</td>\n",
       "      <td>114</td>\n",
       "      <td>17</td>\n",
       "      <td>0.149123</td>\n",
       "      <td>15%</td>\n",
       "    </tr>\n",
       "    <tr>\n",
       "      <th>32</th>\n",
       "      <td>2018-05</td>\n",
       "      <td>111</td>\n",
       "      <td>13</td>\n",
       "      <td>0.117117</td>\n",
       "      <td>12%</td>\n",
       "    </tr>\n",
       "    <tr>\n",
       "      <th>33</th>\n",
       "      <td>2018-06</td>\n",
       "      <td>78</td>\n",
       "      <td>13</td>\n",
       "      <td>0.166667</td>\n",
       "      <td>17%</td>\n",
       "    </tr>\n",
       "    <tr>\n",
       "      <th>34</th>\n",
       "      <td>2018-07</td>\n",
       "      <td>73</td>\n",
       "      <td>18</td>\n",
       "      <td>0.246575</td>\n",
       "      <td>25%</td>\n",
       "    </tr>\n",
       "    <tr>\n",
       "      <th>35</th>\n",
       "      <td>2018-08</td>\n",
       "      <td>46</td>\n",
       "      <td>9</td>\n",
       "      <td>0.195652</td>\n",
       "      <td>20%</td>\n",
       "    </tr>\n",
       "  </tbody>\n",
       "</table>\n",
       "</div>"
      ],
      "text/plain": [
       "     months  date  sponsored   percent percent prop\n",
       "31  2018-04   114         17  0.149123          15%\n",
       "32  2018-05   111         13  0.117117          12%\n",
       "33  2018-06    78         13  0.166667          17%\n",
       "34  2018-07    73         18  0.246575          25%\n",
       "35  2018-08    46          9  0.195652          20%"
      ]
     },
     "execution_count": 38,
     "metadata": {},
     "output_type": "execute_result"
    }
   ],
   "source": [
    "merged.tail()"
   ]
  },
  {
   "cell_type": "code",
   "execution_count": 26,
   "metadata": {},
   "outputs": [],
   "source": [
    "from numbers import Number\n",
    "def asPercent(v, precision='0.0'):  \n",
    "    \"\"\"Convert number to percentage string.\"\"\"\n",
    "    if isinstance(v, Number):\n",
    "        return \"{{:{}%}}\".format(precision).format(v)\n",
    "    else:\n",
    "        raise TypeError(\"Numeric type required\")\n",
    "\n",
    "merged['percent prop'] = merged['percent'].apply(asPercent)"
   ]
  },
  {
   "cell_type": "code",
   "execution_count": 50,
   "metadata": {},
   "outputs": [],
   "source": [
    "line_chart = pygal.Line(x_label_rotation=20, show_minor_x_labels=False, max_scale=6)\n",
    "l = int(len(merged)/7)\n",
    "line_chart.title = '% of sponsored articles relative to total monthly articles (Techpoint)'\n",
    "line_chart.y_labels = ['4%', '8%', '12%', '16%', '20%', '24%']\n",
    "# line_chart.y_labels = [# line_chart.y_labels = ['10%', '20%', '30%', '40%', '50%', '60%', '70%', '80%', '90%', '100%']\n",
    "line_chart.x_labels = map(str, merged['months'])\n",
    "line_chart.x_labels_major = [merged['months'][0], merged['months'][l], merged['months'][l+l], merged['months'][l+l+l], merged['months'][l+l+l+l], merged['months'][l+l+l+l+l], merged['months'][l+l+l+l+l+l], merged['months'][len(merged) - 1]]\n",
    "line_chart.add('',merged['percent'])\n",
    "line_chart.render_to_png( 'percent of sponsored point.png')"
   ]
  },
  {
   "cell_type": "code",
   "execution_count": 34,
   "metadata": {},
   "outputs": [
    {
     "data": {
      "text/html": [
       "<div>\n",
       "<style>\n",
       "    .dataframe thead tr:only-child th {\n",
       "        text-align: right;\n",
       "    }\n",
       "\n",
       "    .dataframe thead th {\n",
       "        text-align: left;\n",
       "    }\n",
       "\n",
       "    .dataframe tbody tr th {\n",
       "        vertical-align: top;\n",
       "    }\n",
       "</style>\n",
       "<table border=\"1\" class=\"dataframe\">\n",
       "  <thead>\n",
       "    <tr style=\"text-align: right;\">\n",
       "      <th></th>\n",
       "      <th>months</th>\n",
       "      <th>date</th>\n",
       "      <th>sponsored</th>\n",
       "      <th>percent</th>\n",
       "      <th>percent prop</th>\n",
       "    </tr>\n",
       "  </thead>\n",
       "  <tbody>\n",
       "    <tr>\n",
       "      <th>31</th>\n",
       "      <td>2018-04</td>\n",
       "      <td>114</td>\n",
       "      <td>17</td>\n",
       "      <td>0.149123</td>\n",
       "      <td>15%</td>\n",
       "    </tr>\n",
       "    <tr>\n",
       "      <th>32</th>\n",
       "      <td>2018-05</td>\n",
       "      <td>111</td>\n",
       "      <td>13</td>\n",
       "      <td>0.117117</td>\n",
       "      <td>12%</td>\n",
       "    </tr>\n",
       "    <tr>\n",
       "      <th>33</th>\n",
       "      <td>2018-06</td>\n",
       "      <td>78</td>\n",
       "      <td>13</td>\n",
       "      <td>0.166667</td>\n",
       "      <td>17%</td>\n",
       "    </tr>\n",
       "    <tr>\n",
       "      <th>34</th>\n",
       "      <td>2018-07</td>\n",
       "      <td>73</td>\n",
       "      <td>18</td>\n",
       "      <td>0.246575</td>\n",
       "      <td>25%</td>\n",
       "    </tr>\n",
       "    <tr>\n",
       "      <th>35</th>\n",
       "      <td>2018-08</td>\n",
       "      <td>46</td>\n",
       "      <td>9</td>\n",
       "      <td>0.195652</td>\n",
       "      <td>20%</td>\n",
       "    </tr>\n",
       "  </tbody>\n",
       "</table>\n",
       "</div>"
      ],
      "text/plain": [
       "     months  date  sponsored   percent percent prop\n",
       "31  2018-04   114         17  0.149123          15%\n",
       "32  2018-05   111         13  0.117117          12%\n",
       "33  2018-06    78         13  0.166667          17%\n",
       "34  2018-07    73         18  0.246575          25%\n",
       "35  2018-08    46          9  0.195652          20%"
      ]
     },
     "execution_count": 34,
     "metadata": {},
     "output_type": "execute_result"
    }
   ],
   "source": [
    "merged.tail()"
   ]
  },
  {
   "cell_type": "code",
   "execution_count": null,
   "metadata": {
    "collapsed": true
   },
   "outputs": [],
   "source": []
  }
 ],
 "metadata": {
  "kernelspec": {
   "display_name": "Python 3",
   "language": "python",
   "name": "python3"
  }
 },
 "nbformat": 4,
 "nbformat_minor": 2
}
