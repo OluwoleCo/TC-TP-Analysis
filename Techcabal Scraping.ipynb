{
 "cells": [
  {
   "cell_type": "code",
   "execution_count": 1,
   "metadata": {
    "collapsed": true
   },
   "outputs": [],
   "source": [
    "from urllib.request import urlopen\n",
    "from bs4 import BeautifulSoup\n",
    "import requests\n",
    "import pandas as pd\n",
    "import re\n",
    "import csv\n",
    "import json"
   ]
  },
  {
   "cell_type": "code",
   "execution_count": 5,
   "metadata": {
    "collapsed": true
   },
   "outputs": [],
   "source": [
    "table = []"
   ]
  },
  {
   "cell_type": "code",
   "execution_count": 7,
   "metadata": {
    "collapsed": true
   },
   "outputs": [],
   "source": [
    "\n",
    "url = 'https://techcabal.com/posts/'\n",
    "page = urlopen(url)\n",
    "soup = BeautifulSoup(page, 'html.parser')\n",
    "div = soup.find('div', attrs={'class': 'grids'})\n",
    "for tag in div.find_all('header', attrs={'class' : 'entry-header'}):\n",
    "    json = {\n",
    "        'date': '',\n",
    "        'sponsored': False,\n",
    "        'headline': ''\n",
    "    }\n",
    "    date = tag.find('time').text\n",
    "#     print(tag.find('span', attrs={'class': 'entry-category'}).a.text)\n",
    "    sponsored = False\n",
    "    if tag.find('span', attrs={'class': 'entry-category'}).a.text == 'Sponsored':\n",
    "        sponsored = True\n",
    "        \n",
    "    headline = tag.find('h2').a.text\n",
    "    json['date'] = date\n",
    "    json['sponsored'] = sponsored\n",
    "    json['headline'] = headline\n",
    "    \n",
    "    table.append(json)\n"
   ]
  },
  {
   "cell_type": "code",
   "execution_count": 8,
   "metadata": {},
   "outputs": [
    {
     "data": {
      "text/plain": [
       "40"
      ]
     },
     "execution_count": 8,
     "metadata": {},
     "output_type": "execute_result"
    }
   ],
   "source": [
    "len(table)"
   ]
  },
  {
   "cell_type": "code",
   "execution_count": 13,
   "metadata": {
    "collapsed": true
   },
   "outputs": [],
   "source": [
    "linkArr = []\n",
    "techcabal = 'https://techcabal.com/posts/page/'\n",
    "for i in range(2, 133):\n",
    "    linkArr.append(techcabal + str(i) +'/')"
   ]
  },
  {
   "cell_type": "code",
   "execution_count": null,
   "metadata": {
    "collapsed": true
   },
   "outputs": [],
   "source": []
  },
  {
   "cell_type": "code",
   "execution_count": 14,
   "metadata": {
    "collapsed": true
   },
   "outputs": [],
   "source": [
    "def getData(arr):\n",
    "    for link in arr:\n",
    "        page = urlopen(link)\n",
    "        soup = BeautifulSoup(page, 'html.parser')\n",
    "        div = soup.find('div', attrs={'class': 'grids'})\n",
    "\n",
    "        for section in div.find_all('header', attrs={'class' : 'entry-header'}):\n",
    "            json = {\n",
    "                'date': '',\n",
    "                'sponsored': False,\n",
    "                'headline': ''\n",
    "            }\n",
    "            date = section.find('time').text\n",
    "            sponsored = False\n",
    "            if section.find('span', attrs={'class': 'entry-category'}).a.text == 'Sponsored':\n",
    "                sponsored = True\n",
    "\n",
    "            headline = section.find('h2').a.text\n",
    "\n",
    "            json['date'] = date\n",
    "            json['sponsored'] = sponsored\n",
    "            json['headline'] = headline\n",
    "\n",
    "            table.append(json)\n",
    "#         print('done with' + ' ' + link )\n",
    "    print('Complete')\n"
   ]
  },
  {
   "cell_type": "code",
   "execution_count": 15,
   "metadata": {
    "collapsed": true
   },
   "outputs": [],
   "source": [
    "def saveToCSV(dict, name):\n",
    "    dict = pd.DataFrame.from_dict(dict)\n",
    "    dict.to_csv(str(name) + '.csv')"
   ]
  },
  {
   "cell_type": "markdown",
   "metadata": {},
   "source": [
    "##### Run le Code"
   ]
  },
  {
   "cell_type": "code",
   "execution_count": 17,
   "metadata": {
    "scrolled": false
   },
   "outputs": [
    {
     "name": "stdout",
     "output_type": "stream",
     "text": [
      "Complete\n",
      "Wall time: 3min 30s\n"
     ]
    }
   ],
   "source": [
    "%%time\n",
    "getData(linkArr)"
   ]
  },
  {
   "cell_type": "code",
   "execution_count": 19,
   "metadata": {
    "collapsed": true
   },
   "outputs": [],
   "source": [
    "saveToCSV(table, 'cabal')"
   ]
  }
 ],
 "metadata": {
  "kernelspec": {
   "display_name": "Python 3",
   "language": "python",
   "name": "python3"
  },
  "language_info": {
   "codemirror_mode": {
    "name": "ipython",
    "version": 3
   },
   "file_extension": ".py",
   "mimetype": "text/x-python",
   "name": "python",
   "nbconvert_exporter": "python",
   "pygments_lexer": "ipython3",
   "version": "3.6.6"
  }
 },
 "nbformat": 4,
 "nbformat_minor": 2
}
