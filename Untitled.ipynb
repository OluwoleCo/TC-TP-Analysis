{
 "cells": [
  {
   "cell_type": "code",
   "execution_count": 1,
   "metadata": {
    "collapsed": true
   },
   "outputs": [],
   "source": [
    "from urllib.request import urlopen\n",
    "from bs4 import BeautifulSoup\n",
    "import requests\n",
    "import pandas as pd\n",
    "import re\n",
    "import csv\n",
    "import json"
   ]
  },
  {
   "cell_type": "code",
   "execution_count": 83,
   "metadata": {
    "collapsed": true
   },
   "outputs": [],
   "source": [
    "cabal = 'http://www.nigeria70.com/nigerian_news_paper/archives/tech_cabal'\n",
    "headlines = {}"
   ]
  },
  {
   "cell_type": "code",
   "execution_count": 42,
   "metadata": {
    "collapsed": true
   },
   "outputs": [],
   "source": [
    "def getUrls(archive):\n",
    "    \n",
    "    archives = []\n",
    "    soups = BeautifulSoup(urlopen(archive), 'html.parser')\n",
    "    getData = soups.find('div', attrs={'class': 'news_story_right_column'})\n",
    "    \n",
    "    for a in getData.find_all('a', attrs={'href': re.compile(\"/nigerian_news_paper/archives/\")}):\n",
    "        archives.append(a['href'])\n",
    "    print('done with getting archives')\n",
    "    return archives"
   ]
  },
  {
   "cell_type": "code",
   "execution_count": 5,
   "metadata": {
    "collapsed": true
   },
   "outputs": [],
   "source": [
    "def fullUrl(partUrl):   \n",
    "    website = 'http://www.nigeria70.com'\n",
    "    fullWebsite = []\n",
    "    for item in partUrl:\n",
    "        fullWebsite.append(website + item)\n",
    "    print('done with appending urls')\n",
    "    return fullWebsite"
   ]
  },
  {
   "cell_type": "code",
   "execution_count": 84,
   "metadata": {},
   "outputs": [],
   "source": [
    "def getHeadline(websiteArr):\n",
    "    \n",
    "#     for item in websiteArr: \n",
    "#         page = urlopen(item)\n",
    "#         soup = BeautifulSoup(page, 'html.parser')\n",
    "#         div = soup.find('div', attrs={'class': 'holder'})\n",
    "#         result = div.find_all(string=re.compile(r'\\b(?:%s)\\b' % '|'.join(names)))\n",
    "#         headlines[item[-7:]] = result\n",
    "   \n",
    "    for item in websiteArr: \n",
    "        textItem = []\n",
    "        page = urlopen(item)\n",
    "        soup = BeautifulSoup(page, 'html.parser')\n",
    "        div = soup.find('div', attrs={'class': 'holder'})\n",
    "        for tag in div.find_all(href=re.compile(\"/nigerian_news_paper\")):\n",
    "            textItem.append(tag.text)\n",
    "        headlines[item[-7:]] = textItem\n",
    "        print('added' + ' ' + item)\n",
    "    print('done adding to headline')"
   ]
  },
  {
   "cell_type": "code",
   "execution_count": 21,
   "metadata": {},
   "outputs": [],
   "source": [
    "def storeToJson(dict, name):\n",
    "    with open(name + '.json', 'w') as fp:\n",
    "        json.dump(dict, fp, indent=4)"
   ]
  },
  {
   "cell_type": "code",
   "execution_count": null,
   "metadata": {
    "collapsed": true
   },
   "outputs": [],
   "source": []
  },
  {
   "cell_type": "code",
   "execution_count": 6,
   "metadata": {
    "scrolled": true
   },
   "outputs": [
    {
     "name": "stdout",
     "output_type": "stream",
     "text": [
      "done with getting archives\n"
     ]
    }
   ],
   "source": [
    "gotten = getUrls(cabal)"
   ]
  },
  {
   "cell_type": "code",
   "execution_count": 11,
   "metadata": {},
   "outputs": [
    {
     "name": "stdout",
     "output_type": "stream",
     "text": [
      "done with appending urls\n"
     ]
    }
   ],
   "source": [
    "appendAllUrl = fullUrl(gotten)"
   ]
  },
  {
   "cell_type": "code",
   "execution_count": 85,
   "metadata": {},
   "outputs": [
    {
     "ename": "SyntaxError",
     "evalue": "invalid syntax (<ipython-input-85-02192ebafc05>, line 1)",
     "output_type": "error",
     "traceback": [
      "\u001b[1;36m  File \u001b[1;32m\"<ipython-input-85-02192ebafc05>\"\u001b[1;36m, line \u001b[1;32m1\u001b[0m\n\u001b[1;33m    (/, 42, secs)\u001b[0m\n\u001b[1;37m     ^\u001b[0m\n\u001b[1;31mSyntaxError\u001b[0m\u001b[1;31m:\u001b[0m invalid syntax\n"
     ]
    }
   ],
   "source": [
    "# 42 secs\n",
    "%%time\n",
    "getHeadline(appendAllUrl)"
   ]
  },
  {
   "cell_type": "code",
   "execution_count": 32,
   "metadata": {},
   "outputs": [],
   "source": [
    "storeToJson(headlines, 'cabal')"
   ]
  },
  {
   "cell_type": "code",
   "execution_count": 81,
   "metadata": {
    "scrolled": true
   },
   "outputs": [
    {
     "data": {
      "text/plain": [
       "['http://www.nigeria70.com/nigerian_news_paper/archives/tech_cabal/2018/08',\n",
       " 'http://www.nigeria70.com/nigerian_news_paper/archives/tech_cabal/2018/07',\n",
       " 'http://www.nigeria70.com/nigerian_news_paper/archives/tech_cabal/2018/06',\n",
       " 'http://www.nigeria70.com/nigerian_news_paper/archives/tech_cabal/2018/05',\n",
       " 'http://www.nigeria70.com/nigerian_news_paper/archives/tech_cabal/2018/04',\n",
       " 'http://www.nigeria70.com/nigerian_news_paper/archives/tech_cabal/2018/03',\n",
       " 'http://www.nigeria70.com/nigerian_news_paper/archives/tech_cabal/2018/02',\n",
       " 'http://www.nigeria70.com/nigerian_news_paper/archives/tech_cabal/2018/01',\n",
       " 'http://www.nigeria70.com/nigerian_news_paper/archives/tech_cabal/2017/12',\n",
       " 'http://www.nigeria70.com/nigerian_news_paper/archives/tech_cabal/2017/11',\n",
       " 'http://www.nigeria70.com/nigerian_news_paper/archives/tech_cabal/2017/10',\n",
       " 'http://www.nigeria70.com/nigerian_news_paper/archives/tech_cabal/2017/09',\n",
       " 'http://www.nigeria70.com/nigerian_news_paper/archives/tech_cabal/2017/08',\n",
       " 'http://www.nigeria70.com/nigerian_news_paper/archives/tech_cabal/2017/07',\n",
       " 'http://www.nigeria70.com/nigerian_news_paper/archives/tech_cabal/2017/06',\n",
       " 'http://www.nigeria70.com/nigerian_news_paper/archives/tech_cabal/2017/05',\n",
       " 'http://www.nigeria70.com/nigerian_news_paper/archives/tech_cabal/2017/04',\n",
       " 'http://www.nigeria70.com/nigerian_news_paper/archives/tech_cabal/2017/03',\n",
       " 'http://www.nigeria70.com/nigerian_news_paper/archives/tech_cabal/2017/02',\n",
       " 'http://www.nigeria70.com/nigerian_news_paper/archives/tech_cabal/2017/01',\n",
       " 'http://www.nigeria70.com/nigerian_news_paper/archives/tech_cabal/2016/12',\n",
       " 'http://www.nigeria70.com/nigerian_news_paper/archives/tech_cabal/2016/11',\n",
       " 'http://www.nigeria70.com/nigerian_news_paper/archives/tech_cabal/2016/10',\n",
       " 'http://www.nigeria70.com/nigerian_news_paper/archives/tech_cabal/2016/09',\n",
       " 'http://www.nigeria70.com/nigerian_news_paper/archives/tech_cabal/2016/08',\n",
       " 'http://www.nigeria70.com/nigerian_news_paper/archives/tech_cabal/2016/07',\n",
       " 'http://www.nigeria70.com/nigerian_news_paper/archives/tech_cabal/2016/06',\n",
       " 'http://www.nigeria70.com/nigerian_news_paper/archives/tech_cabal/2016/05',\n",
       " 'http://www.nigeria70.com/nigerian_news_paper/archives/tech_cabal/2016/04']"
      ]
     },
     "execution_count": 81,
     "metadata": {},
     "output_type": "execute_result"
    }
   ],
   "source": [
    "appendAllUrl"
   ]
  },
  {
   "cell_type": "code",
   "execution_count": 45,
   "metadata": {},
   "outputs": [],
   "source": [
    "nunu = ['http://www.nigeria70.com/nigerian_news_paper/archives/tech_cabal/2018/08',\n",
    " 'http://www.nigeria70.com/nigerian_news_paper/archives/tech_cabal/2018/07',\n",
    " 'http://www.nigeria70.com/nigerian_news_paper/archives/tech_cabal/2018/06']"
   ]
  },
  {
   "cell_type": "code",
   "execution_count": 78,
   "metadata": {},
   "outputs": [
    {
     "ename": "NameError",
     "evalue": "name 'unicode' is not defined",
     "output_type": "error",
     "traceback": [
      "\u001b[1;31m---------------------------------------------------------------------------\u001b[0m",
      "\u001b[1;31mNameError\u001b[0m                                 Traceback (most recent call last)",
      "\u001b[1;32m<ipython-input-78-f0d5fe79ba7e>\u001b[0m in \u001b[0;36m<module>\u001b[1;34m()\u001b[0m\n\u001b[1;32m----> 1\u001b[1;33m \u001b[0mgetHeadline\u001b[0m\u001b[1;33m(\u001b[0m\u001b[0mnunu\u001b[0m\u001b[1;33m)\u001b[0m\u001b[1;33m\u001b[0m\u001b[0m\n\u001b[0m",
      "\u001b[1;32m<ipython-input-74-c58e0d7b0f32>\u001b[0m in \u001b[0;36mgetHeadline\u001b[1;34m(websiteArr)\u001b[0m\n\u001b[0;32m     10\u001b[0m     \u001b[1;32mfor\u001b[0m \u001b[0mitem\u001b[0m \u001b[1;32min\u001b[0m \u001b[0mwebsiteArr\u001b[0m\u001b[1;33m:\u001b[0m\u001b[1;33m\u001b[0m\u001b[0m\n\u001b[0;32m     11\u001b[0m         \u001b[0mpage\u001b[0m \u001b[1;33m=\u001b[0m \u001b[0murlopen\u001b[0m\u001b[1;33m(\u001b[0m\u001b[0mitem\u001b[0m\u001b[1;33m)\u001b[0m\u001b[1;33m\u001b[0m\u001b[0m\n\u001b[1;32m---> 12\u001b[1;33m         \u001b[0mcontent\u001b[0m \u001b[1;33m=\u001b[0m \u001b[0mtoUnicode\u001b[0m\u001b[1;33m(\u001b[0m\u001b[0mpage\u001b[0m\u001b[1;33m)\u001b[0m\u001b[1;33m\u001b[0m\u001b[0m\n\u001b[0m\u001b[0;32m     13\u001b[0m         \u001b[0msoup\u001b[0m \u001b[1;33m=\u001b[0m \u001b[0mBeautifulSoup\u001b[0m\u001b[1;33m(\u001b[0m\u001b[0mcontent\u001b[0m\u001b[1;33m,\u001b[0m \u001b[1;34m'html.parser'\u001b[0m\u001b[1;33m)\u001b[0m\u001b[1;33m\u001b[0m\u001b[0m\n\u001b[0;32m     14\u001b[0m         \u001b[0mdiv\u001b[0m \u001b[1;33m=\u001b[0m \u001b[0msoup\u001b[0m\u001b[1;33m.\u001b[0m\u001b[0mfind\u001b[0m\u001b[1;33m(\u001b[0m\u001b[1;34m'div'\u001b[0m\u001b[1;33m,\u001b[0m \u001b[0mattrs\u001b[0m\u001b[1;33m=\u001b[0m\u001b[1;33m{\u001b[0m\u001b[1;34m'class'\u001b[0m\u001b[1;33m:\u001b[0m \u001b[1;34m'holder'\u001b[0m\u001b[1;33m}\u001b[0m\u001b[1;33m)\u001b[0m\u001b[1;33m\u001b[0m\u001b[0m\n",
      "\u001b[1;32m<ipython-input-73-7b284f3d4a22>\u001b[0m in \u001b[0;36mtoUnicode\u001b[1;34m(s)\u001b[0m\n\u001b[0;32m      1\u001b[0m \u001b[1;32mdef\u001b[0m \u001b[0mtoUnicode\u001b[0m\u001b[1;33m(\u001b[0m\u001b[0ms\u001b[0m\u001b[1;33m)\u001b[0m\u001b[1;33m:\u001b[0m\u001b[1;33m\u001b[0m\u001b[0m\n\u001b[1;32m----> 2\u001b[1;33m     \u001b[1;32mif\u001b[0m \u001b[0mtype\u001b[0m\u001b[1;33m(\u001b[0m\u001b[0ms\u001b[0m\u001b[1;33m)\u001b[0m \u001b[1;32mis\u001b[0m \u001b[0municode\u001b[0m\u001b[1;33m:\u001b[0m\u001b[1;33m\u001b[0m\u001b[0m\n\u001b[0m\u001b[0;32m      3\u001b[0m         \u001b[1;32mreturn\u001b[0m \u001b[0ms\u001b[0m\u001b[1;33m\u001b[0m\u001b[0m\n\u001b[0;32m      4\u001b[0m     \u001b[1;32melif\u001b[0m \u001b[0mtype\u001b[0m\u001b[1;33m(\u001b[0m\u001b[0ms\u001b[0m\u001b[1;33m)\u001b[0m \u001b[1;32mis\u001b[0m \u001b[0mstr\u001b[0m\u001b[1;33m:\u001b[0m\u001b[1;33m\u001b[0m\u001b[0m\n\u001b[0;32m      5\u001b[0m         \u001b[0md\u001b[0m \u001b[1;33m=\u001b[0m \u001b[0mchardet\u001b[0m\u001b[1;33m.\u001b[0m\u001b[0mdetect\u001b[0m\u001b[1;33m(\u001b[0m\u001b[0ms\u001b[0m\u001b[1;33m)\u001b[0m\u001b[1;33m\u001b[0m\u001b[0m\n",
      "\u001b[1;31mNameError\u001b[0m: name 'unicode' is not defined"
     ]
    }
   ],
   "source": [
    "getHeadline(nunu)"
   ]
  },
  {
   "cell_type": "code",
   "execution_count": 51,
   "metadata": {
    "collapsed": true
   },
   "outputs": [],
   "source": [
    "storeToJson(headlines, 'nunu3')"
   ]
  },
  {
   "cell_type": "code",
   "execution_count": 70,
   "metadata": {},
   "outputs": [],
   "source": [
    "assd = {'a', 'asas'}"
   ]
  },
  {
   "cell_type": "code",
   "execution_count": 71,
   "metadata": {},
   "outputs": [
    {
     "ename": "ValueError",
     "evalue": "not enough values to unpack (expected 2, got 1)",
     "output_type": "error",
     "traceback": [
      "\u001b[1;31m---------------------------------------------------------------------------\u001b[0m",
      "\u001b[1;31mValueError\u001b[0m                                Traceback (most recent call last)",
      "\u001b[1;32m<ipython-input-71-e414c6569d3d>\u001b[0m in \u001b[0;36m<module>\u001b[1;34m()\u001b[0m\n\u001b[1;32m----> 1\u001b[1;33m \u001b[1;32mfor\u001b[0m \u001b[0mkey\u001b[0m\u001b[1;33m,\u001b[0m \u001b[0mvalue\u001b[0m \u001b[1;32min\u001b[0m \u001b[0massd\u001b[0m\u001b[1;33m:\u001b[0m\u001b[1;33m\u001b[0m\u001b[0m\n\u001b[0m\u001b[0;32m      2\u001b[0m     \u001b[0mprint\u001b[0m\u001b[1;33m(\u001b[0m\u001b[0mvalue\u001b[0m\u001b[1;33m)\u001b[0m\u001b[1;33m\u001b[0m\u001b[0m\n",
      "\u001b[1;31mValueError\u001b[0m: not enough values to unpack (expected 2, got 1)"
     ]
    }
   ],
   "source": [
    "for key, value in assd:\n",
    "    print(value)"
   ]
  },
  {
   "cell_type": "code",
   "execution_count": 77,
   "metadata": {},
   "outputs": [
    {
     "ename": "SyntaxError",
     "evalue": "invalid syntax (<ipython-input-77-fdc7e1257006>, line 1)",
     "output_type": "error",
     "traceback": [
      "\u001b[1;36m  File \u001b[1;32m\"<ipython-input-77-fdc7e1257006>\"\u001b[1;36m, line \u001b[1;32m1\u001b[0m\n\u001b[1;33m    =\u001b[0m\n\u001b[1;37m    ^\u001b[0m\n\u001b[1;31mSyntaxError\u001b[0m\u001b[1;31m:\u001b[0m invalid syntax\n"
     ]
    }
   ],
   "source": [
    "="
   ]
  },
  {
   "cell_type": "code",
   "execution_count": null,
   "metadata": {},
   "outputs": [],
   "source": []
  },
  {
   "cell_type": "code",
   "execution_count": null,
   "metadata": {
    "collapsed": true
   },
   "outputs": [],
   "source": []
  }
 ],
 "metadata": {
  "kernelspec": {
   "display_name": "Python 3",
   "language": "python",
   "name": "python3"
  },
  "language_info": {
   "codemirror_mode": {
    "name": "ipython",
    "version": 3
   },
   "file_extension": ".py",
   "mimetype": "text/x-python",
   "name": "python",
   "nbconvert_exporter": "python",
   "pygments_lexer": "ipython3",
   "version": "3.6.1"
  }
 },
 "nbformat": 4,
 "nbformat_minor": 2
}
