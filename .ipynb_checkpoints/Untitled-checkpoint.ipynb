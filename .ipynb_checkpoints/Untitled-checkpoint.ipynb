{
 "cells": [
  {
   "cell_type": "code",
   "execution_count": 1,
   "metadata": {
    "collapsed": true
   },
   "outputs": [],
   "source": [
    "from urllib.request import urlopen\n",
    "from bs4 import BeautifulSoup\n",
    "import requests\n",
    "import pandas as pd\n",
    "import re\n",
    "import csv\n",
    "import json"
   ]
  },
  {
   "cell_type": "code",
   "execution_count": 55,
   "metadata": {
    "collapsed": true
   },
   "outputs": [],
   "source": [
    "cabal = 'http://www.nigeria70.com/nigerian_news_paper/archives/tech_cabal'\n",
    "headlines = {}"
   ]
  },
  {
   "cell_type": "code",
   "execution_count": 42,
   "metadata": {
    "collapsed": true
   },
   "outputs": [],
   "source": [
    "def getUrls(archive):\n",
    "    \n",
    "    archives = []\n",
    "    soups = BeautifulSoup(urlopen(archive), 'html.parser')\n",
    "    getData = soups.find('div', attrs={'class': 'news_story_right_column'})\n",
    "    \n",
    "    for a in getData.find_all('a', attrs={'href': re.compile(\"/nigerian_news_paper/archives/\")}):\n",
    "        archives.append(a['href'])\n",
    "    print('done with getting archives')\n",
    "    return archives"
   ]
  },
  {
   "cell_type": "code",
   "execution_count": 5,
   "metadata": {
    "collapsed": true
   },
   "outputs": [],
   "source": [
    "def fullUrl(partUrl):   \n",
    "    website = 'http://www.nigeria70.com'\n",
    "    fullWebsite = []\n",
    "    for item in partUrl:\n",
    "        fullWebsite.append(website + item)\n",
    "    print('done with appending urls')\n",
    "    return fullWebsite"
   ]
  },
  {
   "cell_type": "code",
   "execution_count": 61,
   "metadata": {},
   "outputs": [],
   "source": [
    "def getHeadline(websiteArr):\n",
    "    \n",
    "#     for item in websiteArr: \n",
    "#         page = urlopen(item)\n",
    "#         soup = BeautifulSoup(page, 'html.parser')\n",
    "#         div = soup.find('div', attrs={'class': 'holder'})\n",
    "#         result = div.find_all(string=re.compile(r'\\b(?:%s)\\b' % '|'.join(names)))\n",
    "#         headlines[item[-7:]] = result\n",
    "    textItem = []   \n",
    "    for item in websiteArr: \n",
    "        page = urlopen(item)\n",
    "        soup = BeautifulSoup(page, 'html.parser')\n",
    "        final = soup.encode('utf-8')\n",
    "        div = final.find('div', attrs={'class': 'holder'}).encode('utf-8')\n",
    "        for tag in div.find_all(href=re.compile(\"/nigerian_news_paper\")):\n",
    "            textItem.append(tag.text)\n",
    "        headlines[item[-7:]] = textItem\n",
    "        print('added' + ' ' + item)\n",
    "    print('done adding to headline')"
   ]
  },
  {
   "cell_type": "code",
   "execution_count": 21,
   "metadata": {},
   "outputs": [],
   "source": [
    "def storeToJson(dict, name):\n",
    "    with open(name + '.json', 'w') as fp:\n",
    "        json.dump(dict, fp, indent=4)"
   ]
  },
  {
   "cell_type": "code",
   "execution_count": 6,
   "metadata": {
    "scrolled": true
   },
   "outputs": [
    {
     "name": "stdout",
     "output_type": "stream",
     "text": [
      "done with getting archives\n"
     ]
    }
   ],
   "source": [
    "gotten = getUrls(cabal)"
   ]
  },
  {
   "cell_type": "code",
   "execution_count": 11,
   "metadata": {},
   "outputs": [
    {
     "name": "stdout",
     "output_type": "stream",
     "text": [
      "done with appending urls\n"
     ]
    }
   ],
   "source": [
    "appendAllUrl = fullUrl(gotten)"
   ]
  },
  {
   "cell_type": "code",
   "execution_count": 29,
   "metadata": {},
   "outputs": [
    {
     "name": "stdout",
     "output_type": "stream",
     "text": [
      "added http://www.nigeria70.com/nigerian_news_paper/archives/tech_cabal/2018/08\n",
      "added http://www.nigeria70.com/nigerian_news_paper/archives/tech_cabal/2018/07\n",
      "added http://www.nigeria70.com/nigerian_news_paper/archives/tech_cabal/2018/06\n",
      "added http://www.nigeria70.com/nigerian_news_paper/archives/tech_cabal/2018/05\n",
      "added http://www.nigeria70.com/nigerian_news_paper/archives/tech_cabal/2018/04\n",
      "added http://www.nigeria70.com/nigerian_news_paper/archives/tech_cabal/2018/03\n",
      "added http://www.nigeria70.com/nigerian_news_paper/archives/tech_cabal/2018/02\n",
      "added http://www.nigeria70.com/nigerian_news_paper/archives/tech_cabal/2018/01\n",
      "added http://www.nigeria70.com/nigerian_news_paper/archives/tech_cabal/2017/12\n",
      "added http://www.nigeria70.com/nigerian_news_paper/archives/tech_cabal/2017/11\n",
      "added http://www.nigeria70.com/nigerian_news_paper/archives/tech_cabal/2017/10\n",
      "added http://www.nigeria70.com/nigerian_news_paper/archives/tech_cabal/2017/09\n",
      "added http://www.nigeria70.com/nigerian_news_paper/archives/tech_cabal/2017/08\n",
      "added http://www.nigeria70.com/nigerian_news_paper/archives/tech_cabal/2017/07\n",
      "added http://www.nigeria70.com/nigerian_news_paper/archives/tech_cabal/2017/06\n",
      "added http://www.nigeria70.com/nigerian_news_paper/archives/tech_cabal/2017/05\n",
      "added http://www.nigeria70.com/nigerian_news_paper/archives/tech_cabal/2017/04\n",
      "added http://www.nigeria70.com/nigerian_news_paper/archives/tech_cabal/2017/03\n",
      "added http://www.nigeria70.com/nigerian_news_paper/archives/tech_cabal/2017/02\n",
      "added http://www.nigeria70.com/nigerian_news_paper/archives/tech_cabal/2017/01\n",
      "added http://www.nigeria70.com/nigerian_news_paper/archives/tech_cabal/2016/12\n",
      "added http://www.nigeria70.com/nigerian_news_paper/archives/tech_cabal/2016/11\n",
      "added http://www.nigeria70.com/nigerian_news_paper/archives/tech_cabal/2016/10\n",
      "added http://www.nigeria70.com/nigerian_news_paper/archives/tech_cabal/2016/09\n",
      "added http://www.nigeria70.com/nigerian_news_paper/archives/tech_cabal/2016/08\n",
      "added http://www.nigeria70.com/nigerian_news_paper/archives/tech_cabal/2016/07\n",
      "added http://www.nigeria70.com/nigerian_news_paper/archives/tech_cabal/2016/06\n",
      "added http://www.nigeria70.com/nigerian_news_paper/archives/tech_cabal/2016/05\n",
      "added http://www.nigeria70.com/nigerian_news_paper/archives/tech_cabal/2016/04\n",
      "done adding to headline\n",
      "Wall time: 42.5 s\n"
     ]
    }
   ],
   "source": [
    "%%time\n",
    "getHeadline(appendAllUrl)"
   ]
  },
  {
   "cell_type": "code",
   "execution_count": 32,
   "metadata": {},
   "outputs": [],
   "source": [
    "storeToJson(headlines, 'cabal')"
   ]
  },
  {
   "cell_type": "code",
   "execution_count": 34,
   "metadata": {
    "scrolled": true
   },
   "outputs": [
    {
     "data": {
      "text/plain": [
       "['http://www.nigeria70.com/nigerian_news_paper/archives/tech_cabal/2018/08',\n",
       " 'http://www.nigeria70.com/nigerian_news_paper/archives/tech_cabal/2018/07',\n",
       " 'http://www.nigeria70.com/nigerian_news_paper/archives/tech_cabal/2018/06',\n",
       " 'http://www.nigeria70.com/nigerian_news_paper/archives/tech_cabal/2018/05',\n",
       " 'http://www.nigeria70.com/nigerian_news_paper/archives/tech_cabal/2018/04',\n",
       " 'http://www.nigeria70.com/nigerian_news_paper/archives/tech_cabal/2018/03',\n",
       " 'http://www.nigeria70.com/nigerian_news_paper/archives/tech_cabal/2018/02',\n",
       " 'http://www.nigeria70.com/nigerian_news_paper/archives/tech_cabal/2018/01',\n",
       " 'http://www.nigeria70.com/nigerian_news_paper/archives/tech_cabal/2017/12',\n",
       " 'http://www.nigeria70.com/nigerian_news_paper/archives/tech_cabal/2017/11',\n",
       " 'http://www.nigeria70.com/nigerian_news_paper/archives/tech_cabal/2017/10',\n",
       " 'http://www.nigeria70.com/nigerian_news_paper/archives/tech_cabal/2017/09',\n",
       " 'http://www.nigeria70.com/nigerian_news_paper/archives/tech_cabal/2017/08',\n",
       " 'http://www.nigeria70.com/nigerian_news_paper/archives/tech_cabal/2017/07',\n",
       " 'http://www.nigeria70.com/nigerian_news_paper/archives/tech_cabal/2017/06',\n",
       " 'http://www.nigeria70.com/nigerian_news_paper/archives/tech_cabal/2017/05',\n",
       " 'http://www.nigeria70.com/nigerian_news_paper/archives/tech_cabal/2017/04',\n",
       " 'http://www.nigeria70.com/nigerian_news_paper/archives/tech_cabal/2017/03',\n",
       " 'http://www.nigeria70.com/nigerian_news_paper/archives/tech_cabal/2017/02',\n",
       " 'http://www.nigeria70.com/nigerian_news_paper/archives/tech_cabal/2017/01',\n",
       " 'http://www.nigeria70.com/nigerian_news_paper/archives/tech_cabal/2016/12',\n",
       " 'http://www.nigeria70.com/nigerian_news_paper/archives/tech_cabal/2016/11',\n",
       " 'http://www.nigeria70.com/nigerian_news_paper/archives/tech_cabal/2016/10',\n",
       " 'http://www.nigeria70.com/nigerian_news_paper/archives/tech_cabal/2016/09',\n",
       " 'http://www.nigeria70.com/nigerian_news_paper/archives/tech_cabal/2016/08',\n",
       " 'http://www.nigeria70.com/nigerian_news_paper/archives/tech_cabal/2016/07',\n",
       " 'http://www.nigeria70.com/nigerian_news_paper/archives/tech_cabal/2016/06',\n",
       " 'http://www.nigeria70.com/nigerian_news_paper/archives/tech_cabal/2016/05',\n",
       " 'http://www.nigeria70.com/nigerian_news_paper/archives/tech_cabal/2016/04']"
      ]
     },
     "execution_count": 34,
     "metadata": {},
     "output_type": "execute_result"
    }
   ],
   "source": [
    "appendAllUrl"
   ]
  },
  {
   "cell_type": "code",
   "execution_count": 45,
   "metadata": {},
   "outputs": [],
   "source": [
    "nunu = ['http://www.nigeria70.com/nigerian_news_paper/archives/tech_cabal/2018/08',\n",
    " 'http://www.nigeria70.com/nigerian_news_paper/archives/tech_cabal/2018/07',\n",
    " 'http://www.nigeria70.com/nigerian_news_paper/archives/tech_cabal/2018/06']"
   ]
  },
  {
   "cell_type": "code",
   "execution_count": 62,
   "metadata": {},
   "outputs": [
    {
     "ename": "AttributeError",
     "evalue": "'HTTPResponse' object has no attribute 'content'",
     "output_type": "error",
     "traceback": [
      "\u001b[1;31m---------------------------------------------------------------------------\u001b[0m",
      "\u001b[1;31mAttributeError\u001b[0m                            Traceback (most recent call last)",
      "\u001b[1;32m<ipython-input-62-f0d5fe79ba7e>\u001b[0m in \u001b[0;36m<module>\u001b[1;34m()\u001b[0m\n\u001b[1;32m----> 1\u001b[1;33m \u001b[0mgetHeadline\u001b[0m\u001b[1;33m(\u001b[0m\u001b[0mnunu\u001b[0m\u001b[1;33m)\u001b[0m\u001b[1;33m\u001b[0m\u001b[0m\n\u001b[0m",
      "\u001b[1;32m<ipython-input-61-f34297385f75>\u001b[0m in \u001b[0;36mgetHeadline\u001b[1;34m(websiteArr)\u001b[0m\n\u001b[0;32m     10\u001b[0m     \u001b[1;32mfor\u001b[0m \u001b[0mitem\u001b[0m \u001b[1;32min\u001b[0m \u001b[0mwebsiteArr\u001b[0m\u001b[1;33m:\u001b[0m\u001b[1;33m\u001b[0m\u001b[0m\n\u001b[0;32m     11\u001b[0m         \u001b[0mpage\u001b[0m \u001b[1;33m=\u001b[0m \u001b[0murlopen\u001b[0m\u001b[1;33m(\u001b[0m\u001b[0mitem\u001b[0m\u001b[1;33m)\u001b[0m\u001b[1;33m\u001b[0m\u001b[0m\n\u001b[1;32m---> 12\u001b[1;33m         \u001b[0msoup\u001b[0m \u001b[1;33m=\u001b[0m \u001b[0mBeautifulSoup\u001b[0m\u001b[1;33m(\u001b[0m\u001b[0mpage\u001b[0m\u001b[1;33m.\u001b[0m\u001b[0mcontent\u001b[0m\u001b[1;33m,\u001b[0m \u001b[1;34m'html.parser'\u001b[0m\u001b[1;33m)\u001b[0m\u001b[1;33m\u001b[0m\u001b[0m\n\u001b[0m\u001b[0;32m     13\u001b[0m         \u001b[0mfinal\u001b[0m \u001b[1;33m=\u001b[0m \u001b[0msoup\u001b[0m\u001b[1;33m.\u001b[0m\u001b[0mencode\u001b[0m\u001b[1;33m(\u001b[0m\u001b[1;34m'utf-8'\u001b[0m\u001b[1;33m)\u001b[0m\u001b[1;33m\u001b[0m\u001b[0m\n\u001b[0;32m     14\u001b[0m         \u001b[0mdiv\u001b[0m \u001b[1;33m=\u001b[0m \u001b[0mfinal\u001b[0m\u001b[1;33m.\u001b[0m\u001b[0mfind\u001b[0m\u001b[1;33m(\u001b[0m\u001b[1;34m'div'\u001b[0m\u001b[1;33m,\u001b[0m \u001b[0mattrs\u001b[0m\u001b[1;33m=\u001b[0m\u001b[1;33m{\u001b[0m\u001b[1;34m'class'\u001b[0m\u001b[1;33m:\u001b[0m \u001b[1;34m'holder'\u001b[0m\u001b[1;33m}\u001b[0m\u001b[1;33m)\u001b[0m\u001b[1;33m\u001b[0m\u001b[0m\n",
      "\u001b[1;31mAttributeError\u001b[0m: 'HTTPResponse' object has no attribute 'content'"
     ]
    }
   ],
   "source": [
    "getHeadline(nunu)"
   ]
  },
  {
   "cell_type": "code",
   "execution_count": 51,
   "metadata": {
    "collapsed": true
   },
   "outputs": [],
   "source": [
    "storeToJson(headlines, 'nunu3')"
   ]
  },
  {
   "cell_type": "code",
   "execution_count": null,
   "metadata": {
    "collapsed": true
   },
   "outputs": [],
   "source": []
  }
 ],
 "metadata": {
  "kernelspec": {
   "display_name": "Python 3",
   "language": "python",
   "name": "python3"
  },
  "language_info": {
   "codemirror_mode": {
    "name": "ipython",
    "version": 3
   },
   "file_extension": ".py",
   "mimetype": "text/x-python",
   "name": "python",
   "nbconvert_exporter": "python",
   "pygments_lexer": "ipython3",
   "version": "3.6.1"
  }
 },
 "nbformat": 4,
 "nbformat_minor": 2
}
