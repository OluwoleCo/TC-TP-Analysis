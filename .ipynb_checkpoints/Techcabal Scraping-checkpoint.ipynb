{
 "cells": [
  {
   "cell_type": "code",
   "execution_count": 1,
   "metadata": {
    "collapsed": true
   },
   "outputs": [],
   "source": [
    "from urllib.request import urlopen\n",
    "from bs4 import BeautifulSoup\n",
    "import requests\n",
    "import pandas as pd\n",
    "import re\n",
    "import csv\n",
    "import json"
   ]
  },
  {
   "cell_type": "code",
   "execution_count": 196,
   "metadata": {},
   "outputs": [],
   "source": [
    "table = []"
   ]
  },
  {
   "cell_type": "code",
   "execution_count": 197,
   "metadata": {},
   "outputs": [],
   "source": [
    "\n",
    "url = 'https://techcabal.com/posts/'\n",
    "page = urlopen(url)\n",
    "soup = BeautifulSoup(page, 'html.parser')\n",
    "div = soup.find('div', attrs={'class': 'grids'})\n",
    "for tag in div.find_all('header', attrs={'class' : 'entry-header'}):\n",
    "    json = {\n",
    "        'date': '',\n",
    "        'sponsored': False,\n",
    "        'headline': ''\n",
    "    }\n",
    "    date = tag.find('time').text\n",
    "#     print(tag.find('span', attrs={'class': 'entry-category'}).a.text)\n",
    "    sponsored = False\n",
    "    if tag.find('span', attrs={'class': 'entry-category'}).a.text == 'Sponsored':\n",
    "        sponsored = True\n",
    "        \n",
    "    headline = tag.find('h2').a.text\n",
    "    json['date'] = date\n",
    "    json['sponsored'] = sponsored\n",
    "    json['headline'] = headline\n",
    "    \n",
    "    table.append(json)\n",
    "    "
   ]
  },
  {
   "cell_type": "code",
   "execution_count": 201,
   "metadata": {},
   "outputs": [],
   "source": [
    "linkArr = []\n",
    "techcabal = 'https://techcabal.com/posts/page/'\n",
    "for i in range(2, 132):\n",
    "    linkArr.append(techcabal + str(i) +'/')"
   ]
  },
  {
   "cell_type": "code",
   "execution_count": 203,
   "metadata": {},
   "outputs": [],
   "source": [
    "def getData(arr):\n",
    "    for link in arr:\n",
    "        page = urlopen(link)\n",
    "        soup = BeautifulSoup(page, 'html.parser')\n",
    "        div = soup.find('div', attrs={'class': 'grids'})\n",
    "\n",
    "        for section in div.find_all('header', attrs={'class' : 'entry-header'}):\n",
    "            json = {\n",
    "                'date': '',\n",
    "                'sponsored': False,\n",
    "                'headline': ''\n",
    "            }\n",
    "            date = section.find('time').text\n",
    "            sponsored = False\n",
    "            if section.find('span', attrs={'class': 'entry-category'}).a.text == 'Sponsored':\n",
    "                sponsored = True\n",
    "\n",
    "            headline = section.find('h2').a.text\n",
    "\n",
    "            json['date'] = date\n",
    "            json['sponsored'] = sponsored\n",
    "            json['headline'] = headline\n",
    "\n",
    "#           table.append(json)\n",
    "        print('done with' + ' ' + link )\n",
    "    print('Complete')\n"
   ]
  },
  {
   "cell_type": "code",
   "execution_count": 191,
   "metadata": {},
   "outputs": [],
   "source": [
    "def storeToCSV(table, name):\n",
    "    with open(name + 'csv', 'w', newline='') as csv_out:\n",
    "        writer = csv.DictWriter(csv_out, table[0].keys()) # because you have a list of dicts just pick the first to get the keys\n",
    "        writer.writeheader() # here it is where you write the header from the keys\n",
    "        for dict_ in table:\n",
    "            writer.writerow(dict_)"
   ]
  },
  {
   "cell_type": "code",
   "execution_count": null,
   "metadata": {},
   "outputs": [],
   "source": []
  },
  {
   "cell_type": "markdown",
   "metadata": {},
   "source": [
    "##### Run le Code"
   ]
  },
  {
   "cell_type": "code",
   "execution_count": 188,
   "metadata": {
    "scrolled": false
   },
   "outputs": [],
   "source": [
    "%%time\n",
    "getData(linkArr)"
   ]
  },
  {
   "cell_type": "code",
   "execution_count": 122,
   "metadata": {},
   "outputs": [],
   "source": [
    "with open('test.csv', 'w') as csv_out:\n",
    "    writer = csv.DictWriter(csv_out, table[0].keys()) # because you have a list of dicts just pick the first to get the keys\n",
    "    writer.writeheader() # here it is where you write the header from the keys\n",
    "    for dict_ in table:\n",
    "        writer.writerow(dict_)"
   ]
  },
  {
   "cell_type": "code",
   "execution_count": 120,
   "metadata": {},
   "outputs": [
    {
     "data": {
      "text/plain": [
       "5240"
      ]
     },
     "execution_count": 120,
     "metadata": {},
     "output_type": "execute_result"
    }
   ],
   "source": [
    "storeToJson()"
   ]
  },
  {
   "cell_type": "code",
   "execution_count": 200,
   "metadata": {},
   "outputs": [
    {
     "data": {
      "text/plain": [
       "40"
      ]
     },
     "execution_count": 200,
     "metadata": {},
     "output_type": "execute_result"
    }
   ],
   "source": [
    "len(table)"
   ]
  },
  {
   "cell_type": "code",
   "execution_count": 202,
   "metadata": {},
   "outputs": [
    {
     "data": {
      "text/plain": [
       "['https://techcabal.com/posts/page/2/',\n",
       " 'https://techcabal.com/posts/page/3/',\n",
       " 'https://techcabal.com/posts/page/4/',\n",
       " 'https://techcabal.com/posts/page/5/',\n",
       " 'https://techcabal.com/posts/page/6/',\n",
       " 'https://techcabal.com/posts/page/7/',\n",
       " 'https://techcabal.com/posts/page/8/',\n",
       " 'https://techcabal.com/posts/page/9/',\n",
       " 'https://techcabal.com/posts/page/10/',\n",
       " 'https://techcabal.com/posts/page/11/',\n",
       " 'https://techcabal.com/posts/page/12/',\n",
       " 'https://techcabal.com/posts/page/13/',\n",
       " 'https://techcabal.com/posts/page/14/',\n",
       " 'https://techcabal.com/posts/page/15/',\n",
       " 'https://techcabal.com/posts/page/16/',\n",
       " 'https://techcabal.com/posts/page/17/',\n",
       " 'https://techcabal.com/posts/page/18/',\n",
       " 'https://techcabal.com/posts/page/19/',\n",
       " 'https://techcabal.com/posts/page/20/',\n",
       " 'https://techcabal.com/posts/page/21/',\n",
       " 'https://techcabal.com/posts/page/22/',\n",
       " 'https://techcabal.com/posts/page/23/',\n",
       " 'https://techcabal.com/posts/page/24/',\n",
       " 'https://techcabal.com/posts/page/25/',\n",
       " 'https://techcabal.com/posts/page/26/',\n",
       " 'https://techcabal.com/posts/page/27/',\n",
       " 'https://techcabal.com/posts/page/28/',\n",
       " 'https://techcabal.com/posts/page/29/',\n",
       " 'https://techcabal.com/posts/page/30/',\n",
       " 'https://techcabal.com/posts/page/31/',\n",
       " 'https://techcabal.com/posts/page/32/',\n",
       " 'https://techcabal.com/posts/page/33/',\n",
       " 'https://techcabal.com/posts/page/34/',\n",
       " 'https://techcabal.com/posts/page/35/',\n",
       " 'https://techcabal.com/posts/page/36/',\n",
       " 'https://techcabal.com/posts/page/37/',\n",
       " 'https://techcabal.com/posts/page/38/',\n",
       " 'https://techcabal.com/posts/page/39/',\n",
       " 'https://techcabal.com/posts/page/40/',\n",
       " 'https://techcabal.com/posts/page/41/',\n",
       " 'https://techcabal.com/posts/page/42/',\n",
       " 'https://techcabal.com/posts/page/43/',\n",
       " 'https://techcabal.com/posts/page/44/',\n",
       " 'https://techcabal.com/posts/page/45/',\n",
       " 'https://techcabal.com/posts/page/46/',\n",
       " 'https://techcabal.com/posts/page/47/',\n",
       " 'https://techcabal.com/posts/page/48/',\n",
       " 'https://techcabal.com/posts/page/49/',\n",
       " 'https://techcabal.com/posts/page/50/',\n",
       " 'https://techcabal.com/posts/page/51/',\n",
       " 'https://techcabal.com/posts/page/52/',\n",
       " 'https://techcabal.com/posts/page/53/',\n",
       " 'https://techcabal.com/posts/page/54/',\n",
       " 'https://techcabal.com/posts/page/55/',\n",
       " 'https://techcabal.com/posts/page/56/',\n",
       " 'https://techcabal.com/posts/page/57/',\n",
       " 'https://techcabal.com/posts/page/58/',\n",
       " 'https://techcabal.com/posts/page/59/',\n",
       " 'https://techcabal.com/posts/page/60/',\n",
       " 'https://techcabal.com/posts/page/61/',\n",
       " 'https://techcabal.com/posts/page/62/',\n",
       " 'https://techcabal.com/posts/page/63/',\n",
       " 'https://techcabal.com/posts/page/64/',\n",
       " 'https://techcabal.com/posts/page/65/',\n",
       " 'https://techcabal.com/posts/page/66/',\n",
       " 'https://techcabal.com/posts/page/67/',\n",
       " 'https://techcabal.com/posts/page/68/',\n",
       " 'https://techcabal.com/posts/page/69/',\n",
       " 'https://techcabal.com/posts/page/70/',\n",
       " 'https://techcabal.com/posts/page/71/',\n",
       " 'https://techcabal.com/posts/page/72/',\n",
       " 'https://techcabal.com/posts/page/73/',\n",
       " 'https://techcabal.com/posts/page/74/',\n",
       " 'https://techcabal.com/posts/page/75/',\n",
       " 'https://techcabal.com/posts/page/76/',\n",
       " 'https://techcabal.com/posts/page/77/',\n",
       " 'https://techcabal.com/posts/page/78/',\n",
       " 'https://techcabal.com/posts/page/79/',\n",
       " 'https://techcabal.com/posts/page/80/',\n",
       " 'https://techcabal.com/posts/page/81/',\n",
       " 'https://techcabal.com/posts/page/82/',\n",
       " 'https://techcabal.com/posts/page/83/',\n",
       " 'https://techcabal.com/posts/page/84/',\n",
       " 'https://techcabal.com/posts/page/85/',\n",
       " 'https://techcabal.com/posts/page/86/',\n",
       " 'https://techcabal.com/posts/page/87/',\n",
       " 'https://techcabal.com/posts/page/88/',\n",
       " 'https://techcabal.com/posts/page/89/',\n",
       " 'https://techcabal.com/posts/page/90/',\n",
       " 'https://techcabal.com/posts/page/91/',\n",
       " 'https://techcabal.com/posts/page/92/',\n",
       " 'https://techcabal.com/posts/page/93/',\n",
       " 'https://techcabal.com/posts/page/94/',\n",
       " 'https://techcabal.com/posts/page/95/',\n",
       " 'https://techcabal.com/posts/page/96/',\n",
       " 'https://techcabal.com/posts/page/97/',\n",
       " 'https://techcabal.com/posts/page/98/',\n",
       " 'https://techcabal.com/posts/page/99/',\n",
       " 'https://techcabal.com/posts/page/100/',\n",
       " 'https://techcabal.com/posts/page/101/',\n",
       " 'https://techcabal.com/posts/page/102/',\n",
       " 'https://techcabal.com/posts/page/103/',\n",
       " 'https://techcabal.com/posts/page/104/',\n",
       " 'https://techcabal.com/posts/page/105/',\n",
       " 'https://techcabal.com/posts/page/106/',\n",
       " 'https://techcabal.com/posts/page/107/',\n",
       " 'https://techcabal.com/posts/page/108/',\n",
       " 'https://techcabal.com/posts/page/109/',\n",
       " 'https://techcabal.com/posts/page/110/',\n",
       " 'https://techcabal.com/posts/page/111/',\n",
       " 'https://techcabal.com/posts/page/112/',\n",
       " 'https://techcabal.com/posts/page/113/',\n",
       " 'https://techcabal.com/posts/page/114/',\n",
       " 'https://techcabal.com/posts/page/115/',\n",
       " 'https://techcabal.com/posts/page/116/',\n",
       " 'https://techcabal.com/posts/page/117/',\n",
       " 'https://techcabal.com/posts/page/118/',\n",
       " 'https://techcabal.com/posts/page/119/',\n",
       " 'https://techcabal.com/posts/page/120/',\n",
       " 'https://techcabal.com/posts/page/121/',\n",
       " 'https://techcabal.com/posts/page/122/',\n",
       " 'https://techcabal.com/posts/page/123/',\n",
       " 'https://techcabal.com/posts/page/124/',\n",
       " 'https://techcabal.com/posts/page/125/',\n",
       " 'https://techcabal.com/posts/page/126/',\n",
       " 'https://techcabal.com/posts/page/127/',\n",
       " 'https://techcabal.com/posts/page/128/',\n",
       " 'https://techcabal.com/posts/page/129/',\n",
       " 'https://techcabal.com/posts/page/130/',\n",
       " 'https://techcabal.com/posts/page/131/']"
      ]
     },
     "execution_count": 202,
     "metadata": {},
     "output_type": "execute_result"
    }
   ],
   "source": [
    "linkArr"
   ]
  },
  {
   "cell_type": "code",
   "execution_count": 139,
   "metadata": {
    "collapsed": true
   },
   "outputs": [],
   "source": [
    "def storeToCSV(dict, )\n",
    "with open('test2.csv', 'w', newline='') as csv_out:\n",
    "    writer = csv.DictWriter(csv_out, table[0].keys()) # because you have a list of dicts just pick the first to get the keys\n",
    "    writer.writeheader() # here it is where you write the header from the keys\n",
    "    for dict_ in table:\n",
    "        writer.writerow(dict_)"
   ]
  },
  {
   "cell_type": "code",
   "execution_count": null,
   "metadata": {
    "collapsed": true
   },
   "outputs": [],
   "source": []
  }
 ],
 "metadata": {
  "kernelspec": {
   "display_name": "Python 3",
   "language": "python",
   "name": "python3"
  },
  "language_info": {
   "codemirror_mode": {
    "name": "ipython",
    "version": 3
   },
   "file_extension": ".py",
   "mimetype": "text/x-python",
   "name": "python",
   "nbconvert_exporter": "python",
   "pygments_lexer": "ipython3",
   "version": "3.6.1"
  }
 },
 "nbformat": 4,
 "nbformat_minor": 2
}
