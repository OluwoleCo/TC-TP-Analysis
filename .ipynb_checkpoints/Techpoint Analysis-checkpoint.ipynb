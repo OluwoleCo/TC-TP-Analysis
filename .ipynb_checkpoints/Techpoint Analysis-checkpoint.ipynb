{
 "cells": [
  {
   "cell_type": "code",
   "execution_count": 475,
   "metadata": {},
   "outputs": [],
   "source": [
    "import pandas as pd\n",
    "import re\n",
    "import numpy as np\n",
    "import matplotlib.pyplot as plt\n",
    "import pygal \n",
    "from svglib.svglib import svg2rlg\n",
    "from reportlab.graphics import renderPDF, renderPM\n",
    "import os\n",
    "import cairosvg"
   ]
  },
  {
   "cell_type": "code",
   "execution_count": 429,
   "metadata": {
    "collapsed": true
   },
   "outputs": [],
   "source": [
    "df = pd.read_csv('cabal.csv', encoding = \"cp1252\")"
   ]
  },
  {
   "cell_type": "code",
   "execution_count": 491,
   "metadata": {},
   "outputs": [],
   "source": [
    "# df.tail()"
   ]
  },
  {
   "cell_type": "code",
   "execution_count": 105,
   "metadata": {},
   "outputs": [],
   "source": [
    "# df[df['headline'].str.lower().str.contains((\"seed funding|seed round|seed capital\"))]\n",
    "# df[df['headline'].str.lower().str.contains((\"(?x)usd | USD\"))]"
   ]
  },
  {
   "cell_type": "markdown",
   "metadata": {},
   "source": [
    "### All steps in a function"
   ]
  },
  {
   "cell_type": "code",
   "execution_count": 312,
   "metadata": {
    "collapsed": true
   },
   "outputs": [],
   "source": [
    "def stabilize(df):\n",
    "    df['date'] = pd.to_datetime(df['date'])\n",
    "    df['months'] = df['date'].apply(lambda x: x.strftime('%Y-%m')) \n",
    "    df['count'] = 1    "
   ]
  },
  {
   "cell_type": "code",
   "execution_count": 431,
   "metadata": {
    "collapsed": true
   },
   "outputs": [],
   "source": [
    "stabilize(df)"
   ]
  },
  {
   "cell_type": "code",
   "execution_count": 432,
   "metadata": {
    "collapsed": true
   },
   "outputs": [],
   "source": [
    "funding = df[df['headline'].str.lower().str.contains('raises|raised|raising|secures|closes|secured|closed')]\n",
    "acquisition = df[df['headline'].str.lower().str.contains((\"acquiring|acquired|acquiring|acquires\"))]"
   ]
  },
  {
   "cell_type": "code",
   "execution_count": 335,
   "metadata": {},
   "outputs": [
    {
     "data": {
      "image/svg+xml": [
       "<?xml version='1.0' encoding='utf-8'?>\n",
       "<svg xmlns:xlink=\"http://www.w3.org/1999/xlink\" class=\"pygal-chart\" id=\"chart-94052b83-565c-4ca1-8cdb-6cb13d47799b\" viewBox=\"0 0 800 600\" xmlns=\"http://www.w3.org/2000/svg\"><!--Generated with pygal 2.4.0 (etree) Â©Kozea 2012-2016 on 2018-08-24--><!--http://pygal.org--><!--http://github.com/Kozea/pygal--><defs><style type=\"text/css\">#chart-94052b83-565c-4ca1-8cdb-6cb13d47799b{-webkit-user-select:none;-webkit-font-smoothing:antialiased;font-family:Consolas,\"Liberation Mono\",Menlo,Courier,monospace}#chart-94052b83-565c-4ca1-8cdb-6cb13d47799b .title{font-family:Consolas,\"Liberation Mono\",Menlo,Courier,monospace;font-size:16px}#chart-94052b83-565c-4ca1-8cdb-6cb13d47799b .legends .legend text{font-family:Consolas,\"Liberation Mono\",Menlo,Courier,monospace;font-size:14px}#chart-94052b83-565c-4ca1-8cdb-6cb13d47799b .axis text{font-family:Consolas,\"Liberation Mono\",Menlo,Courier,monospace;font-size:10px}#chart-94052b83-565c-4ca1-8cdb-6cb13d47799b .axis text.major{font-family:Consolas,\"Liberation Mono\",Menlo,Courier,monospace;font-size:10px}#chart-94052b83-565c-4ca1-8cdb-6cb13d47799b .text-overlay text.value{font-family:Consolas,\"Liberation Mono\",Menlo,Courier,monospace;font-size:16px}#chart-94052b83-565c-4ca1-8cdb-6cb13d47799b .text-overlay text.label{font-family:Consolas,\"Liberation Mono\",Menlo,Courier,monospace;font-size:10px}#chart-94052b83-565c-4ca1-8cdb-6cb13d47799b .tooltip{font-family:Consolas,\"Liberation Mono\",Menlo,Courier,monospace;font-size:14px}#chart-94052b83-565c-4ca1-8cdb-6cb13d47799b text.no_data{font-family:Consolas,\"Liberation Mono\",Menlo,Courier,monospace;font-size:64px}\n",
       "#chart-94052b83-565c-4ca1-8cdb-6cb13d47799b{background-color:rgba(249,249,249,1)}#chart-94052b83-565c-4ca1-8cdb-6cb13d47799b path,#chart-94052b83-565c-4ca1-8cdb-6cb13d47799b line,#chart-94052b83-565c-4ca1-8cdb-6cb13d47799b rect,#chart-94052b83-565c-4ca1-8cdb-6cb13d47799b circle{-webkit-transition:150ms;-moz-transition:150ms;transition:150ms}#chart-94052b83-565c-4ca1-8cdb-6cb13d47799b .graph &gt; .background{fill:rgba(249,249,249,1)}#chart-94052b83-565c-4ca1-8cdb-6cb13d47799b .plot &gt; .background{fill:rgba(255,255,255,1)}#chart-94052b83-565c-4ca1-8cdb-6cb13d47799b .graph{fill:rgba(0,0,0,.87)}#chart-94052b83-565c-4ca1-8cdb-6cb13d47799b text.no_data{fill:rgba(0,0,0,1)}#chart-94052b83-565c-4ca1-8cdb-6cb13d47799b .title{fill:rgba(0,0,0,1)}#chart-94052b83-565c-4ca1-8cdb-6cb13d47799b .legends .legend text{fill:rgba(0,0,0,.87)}#chart-94052b83-565c-4ca1-8cdb-6cb13d47799b .legends .legend:hover text{fill:rgba(0,0,0,1)}#chart-94052b83-565c-4ca1-8cdb-6cb13d47799b .axis .line{stroke:rgba(0,0,0,1)}#chart-94052b83-565c-4ca1-8cdb-6cb13d47799b .axis .guide.line{stroke:rgba(0,0,0,.54)}#chart-94052b83-565c-4ca1-8cdb-6cb13d47799b .axis .major.line{stroke:rgba(0,0,0,.87)}#chart-94052b83-565c-4ca1-8cdb-6cb13d47799b .axis text.major{fill:rgba(0,0,0,1)}#chart-94052b83-565c-4ca1-8cdb-6cb13d47799b .axis.y .guides:hover .guide.line,#chart-94052b83-565c-4ca1-8cdb-6cb13d47799b .line-graph .axis.x .guides:hover .guide.line,#chart-94052b83-565c-4ca1-8cdb-6cb13d47799b .stackedline-graph .axis.x .guides:hover .guide.line,#chart-94052b83-565c-4ca1-8cdb-6cb13d47799b .xy-graph .axis.x .guides:hover .guide.line{stroke:rgba(0,0,0,1)}#chart-94052b83-565c-4ca1-8cdb-6cb13d47799b .axis .guides:hover text{fill:rgba(0,0,0,1)}#chart-94052b83-565c-4ca1-8cdb-6cb13d47799b .reactive{fill-opacity:.7;stroke-opacity:.8}#chart-94052b83-565c-4ca1-8cdb-6cb13d47799b .ci{stroke:rgba(0,0,0,.87)}#chart-94052b83-565c-4ca1-8cdb-6cb13d47799b .reactive.active,#chart-94052b83-565c-4ca1-8cdb-6cb13d47799b .active .reactive{fill-opacity:.8;stroke-opacity:.9;stroke-width:4}#chart-94052b83-565c-4ca1-8cdb-6cb13d47799b .ci .reactive.active{stroke-width:1.5}#chart-94052b83-565c-4ca1-8cdb-6cb13d47799b .series text{fill:rgba(0,0,0,1)}#chart-94052b83-565c-4ca1-8cdb-6cb13d47799b .tooltip rect{fill:rgba(255,255,255,1);stroke:rgba(0,0,0,1);-webkit-transition:opacity 150ms;-moz-transition:opacity 150ms;transition:opacity 150ms}#chart-94052b83-565c-4ca1-8cdb-6cb13d47799b .tooltip .label{fill:rgba(0,0,0,.87)}#chart-94052b83-565c-4ca1-8cdb-6cb13d47799b .tooltip .label{fill:rgba(0,0,0,.87)}#chart-94052b83-565c-4ca1-8cdb-6cb13d47799b .tooltip .legend{font-size:.8em;fill:rgba(0,0,0,.54)}#chart-94052b83-565c-4ca1-8cdb-6cb13d47799b .tooltip .x_label{font-size:.6em;fill:rgba(0,0,0,1)}#chart-94052b83-565c-4ca1-8cdb-6cb13d47799b .tooltip .xlink{font-size:.5em;text-decoration:underline}#chart-94052b83-565c-4ca1-8cdb-6cb13d47799b .tooltip .value{font-size:1.5em}#chart-94052b83-565c-4ca1-8cdb-6cb13d47799b .bound{font-size:.5em}#chart-94052b83-565c-4ca1-8cdb-6cb13d47799b .max-value{font-size:.75em;fill:rgba(0,0,0,.54)}#chart-94052b83-565c-4ca1-8cdb-6cb13d47799b .map-element{fill:rgba(255,255,255,1);stroke:rgba(0,0,0,.54) !important}#chart-94052b83-565c-4ca1-8cdb-6cb13d47799b .map-element .reactive{fill-opacity:inherit;stroke-opacity:inherit}#chart-94052b83-565c-4ca1-8cdb-6cb13d47799b .color-0,#chart-94052b83-565c-4ca1-8cdb-6cb13d47799b .color-0 a:visited{stroke:#F44336;fill:#F44336}#chart-94052b83-565c-4ca1-8cdb-6cb13d47799b .text-overlay .color-0 text{fill:black}\n",
       "#chart-94052b83-565c-4ca1-8cdb-6cb13d47799b text.no_data{text-anchor:middle}#chart-94052b83-565c-4ca1-8cdb-6cb13d47799b .guide.line{fill:none}#chart-94052b83-565c-4ca1-8cdb-6cb13d47799b .centered{text-anchor:middle}#chart-94052b83-565c-4ca1-8cdb-6cb13d47799b .title{text-anchor:middle}#chart-94052b83-565c-4ca1-8cdb-6cb13d47799b .legends .legend text{fill-opacity:1}#chart-94052b83-565c-4ca1-8cdb-6cb13d47799b .axis.x text{text-anchor:middle}#chart-94052b83-565c-4ca1-8cdb-6cb13d47799b .axis.x:not(.web) text[transform]{text-anchor:start}#chart-94052b83-565c-4ca1-8cdb-6cb13d47799b .axis.x:not(.web) text[transform].backwards{text-anchor:end}#chart-94052b83-565c-4ca1-8cdb-6cb13d47799b .axis.y text{text-anchor:end}#chart-94052b83-565c-4ca1-8cdb-6cb13d47799b .axis.y text[transform].backwards{text-anchor:start}#chart-94052b83-565c-4ca1-8cdb-6cb13d47799b .axis.y2 text{text-anchor:start}#chart-94052b83-565c-4ca1-8cdb-6cb13d47799b .axis.y2 text[transform].backwards{text-anchor:end}#chart-94052b83-565c-4ca1-8cdb-6cb13d47799b .axis .guide.line{stroke-dasharray:4,4}#chart-94052b83-565c-4ca1-8cdb-6cb13d47799b .axis .major.guide.line{stroke-dasharray:6,6}#chart-94052b83-565c-4ca1-8cdb-6cb13d47799b .horizontal .axis.y .guide.line,#chart-94052b83-565c-4ca1-8cdb-6cb13d47799b .horizontal .axis.y2 .guide.line,#chart-94052b83-565c-4ca1-8cdb-6cb13d47799b .vertical .axis.x .guide.line{opacity:0}#chart-94052b83-565c-4ca1-8cdb-6cb13d47799b .horizontal .axis.always_show .guide.line,#chart-94052b83-565c-4ca1-8cdb-6cb13d47799b .vertical .axis.always_show .guide.line{opacity:1 !important}#chart-94052b83-565c-4ca1-8cdb-6cb13d47799b .axis.y .guides:hover .guide.line,#chart-94052b83-565c-4ca1-8cdb-6cb13d47799b .axis.y2 .guides:hover .guide.line,#chart-94052b83-565c-4ca1-8cdb-6cb13d47799b .axis.x .guides:hover .guide.line{opacity:1}#chart-94052b83-565c-4ca1-8cdb-6cb13d47799b .axis .guides:hover text{opacity:1}#chart-94052b83-565c-4ca1-8cdb-6cb13d47799b .nofill{fill:none}#chart-94052b83-565c-4ca1-8cdb-6cb13d47799b .subtle-fill{fill-opacity:.2}#chart-94052b83-565c-4ca1-8cdb-6cb13d47799b .dot{stroke-width:1px;fill-opacity:1}#chart-94052b83-565c-4ca1-8cdb-6cb13d47799b .dot.active{stroke-width:5px}#chart-94052b83-565c-4ca1-8cdb-6cb13d47799b .dot.negative{fill:transparent}#chart-94052b83-565c-4ca1-8cdb-6cb13d47799b text,#chart-94052b83-565c-4ca1-8cdb-6cb13d47799b tspan{stroke:none !important}#chart-94052b83-565c-4ca1-8cdb-6cb13d47799b .series text.active{opacity:1}#chart-94052b83-565c-4ca1-8cdb-6cb13d47799b .tooltip rect{fill-opacity:.95;stroke-width:.5}#chart-94052b83-565c-4ca1-8cdb-6cb13d47799b .tooltip text{fill-opacity:1}#chart-94052b83-565c-4ca1-8cdb-6cb13d47799b .showable{visibility:hidden}#chart-94052b83-565c-4ca1-8cdb-6cb13d47799b .showable.shown{visibility:visible}#chart-94052b83-565c-4ca1-8cdb-6cb13d47799b .gauge-background{fill:rgba(229,229,229,1);stroke:none}#chart-94052b83-565c-4ca1-8cdb-6cb13d47799b .bg-lines{stroke:rgba(249,249,249,1);stroke-width:2px}</style><script type=\"text/javascript\">window.pygal = window.pygal || {};window.pygal.config = window.pygal.config || {};window.pygal.config['94052b83-565c-4ca1-8cdb-6cb13d47799b'] = {\"allow_interruptions\": false, \"box_mode\": \"extremes\", \"classes\": [\"pygal-chart\"], \"css\": [\"file://style.css\", \"file://graph.css\"], \"defs\": [], \"disable_xml_declaration\": false, \"dots_size\": 2.5, \"dynamic_print_values\": false, \"explicit_size\": false, \"fill\": false, \"force_uri_protocol\": \"https\", \"formatter\": null, \"half_pie\": false, \"height\": 600, \"include_x_axis\": false, \"inner_radius\": 0, \"interpolate\": null, \"interpolation_parameters\": {}, \"interpolation_precision\": 250, \"inverse_y_axis\": false, \"js\": [\"//kozea.github.io/pygal.js/2.0.x/pygal-tooltips.min.js\"], \"legend_at_bottom\": false, \"legend_at_bottom_columns\": null, \"legend_box_size\": 12, \"logarithmic\": false, \"margin\": 20, \"margin_bottom\": null, \"margin_left\": null, \"margin_right\": null, \"margin_top\": null, \"max_scale\": 16, \"min_scale\": 4, \"missing_value_fill_truncation\": \"x\", \"no_data_text\": \"No data\", \"no_prefix\": false, \"order_min\": null, \"pretty_print\": false, \"print_labels\": false, \"print_values\": false, \"print_values_position\": \"center\", \"print_zeroes\": true, \"range\": null, \"rounded_bars\": null, \"secondary_range\": null, \"show_dots\": true, \"show_legend\": true, \"show_minor_x_labels\": false, \"show_minor_y_labels\": true, \"show_only_major_dots\": false, \"show_x_guides\": false, \"show_x_labels\": true, \"show_y_guides\": true, \"show_y_labels\": true, \"spacing\": 10, \"stack_from_top\": false, \"strict\": false, \"stroke\": true, \"stroke_style\": null, \"style\": {\"background\": \"rgba(249, 249, 249, 1)\", \"ci_colors\": [], \"colors\": [\"#F44336\", \"#3F51B5\", \"#009688\", \"#FFC107\", \"#FF5722\", \"#9C27B0\", \"#03A9F4\", \"#8BC34A\", \"#FF9800\", \"#E91E63\", \"#2196F3\", \"#4CAF50\", \"#FFEB3B\", \"#673AB7\", \"#00BCD4\", \"#CDDC39\", \"#9E9E9E\", \"#607D8B\"], \"font_family\": \"Consolas, \\\"Liberation Mono\\\", Menlo, Courier, monospace\", \"foreground\": \"rgba(0, 0, 0, .87)\", \"foreground_strong\": \"rgba(0, 0, 0, 1)\", \"foreground_subtle\": \"rgba(0, 0, 0, .54)\", \"guide_stroke_dasharray\": \"4,4\", \"label_font_family\": \"Consolas, \\\"Liberation Mono\\\", Menlo, Courier, monospace\", \"label_font_size\": 10, \"legend_font_family\": \"Consolas, \\\"Liberation Mono\\\", Menlo, Courier, monospace\", \"legend_font_size\": 14, \"major_guide_stroke_dasharray\": \"6,6\", \"major_label_font_family\": \"Consolas, \\\"Liberation Mono\\\", Menlo, Courier, monospace\", \"major_label_font_size\": 10, \"no_data_font_family\": \"Consolas, \\\"Liberation Mono\\\", Menlo, Courier, monospace\", \"no_data_font_size\": 64, \"opacity\": \".7\", \"opacity_hover\": \".8\", \"plot_background\": \"rgba(255, 255, 255, 1)\", \"stroke_opacity\": \".8\", \"stroke_opacity_hover\": \".9\", \"title_font_family\": \"Consolas, \\\"Liberation Mono\\\", Menlo, Courier, monospace\", \"title_font_size\": 16, \"tooltip_font_family\": \"Consolas, \\\"Liberation Mono\\\", Menlo, Courier, monospace\", \"tooltip_font_size\": 14, \"transition\": \"150ms\", \"value_background\": \"rgba(229, 229, 229, 1)\", \"value_colors\": [], \"value_font_family\": \"Consolas, \\\"Liberation Mono\\\", Menlo, Courier, monospace\", \"value_font_size\": 16, \"value_label_font_family\": \"Consolas, \\\"Liberation Mono\\\", Menlo, Courier, monospace\", \"value_label_font_size\": 10}, \"title\": \"title\", \"tooltip_border_radius\": 0, \"tooltip_fancy_mode\": true, \"truncate_label\": null, \"truncate_legend\": null, \"width\": 800, \"x_label_rotation\": 20, \"x_labels\": [\"2013-03\", \"2013-04\", \"2013-05\", \"2013-06\", \"2013-07\", \"2013-08\", \"2013-09\", \"2013-10\", \"2013-11\", \"2013-12\", \"2014-01\", \"2014-02\", \"2014-03\", \"2014-04\", \"2014-05\", \"2014-06\", \"2014-07\", \"2014-08\", \"2014-09\", \"2014-10\", \"2014-11\", \"2014-12\", \"2015-01\", \"2015-02\", \"2015-03\", \"2015-04\", \"2015-05\", \"2015-06\", \"2015-07\", \"2015-08\", \"2015-09\", \"2015-10\", \"2015-11\", \"2015-12\", \"2016-01\", \"2016-02\", \"2016-03\", \"2016-04\", \"2016-05\", \"2016-06\", \"2016-07\", \"2016-08\", \"2016-09\", \"2016-10\", \"2016-11\", \"2016-12\", \"2017-01\", \"2017-02\", \"2017-03\", \"2017-04\", \"2017-05\", \"2017-06\", \"2017-07\", \"2017-08\", \"2017-09\", \"2017-10\", \"2017-11\", \"2017-12\", \"2018-01\", \"2018-02\", \"2018-03\", \"2018-04\", \"2018-05\", \"2018-06\", \"2018-07\", \"2018-08\"], \"x_labels_major\": [\"2013-03\", \"2014-01\", \"2014-11\", \"2015-09\", \"2016-07\", \"2017-05\", \"2017-12\", \"2018-08\"], \"x_labels_major_count\": null, \"x_labels_major_every\": null, \"x_title\": null, \"xrange\": null, \"y_label_rotation\": 0, \"y_labels\": null, \"y_labels_major\": null, \"y_labels_major_count\": null, \"y_labels_major_every\": null, \"y_title\": null, \"zero\": 0, \"legends\": [\"\"]}</script><script type=\"text/javascript\" xlink:href=\"https://kozea.github.io/pygal.js/2.0.x/pygal-tooltips.min.js\" /></defs><title>title</title><g class=\"graph line-graph vertical\"><rect class=\"background\" height=\"600\" width=\"800\" x=\"0\" y=\"0\" /><g class=\"plot\" transform=\"translate(70, 46)\"><rect class=\"background\" height=\"509.6351539803219\" width=\"690.5329099269918\" x=\"0\" y=\"0\" /><g class=\"axis y always_show\"><path class=\"line\" d=\"M0.000000 509.635154 h690.532910\" /><g class=\"guides\"><path class=\"guide line\" d=\"M0.000000 460.549068 h690.532910\" /><text class=\"\" x=\"-5\" y=\"464.049067663\">20</text><title>20</title></g><g class=\"guides\"><path class=\"guide line\" d=\"M0.000000 419.196004 h690.532910\" /><text class=\"\" x=\"-5\" y=\"422.696004211\">40</text><title>40</title></g><g class=\"guides\"><path class=\"guide line\" d=\"M0.000000 377.842941 h690.532910\" /><text class=\"\" x=\"-5\" y=\"381.342940759\">60</text><title>60</title></g><g class=\"guides\"><path class=\"guide line\" d=\"M0.000000 336.489877 h690.532910\" /><text class=\"\" x=\"-5\" y=\"339.989877308\">80</text><title>80</title></g><g class=\"guides\"><path class=\"major guide line\" d=\"M0.000000 295.136814 h690.532910\" /><text class=\"major\" x=\"-5\" y=\"298.636813856\">100</text><title>100</title></g><g class=\"guides\"><path class=\"guide line\" d=\"M0.000000 253.783750 h690.532910\" /><text class=\"\" x=\"-5\" y=\"257.283750404\">120</text><title>120</title></g><g class=\"guides\"><path class=\"guide line\" d=\"M0.000000 212.430687 h690.532910\" /><text class=\"\" x=\"-5\" y=\"215.930686952\">140</text><title>140</title></g><g class=\"guides\"><path class=\"guide line\" d=\"M0.000000 171.077624 h690.532910\" /><text class=\"\" x=\"-5\" y=\"174.5776235\">160</text><title>160</title></g><g class=\"guides\"><path class=\"guide line\" d=\"M0.000000 129.724560 h690.532910\" /><text class=\"\" x=\"-5\" y=\"133.224560048\">180</text><title>180</title></g><g class=\"guides\"><path class=\"major guide line\" d=\"M0.000000 88.371497 h690.532910\" /><text class=\"major\" x=\"-5\" y=\"91.8714965966\">200</text><title>200</title></g><g class=\"guides\"><path class=\"guide line\" d=\"M0.000000 47.018433 h690.532910\" /><text class=\"\" x=\"-5\" y=\"50.5184331447\">220</text><title>220</title></g></g><g class=\"axis x\"><g class=\"guides\"><path class=\"major line\" d=\"M13.279479 0.000000 v509.635154\" /><text class=\"major\" transform=\"rotate(20 13.279479 524.635154)\" x=\"13.279479037057536\" y=\"524.6351539803219\">2013-03</text></g><g class=\"guides\"><path class=\"major guide line\" d=\"M115.429318 0.000000 v509.635154\" /><text class=\"major\" transform=\"rotate(20 115.429318 524.635154)\" x=\"115.42931778365396\" y=\"524.6351539803219\">2014-01</text></g><g class=\"guides\"><path class=\"major guide line\" d=\"M217.579157 0.000000 v509.635154\" /><text class=\"major\" transform=\"rotate(20 217.579157 524.635154)\" x=\"217.5791565302504\" y=\"524.6351539803219\">2014-11</text></g><g class=\"guides\"><path class=\"major guide line\" d=\"M319.728995 0.000000 v509.635154\" /><text class=\"major\" transform=\"rotate(20 319.728995 524.635154)\" x=\"319.72899527684683\" y=\"524.6351539803219\">2015-09</text></g><g class=\"guides\"><path class=\"major guide line\" d=\"M421.878834 0.000000 v509.635154\" /><text class=\"major\" transform=\"rotate(20 421.878834 524.635154)\" x=\"421.87883402344323\" y=\"524.6351539803219\">2016-07</text></g><g class=\"guides\"><path class=\"major guide line\" d=\"M524.028673 0.000000 v509.635154\" /><text class=\"major\" transform=\"rotate(20 524.028673 524.635154)\" x=\"524.0286727700396\" y=\"524.6351539803219\">2017-05</text></g><g class=\"guides\"><path class=\"major guide line\" d=\"M595.533560 0.000000 v509.635154\" /><text class=\"major\" transform=\"rotate(20 595.533560 524.635154)\" x=\"595.5335598926571\" y=\"524.6351539803219\">2017-12</text></g><g class=\"guides\"><path class=\"major guide line\" d=\"M677.253431 0.000000 v509.635154\" /><text class=\"major\" transform=\"rotate(20 677.253431 524.635154)\" x=\"677.2534308899343\" y=\"524.6351539803219\">2018-08</text></g></g><g class=\"series serie-0 color-0\"><path class=\"line reactive nofill\" d=\"M13.279479 499.834478 L23.494463 454.346108 33.709447 431.601923 43.924431 444.007842 54.139415 423.331311 64.354398 429.534270 74.569382 437.804883 84.784366 431.601923 94.999350 446.075495 105.214334 431.601923 115.429318 408.857738 125.644302 415.060698 135.859286 303.407427 146.074269 237.242525 156.289253 197.957115 166.504237 251.716097 176.719221 309.610386 186.934205 404.722432 197.149189 392.316513 207.364173 326.151611 217.579157 371.639981 227.794140 448.143149 238.009124 131.792213 248.224108 26.341901 258.439092 11.868329 268.654076 73.897924 278.869060 162.807011 289.084044 63.559659 299.299028 9.800676 309.514011 123.521601 319.728995 115.250988 329.943979 92.506803 340.158963 36.680167 350.373947 220.701300 360.588931 286.866201 370.803915 268.257323 381.018899 270.324976 391.233882 280.663242 401.448866 346.828143 411.663850 313.745692 421.878834 342.692837 432.093818 262.054363 442.308802 311.678039 452.523786 315.813346 462.738770 249.648444 472.953753 423.331311 483.168737 464.684374 493.383721 429.534270 503.598705 381.978247 513.813689 419.196004 524.028673 444.007842 534.243657 452.278455 544.458641 452.278455 554.673624 433.669576 564.888608 450.210802 575.103592 477.090293 585.318576 481.225599 595.533560 483.293253 605.748544 497.766825 615.963528 495.699172 626.178512 477.090293 636.393495 477.090293 646.608479 450.210802 656.823463 448.143149 667.038447 381.978247 677.253431 475.022640\" /></g></g><g class=\"titles\"><text class=\"title plot_title\" x=\"400.0\" y=\"26\">title</text></g><g class=\"plot overlay\" transform=\"translate(70, 46)\"><g class=\"series serie-0 color-0\"><g class=\"dots\"><circle class=\"dot reactive tooltip-trigger\" cx=\"13.279479037057536\" cy=\"499.834477942\" r=\"2.5\" /><desc class=\"value\">1</desc><desc class=\"x top\">13.279479037057536</desc><desc class=\"y top\">499.834477942</desc><desc class=\"x_label\">2013-03</desc></g><g class=\"dots\"><circle class=\"dot reactive tooltip-trigger\" cx=\"23.49446291171718\" cy=\"454.346108145\" r=\"2.5\" /><desc class=\"value\">23</desc><desc class=\"x top\">23.49446291171718</desc><desc class=\"y top\">454.346108145</desc><desc class=\"x_label\">2013-04</desc></g><g class=\"dots\"><circle class=\"dot reactive tooltip-trigger\" cx=\"33.70944678637682\" cy=\"431.601923247\" r=\"2.5\" /><desc class=\"value\">34</desc><desc class=\"x top\">33.70944678637682</desc><desc class=\"y top\">431.601923247</desc><desc class=\"x_label\">2013-05</desc></g><g class=\"dots\"><circle class=\"dot reactive tooltip-trigger\" cx=\"43.92443066103647\" cy=\"444.007842282\" r=\"2.5\" /><desc class=\"value\">28</desc><desc class=\"x top\">43.92443066103647</desc><desc class=\"y top\">444.007842282</desc><desc class=\"x_label\">2013-06</desc></g><g class=\"dots\"><circle class=\"dot reactive tooltip-trigger\" cx=\"54.139414535696105\" cy=\"423.331310556\" r=\"2.5\" /><desc class=\"value\">38</desc><desc class=\"x top\">54.139414535696105</desc><desc class=\"y top\">423.331310556</desc><desc class=\"x_label\">2013-07</desc></g><g class=\"dots\"><circle class=\"dot reactive tooltip-trigger\" cx=\"64.35439841035574\" cy=\"429.534270074\" r=\"2.5\" /><desc class=\"value\">35</desc><desc class=\"x top\">64.35439841035574</desc><desc class=\"y top\">429.534270074</desc><desc class=\"x_label\">2013-08</desc></g><g class=\"dots\"><circle class=\"dot reactive tooltip-trigger\" cx=\"74.5693822850154\" cy=\"437.804882764\" r=\"2.5\" /><desc class=\"value\">31</desc><desc class=\"x top\">74.5693822850154</desc><desc class=\"y top\">437.804882764</desc><desc class=\"x_label\">2013-09</desc></g><g class=\"dots\"><circle class=\"dot reactive tooltip-trigger\" cx=\"84.78436615967502\" cy=\"431.601923247\" r=\"2.5\" /><desc class=\"value\">34</desc><desc class=\"x top\">84.78436615967502</desc><desc class=\"y top\">431.601923247</desc><desc class=\"x_label\">2013-10</desc></g><g class=\"dots\"><circle class=\"dot reactive tooltip-trigger\" cx=\"94.99935003433467\" cy=\"446.075495455\" r=\"2.5\" /><desc class=\"value\">27</desc><desc class=\"x top\">94.99935003433467</desc><desc class=\"y top\">446.075495455</desc><desc class=\"x_label\">2013-11</desc></g><g class=\"dots\"><circle class=\"dot reactive tooltip-trigger\" cx=\"105.2143339089943\" cy=\"431.601923247\" r=\"2.5\" /><desc class=\"value\">34</desc><desc class=\"x top\">105.2143339089943</desc><desc class=\"y top\">431.601923247</desc><desc class=\"x_label\">2013-12</desc></g><g class=\"dots\"><circle class=\"dot reactive tooltip-trigger\" cx=\"115.42931778365396\" cy=\"408.857738348\" r=\"2.5\" /><desc class=\"value\">45</desc><desc class=\"x top\">115.42931778365396</desc><desc class=\"y top\">408.857738348</desc><desc class=\"x_label\">2014-01</desc></g><g class=\"dots\"><circle class=\"dot reactive tooltip-trigger\" cx=\"125.64430165831358\" cy=\"415.060697866\" r=\"2.5\" /><desc class=\"value\">42</desc><desc class=\"x top\">125.64430165831358</desc><desc class=\"y top\">415.060697866</desc><desc class=\"x_label\">2014-02</desc></g><g class=\"dots\"><circle class=\"dot reactive tooltip-trigger\" cx=\"135.85928553297325\" cy=\"303.407426546\" r=\"2.5\" /><desc class=\"value\">96</desc><desc class=\"x top\">135.85928553297325</desc><desc class=\"y top\">303.407426546</desc><desc class=\"x_label\">2014-03</desc></g><g class=\"dots\"><circle class=\"dot reactive tooltip-trigger\" cx=\"146.07426940763287\" cy=\"237.242525023\" r=\"2.5\" /><desc class=\"value\">128</desc><desc class=\"x \">146.07426940763287</desc><desc class=\"y \">237.242525023</desc><desc class=\"x_label\">2014-04</desc></g><g class=\"dots\"><circle class=\"dot reactive tooltip-trigger\" cx=\"156.28925328229252\" cy=\"197.957114744\" r=\"2.5\" /><desc class=\"value\">147</desc><desc class=\"x \">156.28925328229252</desc><desc class=\"y \">197.957114744</desc><desc class=\"x_label\">2014-05</desc></g><g class=\"dots\"><circle class=\"dot reactive tooltip-trigger\" cx=\"166.50423715695217\" cy=\"251.716097231\" r=\"2.5\" /><desc class=\"value\">121</desc><desc class=\"x \">166.50423715695217</desc><desc class=\"y \">251.716097231</desc><desc class=\"x_label\">2014-06</desc></g><g class=\"dots\"><circle class=\"dot reactive tooltip-trigger\" cx=\"176.71922103161182\" cy=\"309.610386064\" r=\"2.5\" /><desc class=\"value\">93</desc><desc class=\"x top\">176.71922103161182</desc><desc class=\"y top\">309.610386064</desc><desc class=\"x_label\">2014-07</desc></g><g class=\"dots\"><circle class=\"dot reactive tooltip-trigger\" cx=\"186.93420490627148\" cy=\"404.722432003\" r=\"2.5\" /><desc class=\"value\">47</desc><desc class=\"x top\">186.93420490627148</desc><desc class=\"y top\">404.722432003</desc><desc class=\"x_label\">2014-08</desc></g><g class=\"dots\"><circle class=\"dot reactive tooltip-trigger\" cx=\"197.1491887809311\" cy=\"392.316512967\" r=\"2.5\" /><desc class=\"value\">53</desc><desc class=\"x top\">197.1491887809311</desc><desc class=\"y top\">392.316512967</desc><desc class=\"x_label\">2014-09</desc></g><g class=\"dots\"><circle class=\"dot reactive tooltip-trigger\" cx=\"207.36417265559075\" cy=\"326.151611445\" r=\"2.5\" /><desc class=\"value\">85</desc><desc class=\"x top\">207.36417265559075</desc><desc class=\"y top\">326.151611445</desc><desc class=\"x_label\">2014-10</desc></g><g class=\"dots\"><circle class=\"dot reactive tooltip-trigger\" cx=\"217.5791565302504\" cy=\"371.639981242\" r=\"2.5\" /><desc class=\"value\">63</desc><desc class=\"x top\">217.5791565302504</desc><desc class=\"y top\">371.639981242</desc><desc class=\"x_label\">2014-11</desc></g><g class=\"dots\"><circle class=\"dot reactive tooltip-trigger\" cx=\"227.79414040491002\" cy=\"448.143148627\" r=\"2.5\" /><desc class=\"value\">26</desc><desc class=\"x top\">227.79414040491002</desc><desc class=\"y top\">448.143148627</desc><desc class=\"x_label\">2014-12</desc></g><g class=\"dots\"><circle class=\"dot reactive tooltip-trigger\" cx=\"238.00912427956968\" cy=\"131.792213221\" r=\"2.5\" /><desc class=\"value\">179</desc><desc class=\"x \">238.00912427956968</desc><desc class=\"y \">131.792213221</desc><desc class=\"x_label\">2015-01</desc></g><g class=\"dots\"><circle class=\"dot reactive tooltip-trigger\" cx=\"248.22410815422933\" cy=\"26.3419014188\" r=\"2.5\" /><desc class=\"value\">230</desc><desc class=\"x \">248.22410815422933</desc><desc class=\"y \">26.3419014188</desc><desc class=\"x_label\">2015-02</desc></g><g class=\"dots\"><circle class=\"dot reactive tooltip-trigger\" cx=\"258.4390920288889\" cy=\"11.8683292107\" r=\"2.5\" /><desc class=\"value\">237</desc><desc class=\"x \">258.4390920288889</desc><desc class=\"y \">11.8683292107</desc><desc class=\"x_label\">2015-03</desc></g><g class=\"dots\"><circle class=\"dot reactive tooltip-trigger\" cx=\"268.6540759035486\" cy=\"73.8979243884\" r=\"2.5\" /><desc class=\"value\">207</desc><desc class=\"x \">268.6540759035486</desc><desc class=\"y \">73.8979243884</desc><desc class=\"x_label\">2015-04</desc></g><g class=\"dots\"><circle class=\"dot reactive tooltip-trigger\" cx=\"278.8690597782083\" cy=\"162.80701081\" r=\"2.5\" /><desc class=\"value\">164</desc><desc class=\"x \">278.8690597782083</desc><desc class=\"y \">162.80701081</desc><desc class=\"x_label\">2015-05</desc></g><g class=\"dots\"><circle class=\"dot reactive tooltip-trigger\" cx=\"289.08404365286793\" cy=\"63.5596585255\" r=\"2.5\" /><desc class=\"value\">212</desc><desc class=\"x \">289.08404365286793</desc><desc class=\"y \">63.5596585255</desc><desc class=\"x_label\">2015-06</desc></g><g class=\"dots\"><circle class=\"dot reactive tooltip-trigger\" cx=\"299.2990275275275\" cy=\"9.80067603808\" r=\"2.5\" /><desc class=\"value\">238</desc><desc class=\"x \">299.2990275275275</desc><desc class=\"y \">9.80067603808</desc><desc class=\"x_label\">2015-07</desc></g><g class=\"dots\"><circle class=\"dot reactive tooltip-trigger\" cx=\"309.5140114021872\" cy=\"123.521600531\" r=\"2.5\" /><desc class=\"value\">183</desc><desc class=\"x \">309.5140114021872</desc><desc class=\"y \">123.521600531</desc><desc class=\"x_label\">2015-08</desc></g><g class=\"dots\"><circle class=\"dot reactive tooltip-trigger\" cx=\"319.72899527684683\" cy=\"115.25098784\" r=\"2.5\" /><desc class=\"value\">187</desc><desc class=\"x \">319.72899527684683</desc><desc class=\"y \">115.25098784</desc><desc class=\"x_label\">2015-09</desc></g><g class=\"dots\"><circle class=\"dot reactive tooltip-trigger\" cx=\"329.9439791515064\" cy=\"92.5068029417\" r=\"2.5\" /><desc class=\"value\">198</desc><desc class=\"x \">329.9439791515064</desc><desc class=\"y \">92.5068029417</desc><desc class=\"x_label\">2015-10</desc></g><g class=\"dots\"><circle class=\"dot reactive tooltip-trigger\" cx=\"340.1589630261661\" cy=\"36.6801672818\" r=\"2.5\" /><desc class=\"value\">225</desc><desc class=\"x \">340.1589630261661</desc><desc class=\"y \">36.6801672818</desc><desc class=\"x_label\">2015-11</desc></g><g class=\"dots\"><circle class=\"dot reactive tooltip-trigger\" cx=\"350.3739469008257\" cy=\"220.701299642\" r=\"2.5\" /><desc class=\"value\">136</desc><desc class=\"x left\">350.3739469008257</desc><desc class=\"y left\">220.701299642</desc><desc class=\"x_label\">2015-12</desc></g><g class=\"dots\"><circle class=\"dot reactive tooltip-trigger\" cx=\"360.58893077548544\" cy=\"286.866201165\" r=\"2.5\" /><desc class=\"value\">104</desc><desc class=\"x left top\">360.58893077548544</desc><desc class=\"y left top\">286.866201165</desc><desc class=\"x_label\">2016-01</desc></g><g class=\"dots\"><circle class=\"dot reactive tooltip-trigger\" cx=\"370.80391465014503\" cy=\"268.257322612\" r=\"2.5\" /><desc class=\"value\">113</desc><desc class=\"x left top\">370.80391465014503</desc><desc class=\"y left top\">268.257322612</desc><desc class=\"x_label\">2016-02</desc></g><g class=\"dots\"><circle class=\"dot reactive tooltip-trigger\" cx=\"381.0188985248047\" cy=\"270.324975785\" r=\"2.5\" /><desc class=\"value\">112</desc><desc class=\"x left top\">381.0188985248047</desc><desc class=\"y left top\">270.324975785</desc><desc class=\"x_label\">2016-03</desc></g><g class=\"dots\"><circle class=\"dot reactive tooltip-trigger\" cx=\"391.2338823994643\" cy=\"280.663241648\" r=\"2.5\" /><desc class=\"value\">107</desc><desc class=\"x left top\">391.2338823994643</desc><desc class=\"y left top\">280.663241648</desc><desc class=\"x_label\">2016-04</desc></g><g class=\"dots\"><circle class=\"dot reactive tooltip-trigger\" cx=\"401.44886627412393\" cy=\"346.82814317\" r=\"2.5\" /><desc class=\"value\">75</desc><desc class=\"x left top\">401.44886627412393</desc><desc class=\"y left top\">346.82814317</desc><desc class=\"x_label\">2016-05</desc></g><g class=\"dots\"><circle class=\"dot reactive tooltip-trigger\" cx=\"411.6638501487835\" cy=\"313.745692409\" r=\"2.5\" /><desc class=\"value\">91</desc><desc class=\"x left top\">411.6638501487835</desc><desc class=\"y left top\">313.745692409</desc><desc class=\"x_label\">2016-06</desc></g><g class=\"dots\"><circle class=\"dot reactive tooltip-trigger\" cx=\"421.87883402344323\" cy=\"342.692836825\" r=\"2.5\" /><desc class=\"value\">77</desc><desc class=\"x left top\">421.87883402344323</desc><desc class=\"y left top\">342.692836825</desc><desc class=\"x_label\">2016-07</desc></g><g class=\"dots\"><circle class=\"dot reactive tooltip-trigger\" cx=\"432.0938178981028\" cy=\"262.054363094\" r=\"2.5\" /><desc class=\"value\">116</desc><desc class=\"x left top\">432.0938178981028</desc><desc class=\"y left top\">262.054363094</desc><desc class=\"x_label\">2016-08</desc></g><g class=\"dots\"><circle class=\"dot reactive tooltip-trigger\" cx=\"442.30880177276254\" cy=\"311.678039236\" r=\"2.5\" /><desc class=\"value\">92</desc><desc class=\"x left top\">442.30880177276254</desc><desc class=\"y left top\">311.678039236</desc><desc class=\"x_label\">2016-09</desc></g><g class=\"dots\"><circle class=\"dot reactive tooltip-trigger\" cx=\"452.52378564742213\" cy=\"315.813345582\" r=\"2.5\" /><desc class=\"value\">90</desc><desc class=\"x left top\">452.52378564742213</desc><desc class=\"y left top\">315.813345582</desc><desc class=\"x_label\">2016-10</desc></g><g class=\"dots\"><circle class=\"dot reactive tooltip-trigger\" cx=\"462.73876952208184\" cy=\"249.648444059\" r=\"2.5\" /><desc class=\"value\">122</desc><desc class=\"x left\">462.73876952208184</desc><desc class=\"y left\">249.648444059</desc><desc class=\"x_label\">2016-11</desc></g><g class=\"dots\"><circle class=\"dot reactive tooltip-trigger\" cx=\"472.95375339674143\" cy=\"423.331310556\" r=\"2.5\" /><desc class=\"value\">38</desc><desc class=\"x left top\">472.95375339674143</desc><desc class=\"y left top\">423.331310556</desc><desc class=\"x_label\">2016-12</desc></g><g class=\"dots\"><circle class=\"dot reactive tooltip-trigger\" cx=\"483.1687372714011\" cy=\"464.684374008\" r=\"2.5\" /><desc class=\"value\">18</desc><desc class=\"x left top\">483.1687372714011</desc><desc class=\"y left top\">464.684374008</desc><desc class=\"x_label\">2017-01</desc></g><g class=\"dots\"><circle class=\"dot reactive tooltip-trigger\" cx=\"493.38372114606074\" cy=\"429.534270074\" r=\"2.5\" /><desc class=\"value\">35</desc><desc class=\"x left top\">493.38372114606074</desc><desc class=\"y left top\">429.534270074</desc><desc class=\"x_label\">2017-02</desc></g><g class=\"dots\"><circle class=\"dot reactive tooltip-trigger\" cx=\"503.59870502072033\" cy=\"381.978247105\" r=\"2.5\" /><desc class=\"value\">58</desc><desc class=\"x left top\">503.59870502072033</desc><desc class=\"y left top\">381.978247105</desc><desc class=\"x_label\">2017-03</desc></g><g class=\"dots\"><circle class=\"dot reactive tooltip-trigger\" cx=\"513.81368889538\" cy=\"419.196004211\" r=\"2.5\" /><desc class=\"value\">40</desc><desc class=\"x left top\">513.81368889538</desc><desc class=\"y left top\">419.196004211</desc><desc class=\"x_label\">2017-04</desc></g><g class=\"dots\"><circle class=\"dot reactive tooltip-trigger\" cx=\"524.0286727700396\" cy=\"444.007842282\" r=\"2.5\" /><desc class=\"value\">28</desc><desc class=\"x left top\">524.0286727700396</desc><desc class=\"y left top\">444.007842282</desc><desc class=\"x_label\">2017-05</desc></g><g class=\"dots\"><circle class=\"dot reactive tooltip-trigger\" cx=\"534.2436566446993\" cy=\"452.278454973\" r=\"2.5\" /><desc class=\"value\">24</desc><desc class=\"x left top\">534.2436566446993</desc><desc class=\"y left top\">452.278454973</desc><desc class=\"x_label\">2017-06</desc></g><g class=\"dots\"><circle class=\"dot reactive tooltip-trigger\" cx=\"544.4586405193589\" cy=\"452.278454973\" r=\"2.5\" /><desc class=\"value\">24</desc><desc class=\"x left top\">544.4586405193589</desc><desc class=\"y left top\">452.278454973</desc><desc class=\"x_label\">2017-07</desc></g><g class=\"dots\"><circle class=\"dot reactive tooltip-trigger\" cx=\"554.6736243940186\" cy=\"433.669576419\" r=\"2.5\" /><desc class=\"value\">33</desc><desc class=\"x left top\">554.6736243940186</desc><desc class=\"y left top\">433.669576419</desc><desc class=\"x_label\">2017-08</desc></g><g class=\"dots\"><circle class=\"dot reactive tooltip-trigger\" cx=\"564.8886082686781\" cy=\"450.2108018\" r=\"2.5\" /><desc class=\"value\">25</desc><desc class=\"x left top\">564.8886082686781</desc><desc class=\"y left top\">450.2108018</desc><desc class=\"x_label\">2017-09</desc></g><g class=\"dots\"><circle class=\"dot reactive tooltip-trigger\" cx=\"575.1035921433378\" cy=\"477.090293044\" r=\"2.5\" /><desc class=\"value\">12</desc><desc class=\"x left top\">575.1035921433378</desc><desc class=\"y left top\">477.090293044</desc><desc class=\"x_label\">2017-10</desc></g><g class=\"dots\"><circle class=\"dot reactive tooltip-trigger\" cx=\"585.3185760179975\" cy=\"481.225599389\" r=\"2.5\" /><desc class=\"value\">10</desc><desc class=\"x left top\">585.3185760179975</desc><desc class=\"y left top\">481.225599389</desc><desc class=\"x_label\">2017-11</desc></g><g class=\"dots\"><circle class=\"dot reactive tooltip-trigger\" cx=\"595.5335598926571\" cy=\"483.293252562\" r=\"2.5\" /><desc class=\"value\">9</desc><desc class=\"x left top\">595.5335598926571</desc><desc class=\"y left top\">483.293252562</desc><desc class=\"x_label\">2017-12</desc></g><g class=\"dots\"><circle class=\"dot reactive tooltip-trigger\" cx=\"605.7485437673168\" cy=\"497.76682477\" r=\"2.5\" /><desc class=\"value\">2</desc><desc class=\"x left top\">605.7485437673168</desc><desc class=\"y left top\">497.76682477</desc><desc class=\"x_label\">2018-01</desc></g><g class=\"dots\"><circle class=\"dot reactive tooltip-trigger\" cx=\"615.9635276419764\" cy=\"495.699171597\" r=\"2.5\" /><desc class=\"value\">3</desc><desc class=\"x left top\">615.9635276419764</desc><desc class=\"y left top\">495.699171597</desc><desc class=\"x_label\">2018-02</desc></g><g class=\"dots\"><circle class=\"dot reactive tooltip-trigger\" cx=\"626.1785115166361\" cy=\"477.090293044\" r=\"2.5\" /><desc class=\"value\">12</desc><desc class=\"x left top\">626.1785115166361</desc><desc class=\"y left top\">477.090293044</desc><desc class=\"x_label\">2018-03</desc></g><g class=\"dots\"><circle class=\"dot reactive tooltip-trigger\" cx=\"636.3934953912957\" cy=\"477.090293044\" r=\"2.5\" /><desc class=\"value\">12</desc><desc class=\"x left top\">636.3934953912957</desc><desc class=\"y left top\">477.090293044</desc><desc class=\"x_label\">2018-04</desc></g><g class=\"dots\"><circle class=\"dot reactive tooltip-trigger\" cx=\"646.6084792659553\" cy=\"450.2108018\" r=\"2.5\" /><desc class=\"value\">25</desc><desc class=\"x left top\">646.6084792659553</desc><desc class=\"y left top\">450.2108018</desc><desc class=\"x_label\">2018-05</desc></g><g class=\"dots\"><circle class=\"dot reactive tooltip-trigger\" cx=\"656.823463140615\" cy=\"448.143148627\" r=\"2.5\" /><desc class=\"value\">26</desc><desc class=\"x left top\">656.823463140615</desc><desc class=\"y left top\">448.143148627</desc><desc class=\"x_label\">2018-06</desc></g><g class=\"dots\"><circle class=\"dot reactive tooltip-trigger\" cx=\"667.0384470152746\" cy=\"381.978247105\" r=\"2.5\" /><desc class=\"value\">58</desc><desc class=\"x left top\">667.0384470152746</desc><desc class=\"y left top\">381.978247105</desc><desc class=\"x_label\">2018-07</desc></g><g class=\"dots\"><circle class=\"dot reactive tooltip-trigger\" cx=\"677.2534308899343\" cy=\"475.022639871\" r=\"2.5\" /><desc class=\"value\">13</desc><desc class=\"x left top\">677.2534308899343</desc><desc class=\"y left top\">475.022639871</desc><desc class=\"x_label\">2018-08</desc></g></g></g><g class=\"plot text-overlay\" transform=\"translate(70, 46)\"><g class=\"series serie-0 color-0\" /></g><g class=\"plot tooltip-overlay\" transform=\"translate(70, 46)\"><g class=\"tooltip\" style=\"opacity: 0\" transform=\"translate(0 0)\"><rect class=\"tooltip-box\" height=\"0\" rx=\"0\" ry=\"0\" width=\"0\" /><g class=\"text\" /></g></g><g class=\"legends\" transform=\"translate(10, 56)\"><g class=\"legend reactive activate-serie\" id=\"activate-serie-0\"><rect class=\"color-0 reactive\" height=\"12\" width=\"12\" x=\"0.0\" y=\"1.0\" /><text x=\"17.0\" y=\"11.2\" /></g></g><g class=\"legends\" transform=\"translate(770, 56)\" /></g></svg>"
      ]
     },
     "metadata": {},
     "output_type": "display_data"
    }
   ],
   "source": [
    "chart = df.groupby('months', as_index=False)['date'].count()\n",
    "line_chart = pygal.Line(x_label_rotation=20, show_minor_x_labels=False)\n",
    "line_chart.title = 'title'\n",
    "line_chart.x_labels = map(str, chart['months'])\n",
    "line_chart.x_labels_major = [chart['months'][0], chart['months'][10], chart['months'][20], chart['months'][30], chart['months'][40], chart['months'][50], chart['months'][57], chart['months'][65]]\n",
    "line_chart.add('',chart['date'])\n",
    "display({'image/svg+xml': line_chart.render()}, raw=True)"
   ]
  },
  {
   "cell_type": "code",
   "execution_count": 478,
   "metadata": {},
   "outputs": [],
   "source": [
    "def createChart(df, title, fileName):\n",
    "    chart = df.groupby('months', as_index=False)['date'].count()\n",
    "    l = int(len(chart)/7)\n",
    "    line_chart = pygal.Line(x_label_rotation=20, show_minor_x_labels=False)\n",
    "    line_chart.title = title\n",
    "    line_chart.x_labels = map(str, chart['months'])\n",
    "    line_chart.x_labels_major = [chart['months'][0], chart['months'][l], chart['months'][l+l], chart['months'][l+l+l], chart['months'][l+l+l+l], chart['months'][l+l+l+l+l], chart['months'][l+l+l+l+l+l], chart['months'][len(chart) - 1]]\n",
    "    line_chart.add('', chart['date'])\n",
    "    \n",
    "#     path = './Output'\n",
    "#     os.chdir(path)\n",
    "    line_chart.render_to_png( fileName + '.png')\n",
    "    \n",
    "#     drawing = svg2rlg('draws.svg')\n",
    "#     renderPM.drawToFile(drawing, 'rer.png')\n",
    "    display({'image/svg+xml': line_chart.render()}, raw=True)"
   ]
  },
  {
   "cell_type": "code",
   "execution_count": 479,
   "metadata": {
    "scrolled": true
   },
   "outputs": [
    {
     "data": {
      "image/svg+xml": [
       "<?xml version='1.0' encoding='utf-8'?>\n",
       "<svg xmlns:xlink=\"http://www.w3.org/1999/xlink\" class=\"pygal-chart\" id=\"chart-8ff22fbd-6ebe-4c8f-9e3e-252b89c6e18f\" viewBox=\"0 0 800 600\" xmlns=\"http://www.w3.org/2000/svg\"><!--Generated with pygal 2.4.0 (etree) Â©Kozea 2012-2016 on 2018-08-25--><!--http://pygal.org--><!--http://github.com/Kozea/pygal--><defs><style type=\"text/css\">#chart-8ff22fbd-6ebe-4c8f-9e3e-252b89c6e18f{-webkit-user-select:none;-webkit-font-smoothing:antialiased;font-family:Consolas,\"Liberation Mono\",Menlo,Courier,monospace}#chart-8ff22fbd-6ebe-4c8f-9e3e-252b89c6e18f .title{font-family:Consolas,\"Liberation Mono\",Menlo,Courier,monospace;font-size:16px}#chart-8ff22fbd-6ebe-4c8f-9e3e-252b89c6e18f .legends .legend text{font-family:Consolas,\"Liberation Mono\",Menlo,Courier,monospace;font-size:14px}#chart-8ff22fbd-6ebe-4c8f-9e3e-252b89c6e18f .axis text{font-family:Consolas,\"Liberation Mono\",Menlo,Courier,monospace;font-size:10px}#chart-8ff22fbd-6ebe-4c8f-9e3e-252b89c6e18f .axis text.major{font-family:Consolas,\"Liberation Mono\",Menlo,Courier,monospace;font-size:10px}#chart-8ff22fbd-6ebe-4c8f-9e3e-252b89c6e18f .text-overlay text.value{font-family:Consolas,\"Liberation Mono\",Menlo,Courier,monospace;font-size:16px}#chart-8ff22fbd-6ebe-4c8f-9e3e-252b89c6e18f .text-overlay text.label{font-family:Consolas,\"Liberation Mono\",Menlo,Courier,monospace;font-size:10px}#chart-8ff22fbd-6ebe-4c8f-9e3e-252b89c6e18f .tooltip{font-family:Consolas,\"Liberation Mono\",Menlo,Courier,monospace;font-size:14px}#chart-8ff22fbd-6ebe-4c8f-9e3e-252b89c6e18f text.no_data{font-family:Consolas,\"Liberation Mono\",Menlo,Courier,monospace;font-size:64px}\n",
       "#chart-8ff22fbd-6ebe-4c8f-9e3e-252b89c6e18f{background-color:rgba(249,249,249,1)}#chart-8ff22fbd-6ebe-4c8f-9e3e-252b89c6e18f path,#chart-8ff22fbd-6ebe-4c8f-9e3e-252b89c6e18f line,#chart-8ff22fbd-6ebe-4c8f-9e3e-252b89c6e18f rect,#chart-8ff22fbd-6ebe-4c8f-9e3e-252b89c6e18f circle{-webkit-transition:150ms;-moz-transition:150ms;transition:150ms}#chart-8ff22fbd-6ebe-4c8f-9e3e-252b89c6e18f .graph &gt; .background{fill:rgba(249,249,249,1)}#chart-8ff22fbd-6ebe-4c8f-9e3e-252b89c6e18f .plot &gt; .background{fill:rgba(255,255,255,1)}#chart-8ff22fbd-6ebe-4c8f-9e3e-252b89c6e18f .graph{fill:rgba(0,0,0,.87)}#chart-8ff22fbd-6ebe-4c8f-9e3e-252b89c6e18f text.no_data{fill:rgba(0,0,0,1)}#chart-8ff22fbd-6ebe-4c8f-9e3e-252b89c6e18f .title{fill:rgba(0,0,0,1)}#chart-8ff22fbd-6ebe-4c8f-9e3e-252b89c6e18f .legends .legend text{fill:rgba(0,0,0,.87)}#chart-8ff22fbd-6ebe-4c8f-9e3e-252b89c6e18f .legends .legend:hover text{fill:rgba(0,0,0,1)}#chart-8ff22fbd-6ebe-4c8f-9e3e-252b89c6e18f .axis .line{stroke:rgba(0,0,0,1)}#chart-8ff22fbd-6ebe-4c8f-9e3e-252b89c6e18f .axis .guide.line{stroke:rgba(0,0,0,.54)}#chart-8ff22fbd-6ebe-4c8f-9e3e-252b89c6e18f .axis .major.line{stroke:rgba(0,0,0,.87)}#chart-8ff22fbd-6ebe-4c8f-9e3e-252b89c6e18f .axis text.major{fill:rgba(0,0,0,1)}#chart-8ff22fbd-6ebe-4c8f-9e3e-252b89c6e18f .axis.y .guides:hover .guide.line,#chart-8ff22fbd-6ebe-4c8f-9e3e-252b89c6e18f .line-graph .axis.x .guides:hover .guide.line,#chart-8ff22fbd-6ebe-4c8f-9e3e-252b89c6e18f .stackedline-graph .axis.x .guides:hover .guide.line,#chart-8ff22fbd-6ebe-4c8f-9e3e-252b89c6e18f .xy-graph .axis.x .guides:hover .guide.line{stroke:rgba(0,0,0,1)}#chart-8ff22fbd-6ebe-4c8f-9e3e-252b89c6e18f .axis .guides:hover text{fill:rgba(0,0,0,1)}#chart-8ff22fbd-6ebe-4c8f-9e3e-252b89c6e18f .reactive{fill-opacity:.7;stroke-opacity:.8}#chart-8ff22fbd-6ebe-4c8f-9e3e-252b89c6e18f .ci{stroke:rgba(0,0,0,.87)}#chart-8ff22fbd-6ebe-4c8f-9e3e-252b89c6e18f .reactive.active,#chart-8ff22fbd-6ebe-4c8f-9e3e-252b89c6e18f .active .reactive{fill-opacity:.8;stroke-opacity:.9;stroke-width:4}#chart-8ff22fbd-6ebe-4c8f-9e3e-252b89c6e18f .ci .reactive.active{stroke-width:1.5}#chart-8ff22fbd-6ebe-4c8f-9e3e-252b89c6e18f .series text{fill:rgba(0,0,0,1)}#chart-8ff22fbd-6ebe-4c8f-9e3e-252b89c6e18f .tooltip rect{fill:rgba(255,255,255,1);stroke:rgba(0,0,0,1);-webkit-transition:opacity 150ms;-moz-transition:opacity 150ms;transition:opacity 150ms}#chart-8ff22fbd-6ebe-4c8f-9e3e-252b89c6e18f .tooltip .label{fill:rgba(0,0,0,.87)}#chart-8ff22fbd-6ebe-4c8f-9e3e-252b89c6e18f .tooltip .label{fill:rgba(0,0,0,.87)}#chart-8ff22fbd-6ebe-4c8f-9e3e-252b89c6e18f .tooltip .legend{font-size:.8em;fill:rgba(0,0,0,.54)}#chart-8ff22fbd-6ebe-4c8f-9e3e-252b89c6e18f .tooltip .x_label{font-size:.6em;fill:rgba(0,0,0,1)}#chart-8ff22fbd-6ebe-4c8f-9e3e-252b89c6e18f .tooltip .xlink{font-size:.5em;text-decoration:underline}#chart-8ff22fbd-6ebe-4c8f-9e3e-252b89c6e18f .tooltip .value{font-size:1.5em}#chart-8ff22fbd-6ebe-4c8f-9e3e-252b89c6e18f .bound{font-size:.5em}#chart-8ff22fbd-6ebe-4c8f-9e3e-252b89c6e18f .max-value{font-size:.75em;fill:rgba(0,0,0,.54)}#chart-8ff22fbd-6ebe-4c8f-9e3e-252b89c6e18f .map-element{fill:rgba(255,255,255,1);stroke:rgba(0,0,0,.54) !important}#chart-8ff22fbd-6ebe-4c8f-9e3e-252b89c6e18f .map-element .reactive{fill-opacity:inherit;stroke-opacity:inherit}#chart-8ff22fbd-6ebe-4c8f-9e3e-252b89c6e18f .color-0,#chart-8ff22fbd-6ebe-4c8f-9e3e-252b89c6e18f .color-0 a:visited{stroke:#F44336;fill:#F44336}#chart-8ff22fbd-6ebe-4c8f-9e3e-252b89c6e18f .text-overlay .color-0 text{fill:black}\n",
       "#chart-8ff22fbd-6ebe-4c8f-9e3e-252b89c6e18f text.no_data{text-anchor:middle}#chart-8ff22fbd-6ebe-4c8f-9e3e-252b89c6e18f .guide.line{fill:none}#chart-8ff22fbd-6ebe-4c8f-9e3e-252b89c6e18f .centered{text-anchor:middle}#chart-8ff22fbd-6ebe-4c8f-9e3e-252b89c6e18f .title{text-anchor:middle}#chart-8ff22fbd-6ebe-4c8f-9e3e-252b89c6e18f .legends .legend text{fill-opacity:1}#chart-8ff22fbd-6ebe-4c8f-9e3e-252b89c6e18f .axis.x text{text-anchor:middle}#chart-8ff22fbd-6ebe-4c8f-9e3e-252b89c6e18f .axis.x:not(.web) text[transform]{text-anchor:start}#chart-8ff22fbd-6ebe-4c8f-9e3e-252b89c6e18f .axis.x:not(.web) text[transform].backwards{text-anchor:end}#chart-8ff22fbd-6ebe-4c8f-9e3e-252b89c6e18f .axis.y text{text-anchor:end}#chart-8ff22fbd-6ebe-4c8f-9e3e-252b89c6e18f .axis.y text[transform].backwards{text-anchor:start}#chart-8ff22fbd-6ebe-4c8f-9e3e-252b89c6e18f .axis.y2 text{text-anchor:start}#chart-8ff22fbd-6ebe-4c8f-9e3e-252b89c6e18f .axis.y2 text[transform].backwards{text-anchor:end}#chart-8ff22fbd-6ebe-4c8f-9e3e-252b89c6e18f .axis .guide.line{stroke-dasharray:4,4}#chart-8ff22fbd-6ebe-4c8f-9e3e-252b89c6e18f .axis .major.guide.line{stroke-dasharray:6,6}#chart-8ff22fbd-6ebe-4c8f-9e3e-252b89c6e18f .horizontal .axis.y .guide.line,#chart-8ff22fbd-6ebe-4c8f-9e3e-252b89c6e18f .horizontal .axis.y2 .guide.line,#chart-8ff22fbd-6ebe-4c8f-9e3e-252b89c6e18f .vertical .axis.x .guide.line{opacity:0}#chart-8ff22fbd-6ebe-4c8f-9e3e-252b89c6e18f .horizontal .axis.always_show .guide.line,#chart-8ff22fbd-6ebe-4c8f-9e3e-252b89c6e18f .vertical .axis.always_show .guide.line{opacity:1 !important}#chart-8ff22fbd-6ebe-4c8f-9e3e-252b89c6e18f .axis.y .guides:hover .guide.line,#chart-8ff22fbd-6ebe-4c8f-9e3e-252b89c6e18f .axis.y2 .guides:hover .guide.line,#chart-8ff22fbd-6ebe-4c8f-9e3e-252b89c6e18f .axis.x .guides:hover .guide.line{opacity:1}#chart-8ff22fbd-6ebe-4c8f-9e3e-252b89c6e18f .axis .guides:hover text{opacity:1}#chart-8ff22fbd-6ebe-4c8f-9e3e-252b89c6e18f .nofill{fill:none}#chart-8ff22fbd-6ebe-4c8f-9e3e-252b89c6e18f .subtle-fill{fill-opacity:.2}#chart-8ff22fbd-6ebe-4c8f-9e3e-252b89c6e18f .dot{stroke-width:1px;fill-opacity:1}#chart-8ff22fbd-6ebe-4c8f-9e3e-252b89c6e18f .dot.active{stroke-width:5px}#chart-8ff22fbd-6ebe-4c8f-9e3e-252b89c6e18f .dot.negative{fill:transparent}#chart-8ff22fbd-6ebe-4c8f-9e3e-252b89c6e18f text,#chart-8ff22fbd-6ebe-4c8f-9e3e-252b89c6e18f tspan{stroke:none !important}#chart-8ff22fbd-6ebe-4c8f-9e3e-252b89c6e18f .series text.active{opacity:1}#chart-8ff22fbd-6ebe-4c8f-9e3e-252b89c6e18f .tooltip rect{fill-opacity:.95;stroke-width:.5}#chart-8ff22fbd-6ebe-4c8f-9e3e-252b89c6e18f .tooltip text{fill-opacity:1}#chart-8ff22fbd-6ebe-4c8f-9e3e-252b89c6e18f .showable{visibility:hidden}#chart-8ff22fbd-6ebe-4c8f-9e3e-252b89c6e18f .showable.shown{visibility:visible}#chart-8ff22fbd-6ebe-4c8f-9e3e-252b89c6e18f .gauge-background{fill:rgba(229,229,229,1);stroke:none}#chart-8ff22fbd-6ebe-4c8f-9e3e-252b89c6e18f .bg-lines{stroke:rgba(249,249,249,1);stroke-width:2px}</style><script type=\"text/javascript\">window.pygal = window.pygal || {};window.pygal.config = window.pygal.config || {};window.pygal.config['8ff22fbd-6ebe-4c8f-9e3e-252b89c6e18f'] = {\"allow_interruptions\": false, \"box_mode\": \"extremes\", \"classes\": [\"pygal-chart\"], \"css\": [\"file://style.css\", \"file://graph.css\"], \"defs\": [], \"disable_xml_declaration\": false, \"dots_size\": 2.5, \"dynamic_print_values\": false, \"explicit_size\": false, \"fill\": false, \"force_uri_protocol\": \"https\", \"formatter\": null, \"half_pie\": false, \"height\": 600, \"include_x_axis\": false, \"inner_radius\": 0, \"interpolate\": null, \"interpolation_parameters\": {}, \"interpolation_precision\": 250, \"inverse_y_axis\": false, \"js\": [\"//kozea.github.io/pygal.js/2.0.x/pygal-tooltips.min.js\"], \"legend_at_bottom\": false, \"legend_at_bottom_columns\": null, \"legend_box_size\": 12, \"logarithmic\": false, \"margin\": 20, \"margin_bottom\": null, \"margin_left\": null, \"margin_right\": null, \"margin_top\": null, \"max_scale\": 16, \"min_scale\": 4, \"missing_value_fill_truncation\": \"x\", \"no_data_text\": \"No data\", \"no_prefix\": false, \"order_min\": null, \"pretty_print\": false, \"print_labels\": false, \"print_values\": false, \"print_values_position\": \"center\", \"print_zeroes\": true, \"range\": null, \"rounded_bars\": null, \"secondary_range\": null, \"show_dots\": true, \"show_legend\": true, \"show_minor_x_labels\": false, \"show_minor_y_labels\": true, \"show_only_major_dots\": false, \"show_x_guides\": false, \"show_x_labels\": true, \"show_y_guides\": true, \"show_y_labels\": true, \"spacing\": 10, \"stack_from_top\": false, \"strict\": false, \"stroke\": true, \"stroke_style\": null, \"style\": {\"background\": \"rgba(249, 249, 249, 1)\", \"ci_colors\": [], \"colors\": [\"#F44336\", \"#3F51B5\", \"#009688\", \"#FFC107\", \"#FF5722\", \"#9C27B0\", \"#03A9F4\", \"#8BC34A\", \"#FF9800\", \"#E91E63\", \"#2196F3\", \"#4CAF50\", \"#FFEB3B\", \"#673AB7\", \"#00BCD4\", \"#CDDC39\", \"#9E9E9E\", \"#607D8B\"], \"font_family\": \"Consolas, \\\"Liberation Mono\\\", Menlo, Courier, monospace\", \"foreground\": \"rgba(0, 0, 0, .87)\", \"foreground_strong\": \"rgba(0, 0, 0, 1)\", \"foreground_subtle\": \"rgba(0, 0, 0, .54)\", \"guide_stroke_dasharray\": \"4,4\", \"label_font_family\": \"Consolas, \\\"Liberation Mono\\\", Menlo, Courier, monospace\", \"label_font_size\": 10, \"legend_font_family\": \"Consolas, \\\"Liberation Mono\\\", Menlo, Courier, monospace\", \"legend_font_size\": 14, \"major_guide_stroke_dasharray\": \"6,6\", \"major_label_font_family\": \"Consolas, \\\"Liberation Mono\\\", Menlo, Courier, monospace\", \"major_label_font_size\": 10, \"no_data_font_family\": \"Consolas, \\\"Liberation Mono\\\", Menlo, Courier, monospace\", \"no_data_font_size\": 64, \"opacity\": \".7\", \"opacity_hover\": \".8\", \"plot_background\": \"rgba(255, 255, 255, 1)\", \"stroke_opacity\": \".8\", \"stroke_opacity_hover\": \".9\", \"title_font_family\": \"Consolas, \\\"Liberation Mono\\\", Menlo, Courier, monospace\", \"title_font_size\": 16, \"tooltip_font_family\": \"Consolas, \\\"Liberation Mono\\\", Menlo, Courier, monospace\", \"tooltip_font_size\": 14, \"transition\": \"150ms\", \"value_background\": \"rgba(229, 229, 229, 1)\", \"value_colors\": [], \"value_font_family\": \"Consolas, \\\"Liberation Mono\\\", Menlo, Courier, monospace\", \"value_font_size\": 16, \"value_label_font_family\": \"Consolas, \\\"Liberation Mono\\\", Menlo, Courier, monospace\", \"value_label_font_size\": 10}, \"title\": \"Total articles published on TechCabal\", \"tooltip_border_radius\": 0, \"tooltip_fancy_mode\": true, \"truncate_label\": null, \"truncate_legend\": null, \"width\": 800, \"x_label_rotation\": 20, \"x_labels\": [\"2013-03\", \"2013-04\", \"2013-05\", \"2013-06\", \"2013-07\", \"2013-08\", \"2013-09\", \"2013-10\", \"2013-11\", \"2013-12\", \"2014-01\", \"2014-02\", \"2014-03\", \"2014-04\", \"2014-05\", \"2014-06\", \"2014-07\", \"2014-08\", \"2014-09\", \"2014-10\", \"2014-11\", \"2014-12\", \"2015-01\", \"2015-02\", \"2015-03\", \"2015-04\", \"2015-05\", \"2015-06\", \"2015-07\", \"2015-08\", \"2015-09\", \"2015-10\", \"2015-11\", \"2015-12\", \"2016-01\", \"2016-02\", \"2016-03\", \"2016-04\", \"2016-05\", \"2016-06\", \"2016-07\", \"2016-08\", \"2016-09\", \"2016-10\", \"2016-11\", \"2016-12\", \"2017-01\", \"2017-02\", \"2017-03\", \"2017-04\", \"2017-05\", \"2017-06\", \"2017-07\", \"2017-08\", \"2017-09\", \"2017-10\", \"2017-11\", \"2017-12\", \"2018-01\", \"2018-02\", \"2018-03\", \"2018-04\", \"2018-05\", \"2018-06\", \"2018-07\", \"2018-08\"], \"x_labels_major\": [\"2013-03\", \"2013-12\", \"2014-09\", \"2015-06\", \"2016-03\", \"2016-12\", \"2017-09\", \"2018-08\"], \"x_labels_major_count\": null, \"x_labels_major_every\": null, \"x_title\": null, \"xrange\": null, \"y_label_rotation\": 0, \"y_labels\": null, \"y_labels_major\": null, \"y_labels_major_count\": null, \"y_labels_major_every\": null, \"y_title\": null, \"zero\": 0, \"legends\": [\"\"]}</script><script type=\"text/javascript\" xlink:href=\"https://kozea.github.io/pygal.js/2.0.x/pygal-tooltips.min.js\" /></defs><title>Total articles published on TechCabal</title><g class=\"graph line-graph vertical\"><rect class=\"background\" height=\"600\" width=\"800\" x=\"0\" y=\"0\" /><g class=\"plot\" transform=\"translate(70, 46)\"><rect class=\"background\" height=\"509.6351539803219\" width=\"690.5329099269918\" x=\"0\" y=\"0\" /><g class=\"axis y always_show\"><path class=\"line\" d=\"M0.000000 509.635154 h690.532910\" /><g class=\"guides\"><path class=\"guide line\" d=\"M0.000000 460.549068 h690.532910\" /><text class=\"\" x=\"-5\" y=\"464.049067663\">20</text><title>20</title></g><g class=\"guides\"><path class=\"guide line\" d=\"M0.000000 419.196004 h690.532910\" /><text class=\"\" x=\"-5\" y=\"422.696004211\">40</text><title>40</title></g><g class=\"guides\"><path class=\"guide line\" d=\"M0.000000 377.842941 h690.532910\" /><text class=\"\" x=\"-5\" y=\"381.342940759\">60</text><title>60</title></g><g class=\"guides\"><path class=\"guide line\" d=\"M0.000000 336.489877 h690.532910\" /><text class=\"\" x=\"-5\" y=\"339.989877308\">80</text><title>80</title></g><g class=\"guides\"><path class=\"major guide line\" d=\"M0.000000 295.136814 h690.532910\" /><text class=\"major\" x=\"-5\" y=\"298.636813856\">100</text><title>100</title></g><g class=\"guides\"><path class=\"guide line\" d=\"M0.000000 253.783750 h690.532910\" /><text class=\"\" x=\"-5\" y=\"257.283750404\">120</text><title>120</title></g><g class=\"guides\"><path class=\"guide line\" d=\"M0.000000 212.430687 h690.532910\" /><text class=\"\" x=\"-5\" y=\"215.930686952\">140</text><title>140</title></g><g class=\"guides\"><path class=\"guide line\" d=\"M0.000000 171.077624 h690.532910\" /><text class=\"\" x=\"-5\" y=\"174.5776235\">160</text><title>160</title></g><g class=\"guides\"><path class=\"guide line\" d=\"M0.000000 129.724560 h690.532910\" /><text class=\"\" x=\"-5\" y=\"133.224560048\">180</text><title>180</title></g><g class=\"guides\"><path class=\"major guide line\" d=\"M0.000000 88.371497 h690.532910\" /><text class=\"major\" x=\"-5\" y=\"91.8714965966\">200</text><title>200</title></g><g class=\"guides\"><path class=\"guide line\" d=\"M0.000000 47.018433 h690.532910\" /><text class=\"\" x=\"-5\" y=\"50.5184331447\">220</text><title>220</title></g></g><g class=\"axis x\"><g class=\"guides\"><path class=\"major line\" d=\"M13.279479 0.000000 v509.635154\" /><text class=\"major\" transform=\"rotate(20 13.279479 524.635154)\" x=\"13.279479037057536\" y=\"524.6351539803219\">2013-03</text></g><g class=\"guides\"><path class=\"major guide line\" d=\"M105.214334 0.000000 v509.635154\" /><text class=\"major\" transform=\"rotate(20 105.214334 524.635154)\" x=\"105.2143339089943\" y=\"524.6351539803219\">2013-12</text></g><g class=\"guides\"><path class=\"major guide line\" d=\"M197.149189 0.000000 v509.635154\" /><text class=\"major\" transform=\"rotate(20 197.149189 524.635154)\" x=\"197.1491887809311\" y=\"524.6351539803219\">2014-09</text></g><g class=\"guides\"><path class=\"major guide line\" d=\"M289.084044 0.000000 v509.635154\" /><text class=\"major\" transform=\"rotate(20 289.084044 524.635154)\" x=\"289.08404365286793\" y=\"524.6351539803219\">2015-06</text></g><g class=\"guides\"><path class=\"major guide line\" d=\"M381.018899 0.000000 v509.635154\" /><text class=\"major\" transform=\"rotate(20 381.018899 524.635154)\" x=\"381.0188985248047\" y=\"524.6351539803219\">2016-03</text></g><g class=\"guides\"><path class=\"major guide line\" d=\"M472.953753 0.000000 v509.635154\" /><text class=\"major\" transform=\"rotate(20 472.953753 524.635154)\" x=\"472.95375339674143\" y=\"524.6351539803219\">2016-12</text></g><g class=\"guides\"><path class=\"major guide line\" d=\"M564.888608 0.000000 v509.635154\" /><text class=\"major\" transform=\"rotate(20 564.888608 524.635154)\" x=\"564.8886082686781\" y=\"524.6351539803219\">2017-09</text></g><g class=\"guides\"><path class=\"major guide line\" d=\"M677.253431 0.000000 v509.635154\" /><text class=\"major\" transform=\"rotate(20 677.253431 524.635154)\" x=\"677.2534308899343\" y=\"524.6351539803219\">2018-08</text></g></g><g class=\"series serie-0 color-0\"><path class=\"line reactive nofill\" d=\"M13.279479 499.834478 L23.494463 454.346108 33.709447 431.601923 43.924431 444.007842 54.139415 423.331311 64.354398 429.534270 74.569382 437.804883 84.784366 431.601923 94.999350 446.075495 105.214334 431.601923 115.429318 408.857738 125.644302 415.060698 135.859286 303.407427 146.074269 237.242525 156.289253 197.957115 166.504237 251.716097 176.719221 309.610386 186.934205 404.722432 197.149189 392.316513 207.364173 326.151611 217.579157 371.639981 227.794140 448.143149 238.009124 131.792213 248.224108 26.341901 258.439092 11.868329 268.654076 73.897924 278.869060 162.807011 289.084044 63.559659 299.299028 9.800676 309.514011 123.521601 319.728995 115.250988 329.943979 92.506803 340.158963 36.680167 350.373947 220.701300 360.588931 286.866201 370.803915 268.257323 381.018899 270.324976 391.233882 280.663242 401.448866 346.828143 411.663850 313.745692 421.878834 342.692837 432.093818 262.054363 442.308802 311.678039 452.523786 315.813346 462.738770 249.648444 472.953753 423.331311 483.168737 464.684374 493.383721 429.534270 503.598705 381.978247 513.813689 419.196004 524.028673 444.007842 534.243657 452.278455 544.458641 452.278455 554.673624 433.669576 564.888608 450.210802 575.103592 477.090293 585.318576 481.225599 595.533560 483.293253 605.748544 497.766825 615.963528 495.699172 626.178512 477.090293 636.393495 477.090293 646.608479 450.210802 656.823463 448.143149 667.038447 381.978247 677.253431 475.022640\" /></g></g><g class=\"titles\"><text class=\"title plot_title\" x=\"400.0\" y=\"26\">Total articles published on TechCabal</text></g><g class=\"plot overlay\" transform=\"translate(70, 46)\"><g class=\"series serie-0 color-0\"><g class=\"dots\"><circle class=\"dot reactive tooltip-trigger\" cx=\"13.279479037057536\" cy=\"499.834477942\" r=\"2.5\" /><desc class=\"value\">1</desc><desc class=\"x top\">13.279479037057536</desc><desc class=\"y top\">499.834477942</desc><desc class=\"x_label\">2013-03</desc></g><g class=\"dots\"><circle class=\"dot reactive tooltip-trigger\" cx=\"23.49446291171718\" cy=\"454.346108145\" r=\"2.5\" /><desc class=\"value\">23</desc><desc class=\"x top\">23.49446291171718</desc><desc class=\"y top\">454.346108145</desc><desc class=\"x_label\">2013-04</desc></g><g class=\"dots\"><circle class=\"dot reactive tooltip-trigger\" cx=\"33.70944678637682\" cy=\"431.601923247\" r=\"2.5\" /><desc class=\"value\">34</desc><desc class=\"x top\">33.70944678637682</desc><desc class=\"y top\">431.601923247</desc><desc class=\"x_label\">2013-05</desc></g><g class=\"dots\"><circle class=\"dot reactive tooltip-trigger\" cx=\"43.92443066103647\" cy=\"444.007842282\" r=\"2.5\" /><desc class=\"value\">28</desc><desc class=\"x top\">43.92443066103647</desc><desc class=\"y top\">444.007842282</desc><desc class=\"x_label\">2013-06</desc></g><g class=\"dots\"><circle class=\"dot reactive tooltip-trigger\" cx=\"54.139414535696105\" cy=\"423.331310556\" r=\"2.5\" /><desc class=\"value\">38</desc><desc class=\"x top\">54.139414535696105</desc><desc class=\"y top\">423.331310556</desc><desc class=\"x_label\">2013-07</desc></g><g class=\"dots\"><circle class=\"dot reactive tooltip-trigger\" cx=\"64.35439841035574\" cy=\"429.534270074\" r=\"2.5\" /><desc class=\"value\">35</desc><desc class=\"x top\">64.35439841035574</desc><desc class=\"y top\">429.534270074</desc><desc class=\"x_label\">2013-08</desc></g><g class=\"dots\"><circle class=\"dot reactive tooltip-trigger\" cx=\"74.5693822850154\" cy=\"437.804882764\" r=\"2.5\" /><desc class=\"value\">31</desc><desc class=\"x top\">74.5693822850154</desc><desc class=\"y top\">437.804882764</desc><desc class=\"x_label\">2013-09</desc></g><g class=\"dots\"><circle class=\"dot reactive tooltip-trigger\" cx=\"84.78436615967502\" cy=\"431.601923247\" r=\"2.5\" /><desc class=\"value\">34</desc><desc class=\"x top\">84.78436615967502</desc><desc class=\"y top\">431.601923247</desc><desc class=\"x_label\">2013-10</desc></g><g class=\"dots\"><circle class=\"dot reactive tooltip-trigger\" cx=\"94.99935003433467\" cy=\"446.075495455\" r=\"2.5\" /><desc class=\"value\">27</desc><desc class=\"x top\">94.99935003433467</desc><desc class=\"y top\">446.075495455</desc><desc class=\"x_label\">2013-11</desc></g><g class=\"dots\"><circle class=\"dot reactive tooltip-trigger\" cx=\"105.2143339089943\" cy=\"431.601923247\" r=\"2.5\" /><desc class=\"value\">34</desc><desc class=\"x top\">105.2143339089943</desc><desc class=\"y top\">431.601923247</desc><desc class=\"x_label\">2013-12</desc></g><g class=\"dots\"><circle class=\"dot reactive tooltip-trigger\" cx=\"115.42931778365396\" cy=\"408.857738348\" r=\"2.5\" /><desc class=\"value\">45</desc><desc class=\"x top\">115.42931778365396</desc><desc class=\"y top\">408.857738348</desc><desc class=\"x_label\">2014-01</desc></g><g class=\"dots\"><circle class=\"dot reactive tooltip-trigger\" cx=\"125.64430165831358\" cy=\"415.060697866\" r=\"2.5\" /><desc class=\"value\">42</desc><desc class=\"x top\">125.64430165831358</desc><desc class=\"y top\">415.060697866</desc><desc class=\"x_label\">2014-02</desc></g><g class=\"dots\"><circle class=\"dot reactive tooltip-trigger\" cx=\"135.85928553297325\" cy=\"303.407426546\" r=\"2.5\" /><desc class=\"value\">96</desc><desc class=\"x top\">135.85928553297325</desc><desc class=\"y top\">303.407426546</desc><desc class=\"x_label\">2014-03</desc></g><g class=\"dots\"><circle class=\"dot reactive tooltip-trigger\" cx=\"146.07426940763287\" cy=\"237.242525023\" r=\"2.5\" /><desc class=\"value\">128</desc><desc class=\"x \">146.07426940763287</desc><desc class=\"y \">237.242525023</desc><desc class=\"x_label\">2014-04</desc></g><g class=\"dots\"><circle class=\"dot reactive tooltip-trigger\" cx=\"156.28925328229252\" cy=\"197.957114744\" r=\"2.5\" /><desc class=\"value\">147</desc><desc class=\"x \">156.28925328229252</desc><desc class=\"y \">197.957114744</desc><desc class=\"x_label\">2014-05</desc></g><g class=\"dots\"><circle class=\"dot reactive tooltip-trigger\" cx=\"166.50423715695217\" cy=\"251.716097231\" r=\"2.5\" /><desc class=\"value\">121</desc><desc class=\"x \">166.50423715695217</desc><desc class=\"y \">251.716097231</desc><desc class=\"x_label\">2014-06</desc></g><g class=\"dots\"><circle class=\"dot reactive tooltip-trigger\" cx=\"176.71922103161182\" cy=\"309.610386064\" r=\"2.5\" /><desc class=\"value\">93</desc><desc class=\"x top\">176.71922103161182</desc><desc class=\"y top\">309.610386064</desc><desc class=\"x_label\">2014-07</desc></g><g class=\"dots\"><circle class=\"dot reactive tooltip-trigger\" cx=\"186.93420490627148\" cy=\"404.722432003\" r=\"2.5\" /><desc class=\"value\">47</desc><desc class=\"x top\">186.93420490627148</desc><desc class=\"y top\">404.722432003</desc><desc class=\"x_label\">2014-08</desc></g><g class=\"dots\"><circle class=\"dot reactive tooltip-trigger\" cx=\"197.1491887809311\" cy=\"392.316512967\" r=\"2.5\" /><desc class=\"value\">53</desc><desc class=\"x top\">197.1491887809311</desc><desc class=\"y top\">392.316512967</desc><desc class=\"x_label\">2014-09</desc></g><g class=\"dots\"><circle class=\"dot reactive tooltip-trigger\" cx=\"207.36417265559075\" cy=\"326.151611445\" r=\"2.5\" /><desc class=\"value\">85</desc><desc class=\"x top\">207.36417265559075</desc><desc class=\"y top\">326.151611445</desc><desc class=\"x_label\">2014-10</desc></g><g class=\"dots\"><circle class=\"dot reactive tooltip-trigger\" cx=\"217.5791565302504\" cy=\"371.639981242\" r=\"2.5\" /><desc class=\"value\">63</desc><desc class=\"x top\">217.5791565302504</desc><desc class=\"y top\">371.639981242</desc><desc class=\"x_label\">2014-11</desc></g><g class=\"dots\"><circle class=\"dot reactive tooltip-trigger\" cx=\"227.79414040491002\" cy=\"448.143148627\" r=\"2.5\" /><desc class=\"value\">26</desc><desc class=\"x top\">227.79414040491002</desc><desc class=\"y top\">448.143148627</desc><desc class=\"x_label\">2014-12</desc></g><g class=\"dots\"><circle class=\"dot reactive tooltip-trigger\" cx=\"238.00912427956968\" cy=\"131.792213221\" r=\"2.5\" /><desc class=\"value\">179</desc><desc class=\"x \">238.00912427956968</desc><desc class=\"y \">131.792213221</desc><desc class=\"x_label\">2015-01</desc></g><g class=\"dots\"><circle class=\"dot reactive tooltip-trigger\" cx=\"248.22410815422933\" cy=\"26.3419014188\" r=\"2.5\" /><desc class=\"value\">230</desc><desc class=\"x \">248.22410815422933</desc><desc class=\"y \">26.3419014188</desc><desc class=\"x_label\">2015-02</desc></g><g class=\"dots\"><circle class=\"dot reactive tooltip-trigger\" cx=\"258.4390920288889\" cy=\"11.8683292107\" r=\"2.5\" /><desc class=\"value\">237</desc><desc class=\"x \">258.4390920288889</desc><desc class=\"y \">11.8683292107</desc><desc class=\"x_label\">2015-03</desc></g><g class=\"dots\"><circle class=\"dot reactive tooltip-trigger\" cx=\"268.6540759035486\" cy=\"73.8979243884\" r=\"2.5\" /><desc class=\"value\">207</desc><desc class=\"x \">268.6540759035486</desc><desc class=\"y \">73.8979243884</desc><desc class=\"x_label\">2015-04</desc></g><g class=\"dots\"><circle class=\"dot reactive tooltip-trigger\" cx=\"278.8690597782083\" cy=\"162.80701081\" r=\"2.5\" /><desc class=\"value\">164</desc><desc class=\"x \">278.8690597782083</desc><desc class=\"y \">162.80701081</desc><desc class=\"x_label\">2015-05</desc></g><g class=\"dots\"><circle class=\"dot reactive tooltip-trigger\" cx=\"289.08404365286793\" cy=\"63.5596585255\" r=\"2.5\" /><desc class=\"value\">212</desc><desc class=\"x \">289.08404365286793</desc><desc class=\"y \">63.5596585255</desc><desc class=\"x_label\">2015-06</desc></g><g class=\"dots\"><circle class=\"dot reactive tooltip-trigger\" cx=\"299.2990275275275\" cy=\"9.80067603808\" r=\"2.5\" /><desc class=\"value\">238</desc><desc class=\"x \">299.2990275275275</desc><desc class=\"y \">9.80067603808</desc><desc class=\"x_label\">2015-07</desc></g><g class=\"dots\"><circle class=\"dot reactive tooltip-trigger\" cx=\"309.5140114021872\" cy=\"123.521600531\" r=\"2.5\" /><desc class=\"value\">183</desc><desc class=\"x \">309.5140114021872</desc><desc class=\"y \">123.521600531</desc><desc class=\"x_label\">2015-08</desc></g><g class=\"dots\"><circle class=\"dot reactive tooltip-trigger\" cx=\"319.72899527684683\" cy=\"115.25098784\" r=\"2.5\" /><desc class=\"value\">187</desc><desc class=\"x \">319.72899527684683</desc><desc class=\"y \">115.25098784</desc><desc class=\"x_label\">2015-09</desc></g><g class=\"dots\"><circle class=\"dot reactive tooltip-trigger\" cx=\"329.9439791515064\" cy=\"92.5068029417\" r=\"2.5\" /><desc class=\"value\">198</desc><desc class=\"x \">329.9439791515064</desc><desc class=\"y \">92.5068029417</desc><desc class=\"x_label\">2015-10</desc></g><g class=\"dots\"><circle class=\"dot reactive tooltip-trigger\" cx=\"340.1589630261661\" cy=\"36.6801672818\" r=\"2.5\" /><desc class=\"value\">225</desc><desc class=\"x \">340.1589630261661</desc><desc class=\"y \">36.6801672818</desc><desc class=\"x_label\">2015-11</desc></g><g class=\"dots\"><circle class=\"dot reactive tooltip-trigger\" cx=\"350.3739469008257\" cy=\"220.701299642\" r=\"2.5\" /><desc class=\"value\">136</desc><desc class=\"x left\">350.3739469008257</desc><desc class=\"y left\">220.701299642</desc><desc class=\"x_label\">2015-12</desc></g><g class=\"dots\"><circle class=\"dot reactive tooltip-trigger\" cx=\"360.58893077548544\" cy=\"286.866201165\" r=\"2.5\" /><desc class=\"value\">104</desc><desc class=\"x left top\">360.58893077548544</desc><desc class=\"y left top\">286.866201165</desc><desc class=\"x_label\">2016-01</desc></g><g class=\"dots\"><circle class=\"dot reactive tooltip-trigger\" cx=\"370.80391465014503\" cy=\"268.257322612\" r=\"2.5\" /><desc class=\"value\">113</desc><desc class=\"x left top\">370.80391465014503</desc><desc class=\"y left top\">268.257322612</desc><desc class=\"x_label\">2016-02</desc></g><g class=\"dots\"><circle class=\"dot reactive tooltip-trigger\" cx=\"381.0188985248047\" cy=\"270.324975785\" r=\"2.5\" /><desc class=\"value\">112</desc><desc class=\"x left top\">381.0188985248047</desc><desc class=\"y left top\">270.324975785</desc><desc class=\"x_label\">2016-03</desc></g><g class=\"dots\"><circle class=\"dot reactive tooltip-trigger\" cx=\"391.2338823994643\" cy=\"280.663241648\" r=\"2.5\" /><desc class=\"value\">107</desc><desc class=\"x left top\">391.2338823994643</desc><desc class=\"y left top\">280.663241648</desc><desc class=\"x_label\">2016-04</desc></g><g class=\"dots\"><circle class=\"dot reactive tooltip-trigger\" cx=\"401.44886627412393\" cy=\"346.82814317\" r=\"2.5\" /><desc class=\"value\">75</desc><desc class=\"x left top\">401.44886627412393</desc><desc class=\"y left top\">346.82814317</desc><desc class=\"x_label\">2016-05</desc></g><g class=\"dots\"><circle class=\"dot reactive tooltip-trigger\" cx=\"411.6638501487835\" cy=\"313.745692409\" r=\"2.5\" /><desc class=\"value\">91</desc><desc class=\"x left top\">411.6638501487835</desc><desc class=\"y left top\">313.745692409</desc><desc class=\"x_label\">2016-06</desc></g><g class=\"dots\"><circle class=\"dot reactive tooltip-trigger\" cx=\"421.87883402344323\" cy=\"342.692836825\" r=\"2.5\" /><desc class=\"value\">77</desc><desc class=\"x left top\">421.87883402344323</desc><desc class=\"y left top\">342.692836825</desc><desc class=\"x_label\">2016-07</desc></g><g class=\"dots\"><circle class=\"dot reactive tooltip-trigger\" cx=\"432.0938178981028\" cy=\"262.054363094\" r=\"2.5\" /><desc class=\"value\">116</desc><desc class=\"x left top\">432.0938178981028</desc><desc class=\"y left top\">262.054363094</desc><desc class=\"x_label\">2016-08</desc></g><g class=\"dots\"><circle class=\"dot reactive tooltip-trigger\" cx=\"442.30880177276254\" cy=\"311.678039236\" r=\"2.5\" /><desc class=\"value\">92</desc><desc class=\"x left top\">442.30880177276254</desc><desc class=\"y left top\">311.678039236</desc><desc class=\"x_label\">2016-09</desc></g><g class=\"dots\"><circle class=\"dot reactive tooltip-trigger\" cx=\"452.52378564742213\" cy=\"315.813345582\" r=\"2.5\" /><desc class=\"value\">90</desc><desc class=\"x left top\">452.52378564742213</desc><desc class=\"y left top\">315.813345582</desc><desc class=\"x_label\">2016-10</desc></g><g class=\"dots\"><circle class=\"dot reactive tooltip-trigger\" cx=\"462.73876952208184\" cy=\"249.648444059\" r=\"2.5\" /><desc class=\"value\">122</desc><desc class=\"x left\">462.73876952208184</desc><desc class=\"y left\">249.648444059</desc><desc class=\"x_label\">2016-11</desc></g><g class=\"dots\"><circle class=\"dot reactive tooltip-trigger\" cx=\"472.95375339674143\" cy=\"423.331310556\" r=\"2.5\" /><desc class=\"value\">38</desc><desc class=\"x left top\">472.95375339674143</desc><desc class=\"y left top\">423.331310556</desc><desc class=\"x_label\">2016-12</desc></g><g class=\"dots\"><circle class=\"dot reactive tooltip-trigger\" cx=\"483.1687372714011\" cy=\"464.684374008\" r=\"2.5\" /><desc class=\"value\">18</desc><desc class=\"x left top\">483.1687372714011</desc><desc class=\"y left top\">464.684374008</desc><desc class=\"x_label\">2017-01</desc></g><g class=\"dots\"><circle class=\"dot reactive tooltip-trigger\" cx=\"493.38372114606074\" cy=\"429.534270074\" r=\"2.5\" /><desc class=\"value\">35</desc><desc class=\"x left top\">493.38372114606074</desc><desc class=\"y left top\">429.534270074</desc><desc class=\"x_label\">2017-02</desc></g><g class=\"dots\"><circle class=\"dot reactive tooltip-trigger\" cx=\"503.59870502072033\" cy=\"381.978247105\" r=\"2.5\" /><desc class=\"value\">58</desc><desc class=\"x left top\">503.59870502072033</desc><desc class=\"y left top\">381.978247105</desc><desc class=\"x_label\">2017-03</desc></g><g class=\"dots\"><circle class=\"dot reactive tooltip-trigger\" cx=\"513.81368889538\" cy=\"419.196004211\" r=\"2.5\" /><desc class=\"value\">40</desc><desc class=\"x left top\">513.81368889538</desc><desc class=\"y left top\">419.196004211</desc><desc class=\"x_label\">2017-04</desc></g><g class=\"dots\"><circle class=\"dot reactive tooltip-trigger\" cx=\"524.0286727700396\" cy=\"444.007842282\" r=\"2.5\" /><desc class=\"value\">28</desc><desc class=\"x left top\">524.0286727700396</desc><desc class=\"y left top\">444.007842282</desc><desc class=\"x_label\">2017-05</desc></g><g class=\"dots\"><circle class=\"dot reactive tooltip-trigger\" cx=\"534.2436566446993\" cy=\"452.278454973\" r=\"2.5\" /><desc class=\"value\">24</desc><desc class=\"x left top\">534.2436566446993</desc><desc class=\"y left top\">452.278454973</desc><desc class=\"x_label\">2017-06</desc></g><g class=\"dots\"><circle class=\"dot reactive tooltip-trigger\" cx=\"544.4586405193589\" cy=\"452.278454973\" r=\"2.5\" /><desc class=\"value\">24</desc><desc class=\"x left top\">544.4586405193589</desc><desc class=\"y left top\">452.278454973</desc><desc class=\"x_label\">2017-07</desc></g><g class=\"dots\"><circle class=\"dot reactive tooltip-trigger\" cx=\"554.6736243940186\" cy=\"433.669576419\" r=\"2.5\" /><desc class=\"value\">33</desc><desc class=\"x left top\">554.6736243940186</desc><desc class=\"y left top\">433.669576419</desc><desc class=\"x_label\">2017-08</desc></g><g class=\"dots\"><circle class=\"dot reactive tooltip-trigger\" cx=\"564.8886082686781\" cy=\"450.2108018\" r=\"2.5\" /><desc class=\"value\">25</desc><desc class=\"x left top\">564.8886082686781</desc><desc class=\"y left top\">450.2108018</desc><desc class=\"x_label\">2017-09</desc></g><g class=\"dots\"><circle class=\"dot reactive tooltip-trigger\" cx=\"575.1035921433378\" cy=\"477.090293044\" r=\"2.5\" /><desc class=\"value\">12</desc><desc class=\"x left top\">575.1035921433378</desc><desc class=\"y left top\">477.090293044</desc><desc class=\"x_label\">2017-10</desc></g><g class=\"dots\"><circle class=\"dot reactive tooltip-trigger\" cx=\"585.3185760179975\" cy=\"481.225599389\" r=\"2.5\" /><desc class=\"value\">10</desc><desc class=\"x left top\">585.3185760179975</desc><desc class=\"y left top\">481.225599389</desc><desc class=\"x_label\">2017-11</desc></g><g class=\"dots\"><circle class=\"dot reactive tooltip-trigger\" cx=\"595.5335598926571\" cy=\"483.293252562\" r=\"2.5\" /><desc class=\"value\">9</desc><desc class=\"x left top\">595.5335598926571</desc><desc class=\"y left top\">483.293252562</desc><desc class=\"x_label\">2017-12</desc></g><g class=\"dots\"><circle class=\"dot reactive tooltip-trigger\" cx=\"605.7485437673168\" cy=\"497.76682477\" r=\"2.5\" /><desc class=\"value\">2</desc><desc class=\"x left top\">605.7485437673168</desc><desc class=\"y left top\">497.76682477</desc><desc class=\"x_label\">2018-01</desc></g><g class=\"dots\"><circle class=\"dot reactive tooltip-trigger\" cx=\"615.9635276419764\" cy=\"495.699171597\" r=\"2.5\" /><desc class=\"value\">3</desc><desc class=\"x left top\">615.9635276419764</desc><desc class=\"y left top\">495.699171597</desc><desc class=\"x_label\">2018-02</desc></g><g class=\"dots\"><circle class=\"dot reactive tooltip-trigger\" cx=\"626.1785115166361\" cy=\"477.090293044\" r=\"2.5\" /><desc class=\"value\">12</desc><desc class=\"x left top\">626.1785115166361</desc><desc class=\"y left top\">477.090293044</desc><desc class=\"x_label\">2018-03</desc></g><g class=\"dots\"><circle class=\"dot reactive tooltip-trigger\" cx=\"636.3934953912957\" cy=\"477.090293044\" r=\"2.5\" /><desc class=\"value\">12</desc><desc class=\"x left top\">636.3934953912957</desc><desc class=\"y left top\">477.090293044</desc><desc class=\"x_label\">2018-04</desc></g><g class=\"dots\"><circle class=\"dot reactive tooltip-trigger\" cx=\"646.6084792659553\" cy=\"450.2108018\" r=\"2.5\" /><desc class=\"value\">25</desc><desc class=\"x left top\">646.6084792659553</desc><desc class=\"y left top\">450.2108018</desc><desc class=\"x_label\">2018-05</desc></g><g class=\"dots\"><circle class=\"dot reactive tooltip-trigger\" cx=\"656.823463140615\" cy=\"448.143148627\" r=\"2.5\" /><desc class=\"value\">26</desc><desc class=\"x left top\">656.823463140615</desc><desc class=\"y left top\">448.143148627</desc><desc class=\"x_label\">2018-06</desc></g><g class=\"dots\"><circle class=\"dot reactive tooltip-trigger\" cx=\"667.0384470152746\" cy=\"381.978247105\" r=\"2.5\" /><desc class=\"value\">58</desc><desc class=\"x left top\">667.0384470152746</desc><desc class=\"y left top\">381.978247105</desc><desc class=\"x_label\">2018-07</desc></g><g class=\"dots\"><circle class=\"dot reactive tooltip-trigger\" cx=\"677.2534308899343\" cy=\"475.022639871\" r=\"2.5\" /><desc class=\"value\">13</desc><desc class=\"x left top\">677.2534308899343</desc><desc class=\"y left top\">475.022639871</desc><desc class=\"x_label\">2018-08</desc></g></g></g><g class=\"plot text-overlay\" transform=\"translate(70, 46)\"><g class=\"series serie-0 color-0\" /></g><g class=\"plot tooltip-overlay\" transform=\"translate(70, 46)\"><g class=\"tooltip\" style=\"opacity: 0\" transform=\"translate(0 0)\"><rect class=\"tooltip-box\" height=\"0\" rx=\"0\" ry=\"0\" width=\"0\" /><g class=\"text\" /></g></g><g class=\"legends\" transform=\"translate(10, 56)\"><g class=\"legend reactive activate-serie\" id=\"activate-serie-0\"><rect class=\"color-0 reactive\" height=\"12\" width=\"12\" x=\"0.0\" y=\"1.0\" /><text x=\"17.0\" y=\"11.2\" /></g></g><g class=\"legends\" transform=\"translate(770, 56)\" /></g></svg>"
      ]
     },
     "metadata": {},
     "output_type": "display_data"
    }
   ],
   "source": [
    "createChart(df, 'Total articles published on TechCabal', 'month total' )"
   ]
  },
  {
   "cell_type": "code",
   "execution_count": 379,
   "metadata": {},
   "outputs": [
    {
     "data": {
      "text/plain": [
       "65"
      ]
     },
     "execution_count": 379,
     "metadata": {},
     "output_type": "execute_result"
    }
   ],
   "source": [
    "len(chart) - 1"
   ]
  },
  {
   "cell_type": "code",
   "execution_count": 192,
   "metadata": {},
   "outputs": [
    {
     "data": {
      "image/png": "[encoded data removed]",
      "text/plain": [
       "<matplotlib.figure.Figure at 0x195ce3cac18>"
      ]
     },
     "metadata": {},
     "output_type": "display_data"
    }
   ],
   "source": [
    "createChart(df)"
   ]
  },
  {
   "cell_type": "code",
   "execution_count": 480,
   "metadata": {},
   "outputs": [
    {
     "data": {
      "image/svg+xml": [
       "<?xml version='1.0' encoding='utf-8'?>\n",
       "<svg xmlns:xlink=\"http://www.w3.org/1999/xlink\" class=\"pygal-chart\" id=\"chart-600daa1f-97fa-4021-b987-d8ce34adb0a8\" viewBox=\"0 0 800 600\" xmlns=\"http://www.w3.org/2000/svg\"><!--Generated with pygal 2.4.0 (etree) Â©Kozea 2012-2016 on 2018-08-25--><!--http://pygal.org--><!--http://github.com/Kozea/pygal--><defs><style type=\"text/css\">#chart-600daa1f-97fa-4021-b987-d8ce34adb0a8{-webkit-user-select:none;-webkit-font-smoothing:antialiased;font-family:Consolas,\"Liberation Mono\",Menlo,Courier,monospace}#chart-600daa1f-97fa-4021-b987-d8ce34adb0a8 .title{font-family:Consolas,\"Liberation Mono\",Menlo,Courier,monospace;font-size:16px}#chart-600daa1f-97fa-4021-b987-d8ce34adb0a8 .legends .legend text{font-family:Consolas,\"Liberation Mono\",Menlo,Courier,monospace;font-size:14px}#chart-600daa1f-97fa-4021-b987-d8ce34adb0a8 .axis text{font-family:Consolas,\"Liberation Mono\",Menlo,Courier,monospace;font-size:10px}#chart-600daa1f-97fa-4021-b987-d8ce34adb0a8 .axis text.major{font-family:Consolas,\"Liberation Mono\",Menlo,Courier,monospace;font-size:10px}#chart-600daa1f-97fa-4021-b987-d8ce34adb0a8 .text-overlay text.value{font-family:Consolas,\"Liberation Mono\",Menlo,Courier,monospace;font-size:16px}#chart-600daa1f-97fa-4021-b987-d8ce34adb0a8 .text-overlay text.label{font-family:Consolas,\"Liberation Mono\",Menlo,Courier,monospace;font-size:10px}#chart-600daa1f-97fa-4021-b987-d8ce34adb0a8 .tooltip{font-family:Consolas,\"Liberation Mono\",Menlo,Courier,monospace;font-size:14px}#chart-600daa1f-97fa-4021-b987-d8ce34adb0a8 text.no_data{font-family:Consolas,\"Liberation Mono\",Menlo,Courier,monospace;font-size:64px}\n",
       "#chart-600daa1f-97fa-4021-b987-d8ce34adb0a8{background-color:rgba(249,249,249,1)}#chart-600daa1f-97fa-4021-b987-d8ce34adb0a8 path,#chart-600daa1f-97fa-4021-b987-d8ce34adb0a8 line,#chart-600daa1f-97fa-4021-b987-d8ce34adb0a8 rect,#chart-600daa1f-97fa-4021-b987-d8ce34adb0a8 circle{-webkit-transition:150ms;-moz-transition:150ms;transition:150ms}#chart-600daa1f-97fa-4021-b987-d8ce34adb0a8 .graph &gt; .background{fill:rgba(249,249,249,1)}#chart-600daa1f-97fa-4021-b987-d8ce34adb0a8 .plot &gt; .background{fill:rgba(255,255,255,1)}#chart-600daa1f-97fa-4021-b987-d8ce34adb0a8 .graph{fill:rgba(0,0,0,.87)}#chart-600daa1f-97fa-4021-b987-d8ce34adb0a8 text.no_data{fill:rgba(0,0,0,1)}#chart-600daa1f-97fa-4021-b987-d8ce34adb0a8 .title{fill:rgba(0,0,0,1)}#chart-600daa1f-97fa-4021-b987-d8ce34adb0a8 .legends .legend text{fill:rgba(0,0,0,.87)}#chart-600daa1f-97fa-4021-b987-d8ce34adb0a8 .legends .legend:hover text{fill:rgba(0,0,0,1)}#chart-600daa1f-97fa-4021-b987-d8ce34adb0a8 .axis .line{stroke:rgba(0,0,0,1)}#chart-600daa1f-97fa-4021-b987-d8ce34adb0a8 .axis .guide.line{stroke:rgba(0,0,0,.54)}#chart-600daa1f-97fa-4021-b987-d8ce34adb0a8 .axis .major.line{stroke:rgba(0,0,0,.87)}#chart-600daa1f-97fa-4021-b987-d8ce34adb0a8 .axis text.major{fill:rgba(0,0,0,1)}#chart-600daa1f-97fa-4021-b987-d8ce34adb0a8 .axis.y .guides:hover .guide.line,#chart-600daa1f-97fa-4021-b987-d8ce34adb0a8 .line-graph .axis.x .guides:hover .guide.line,#chart-600daa1f-97fa-4021-b987-d8ce34adb0a8 .stackedline-graph .axis.x .guides:hover .guide.line,#chart-600daa1f-97fa-4021-b987-d8ce34adb0a8 .xy-graph .axis.x .guides:hover .guide.line{stroke:rgba(0,0,0,1)}#chart-600daa1f-97fa-4021-b987-d8ce34adb0a8 .axis .guides:hover text{fill:rgba(0,0,0,1)}#chart-600daa1f-97fa-4021-b987-d8ce34adb0a8 .reactive{fill-opacity:.7;stroke-opacity:.8}#chart-600daa1f-97fa-4021-b987-d8ce34adb0a8 .ci{stroke:rgba(0,0,0,.87)}#chart-600daa1f-97fa-4021-b987-d8ce34adb0a8 .reactive.active,#chart-600daa1f-97fa-4021-b987-d8ce34adb0a8 .active .reactive{fill-opacity:.8;stroke-opacity:.9;stroke-width:4}#chart-600daa1f-97fa-4021-b987-d8ce34adb0a8 .ci .reactive.active{stroke-width:1.5}#chart-600daa1f-97fa-4021-b987-d8ce34adb0a8 .series text{fill:rgba(0,0,0,1)}#chart-600daa1f-97fa-4021-b987-d8ce34adb0a8 .tooltip rect{fill:rgba(255,255,255,1);stroke:rgba(0,0,0,1);-webkit-transition:opacity 150ms;-moz-transition:opacity 150ms;transition:opacity 150ms}#chart-600daa1f-97fa-4021-b987-d8ce34adb0a8 .tooltip .label{fill:rgba(0,0,0,.87)}#chart-600daa1f-97fa-4021-b987-d8ce34adb0a8 .tooltip .label{fill:rgba(0,0,0,.87)}#chart-600daa1f-97fa-4021-b987-d8ce34adb0a8 .tooltip .legend{font-size:.8em;fill:rgba(0,0,0,.54)}#chart-600daa1f-97fa-4021-b987-d8ce34adb0a8 .tooltip .x_label{font-size:.6em;fill:rgba(0,0,0,1)}#chart-600daa1f-97fa-4021-b987-d8ce34adb0a8 .tooltip .xlink{font-size:.5em;text-decoration:underline}#chart-600daa1f-97fa-4021-b987-d8ce34adb0a8 .tooltip .value{font-size:1.5em}#chart-600daa1f-97fa-4021-b987-d8ce34adb0a8 .bound{font-size:.5em}#chart-600daa1f-97fa-4021-b987-d8ce34adb0a8 .max-value{font-size:.75em;fill:rgba(0,0,0,.54)}#chart-600daa1f-97fa-4021-b987-d8ce34adb0a8 .map-element{fill:rgba(255,255,255,1);stroke:rgba(0,0,0,.54) !important}#chart-600daa1f-97fa-4021-b987-d8ce34adb0a8 .map-element .reactive{fill-opacity:inherit;stroke-opacity:inherit}#chart-600daa1f-97fa-4021-b987-d8ce34adb0a8 .color-0,#chart-600daa1f-97fa-4021-b987-d8ce34adb0a8 .color-0 a:visited{stroke:#F44336;fill:#F44336}#chart-600daa1f-97fa-4021-b987-d8ce34adb0a8 .text-overlay .color-0 text{fill:black}\n",
       "#chart-600daa1f-97fa-4021-b987-d8ce34adb0a8 text.no_data{text-anchor:middle}#chart-600daa1f-97fa-4021-b987-d8ce34adb0a8 .guide.line{fill:none}#chart-600daa1f-97fa-4021-b987-d8ce34adb0a8 .centered{text-anchor:middle}#chart-600daa1f-97fa-4021-b987-d8ce34adb0a8 .title{text-anchor:middle}#chart-600daa1f-97fa-4021-b987-d8ce34adb0a8 .legends .legend text{fill-opacity:1}#chart-600daa1f-97fa-4021-b987-d8ce34adb0a8 .axis.x text{text-anchor:middle}#chart-600daa1f-97fa-4021-b987-d8ce34adb0a8 .axis.x:not(.web) text[transform]{text-anchor:start}#chart-600daa1f-97fa-4021-b987-d8ce34adb0a8 .axis.x:not(.web) text[transform].backwards{text-anchor:end}#chart-600daa1f-97fa-4021-b987-d8ce34adb0a8 .axis.y text{text-anchor:end}#chart-600daa1f-97fa-4021-b987-d8ce34adb0a8 .axis.y text[transform].backwards{text-anchor:start}#chart-600daa1f-97fa-4021-b987-d8ce34adb0a8 .axis.y2 text{text-anchor:start}#chart-600daa1f-97fa-4021-b987-d8ce34adb0a8 .axis.y2 text[transform].backwards{text-anchor:end}#chart-600daa1f-97fa-4021-b987-d8ce34adb0a8 .axis .guide.line{stroke-dasharray:4,4}#chart-600daa1f-97fa-4021-b987-d8ce34adb0a8 .axis .major.guide.line{stroke-dasharray:6,6}#chart-600daa1f-97fa-4021-b987-d8ce34adb0a8 .horizontal .axis.y .guide.line,#chart-600daa1f-97fa-4021-b987-d8ce34adb0a8 .horizontal .axis.y2 .guide.line,#chart-600daa1f-97fa-4021-b987-d8ce34adb0a8 .vertical .axis.x .guide.line{opacity:0}#chart-600daa1f-97fa-4021-b987-d8ce34adb0a8 .horizontal .axis.always_show .guide.line,#chart-600daa1f-97fa-4021-b987-d8ce34adb0a8 .vertical .axis.always_show .guide.line{opacity:1 !important}#chart-600daa1f-97fa-4021-b987-d8ce34adb0a8 .axis.y .guides:hover .guide.line,#chart-600daa1f-97fa-4021-b987-d8ce34adb0a8 .axis.y2 .guides:hover .guide.line,#chart-600daa1f-97fa-4021-b987-d8ce34adb0a8 .axis.x .guides:hover .guide.line{opacity:1}#chart-600daa1f-97fa-4021-b987-d8ce34adb0a8 .axis .guides:hover text{opacity:1}#chart-600daa1f-97fa-4021-b987-d8ce34adb0a8 .nofill{fill:none}#chart-600daa1f-97fa-4021-b987-d8ce34adb0a8 .subtle-fill{fill-opacity:.2}#chart-600daa1f-97fa-4021-b987-d8ce34adb0a8 .dot{stroke-width:1px;fill-opacity:1}#chart-600daa1f-97fa-4021-b987-d8ce34adb0a8 .dot.active{stroke-width:5px}#chart-600daa1f-97fa-4021-b987-d8ce34adb0a8 .dot.negative{fill:transparent}#chart-600daa1f-97fa-4021-b987-d8ce34adb0a8 text,#chart-600daa1f-97fa-4021-b987-d8ce34adb0a8 tspan{stroke:none !important}#chart-600daa1f-97fa-4021-b987-d8ce34adb0a8 .series text.active{opacity:1}#chart-600daa1f-97fa-4021-b987-d8ce34adb0a8 .tooltip rect{fill-opacity:.95;stroke-width:.5}#chart-600daa1f-97fa-4021-b987-d8ce34adb0a8 .tooltip text{fill-opacity:1}#chart-600daa1f-97fa-4021-b987-d8ce34adb0a8 .showable{visibility:hidden}#chart-600daa1f-97fa-4021-b987-d8ce34adb0a8 .showable.shown{visibility:visible}#chart-600daa1f-97fa-4021-b987-d8ce34adb0a8 .gauge-background{fill:rgba(229,229,229,1);stroke:none}#chart-600daa1f-97fa-4021-b987-d8ce34adb0a8 .bg-lines{stroke:rgba(249,249,249,1);stroke-width:2px}</style><script type=\"text/javascript\">window.pygal = window.pygal || {};window.pygal.config = window.pygal.config || {};window.pygal.config['600daa1f-97fa-4021-b987-d8ce34adb0a8'] = {\"allow_interruptions\": false, \"box_mode\": \"extremes\", \"classes\": [\"pygal-chart\"], \"css\": [\"file://style.css\", \"file://graph.css\"], \"defs\": [], \"disable_xml_declaration\": false, \"dots_size\": 2.5, \"dynamic_print_values\": false, \"explicit_size\": false, \"fill\": false, \"force_uri_protocol\": \"https\", \"formatter\": null, \"half_pie\": false, \"height\": 600, \"include_x_axis\": false, \"inner_radius\": 0, \"interpolate\": null, \"interpolation_parameters\": {}, \"interpolation_precision\": 250, \"inverse_y_axis\": false, \"js\": [\"//kozea.github.io/pygal.js/2.0.x/pygal-tooltips.min.js\"], \"legend_at_bottom\": false, \"legend_at_bottom_columns\": null, \"legend_box_size\": 12, \"logarithmic\": false, \"margin\": 20, \"margin_bottom\": null, \"margin_left\": null, \"margin_right\": null, \"margin_top\": null, \"max_scale\": 16, \"min_scale\": 4, \"missing_value_fill_truncation\": \"x\", \"no_data_text\": \"No data\", \"no_prefix\": false, \"order_min\": null, \"pretty_print\": false, \"print_labels\": false, \"print_values\": false, \"print_values_position\": \"center\", \"print_zeroes\": true, \"range\": null, \"rounded_bars\": null, \"secondary_range\": null, \"show_dots\": true, \"show_legend\": true, \"show_minor_x_labels\": false, \"show_minor_y_labels\": true, \"show_only_major_dots\": false, \"show_x_guides\": false, \"show_x_labels\": true, \"show_y_guides\": true, \"show_y_labels\": true, \"spacing\": 10, \"stack_from_top\": false, \"strict\": false, \"stroke\": true, \"stroke_style\": null, \"style\": {\"background\": \"rgba(249, 249, 249, 1)\", \"ci_colors\": [], \"colors\": [\"#F44336\", \"#3F51B5\", \"#009688\", \"#FFC107\", \"#FF5722\", \"#9C27B0\", \"#03A9F4\", \"#8BC34A\", \"#FF9800\", \"#E91E63\", \"#2196F3\", \"#4CAF50\", \"#FFEB3B\", \"#673AB7\", \"#00BCD4\", \"#CDDC39\", \"#9E9E9E\", \"#607D8B\"], \"font_family\": \"Consolas, \\\"Liberation Mono\\\", Menlo, Courier, monospace\", \"foreground\": \"rgba(0, 0, 0, .87)\", \"foreground_strong\": \"rgba(0, 0, 0, 1)\", \"foreground_subtle\": \"rgba(0, 0, 0, .54)\", \"guide_stroke_dasharray\": \"4,4\", \"label_font_family\": \"Consolas, \\\"Liberation Mono\\\", Menlo, Courier, monospace\", \"label_font_size\": 10, \"legend_font_family\": \"Consolas, \\\"Liberation Mono\\\", Menlo, Courier, monospace\", \"legend_font_size\": 14, \"major_guide_stroke_dasharray\": \"6,6\", \"major_label_font_family\": \"Consolas, \\\"Liberation Mono\\\", Menlo, Courier, monospace\", \"major_label_font_size\": 10, \"no_data_font_family\": \"Consolas, \\\"Liberation Mono\\\", Menlo, Courier, monospace\", \"no_data_font_size\": 64, \"opacity\": \".7\", \"opacity_hover\": \".8\", \"plot_background\": \"rgba(255, 255, 255, 1)\", \"stroke_opacity\": \".8\", \"stroke_opacity_hover\": \".9\", \"title_font_family\": \"Consolas, \\\"Liberation Mono\\\", Menlo, Courier, monospace\", \"title_font_size\": 16, \"tooltip_font_family\": \"Consolas, \\\"Liberation Mono\\\", Menlo, Courier, monospace\", \"tooltip_font_size\": 14, \"transition\": \"150ms\", \"value_background\": \"rgba(229, 229, 229, 1)\", \"value_colors\": [], \"value_font_family\": \"Consolas, \\\"Liberation Mono\\\", Menlo, Courier, monospace\", \"value_font_size\": 16, \"value_label_font_family\": \"Consolas, \\\"Liberation Mono\\\", Menlo, Courier, monospace\", \"value_label_font_size\": 10}, \"title\": \"Startup funding announcements in Techcabal headlines\", \"tooltip_border_radius\": 0, \"tooltip_fancy_mode\": true, \"truncate_label\": null, \"truncate_legend\": null, \"width\": 800, \"x_label_rotation\": 20, \"x_labels\": [\"2013-08\", \"2013-12\", \"2014-01\", \"2014-03\", \"2014-05\", \"2014-07\", \"2014-10\", \"2015-01\", \"2015-02\", \"2015-04\", \"2015-05\", \"2015-06\", \"2015-07\", \"2015-08\", \"2015-09\", \"2015-10\", \"2015-11\", \"2015-12\", \"2016-01\", \"2016-03\", \"2016-04\", \"2016-05\", \"2016-06\", \"2016-07\", \"2016-08\", \"2016-09\", \"2016-11\", \"2016-12\", \"2017-02\", \"2017-05\", \"2017-10\", \"2018-06\"], \"x_labels_major\": [\"2013-08\", \"2014-05\", \"2015-02\", \"2015-07\", \"2015-11\", \"2016-04\", \"2016-08\", \"2018-06\"], \"x_labels_major_count\": null, \"x_labels_major_every\": null, \"x_title\": null, \"xrange\": null, \"y_label_rotation\": 0, \"y_labels\": null, \"y_labels_major\": null, \"y_labels_major_count\": null, \"y_labels_major_every\": null, \"y_title\": null, \"zero\": 0, \"legends\": [\"\"]}</script><script type=\"text/javascript\" xlink:href=\"https://kozea.github.io/pygal.js/2.0.x/pygal-tooltips.min.js\" /></defs><title>Startup funding announcements in Techcabal headlines</title><g class=\"graph line-graph vertical\"><rect class=\"background\" height=\"600\" width=\"800\" x=\"0\" y=\"0\" /><g class=\"plot\" transform=\"translate(64, 46)\"><rect class=\"background\" height=\"509.6351539803219\" width=\"696.5329099269918\" x=\"0\" y=\"0\" /><g class=\"axis y always_show\"><path class=\"line\" d=\"M0.000000 509.635154 h696.532910\" /><g class=\"guides\"><path class=\"guide line\" d=\"M0.000000 499.834478 h696.532910\" /><text class=\"\" x=\"-5\" y=\"503.334477942\">1</text><title>1</title></g><g class=\"guides\"><path class=\"guide line\" d=\"M0.000000 445.386278 h696.532910\" /><text class=\"\" x=\"-5\" y=\"448.886277731\">2</text><title>2</title></g><g class=\"guides\"><path class=\"guide line\" d=\"M0.000000 390.938078 h696.532910\" /><text class=\"\" x=\"-5\" y=\"394.438077519\">3</text><title>3</title></g><g class=\"guides\"><path class=\"guide line\" d=\"M0.000000 336.489877 h696.532910\" /><text class=\"\" x=\"-5\" y=\"339.989877308\">4</text><title>4</title></g><g class=\"guides\"><path class=\"major guide line\" d=\"M0.000000 282.041677 h696.532910\" /><text class=\"major\" x=\"-5\" y=\"285.541677096\">5</text><title>5</title></g><g class=\"guides\"><path class=\"guide line\" d=\"M0.000000 227.593477 h696.532910\" /><text class=\"\" x=\"-5\" y=\"231.093476884\">6</text><title>6</title></g><g class=\"guides\"><path class=\"guide line\" d=\"M0.000000 173.145277 h696.532910\" /><text class=\"\" x=\"-5\" y=\"176.645276673\">7</text><title>7</title></g><g class=\"guides\"><path class=\"guide line\" d=\"M0.000000 118.697076 h696.532910\" /><text class=\"\" x=\"-5\" y=\"122.197076461\">8</text><title>8</title></g><g class=\"guides\"><path class=\"guide line\" d=\"M0.000000 64.248876 h696.532910\" /><text class=\"\" x=\"-5\" y=\"67.7488762497\">9</text><title>9</title></g><g class=\"guides\"><path class=\"major guide line\" d=\"M0.000000 9.800676 h696.532910\" /><text class=\"major\" x=\"-5\" y=\"13.3006760381\">10</text><title>10</title></g></g><g class=\"axis x\"><g class=\"guides\"><path class=\"major line\" d=\"M13.394864 0.000000 v509.635154\" /><text class=\"major\" transform=\"rotate(20 13.394864 524.635154)\" x=\"13.39486365244215\" y=\"524.6351539803219\">2013-08</text></g><g class=\"guides\"><path class=\"major guide line\" d=\"M99.813339 0.000000 v509.635154\" /><text class=\"major\" transform=\"rotate(20 99.813339 524.635154)\" x=\"99.81333882948826\" y=\"524.6351539803219\">2014-05</text></g><g class=\"guides\"><path class=\"major guide line\" d=\"M186.231814 0.000000 v509.635154\" /><text class=\"major\" transform=\"rotate(20 186.231814 524.635154)\" x=\"186.2318140065344\" y=\"524.6351539803219\">2015-02</text></g><g class=\"guides\"><path class=\"major guide line\" d=\"M272.650289 0.000000 v509.635154\" /><text class=\"major\" transform=\"rotate(20 272.650289 524.635154)\" x=\"272.6502891835805\" y=\"524.6351539803219\">2015-07</text></g><g class=\"guides\"><path class=\"major guide line\" d=\"M359.068764 0.000000 v509.635154\" /><text class=\"major\" transform=\"rotate(20 359.068764 524.635154)\" x=\"359.06876436062663\" y=\"524.6351539803219\">2015-11</text></g><g class=\"guides\"><path class=\"major guide line\" d=\"M445.487240 0.000000 v509.635154\" /><text class=\"major\" transform=\"rotate(20 445.487240 524.635154)\" x=\"445.4872395376728\" y=\"524.6351539803219\">2016-04</text></g><g class=\"guides\"><path class=\"major guide line\" d=\"M531.905715 0.000000 v509.635154\" /><text class=\"major\" transform=\"rotate(20 531.905715 524.635154)\" x=\"531.9057147147189\" y=\"524.6351539803219\">2016-08</text></g><g class=\"guides\"><path class=\"major guide line\" d=\"M683.138046 0.000000 v509.635154\" /><text class=\"major\" transform=\"rotate(20 683.138046 524.635154)\" x=\"683.1380462745497\" y=\"524.6351539803219\">2018-06</text></g></g><g class=\"series serie-0 color-0\"><path class=\"line reactive nofill\" d=\"M13.394864 499.834478 L34.999482 499.834478 56.604101 499.834478 78.208720 445.386278 99.813339 390.938078 121.417958 499.834478 143.022576 499.834478 164.627195 227.593477 186.231814 9.800676 207.836433 499.834478 229.441052 227.593477 251.045670 336.489877 272.650289 227.593477 294.254908 282.041677 315.859527 336.489877 337.464146 336.489877 359.068764 336.489877 380.673383 336.489877 402.278002 445.386278 423.882621 336.489877 445.487240 390.938078 467.091858 445.386278 488.696477 390.938078 510.301096 499.834478 531.905715 445.386278 553.510334 390.938078 575.114952 173.145277 596.719571 499.834478 618.324190 499.834478 639.928809 499.834478 661.533427 445.386278 683.138046 445.386278\" /></g></g><g class=\"titles\"><text class=\"title plot_title\" x=\"400.0\" y=\"26\">Startup funding announcements in Techcabal headlines</text></g><g class=\"plot overlay\" transform=\"translate(64, 46)\"><g class=\"series serie-0 color-0\"><g class=\"dots\"><circle class=\"dot reactive tooltip-trigger\" cx=\"13.39486365244215\" cy=\"499.834477942\" r=\"2.5\" /><desc class=\"value\">1</desc><desc class=\"x top\">13.39486365244215</desc><desc class=\"y top\">499.834477942</desc><desc class=\"x_label\">2013-08</desc></g><g class=\"dots\"><circle class=\"dot reactive tooltip-trigger\" cx=\"34.99948244670368\" cy=\"499.834477942\" r=\"2.5\" /><desc class=\"value\">1</desc><desc class=\"x top\">34.99948244670368</desc><desc class=\"y top\">499.834477942</desc><desc class=\"x_label\">2013-12</desc></g><g class=\"dots\"><circle class=\"dot reactive tooltip-trigger\" cx=\"56.604101240965214\" cy=\"499.834477942\" r=\"2.5\" /><desc class=\"value\">1</desc><desc class=\"x top\">56.604101240965214</desc><desc class=\"y top\">499.834477942</desc><desc class=\"x_label\">2014-01</desc></g><g class=\"dots\"><circle class=\"dot reactive tooltip-trigger\" cx=\"78.20872003522675\" cy=\"445.386277731\" r=\"2.5\" /><desc class=\"value\">2</desc><desc class=\"x top\">78.20872003522675</desc><desc class=\"y top\">445.386277731</desc><desc class=\"x_label\">2014-03</desc></g><g class=\"dots\"><circle class=\"dot reactive tooltip-trigger\" cx=\"99.81333882948826\" cy=\"390.938077519\" r=\"2.5\" /><desc class=\"value\">3</desc><desc class=\"x top\">99.81333882948826</desc><desc class=\"y top\">390.938077519</desc><desc class=\"x_label\">2014-05</desc></g><g class=\"dots\"><circle class=\"dot reactive tooltip-trigger\" cx=\"121.4179576237498\" cy=\"499.834477942\" r=\"2.5\" /><desc class=\"value\">1</desc><desc class=\"x top\">121.4179576237498</desc><desc class=\"y top\">499.834477942</desc><desc class=\"x_label\">2014-07</desc></g><g class=\"dots\"><circle class=\"dot reactive tooltip-trigger\" cx=\"143.02257641801134\" cy=\"499.834477942\" r=\"2.5\" /><desc class=\"value\">1</desc><desc class=\"x top\">143.02257641801134</desc><desc class=\"y top\">499.834477942</desc><desc class=\"x_label\">2014-10</desc></g><g class=\"dots\"><circle class=\"dot reactive tooltip-trigger\" cx=\"164.62719521227285\" cy=\"227.593476884\" r=\"2.5\" /><desc class=\"value\">6</desc><desc class=\"x \">164.62719521227285</desc><desc class=\"y \">227.593476884</desc><desc class=\"x_label\">2015-01</desc></g><g class=\"dots\"><circle class=\"dot reactive tooltip-trigger\" cx=\"186.2318140065344\" cy=\"9.80067603808\" r=\"2.5\" /><desc class=\"value\">10</desc><desc class=\"x \">186.2318140065344</desc><desc class=\"y \">9.80067603808</desc><desc class=\"x_label\">2015-02</desc></g><g class=\"dots\"><circle class=\"dot reactive tooltip-trigger\" cx=\"207.83643280079596\" cy=\"499.834477942\" r=\"2.5\" /><desc class=\"value\">1</desc><desc class=\"x top\">207.83643280079596</desc><desc class=\"y top\">499.834477942</desc><desc class=\"x_label\">2015-04</desc></g><g class=\"dots\"><circle class=\"dot reactive tooltip-trigger\" cx=\"229.44105159505747\" cy=\"227.593476884\" r=\"2.5\" /><desc class=\"value\">6</desc><desc class=\"x \">229.44105159505747</desc><desc class=\"y \">227.593476884</desc><desc class=\"x_label\">2015-05</desc></g><g class=\"dots\"><circle class=\"dot reactive tooltip-trigger\" cx=\"251.04567038931904\" cy=\"336.489877308\" r=\"2.5\" /><desc class=\"value\">4</desc><desc class=\"x top\">251.04567038931904</desc><desc class=\"y top\">336.489877308</desc><desc class=\"x_label\">2015-06</desc></g><g class=\"dots\"><circle class=\"dot reactive tooltip-trigger\" cx=\"272.6502891835805\" cy=\"227.593476884\" r=\"2.5\" /><desc class=\"value\">6</desc><desc class=\"x \">272.6502891835805</desc><desc class=\"y \">227.593476884</desc><desc class=\"x_label\">2015-07</desc></g><g class=\"dots\"><circle class=\"dot reactive tooltip-trigger\" cx=\"294.2549079778421\" cy=\"282.041677096\" r=\"2.5\" /><desc class=\"value\">5</desc><desc class=\"x top\">294.2549079778421</desc><desc class=\"y top\">282.041677096</desc><desc class=\"x_label\">2015-08</desc></g><g class=\"dots\"><circle class=\"dot reactive tooltip-trigger\" cx=\"315.8595267721036\" cy=\"336.489877308\" r=\"2.5\" /><desc class=\"value\">4</desc><desc class=\"x top\">315.8595267721036</desc><desc class=\"y top\">336.489877308</desc><desc class=\"x_label\">2015-09</desc></g><g class=\"dots\"><circle class=\"dot reactive tooltip-trigger\" cx=\"337.4641455663652\" cy=\"336.489877308\" r=\"2.5\" /><desc class=\"value\">4</desc><desc class=\"x top\">337.4641455663652</desc><desc class=\"y top\">336.489877308</desc><desc class=\"x_label\">2015-10</desc></g><g class=\"dots\"><circle class=\"dot reactive tooltip-trigger\" cx=\"359.06876436062663\" cy=\"336.489877308\" r=\"2.5\" /><desc class=\"value\">4</desc><desc class=\"x left top\">359.06876436062663</desc><desc class=\"y left top\">336.489877308</desc><desc class=\"x_label\">2015-11</desc></g><g class=\"dots\"><circle class=\"dot reactive tooltip-trigger\" cx=\"380.6733831548882\" cy=\"336.489877308\" r=\"2.5\" /><desc class=\"value\">4</desc><desc class=\"x left top\">380.6733831548882</desc><desc class=\"y left top\">336.489877308</desc><desc class=\"x_label\">2015-12</desc></g><g class=\"dots\"><circle class=\"dot reactive tooltip-trigger\" cx=\"402.2780019491497\" cy=\"445.386277731\" r=\"2.5\" /><desc class=\"value\">2</desc><desc class=\"x left top\">402.2780019491497</desc><desc class=\"y left top\">445.386277731</desc><desc class=\"x_label\">2016-01</desc></g><g class=\"dots\"><circle class=\"dot reactive tooltip-trigger\" cx=\"423.8826207434113\" cy=\"336.489877308\" r=\"2.5\" /><desc class=\"value\">4</desc><desc class=\"x left top\">423.8826207434113</desc><desc class=\"y left top\">336.489877308</desc><desc class=\"x_label\">2016-03</desc></g><g class=\"dots\"><circle class=\"dot reactive tooltip-trigger\" cx=\"445.4872395376728\" cy=\"390.938077519\" r=\"2.5\" /><desc class=\"value\">3</desc><desc class=\"x left top\">445.4872395376728</desc><desc class=\"y left top\">390.938077519</desc><desc class=\"x_label\">2016-04</desc></g><g class=\"dots\"><circle class=\"dot reactive tooltip-trigger\" cx=\"467.0918583319343\" cy=\"445.386277731\" r=\"2.5\" /><desc class=\"value\">2</desc><desc class=\"x left top\">467.0918583319343</desc><desc class=\"y left top\">445.386277731</desc><desc class=\"x_label\">2016-05</desc></g><g class=\"dots\"><circle class=\"dot reactive tooltip-trigger\" cx=\"488.69647712619593\" cy=\"390.938077519\" r=\"2.5\" /><desc class=\"value\">3</desc><desc class=\"x left top\">488.69647712619593</desc><desc class=\"y left top\">390.938077519</desc><desc class=\"x_label\">2016-06</desc></g><g class=\"dots\"><circle class=\"dot reactive tooltip-trigger\" cx=\"510.3010959204574\" cy=\"499.834477942\" r=\"2.5\" /><desc class=\"value\">1</desc><desc class=\"x left top\">510.3010959204574</desc><desc class=\"y left top\">499.834477942</desc><desc class=\"x_label\">2016-07</desc></g><g class=\"dots\"><circle class=\"dot reactive tooltip-trigger\" cx=\"531.9057147147189\" cy=\"445.386277731\" r=\"2.5\" /><desc class=\"value\">2</desc><desc class=\"x left top\">531.9057147147189</desc><desc class=\"y left top\">445.386277731</desc><desc class=\"x_label\">2016-08</desc></g><g class=\"dots\"><circle class=\"dot reactive tooltip-trigger\" cx=\"553.5103335089804\" cy=\"390.938077519\" r=\"2.5\" /><desc class=\"value\">3</desc><desc class=\"x left top\">553.5103335089804</desc><desc class=\"y left top\">390.938077519</desc><desc class=\"x_label\">2016-09</desc></g><g class=\"dots\"><circle class=\"dot reactive tooltip-trigger\" cx=\"575.1149523032419\" cy=\"173.145276673\" r=\"2.5\" /><desc class=\"value\">7</desc><desc class=\"x left\">575.1149523032419</desc><desc class=\"y left\">173.145276673</desc><desc class=\"x_label\">2016-11</desc></g><g class=\"dots\"><circle class=\"dot reactive tooltip-trigger\" cx=\"596.7195710975036\" cy=\"499.834477942\" r=\"2.5\" /><desc class=\"value\">1</desc><desc class=\"x left top\">596.7195710975036</desc><desc class=\"y left top\">499.834477942</desc><desc class=\"x_label\">2016-12</desc></g><g class=\"dots\"><circle class=\"dot reactive tooltip-trigger\" cx=\"618.3241898917651\" cy=\"499.834477942\" r=\"2.5\" /><desc class=\"value\">1</desc><desc class=\"x left top\">618.3241898917651</desc><desc class=\"y left top\">499.834477942</desc><desc class=\"x_label\">2017-02</desc></g><g class=\"dots\"><circle class=\"dot reactive tooltip-trigger\" cx=\"639.9288086860265\" cy=\"499.834477942\" r=\"2.5\" /><desc class=\"value\">1</desc><desc class=\"x left top\">639.9288086860265</desc><desc class=\"y left top\">499.834477942</desc><desc class=\"x_label\">2017-05</desc></g><g class=\"dots\"><circle class=\"dot reactive tooltip-trigger\" cx=\"661.5334274802882\" cy=\"445.386277731\" r=\"2.5\" /><desc class=\"value\">2</desc><desc class=\"x left top\">661.5334274802882</desc><desc class=\"y left top\">445.386277731</desc><desc class=\"x_label\">2017-10</desc></g><g class=\"dots\"><circle class=\"dot reactive tooltip-trigger\" cx=\"683.1380462745497\" cy=\"445.386277731\" r=\"2.5\" /><desc class=\"value\">2</desc><desc class=\"x left top\">683.1380462745497</desc><desc class=\"y left top\">445.386277731</desc><desc class=\"x_label\">2018-06</desc></g></g></g><g class=\"plot text-overlay\" transform=\"translate(64, 46)\"><g class=\"series serie-0 color-0\" /></g><g class=\"plot tooltip-overlay\" transform=\"translate(64, 46)\"><g class=\"tooltip\" style=\"opacity: 0\" transform=\"translate(0 0)\"><rect class=\"tooltip-box\" height=\"0\" rx=\"0\" ry=\"0\" width=\"0\" /><g class=\"text\" /></g></g><g class=\"legends\" transform=\"translate(10, 56)\"><g class=\"legend reactive activate-serie\" id=\"activate-serie-0\"><rect class=\"color-0 reactive\" height=\"12\" width=\"12\" x=\"0.0\" y=\"1.0\" /><text x=\"17.0\" y=\"11.2\" /></g></g><g class=\"legends\" transform=\"translate(770, 56)\" /></g></svg>"
      ]
     },
     "metadata": {},
     "output_type": "display_data"
    }
   ],
   "source": [
    "createChart(funding, 'Startup funding announcements in Techcabal headlines', 'funding announcement')"
   ]
  },
  {
   "cell_type": "code",
   "execution_count": 324,
   "metadata": {
    "scrolled": true
   },
   "outputs": [
    {
     "data": {
      "image/png": "[encoded data removed]",
      "text/plain": [
       "<matplotlib.figure.Figure at 0x195d0376dd8>"
      ]
     },
     "metadata": {},
     "output_type": "display_data"
    }
   ],
   "source": [
    "createChart(funding)"
   ]
  },
  {
   "cell_type": "code",
   "execution_count": 383,
   "metadata": {},
   "outputs": [
    {
     "ename": "TypeError",
     "evalue": "createChart() missing 2 required positional arguments: 'title' and 'name'",
     "output_type": "error",
     "traceback": [
      "\u001b[1;31m---------------------------------------------------------------------------\u001b[0m",
      "\u001b[1;31mTypeError\u001b[0m                                 Traceback (most recent call last)",
      "\u001b[1;32m<ipython-input-383-eb8e4a74cfab>\u001b[0m in \u001b[0;36m<module>\u001b[1;34m()\u001b[0m\n\u001b[1;32m----> 1\u001b[1;33m \u001b[0mcreateChart\u001b[0m\u001b[1;33m(\u001b[0m\u001b[0macquisition\u001b[0m\u001b[1;33m)\u001b[0m\u001b[1;33m\u001b[0m\u001b[0m\n\u001b[0m",
      "\u001b[1;31mTypeError\u001b[0m: createChart() missing 2 required positional arguments: 'title' and 'name'"
     ]
    }
   ],
   "source": [
    "createChart(acquisition, )"
   ]
  },
  {
   "cell_type": "code",
   "execution_count": 384,
   "metadata": {},
   "outputs": [
    {
     "data": {
      "image/svg+xml": [
       "<?xml version='1.0' encoding='utf-8'?>\n",
       "<svg xmlns:xlink=\"http://www.w3.org/1999/xlink\" class=\"pygal-chart\" id=\"chart-66816536-a692-43d7-9822-b4f3030be546\" viewBox=\"0 0 800 600\" xmlns=\"http://www.w3.org/2000/svg\"><!--Generated with pygal 2.4.0 (etree) Â©Kozea 2012-2016 on 2018-08-24--><!--http://pygal.org--><!--http://github.com/Kozea/pygal--><defs><style type=\"text/css\">#chart-66816536-a692-43d7-9822-b4f3030be546{-webkit-user-select:none;-webkit-font-smoothing:antialiased;font-family:Consolas,\"Liberation Mono\",Menlo,Courier,monospace}#chart-66816536-a692-43d7-9822-b4f3030be546 .title{font-family:Consolas,\"Liberation Mono\",Menlo,Courier,monospace;font-size:16px}#chart-66816536-a692-43d7-9822-b4f3030be546 .legends .legend text{font-family:Consolas,\"Liberation Mono\",Menlo,Courier,monospace;font-size:14px}#chart-66816536-a692-43d7-9822-b4f3030be546 .axis text{font-family:Consolas,\"Liberation Mono\",Menlo,Courier,monospace;font-size:10px}#chart-66816536-a692-43d7-9822-b4f3030be546 .axis text.major{font-family:Consolas,\"Liberation Mono\",Menlo,Courier,monospace;font-size:10px}#chart-66816536-a692-43d7-9822-b4f3030be546 .text-overlay text.value{font-family:Consolas,\"Liberation Mono\",Menlo,Courier,monospace;font-size:16px}#chart-66816536-a692-43d7-9822-b4f3030be546 .text-overlay text.label{font-family:Consolas,\"Liberation Mono\",Menlo,Courier,monospace;font-size:10px}#chart-66816536-a692-43d7-9822-b4f3030be546 .tooltip{font-family:Consolas,\"Liberation Mono\",Menlo,Courier,monospace;font-size:14px}#chart-66816536-a692-43d7-9822-b4f3030be546 text.no_data{font-family:Consolas,\"Liberation Mono\",Menlo,Courier,monospace;font-size:64px}\n",
       "#chart-66816536-a692-43d7-9822-b4f3030be546{background-color:rgba(249,249,249,1)}#chart-66816536-a692-43d7-9822-b4f3030be546 path,#chart-66816536-a692-43d7-9822-b4f3030be546 line,#chart-66816536-a692-43d7-9822-b4f3030be546 rect,#chart-66816536-a692-43d7-9822-b4f3030be546 circle{-webkit-transition:150ms;-moz-transition:150ms;transition:150ms}#chart-66816536-a692-43d7-9822-b4f3030be546 .graph &gt; .background{fill:rgba(249,249,249,1)}#chart-66816536-a692-43d7-9822-b4f3030be546 .plot &gt; .background{fill:rgba(255,255,255,1)}#chart-66816536-a692-43d7-9822-b4f3030be546 .graph{fill:rgba(0,0,0,.87)}#chart-66816536-a692-43d7-9822-b4f3030be546 text.no_data{fill:rgba(0,0,0,1)}#chart-66816536-a692-43d7-9822-b4f3030be546 .title{fill:rgba(0,0,0,1)}#chart-66816536-a692-43d7-9822-b4f3030be546 .legends .legend text{fill:rgba(0,0,0,.87)}#chart-66816536-a692-43d7-9822-b4f3030be546 .legends .legend:hover text{fill:rgba(0,0,0,1)}#chart-66816536-a692-43d7-9822-b4f3030be546 .axis .line{stroke:rgba(0,0,0,1)}#chart-66816536-a692-43d7-9822-b4f3030be546 .axis .guide.line{stroke:rgba(0,0,0,.54)}#chart-66816536-a692-43d7-9822-b4f3030be546 .axis .major.line{stroke:rgba(0,0,0,.87)}#chart-66816536-a692-43d7-9822-b4f3030be546 .axis text.major{fill:rgba(0,0,0,1)}#chart-66816536-a692-43d7-9822-b4f3030be546 .axis.y .guides:hover .guide.line,#chart-66816536-a692-43d7-9822-b4f3030be546 .line-graph .axis.x .guides:hover .guide.line,#chart-66816536-a692-43d7-9822-b4f3030be546 .stackedline-graph .axis.x .guides:hover .guide.line,#chart-66816536-a692-43d7-9822-b4f3030be546 .xy-graph .axis.x .guides:hover .guide.line{stroke:rgba(0,0,0,1)}#chart-66816536-a692-43d7-9822-b4f3030be546 .axis .guides:hover text{fill:rgba(0,0,0,1)}#chart-66816536-a692-43d7-9822-b4f3030be546 .reactive{fill-opacity:.7;stroke-opacity:.8}#chart-66816536-a692-43d7-9822-b4f3030be546 .ci{stroke:rgba(0,0,0,.87)}#chart-66816536-a692-43d7-9822-b4f3030be546 .reactive.active,#chart-66816536-a692-43d7-9822-b4f3030be546 .active .reactive{fill-opacity:.8;stroke-opacity:.9;stroke-width:4}#chart-66816536-a692-43d7-9822-b4f3030be546 .ci .reactive.active{stroke-width:1.5}#chart-66816536-a692-43d7-9822-b4f3030be546 .series text{fill:rgba(0,0,0,1)}#chart-66816536-a692-43d7-9822-b4f3030be546 .tooltip rect{fill:rgba(255,255,255,1);stroke:rgba(0,0,0,1);-webkit-transition:opacity 150ms;-moz-transition:opacity 150ms;transition:opacity 150ms}#chart-66816536-a692-43d7-9822-b4f3030be546 .tooltip .label{fill:rgba(0,0,0,.87)}#chart-66816536-a692-43d7-9822-b4f3030be546 .tooltip .label{fill:rgba(0,0,0,.87)}#chart-66816536-a692-43d7-9822-b4f3030be546 .tooltip .legend{font-size:.8em;fill:rgba(0,0,0,.54)}#chart-66816536-a692-43d7-9822-b4f3030be546 .tooltip .x_label{font-size:.6em;fill:rgba(0,0,0,1)}#chart-66816536-a692-43d7-9822-b4f3030be546 .tooltip .xlink{font-size:.5em;text-decoration:underline}#chart-66816536-a692-43d7-9822-b4f3030be546 .tooltip .value{font-size:1.5em}#chart-66816536-a692-43d7-9822-b4f3030be546 .bound{font-size:.5em}#chart-66816536-a692-43d7-9822-b4f3030be546 .max-value{font-size:.75em;fill:rgba(0,0,0,.54)}#chart-66816536-a692-43d7-9822-b4f3030be546 .map-element{fill:rgba(255,255,255,1);stroke:rgba(0,0,0,.54) !important}#chart-66816536-a692-43d7-9822-b4f3030be546 .map-element .reactive{fill-opacity:inherit;stroke-opacity:inherit}#chart-66816536-a692-43d7-9822-b4f3030be546 .color-0,#chart-66816536-a692-43d7-9822-b4f3030be546 .color-0 a:visited{stroke:#F44336;fill:#F44336}#chart-66816536-a692-43d7-9822-b4f3030be546 .text-overlay .color-0 text{fill:black}\n",
       "#chart-66816536-a692-43d7-9822-b4f3030be546 text.no_data{text-anchor:middle}#chart-66816536-a692-43d7-9822-b4f3030be546 .guide.line{fill:none}#chart-66816536-a692-43d7-9822-b4f3030be546 .centered{text-anchor:middle}#chart-66816536-a692-43d7-9822-b4f3030be546 .title{text-anchor:middle}#chart-66816536-a692-43d7-9822-b4f3030be546 .legends .legend text{fill-opacity:1}#chart-66816536-a692-43d7-9822-b4f3030be546 .axis.x text{text-anchor:middle}#chart-66816536-a692-43d7-9822-b4f3030be546 .axis.x:not(.web) text[transform]{text-anchor:start}#chart-66816536-a692-43d7-9822-b4f3030be546 .axis.x:not(.web) text[transform].backwards{text-anchor:end}#chart-66816536-a692-43d7-9822-b4f3030be546 .axis.y text{text-anchor:end}#chart-66816536-a692-43d7-9822-b4f3030be546 .axis.y text[transform].backwards{text-anchor:start}#chart-66816536-a692-43d7-9822-b4f3030be546 .axis.y2 text{text-anchor:start}#chart-66816536-a692-43d7-9822-b4f3030be546 .axis.y2 text[transform].backwards{text-anchor:end}#chart-66816536-a692-43d7-9822-b4f3030be546 .axis .guide.line{stroke-dasharray:4,4}#chart-66816536-a692-43d7-9822-b4f3030be546 .axis .major.guide.line{stroke-dasharray:6,6}#chart-66816536-a692-43d7-9822-b4f3030be546 .horizontal .axis.y .guide.line,#chart-66816536-a692-43d7-9822-b4f3030be546 .horizontal .axis.y2 .guide.line,#chart-66816536-a692-43d7-9822-b4f3030be546 .vertical .axis.x .guide.line{opacity:0}#chart-66816536-a692-43d7-9822-b4f3030be546 .horizontal .axis.always_show .guide.line,#chart-66816536-a692-43d7-9822-b4f3030be546 .vertical .axis.always_show .guide.line{opacity:1 !important}#chart-66816536-a692-43d7-9822-b4f3030be546 .axis.y .guides:hover .guide.line,#chart-66816536-a692-43d7-9822-b4f3030be546 .axis.y2 .guides:hover .guide.line,#chart-66816536-a692-43d7-9822-b4f3030be546 .axis.x .guides:hover .guide.line{opacity:1}#chart-66816536-a692-43d7-9822-b4f3030be546 .axis .guides:hover text{opacity:1}#chart-66816536-a692-43d7-9822-b4f3030be546 .nofill{fill:none}#chart-66816536-a692-43d7-9822-b4f3030be546 .subtle-fill{fill-opacity:.2}#chart-66816536-a692-43d7-9822-b4f3030be546 .dot{stroke-width:1px;fill-opacity:1}#chart-66816536-a692-43d7-9822-b4f3030be546 .dot.active{stroke-width:5px}#chart-66816536-a692-43d7-9822-b4f3030be546 .dot.negative{fill:transparent}#chart-66816536-a692-43d7-9822-b4f3030be546 text,#chart-66816536-a692-43d7-9822-b4f3030be546 tspan{stroke:none !important}#chart-66816536-a692-43d7-9822-b4f3030be546 .series text.active{opacity:1}#chart-66816536-a692-43d7-9822-b4f3030be546 .tooltip rect{fill-opacity:.95;stroke-width:.5}#chart-66816536-a692-43d7-9822-b4f3030be546 .tooltip text{fill-opacity:1}#chart-66816536-a692-43d7-9822-b4f3030be546 .showable{visibility:hidden}#chart-66816536-a692-43d7-9822-b4f3030be546 .showable.shown{visibility:visible}#chart-66816536-a692-43d7-9822-b4f3030be546 .gauge-background{fill:rgba(229,229,229,1);stroke:none}#chart-66816536-a692-43d7-9822-b4f3030be546 .bg-lines{stroke:rgba(249,249,249,1);stroke-width:2px}</style><script type=\"text/javascript\">window.pygal = window.pygal || {};window.pygal.config = window.pygal.config || {};window.pygal.config['66816536-a692-43d7-9822-b4f3030be546'] = {\"allow_interruptions\": false, \"box_mode\": \"extremes\", \"classes\": [\"pygal-chart\"], \"css\": [\"file://style.css\", \"file://graph.css\"], \"defs\": [], \"disable_xml_declaration\": false, \"dots_size\": 2.5, \"dynamic_print_values\": false, \"explicit_size\": false, \"fill\": false, \"force_uri_protocol\": \"https\", \"formatter\": null, \"half_pie\": false, \"height\": 600, \"include_x_axis\": false, \"inner_radius\": 0, \"interpolate\": null, \"interpolation_parameters\": {}, \"interpolation_precision\": 250, \"inverse_y_axis\": false, \"js\": [\"//kozea.github.io/pygal.js/2.0.x/pygal-tooltips.min.js\"], \"legend_at_bottom\": false, \"legend_at_bottom_columns\": null, \"legend_box_size\": 12, \"logarithmic\": false, \"margin\": 20, \"margin_bottom\": null, \"margin_left\": null, \"margin_right\": null, \"margin_top\": null, \"max_scale\": 16, \"min_scale\": 4, \"missing_value_fill_truncation\": \"x\", \"no_data_text\": \"No data\", \"no_prefix\": false, \"order_min\": null, \"pretty_print\": false, \"print_labels\": false, \"print_values\": false, \"print_values_position\": \"center\", \"print_zeroes\": true, \"range\": null, \"rounded_bars\": null, \"secondary_range\": null, \"show_dots\": true, \"show_legend\": true, \"show_minor_x_labels\": false, \"show_minor_y_labels\": true, \"show_only_major_dots\": false, \"show_x_guides\": false, \"show_x_labels\": true, \"show_y_guides\": true, \"show_y_labels\": true, \"spacing\": 10, \"stack_from_top\": false, \"strict\": false, \"stroke\": true, \"stroke_style\": null, \"style\": {\"background\": \"rgba(249, 249, 249, 1)\", \"ci_colors\": [], \"colors\": [\"#F44336\", \"#3F51B5\", \"#009688\", \"#FFC107\", \"#FF5722\", \"#9C27B0\", \"#03A9F4\", \"#8BC34A\", \"#FF9800\", \"#E91E63\", \"#2196F3\", \"#4CAF50\", \"#FFEB3B\", \"#673AB7\", \"#00BCD4\", \"#CDDC39\", \"#9E9E9E\", \"#607D8B\"], \"font_family\": \"Consolas, \\\"Liberation Mono\\\", Menlo, Courier, monospace\", \"foreground\": \"rgba(0, 0, 0, .87)\", \"foreground_strong\": \"rgba(0, 0, 0, 1)\", \"foreground_subtle\": \"rgba(0, 0, 0, .54)\", \"guide_stroke_dasharray\": \"4,4\", \"label_font_family\": \"Consolas, \\\"Liberation Mono\\\", Menlo, Courier, monospace\", \"label_font_size\": 10, \"legend_font_family\": \"Consolas, \\\"Liberation Mono\\\", Menlo, Courier, monospace\", \"legend_font_size\": 14, \"major_guide_stroke_dasharray\": \"6,6\", \"major_label_font_family\": \"Consolas, \\\"Liberation Mono\\\", Menlo, Courier, monospace\", \"major_label_font_size\": 10, \"no_data_font_family\": \"Consolas, \\\"Liberation Mono\\\", Menlo, Courier, monospace\", \"no_data_font_size\": 64, \"opacity\": \".7\", \"opacity_hover\": \".8\", \"plot_background\": \"rgba(255, 255, 255, 1)\", \"stroke_opacity\": \".8\", \"stroke_opacity_hover\": \".9\", \"title_font_family\": \"Consolas, \\\"Liberation Mono\\\", Menlo, Courier, monospace\", \"title_font_size\": 16, \"tooltip_font_family\": \"Consolas, \\\"Liberation Mono\\\", Menlo, Courier, monospace\", \"tooltip_font_size\": 14, \"transition\": \"150ms\", \"value_background\": \"rgba(229, 229, 229, 1)\", \"value_colors\": [], \"value_font_family\": \"Consolas, \\\"Liberation Mono\\\", Menlo, Courier, monospace\", \"value_font_size\": 16, \"value_label_font_family\": \"Consolas, \\\"Liberation Mono\\\", Menlo, Courier, monospace\", \"value_label_font_size\": 10}, \"title\": \"Startup acquisiton announcements in Techcabal headlines\", \"tooltip_border_radius\": 0, \"tooltip_fancy_mode\": true, \"truncate_label\": null, \"truncate_legend\": null, \"width\": 800, \"x_label_rotation\": 20, \"x_labels\": [\"2013-05\", \"2014-01\", \"2014-06\", \"2014-08\", \"2015-01\", \"2015-04\", \"2015-05\", \"2015-06\", \"2015-08\", \"2015-10\", \"2015-11\", \"2016-01\", \"2016-02\", \"2016-03\", \"2016-04\", \"2016-06\", \"2016-10\"], \"x_labels_major\": [\"2013-05\", \"2014-06\", \"2015-01\", \"2015-05\", \"2015-08\", \"2015-11\", \"2016-02\", \"2016-10\"], \"x_labels_major_count\": null, \"x_labels_major_every\": null, \"x_title\": null, \"xrange\": null, \"y_label_rotation\": 0, \"y_labels\": null, \"y_labels_major\": null, \"y_labels_major_count\": null, \"y_labels_major_every\": null, \"y_title\": null, \"zero\": 0, \"legends\": [\"\"]}</script><script type=\"text/javascript\" xlink:href=\"https://kozea.github.io/pygal.js/2.0.x/pygal-tooltips.min.js\" /></defs><title>Startup acquisiton announcements in Techcabal headlines</title><g class=\"graph line-graph vertical\"><rect class=\"background\" height=\"600\" width=\"800\" x=\"0\" y=\"0\" /><g class=\"plot\" transform=\"translate(70, 46)\"><rect class=\"background\" height=\"509.6351539803219\" width=\"690.5329099269918\" x=\"0\" y=\"0\" /><g class=\"axis y always_show\"><path class=\"line\" d=\"M0.000000 509.635154 h690.532910\" /><g class=\"guides\"><path class=\"major guide line\" d=\"M0.000000 499.834478 h690.532910\" /><text class=\"major\" x=\"-5\" y=\"503.334477942\">1</text><title>1</title></g><g class=\"guides\"><path class=\"guide line\" d=\"M0.000000 450.831098 h690.532910\" /><text class=\"\" x=\"-5\" y=\"454.331097752\">1.2</text><title>1.2</title></g><g class=\"guides\"><path class=\"guide line\" d=\"M0.000000 401.827718 h690.532910\" /><text class=\"\" x=\"-5\" y=\"405.327717561\">1.4</text><title>1.4</title></g><g class=\"guides\"><path class=\"guide line\" d=\"M0.000000 352.824337 h690.532910\" /><text class=\"\" x=\"-5\" y=\"356.324337371\">1.6</text><title>1.6</title></g><g class=\"guides\"><path class=\"guide line\" d=\"M0.000000 303.820957 h690.532910\" /><text class=\"\" x=\"-5\" y=\"307.320957181\">1.8</text><title>1.8</title></g><g class=\"guides\"><path class=\"major guide line\" d=\"M0.000000 254.817577 h690.532910\" /><text class=\"major\" x=\"-5\" y=\"258.31757699\">2</text><title>2</title></g><g class=\"guides\"><path class=\"guide line\" d=\"M0.000000 205.814197 h690.532910\" /><text class=\"\" x=\"-5\" y=\"209.3141968\">2.2</text><title>2.2</title></g><g class=\"guides\"><path class=\"guide line\" d=\"M0.000000 156.810817 h690.532910\" /><text class=\"\" x=\"-5\" y=\"160.310816609\">2.4</text><title>2.4</title></g><g class=\"guides\"><path class=\"guide line\" d=\"M0.000000 107.807436 h690.532910\" /><text class=\"\" x=\"-5\" y=\"111.307436419\">2.6</text><title>2.6</title></g><g class=\"guides\"><path class=\"guide line\" d=\"M0.000000 58.804056 h690.532910\" /><text class=\"\" x=\"-5\" y=\"62.3040562285\">2.8</text><title>2.8</title></g><g class=\"guides\"><path class=\"major guide line\" d=\"M0.000000 9.800676 h690.532910\" /><text class=\"major\" x=\"-5\" y=\"13.3006760381\">3</text><title>3</title></g></g><g class=\"axis x\"><g class=\"guides\"><path class=\"major line\" d=\"M13.279479 0.000000 v509.635154\" /><text class=\"major\" transform=\"rotate(20 13.279479 524.635154)\" x=\"13.279479037057536\" y=\"524.6351539803219\">2013-05</text></g><g class=\"guides\"><path class=\"major guide line\" d=\"M96.276223 0.000000 v509.635154\" /><text class=\"major\" transform=\"rotate(20 96.276223 524.635154)\" x=\"96.27622301866711\" y=\"524.6351539803219\">2014-06</text></g><g class=\"guides\"><path class=\"major guide line\" d=\"M179.272967 0.000000 v509.635154\" /><text class=\"major\" transform=\"rotate(20 179.272967 524.635154)\" x=\"179.2729670002767\" y=\"524.6351539803219\">2015-01</text></g><g class=\"guides\"><path class=\"major guide line\" d=\"M262.269711 0.000000 v509.635154\" /><text class=\"major\" transform=\"rotate(20 262.269711 524.635154)\" x=\"262.2697109818863\" y=\"524.6351539803219\">2015-05</text></g><g class=\"guides\"><path class=\"major guide line\" d=\"M345.266455 0.000000 v509.635154\" /><text class=\"major\" transform=\"rotate(20 345.266455 524.635154)\" x=\"345.2664549634959\" y=\"524.6351539803219\">2015-08</text></g><g class=\"guides\"><path class=\"major guide line\" d=\"M428.263199 0.000000 v509.635154\" /><text class=\"major\" transform=\"rotate(20 428.263199 524.635154)\" x=\"428.2631989451055\" y=\"524.6351539803219\">2015-11</text></g><g class=\"guides\"><path class=\"major guide line\" d=\"M511.259943 0.000000 v509.635154\" /><text class=\"major\" transform=\"rotate(20 511.259943 524.635154)\" x=\"511.25994292671515\" y=\"524.6351539803219\">2016-02</text></g><g class=\"guides\"><path class=\"major guide line\" d=\"M677.253431 0.000000 v509.635154\" /><text class=\"major\" transform=\"rotate(20 677.253431 524.635154)\" x=\"677.2534308899343\" y=\"524.6351539803219\">2016-10</text></g></g><g class=\"series serie-0 color-0\"><path class=\"line reactive nofill\" d=\"M13.279479 499.834478 L54.777851 499.834478 96.276223 499.834478 137.774595 499.834478 179.272967 254.817577 220.771339 254.817577 262.269711 499.834478 303.768083 254.817577 345.266455 9.800676 386.764827 499.834478 428.263199 254.817577 469.761571 499.834478 511.259943 499.834478 552.758315 499.834478 594.256687 499.834478 635.755059 254.817577 677.253431 499.834478\" /></g></g><g class=\"titles\"><text class=\"title plot_title\" x=\"400.0\" y=\"26\">Startup acquisiton announcements in Techcabal headlines</text></g><g class=\"plot overlay\" transform=\"translate(70, 46)\"><g class=\"series serie-0 color-0\"><g class=\"dots\"><circle class=\"dot reactive tooltip-trigger\" cx=\"13.279479037057536\" cy=\"499.834477942\" r=\"2.5\" /><desc class=\"value\">1</desc><desc class=\"x top\">13.279479037057536</desc><desc class=\"y top\">499.834477942</desc><desc class=\"x_label\">2013-05</desc></g><g class=\"dots\"><circle class=\"dot reactive tooltip-trigger\" cx=\"54.77785102786233\" cy=\"499.834477942\" r=\"2.5\" /><desc class=\"value\">1</desc><desc class=\"x top\">54.77785102786233</desc><desc class=\"y top\">499.834477942</desc><desc class=\"x_label\">2014-01</desc></g><g class=\"dots\"><circle class=\"dot reactive tooltip-trigger\" cx=\"96.27622301866711\" cy=\"499.834477942\" r=\"2.5\" /><desc class=\"value\">1</desc><desc class=\"x top\">96.27622301866711</desc><desc class=\"y top\">499.834477942</desc><desc class=\"x_label\">2014-06</desc></g><g class=\"dots\"><circle class=\"dot reactive tooltip-trigger\" cx=\"137.7745950094719\" cy=\"499.834477942\" r=\"2.5\" /><desc class=\"value\">1</desc><desc class=\"x top\">137.7745950094719</desc><desc class=\"y top\">499.834477942</desc><desc class=\"x_label\">2014-08</desc></g><g class=\"dots\"><circle class=\"dot reactive tooltip-trigger\" cx=\"179.2729670002767\" cy=\"254.81757699\" r=\"2.5\" /><desc class=\"value\">2</desc><desc class=\"x \">179.2729670002767</desc><desc class=\"y \">254.81757699</desc><desc class=\"x_label\">2015-01</desc></g><g class=\"dots\"><circle class=\"dot reactive tooltip-trigger\" cx=\"220.77133899108154\" cy=\"254.81757699\" r=\"2.5\" /><desc class=\"value\">2</desc><desc class=\"x \">220.77133899108154</desc><desc class=\"y \">254.81757699</desc><desc class=\"x_label\">2015-04</desc></g><g class=\"dots\"><circle class=\"dot reactive tooltip-trigger\" cx=\"262.2697109818863\" cy=\"499.834477942\" r=\"2.5\" /><desc class=\"value\">1</desc><desc class=\"x top\">262.2697109818863</desc><desc class=\"y top\">499.834477942</desc><desc class=\"x_label\">2015-05</desc></g><g class=\"dots\"><circle class=\"dot reactive tooltip-trigger\" cx=\"303.7680829726911\" cy=\"254.81757699\" r=\"2.5\" /><desc class=\"value\">2</desc><desc class=\"x \">303.7680829726911</desc><desc class=\"y \">254.81757699</desc><desc class=\"x_label\">2015-06</desc></g><g class=\"dots\"><circle class=\"dot reactive tooltip-trigger\" cx=\"345.2664549634959\" cy=\"9.80067603808\" r=\"2.5\" /><desc class=\"value\">3</desc><desc class=\"x \">345.2664549634959</desc><desc class=\"y \">9.80067603808</desc><desc class=\"x_label\">2015-08</desc></g><g class=\"dots\"><circle class=\"dot reactive tooltip-trigger\" cx=\"386.7648269543007\" cy=\"499.834477942\" r=\"2.5\" /><desc class=\"value\">1</desc><desc class=\"x left top\">386.7648269543007</desc><desc class=\"y left top\">499.834477942</desc><desc class=\"x_label\">2015-10</desc></g><g class=\"dots\"><circle class=\"dot reactive tooltip-trigger\" cx=\"428.2631989451055\" cy=\"254.81757699\" r=\"2.5\" /><desc class=\"value\">2</desc><desc class=\"x left\">428.2631989451055</desc><desc class=\"y left\">254.81757699</desc><desc class=\"x_label\">2015-11</desc></g><g class=\"dots\"><circle class=\"dot reactive tooltip-trigger\" cx=\"469.76157093591024\" cy=\"499.834477942\" r=\"2.5\" /><desc class=\"value\">1</desc><desc class=\"x left top\">469.76157093591024</desc><desc class=\"y left top\">499.834477942</desc><desc class=\"x_label\">2016-01</desc></g><g class=\"dots\"><circle class=\"dot reactive tooltip-trigger\" cx=\"511.25994292671515\" cy=\"499.834477942\" r=\"2.5\" /><desc class=\"value\">1</desc><desc class=\"x left top\">511.25994292671515</desc><desc class=\"y left top\">499.834477942</desc><desc class=\"x_label\">2016-02</desc></g><g class=\"dots\"><circle class=\"dot reactive tooltip-trigger\" cx=\"552.7583149175199\" cy=\"499.834477942\" r=\"2.5\" /><desc class=\"value\">1</desc><desc class=\"x left top\">552.7583149175199</desc><desc class=\"y left top\">499.834477942</desc><desc class=\"x_label\">2016-03</desc></g><g class=\"dots\"><circle class=\"dot reactive tooltip-trigger\" cx=\"594.2566869083246\" cy=\"499.834477942\" r=\"2.5\" /><desc class=\"value\">1</desc><desc class=\"x left top\">594.2566869083246</desc><desc class=\"y left top\">499.834477942</desc><desc class=\"x_label\">2016-04</desc></g><g class=\"dots\"><circle class=\"dot reactive tooltip-trigger\" cx=\"635.7550588991295\" cy=\"254.81757699\" r=\"2.5\" /><desc class=\"value\">2</desc><desc class=\"x left\">635.7550588991295</desc><desc class=\"y left\">254.81757699</desc><desc class=\"x_label\">2016-06</desc></g><g class=\"dots\"><circle class=\"dot reactive tooltip-trigger\" cx=\"677.2534308899343\" cy=\"499.834477942\" r=\"2.5\" /><desc class=\"value\">1</desc><desc class=\"x left top\">677.2534308899343</desc><desc class=\"y left top\">499.834477942</desc><desc class=\"x_label\">2016-10</desc></g></g></g><g class=\"plot text-overlay\" transform=\"translate(70, 46)\"><g class=\"series serie-0 color-0\" /></g><g class=\"plot tooltip-overlay\" transform=\"translate(70, 46)\"><g class=\"tooltip\" style=\"opacity: 0\" transform=\"translate(0 0)\"><rect class=\"tooltip-box\" height=\"0\" rx=\"0\" ry=\"0\" width=\"0\" /><g class=\"text\" /></g></g><g class=\"legends\" transform=\"translate(10, 56)\"><g class=\"legend reactive activate-serie\" id=\"activate-serie-0\"><rect class=\"color-0 reactive\" height=\"12\" width=\"12\" x=\"0.0\" y=\"1.0\" /><text x=\"17.0\" y=\"11.2\" /></g></g><g class=\"legends\" transform=\"translate(770, 56)\" /></g></svg>"
      ]
     },
     "metadata": {},
     "output_type": "display_data"
    }
   ],
   "source": [
    "createChart(acquisition, 'Startup acquisiton announcements in Techcabal headlines', '')"
   ]
  },
  {
   "cell_type": "code",
   "execution_count": 385,
   "metadata": {},
   "outputs": [],
   "source": [
    "spons = df[df['sponsored'] == True]"
   ]
  },
  {
   "cell_type": "code",
   "execution_count": 196,
   "metadata": {},
   "outputs": [
    {
     "data": {
      "image/png": "[encoded data removed]",
      "text/plain": [
       "<matplotlib.figure.Figure at 0x195cdef7240>"
      ]
     },
     "metadata": {},
     "output_type": "display_data"
    }
   ],
   "source": [
    "createChart(spons)"
   ]
  },
  {
   "cell_type": "code",
   "execution_count": 386,
   "metadata": {},
   "outputs": [
    {
     "data": {
      "image/svg+xml": [
       "<?xml version='1.0' encoding='utf-8'?>\n",
       "<svg xmlns:xlink=\"http://www.w3.org/1999/xlink\" class=\"pygal-chart\" id=\"chart-cb799b56-be1c-4344-ba65-518e9477d35b\" viewBox=\"0 0 800 600\" xmlns=\"http://www.w3.org/2000/svg\"><!--Generated with pygal 2.4.0 (etree) Â©Kozea 2012-2016 on 2018-08-24--><!--http://pygal.org--><!--http://github.com/Kozea/pygal--><defs><style type=\"text/css\">#chart-cb799b56-be1c-4344-ba65-518e9477d35b{-webkit-user-select:none;-webkit-font-smoothing:antialiased;font-family:Consolas,\"Liberation Mono\",Menlo,Courier,monospace}#chart-cb799b56-be1c-4344-ba65-518e9477d35b .title{font-family:Consolas,\"Liberation Mono\",Menlo,Courier,monospace;font-size:16px}#chart-cb799b56-be1c-4344-ba65-518e9477d35b .legends .legend text{font-family:Consolas,\"Liberation Mono\",Menlo,Courier,monospace;font-size:14px}#chart-cb799b56-be1c-4344-ba65-518e9477d35b .axis text{font-family:Consolas,\"Liberation Mono\",Menlo,Courier,monospace;font-size:10px}#chart-cb799b56-be1c-4344-ba65-518e9477d35b .axis text.major{font-family:Consolas,\"Liberation Mono\",Menlo,Courier,monospace;font-size:10px}#chart-cb799b56-be1c-4344-ba65-518e9477d35b .text-overlay text.value{font-family:Consolas,\"Liberation Mono\",Menlo,Courier,monospace;font-size:16px}#chart-cb799b56-be1c-4344-ba65-518e9477d35b .text-overlay text.label{font-family:Consolas,\"Liberation Mono\",Menlo,Courier,monospace;font-size:10px}#chart-cb799b56-be1c-4344-ba65-518e9477d35b .tooltip{font-family:Consolas,\"Liberation Mono\",Menlo,Courier,monospace;font-size:14px}#chart-cb799b56-be1c-4344-ba65-518e9477d35b text.no_data{font-family:Consolas,\"Liberation Mono\",Menlo,Courier,monospace;font-size:64px}\n",
       "#chart-cb799b56-be1c-4344-ba65-518e9477d35b{background-color:rgba(249,249,249,1)}#chart-cb799b56-be1c-4344-ba65-518e9477d35b path,#chart-cb799b56-be1c-4344-ba65-518e9477d35b line,#chart-cb799b56-be1c-4344-ba65-518e9477d35b rect,#chart-cb799b56-be1c-4344-ba65-518e9477d35b circle{-webkit-transition:150ms;-moz-transition:150ms;transition:150ms}#chart-cb799b56-be1c-4344-ba65-518e9477d35b .graph &gt; .background{fill:rgba(249,249,249,1)}#chart-cb799b56-be1c-4344-ba65-518e9477d35b .plot &gt; .background{fill:rgba(255,255,255,1)}#chart-cb799b56-be1c-4344-ba65-518e9477d35b .graph{fill:rgba(0,0,0,.87)}#chart-cb799b56-be1c-4344-ba65-518e9477d35b text.no_data{fill:rgba(0,0,0,1)}#chart-cb799b56-be1c-4344-ba65-518e9477d35b .title{fill:rgba(0,0,0,1)}#chart-cb799b56-be1c-4344-ba65-518e9477d35b .legends .legend text{fill:rgba(0,0,0,.87)}#chart-cb799b56-be1c-4344-ba65-518e9477d35b .legends .legend:hover text{fill:rgba(0,0,0,1)}#chart-cb799b56-be1c-4344-ba65-518e9477d35b .axis .line{stroke:rgba(0,0,0,1)}#chart-cb799b56-be1c-4344-ba65-518e9477d35b .axis .guide.line{stroke:rgba(0,0,0,.54)}#chart-cb799b56-be1c-4344-ba65-518e9477d35b .axis .major.line{stroke:rgba(0,0,0,.87)}#chart-cb799b56-be1c-4344-ba65-518e9477d35b .axis text.major{fill:rgba(0,0,0,1)}#chart-cb799b56-be1c-4344-ba65-518e9477d35b .axis.y .guides:hover .guide.line,#chart-cb799b56-be1c-4344-ba65-518e9477d35b .line-graph .axis.x .guides:hover .guide.line,#chart-cb799b56-be1c-4344-ba65-518e9477d35b .stackedline-graph .axis.x .guides:hover .guide.line,#chart-cb799b56-be1c-4344-ba65-518e9477d35b .xy-graph .axis.x .guides:hover .guide.line{stroke:rgba(0,0,0,1)}#chart-cb799b56-be1c-4344-ba65-518e9477d35b .axis .guides:hover text{fill:rgba(0,0,0,1)}#chart-cb799b56-be1c-4344-ba65-518e9477d35b .reactive{fill-opacity:.7;stroke-opacity:.8}#chart-cb799b56-be1c-4344-ba65-518e9477d35b .ci{stroke:rgba(0,0,0,.87)}#chart-cb799b56-be1c-4344-ba65-518e9477d35b .reactive.active,#chart-cb799b56-be1c-4344-ba65-518e9477d35b .active .reactive{fill-opacity:.8;stroke-opacity:.9;stroke-width:4}#chart-cb799b56-be1c-4344-ba65-518e9477d35b .ci .reactive.active{stroke-width:1.5}#chart-cb799b56-be1c-4344-ba65-518e9477d35b .series text{fill:rgba(0,0,0,1)}#chart-cb799b56-be1c-4344-ba65-518e9477d35b .tooltip rect{fill:rgba(255,255,255,1);stroke:rgba(0,0,0,1);-webkit-transition:opacity 150ms;-moz-transition:opacity 150ms;transition:opacity 150ms}#chart-cb799b56-be1c-4344-ba65-518e9477d35b .tooltip .label{fill:rgba(0,0,0,.87)}#chart-cb799b56-be1c-4344-ba65-518e9477d35b .tooltip .label{fill:rgba(0,0,0,.87)}#chart-cb799b56-be1c-4344-ba65-518e9477d35b .tooltip .legend{font-size:.8em;fill:rgba(0,0,0,.54)}#chart-cb799b56-be1c-4344-ba65-518e9477d35b .tooltip .x_label{font-size:.6em;fill:rgba(0,0,0,1)}#chart-cb799b56-be1c-4344-ba65-518e9477d35b .tooltip .xlink{font-size:.5em;text-decoration:underline}#chart-cb799b56-be1c-4344-ba65-518e9477d35b .tooltip .value{font-size:1.5em}#chart-cb799b56-be1c-4344-ba65-518e9477d35b .bound{font-size:.5em}#chart-cb799b56-be1c-4344-ba65-518e9477d35b .max-value{font-size:.75em;fill:rgba(0,0,0,.54)}#chart-cb799b56-be1c-4344-ba65-518e9477d35b .map-element{fill:rgba(255,255,255,1);stroke:rgba(0,0,0,.54) !important}#chart-cb799b56-be1c-4344-ba65-518e9477d35b .map-element .reactive{fill-opacity:inherit;stroke-opacity:inherit}#chart-cb799b56-be1c-4344-ba65-518e9477d35b .color-0,#chart-cb799b56-be1c-4344-ba65-518e9477d35b .color-0 a:visited{stroke:#F44336;fill:#F44336}#chart-cb799b56-be1c-4344-ba65-518e9477d35b .text-overlay .color-0 text{fill:black}\n",
       "#chart-cb799b56-be1c-4344-ba65-518e9477d35b text.no_data{text-anchor:middle}#chart-cb799b56-be1c-4344-ba65-518e9477d35b .guide.line{fill:none}#chart-cb799b56-be1c-4344-ba65-518e9477d35b .centered{text-anchor:middle}#chart-cb799b56-be1c-4344-ba65-518e9477d35b .title{text-anchor:middle}#chart-cb799b56-be1c-4344-ba65-518e9477d35b .legends .legend text{fill-opacity:1}#chart-cb799b56-be1c-4344-ba65-518e9477d35b .axis.x text{text-anchor:middle}#chart-cb799b56-be1c-4344-ba65-518e9477d35b .axis.x:not(.web) text[transform]{text-anchor:start}#chart-cb799b56-be1c-4344-ba65-518e9477d35b .axis.x:not(.web) text[transform].backwards{text-anchor:end}#chart-cb799b56-be1c-4344-ba65-518e9477d35b .axis.y text{text-anchor:end}#chart-cb799b56-be1c-4344-ba65-518e9477d35b .axis.y text[transform].backwards{text-anchor:start}#chart-cb799b56-be1c-4344-ba65-518e9477d35b .axis.y2 text{text-anchor:start}#chart-cb799b56-be1c-4344-ba65-518e9477d35b .axis.y2 text[transform].backwards{text-anchor:end}#chart-cb799b56-be1c-4344-ba65-518e9477d35b .axis .guide.line{stroke-dasharray:4,4}#chart-cb799b56-be1c-4344-ba65-518e9477d35b .axis .major.guide.line{stroke-dasharray:6,6}#chart-cb799b56-be1c-4344-ba65-518e9477d35b .horizontal .axis.y .guide.line,#chart-cb799b56-be1c-4344-ba65-518e9477d35b .horizontal .axis.y2 .guide.line,#chart-cb799b56-be1c-4344-ba65-518e9477d35b .vertical .axis.x .guide.line{opacity:0}#chart-cb799b56-be1c-4344-ba65-518e9477d35b .horizontal .axis.always_show .guide.line,#chart-cb799b56-be1c-4344-ba65-518e9477d35b .vertical .axis.always_show .guide.line{opacity:1 !important}#chart-cb799b56-be1c-4344-ba65-518e9477d35b .axis.y .guides:hover .guide.line,#chart-cb799b56-be1c-4344-ba65-518e9477d35b .axis.y2 .guides:hover .guide.line,#chart-cb799b56-be1c-4344-ba65-518e9477d35b .axis.x .guides:hover .guide.line{opacity:1}#chart-cb799b56-be1c-4344-ba65-518e9477d35b .axis .guides:hover text{opacity:1}#chart-cb799b56-be1c-4344-ba65-518e9477d35b .nofill{fill:none}#chart-cb799b56-be1c-4344-ba65-518e9477d35b .subtle-fill{fill-opacity:.2}#chart-cb799b56-be1c-4344-ba65-518e9477d35b .dot{stroke-width:1px;fill-opacity:1}#chart-cb799b56-be1c-4344-ba65-518e9477d35b .dot.active{stroke-width:5px}#chart-cb799b56-be1c-4344-ba65-518e9477d35b .dot.negative{fill:transparent}#chart-cb799b56-be1c-4344-ba65-518e9477d35b text,#chart-cb799b56-be1c-4344-ba65-518e9477d35b tspan{stroke:none !important}#chart-cb799b56-be1c-4344-ba65-518e9477d35b .series text.active{opacity:1}#chart-cb799b56-be1c-4344-ba65-518e9477d35b .tooltip rect{fill-opacity:.95;stroke-width:.5}#chart-cb799b56-be1c-4344-ba65-518e9477d35b .tooltip text{fill-opacity:1}#chart-cb799b56-be1c-4344-ba65-518e9477d35b .showable{visibility:hidden}#chart-cb799b56-be1c-4344-ba65-518e9477d35b .showable.shown{visibility:visible}#chart-cb799b56-be1c-4344-ba65-518e9477d35b .gauge-background{fill:rgba(229,229,229,1);stroke:none}#chart-cb799b56-be1c-4344-ba65-518e9477d35b .bg-lines{stroke:rgba(249,249,249,1);stroke-width:2px}</style><script type=\"text/javascript\">window.pygal = window.pygal || {};window.pygal.config = window.pygal.config || {};window.pygal.config['cb799b56-be1c-4344-ba65-518e9477d35b'] = {\"allow_interruptions\": false, \"box_mode\": \"extremes\", \"classes\": [\"pygal-chart\"], \"css\": [\"file://style.css\", \"file://graph.css\"], \"defs\": [], \"disable_xml_declaration\": false, \"dots_size\": 2.5, \"dynamic_print_values\": false, \"explicit_size\": false, \"fill\": false, \"force_uri_protocol\": \"https\", \"formatter\": null, \"half_pie\": false, \"height\": 600, \"include_x_axis\": false, \"inner_radius\": 0, \"interpolate\": null, \"interpolation_parameters\": {}, \"interpolation_precision\": 250, \"inverse_y_axis\": false, \"js\": [\"//kozea.github.io/pygal.js/2.0.x/pygal-tooltips.min.js\"], \"legend_at_bottom\": false, \"legend_at_bottom_columns\": null, \"legend_box_size\": 12, \"logarithmic\": false, \"margin\": 20, \"margin_bottom\": null, \"margin_left\": null, \"margin_right\": null, \"margin_top\": null, \"max_scale\": 16, \"min_scale\": 4, \"missing_value_fill_truncation\": \"x\", \"no_data_text\": \"No data\", \"no_prefix\": false, \"order_min\": null, \"pretty_print\": false, \"print_labels\": false, \"print_values\": false, \"print_values_position\": \"center\", \"print_zeroes\": true, \"range\": null, \"rounded_bars\": null, \"secondary_range\": null, \"show_dots\": true, \"show_legend\": true, \"show_minor_x_labels\": false, \"show_minor_y_labels\": true, \"show_only_major_dots\": false, \"show_x_guides\": false, \"show_x_labels\": true, \"show_y_guides\": true, \"show_y_labels\": true, \"spacing\": 10, \"stack_from_top\": false, \"strict\": false, \"stroke\": true, \"stroke_style\": null, \"style\": {\"background\": \"rgba(249, 249, 249, 1)\", \"ci_colors\": [], \"colors\": [\"#F44336\", \"#3F51B5\", \"#009688\", \"#FFC107\", \"#FF5722\", \"#9C27B0\", \"#03A9F4\", \"#8BC34A\", \"#FF9800\", \"#E91E63\", \"#2196F3\", \"#4CAF50\", \"#FFEB3B\", \"#673AB7\", \"#00BCD4\", \"#CDDC39\", \"#9E9E9E\", \"#607D8B\"], \"font_family\": \"Consolas, \\\"Liberation Mono\\\", Menlo, Courier, monospace\", \"foreground\": \"rgba(0, 0, 0, .87)\", \"foreground_strong\": \"rgba(0, 0, 0, 1)\", \"foreground_subtle\": \"rgba(0, 0, 0, .54)\", \"guide_stroke_dasharray\": \"4,4\", \"label_font_family\": \"Consolas, \\\"Liberation Mono\\\", Menlo, Courier, monospace\", \"label_font_size\": 10, \"legend_font_family\": \"Consolas, \\\"Liberation Mono\\\", Menlo, Courier, monospace\", \"legend_font_size\": 14, \"major_guide_stroke_dasharray\": \"6,6\", \"major_label_font_family\": \"Consolas, \\\"Liberation Mono\\\", Menlo, Courier, monospace\", \"major_label_font_size\": 10, \"no_data_font_family\": \"Consolas, \\\"Liberation Mono\\\", Menlo, Courier, monospace\", \"no_data_font_size\": 64, \"opacity\": \".7\", \"opacity_hover\": \".8\", \"plot_background\": \"rgba(255, 255, 255, 1)\", \"stroke_opacity\": \".8\", \"stroke_opacity_hover\": \".9\", \"title_font_family\": \"Consolas, \\\"Liberation Mono\\\", Menlo, Courier, monospace\", \"title_font_size\": 16, \"tooltip_font_family\": \"Consolas, \\\"Liberation Mono\\\", Menlo, Courier, monospace\", \"tooltip_font_size\": 14, \"transition\": \"150ms\", \"value_background\": \"rgba(229, 229, 229, 1)\", \"value_colors\": [], \"value_font_family\": \"Consolas, \\\"Liberation Mono\\\", Menlo, Courier, monospace\", \"value_font_size\": 16, \"value_label_font_family\": \"Consolas, \\\"Liberation Mono\\\", Menlo, Courier, monospace\", \"value_label_font_size\": 10}, \"title\": \"Sponsored articles in Techcabal\", \"tooltip_border_radius\": 0, \"tooltip_fancy_mode\": true, \"truncate_label\": null, \"truncate_legend\": null, \"width\": 800, \"x_label_rotation\": 20, \"x_labels\": [\"2013-09\", \"2014-01\", \"2014-03\", \"2014-04\", \"2014-05\", \"2014-09\", \"2014-10\", \"2014-11\", \"2014-12\", \"2015-01\", \"2015-02\", \"2015-03\", \"2015-04\", \"2015-05\", \"2015-06\", \"2015-07\", \"2015-08\", \"2015-09\", \"2015-10\", \"2015-11\", \"2015-12\", \"2016-01\", \"2016-02\", \"2016-03\", \"2016-04\", \"2016-05\", \"2016-06\", \"2016-07\", \"2016-08\", \"2016-09\", \"2016-10\", \"2016-11\", \"2016-12\", \"2017-01\", \"2017-02\", \"2017-03\", \"2017-04\", \"2017-05\", \"2017-06\", \"2017-07\", \"2017-08\", \"2017-09\", \"2017-10\", \"2017-11\", \"2017-12\", \"2018-02\", \"2018-03\", \"2018-04\", \"2018-05\", \"2018-06\", \"2018-07\", \"2018-08\"], \"x_labels_major\": [\"2013-09\", \"2014-11\", \"2015-06\", \"2016-01\", \"2016-08\", \"2017-03\", \"2017-10\", \"2018-08\"], \"x_labels_major_count\": null, \"x_labels_major_every\": null, \"x_title\": null, \"xrange\": null, \"y_label_rotation\": 0, \"y_labels\": null, \"y_labels_major\": null, \"y_labels_major_count\": null, \"y_labels_major_every\": null, \"y_title\": null, \"zero\": 0, \"legends\": [\"\"]}</script><script type=\"text/javascript\" xlink:href=\"https://kozea.github.io/pygal.js/2.0.x/pygal-tooltips.min.js\" /></defs><title>Sponsored articles in Techcabal</title><g class=\"graph line-graph vertical\"><rect class=\"background\" height=\"600\" width=\"800\" x=\"0\" y=\"0\" /><g class=\"plot\" transform=\"translate(64, 46)\"><rect class=\"background\" height=\"509.6351539803219\" width=\"696.5329099269918\" x=\"0\" y=\"0\" /><g class=\"axis y always_show\"><path class=\"line\" d=\"M0.000000 509.635154 h696.532910\" /><g class=\"guides\"><path class=\"guide line\" d=\"M0.000000 476.499535 h696.532910\" /><text class=\"\" x=\"-5\" y=\"479.999534994\">2</text><title>2</title></g><g class=\"guides\"><path class=\"guide line\" d=\"M0.000000 429.829649 h696.532910\" /><text class=\"\" x=\"-5\" y=\"433.329649099\">4</text><title>4</title></g><g class=\"guides\"><path class=\"guide line\" d=\"M0.000000 383.159763 h696.532910\" /><text class=\"\" x=\"-5\" y=\"386.659763203\">6</text><title>6</title></g><g class=\"guides\"><path class=\"guide line\" d=\"M0.000000 336.489877 h696.532910\" /><text class=\"\" x=\"-5\" y=\"339.989877308\">8</text><title>8</title></g><g class=\"guides\"><path class=\"major guide line\" d=\"M0.000000 289.819991 h696.532910\" /><text class=\"major\" x=\"-5\" y=\"293.319991412\">10</text><title>10</title></g><g class=\"guides\"><path class=\"guide line\" d=\"M0.000000 243.150106 h696.532910\" /><text class=\"\" x=\"-5\" y=\"246.650105516\">12</text><title>12</title></g><g class=\"guides\"><path class=\"guide line\" d=\"M0.000000 196.480220 h696.532910\" /><text class=\"\" x=\"-5\" y=\"199.980219621\">14</text><title>14</title></g><g class=\"guides\"><path class=\"guide line\" d=\"M0.000000 149.810334 h696.532910\" /><text class=\"\" x=\"-5\" y=\"153.310333725\">16</text><title>16</title></g><g class=\"guides\"><path class=\"guide line\" d=\"M0.000000 103.140448 h696.532910\" /><text class=\"\" x=\"-5\" y=\"106.640447829\">18</text><title>18</title></g><g class=\"guides\"><path class=\"major guide line\" d=\"M0.000000 56.470562 h696.532910\" /><text class=\"major\" x=\"-5\" y=\"59.9705619337\">20</text><title>20</title></g><g class=\"guides\"><path class=\"guide line\" d=\"M0.000000 9.800676 h696.532910\" /><text class=\"\" x=\"-5\" y=\"13.3006760381\">22</text><title>22</title></g></g><g class=\"axis x\"><g class=\"guides\"><path class=\"major line\" d=\"M13.394864 0.000000 v509.635154\" /><text class=\"major\" transform=\"rotate(20 13.394864 524.635154)\" x=\"13.39486365244215\" y=\"524.6351539803219\">2013-09</text></g><g class=\"guides\"><path class=\"major guide line\" d=\"M105.320399 0.000000 v509.635154\" /><text class=\"major\" transform=\"rotate(20 105.320399 524.635154)\" x=\"105.32039852214318\" y=\"524.6351539803219\">2014-11</text></g><g class=\"guides\"><path class=\"major guide line\" d=\"M197.245933 0.000000 v509.635154\" /><text class=\"major\" transform=\"rotate(20 197.245933 524.635154)\" x=\"197.24593339184423\" y=\"524.6351539803219\">2015-06</text></g><g class=\"guides\"><path class=\"major guide line\" d=\"M289.171468 0.000000 v509.635154\" /><text class=\"major\" transform=\"rotate(20 289.171468 524.635154)\" x=\"289.1714682615452\" y=\"524.6351539803219\">2016-01</text></g><g class=\"guides\"><path class=\"major guide line\" d=\"M381.097003 0.000000 v509.635154\" /><text class=\"major\" transform=\"rotate(20 381.097003 524.635154)\" x=\"381.0970031312463\" y=\"524.6351539803219\">2016-08</text></g><g class=\"guides\"><path class=\"major guide line\" d=\"M473.022538 0.000000 v509.635154\" /><text class=\"major\" transform=\"rotate(20 473.022538 524.635154)\" x=\"473.02253800094735\" y=\"524.6351539803219\">2017-03</text></g><g class=\"guides\"><path class=\"major guide line\" d=\"M564.948073 0.000000 v509.635154\" /><text class=\"major\" transform=\"rotate(20 564.948073 524.635154)\" x=\"564.9480728706483\" y=\"524.6351539803219\">2017-10</text></g><g class=\"guides\"><path class=\"major guide line\" d=\"M683.138046 0.000000 v509.635154\" /><text class=\"major\" transform=\"rotate(20 683.138046 524.635154)\" x=\"683.1380462745497\" y=\"524.6351539803219\">2018-08</text></g></g><g class=\"series serie-0 color-0\"><path class=\"line reactive nofill\" d=\"M13.394864 499.834478 L26.527083 499.834478 39.659302 499.834478 52.791521 476.499535 65.923741 476.499535 79.055960 499.834478 92.188179 406.494706 105.320399 499.834478 118.452618 499.834478 131.584837 499.834478 144.717056 429.829649 157.849276 429.829649 170.981495 453.164592 184.113714 499.834478 197.245933 499.834478 210.378153 406.494706 223.510372 336.489877 236.642591 313.154934 249.774810 289.819991 262.907030 196.480220 276.039249 266.485048 289.171468 219.815163 302.303688 313.154934 315.435907 219.815163 328.568126 336.489877 341.700345 429.829649 354.832565 336.489877 367.964784 289.819991 381.097003 289.819991 394.229222 336.489877 407.361442 289.819991 420.493661 196.480220 433.625880 336.489877 446.758099 453.164592 459.890319 266.485048 473.022538 359.824820 486.154757 313.154934 499.286977 289.819991 512.419196 499.834478 525.551415 313.154934 538.683634 313.154934 551.815854 313.154934 564.948073 313.154934 578.080292 336.489877 591.212511 476.499535 604.344731 453.164592 617.476950 243.150106 630.609169 406.494706 643.741388 336.489877 656.873608 243.150106 670.005827 9.800676 683.138046 453.164592\" /></g></g><g class=\"titles\"><text class=\"title plot_title\" x=\"400.0\" y=\"26\">Sponsored articles in Techcabal</text></g><g class=\"plot overlay\" transform=\"translate(64, 46)\"><g class=\"series serie-0 color-0\"><g class=\"dots\"><circle class=\"dot reactive tooltip-trigger\" cx=\"13.39486365244215\" cy=\"499.834477942\" r=\"2.5\" /><desc class=\"value\">1</desc><desc class=\"x top\">13.39486365244215</desc><desc class=\"y top\">499.834477942</desc><desc class=\"x_label\">2013-09</desc></g><g class=\"dots\"><circle class=\"dot reactive tooltip-trigger\" cx=\"26.5270829195423\" cy=\"499.834477942\" r=\"2.5\" /><desc class=\"value\">1</desc><desc class=\"x top\">26.5270829195423</desc><desc class=\"y top\">499.834477942</desc><desc class=\"x_label\">2014-01</desc></g><g class=\"dots\"><circle class=\"dot reactive tooltip-trigger\" cx=\"39.65930218664245\" cy=\"499.834477942\" r=\"2.5\" /><desc class=\"value\">1</desc><desc class=\"x top\">39.65930218664245</desc><desc class=\"y top\">499.834477942</desc><desc class=\"x_label\">2014-03</desc></g><g class=\"dots\"><circle class=\"dot reactive tooltip-trigger\" cx=\"52.79152145374259\" cy=\"476.499534994\" r=\"2.5\" /><desc class=\"value\">2</desc><desc class=\"x top\">52.79152145374259</desc><desc class=\"y top\">476.499534994</desc><desc class=\"x_label\">2014-04</desc></g><g class=\"dots\"><circle class=\"dot reactive tooltip-trigger\" cx=\"65.92374072084273\" cy=\"476.499534994\" r=\"2.5\" /><desc class=\"value\">2</desc><desc class=\"x top\">65.92374072084273</desc><desc class=\"y top\">476.499534994</desc><desc class=\"x_label\">2014-05</desc></g><g class=\"dots\"><circle class=\"dot reactive tooltip-trigger\" cx=\"79.05595998794288\" cy=\"499.834477942\" r=\"2.5\" /><desc class=\"value\">1</desc><desc class=\"x top\">79.05595998794288</desc><desc class=\"y top\">499.834477942</desc><desc class=\"x_label\">2014-09</desc></g><g class=\"dots\"><circle class=\"dot reactive tooltip-trigger\" cx=\"92.18817925504302\" cy=\"406.494706151\" r=\"2.5\" /><desc class=\"value\">5</desc><desc class=\"x top\">92.18817925504302</desc><desc class=\"y top\">406.494706151</desc><desc class=\"x_label\">2014-10</desc></g><g class=\"dots\"><circle class=\"dot reactive tooltip-trigger\" cx=\"105.32039852214318\" cy=\"499.834477942\" r=\"2.5\" /><desc class=\"value\">1</desc><desc class=\"x top\">105.32039852214318</desc><desc class=\"y top\">499.834477942</desc><desc class=\"x_label\">2014-11</desc></g><g class=\"dots\"><circle class=\"dot reactive tooltip-trigger\" cx=\"118.45261778924332\" cy=\"499.834477942\" r=\"2.5\" /><desc class=\"value\">1</desc><desc class=\"x top\">118.45261778924332</desc><desc class=\"y top\">499.834477942</desc><desc class=\"x_label\">2014-12</desc></g><g class=\"dots\"><circle class=\"dot reactive tooltip-trigger\" cx=\"131.58483705634347\" cy=\"499.834477942\" r=\"2.5\" /><desc class=\"value\">1</desc><desc class=\"x top\">131.58483705634347</desc><desc class=\"y top\">499.834477942</desc><desc class=\"x_label\">2015-01</desc></g><g class=\"dots\"><circle class=\"dot reactive tooltip-trigger\" cx=\"144.71705632344361\" cy=\"429.829649099\" r=\"2.5\" /><desc class=\"value\">4</desc><desc class=\"x top\">144.71705632344361</desc><desc class=\"y top\">429.829649099</desc><desc class=\"x_label\">2015-02</desc></g><g class=\"dots\"><circle class=\"dot reactive tooltip-trigger\" cx=\"157.84927559054378\" cy=\"429.829649099\" r=\"2.5\" /><desc class=\"value\">4</desc><desc class=\"x top\">157.84927559054378</desc><desc class=\"y top\">429.829649099</desc><desc class=\"x_label\">2015-03</desc></g><g class=\"dots\"><circle class=\"dot reactive tooltip-trigger\" cx=\"170.9814948576439\" cy=\"453.164592047\" r=\"2.5\" /><desc class=\"value\">3</desc><desc class=\"x top\">170.9814948576439</desc><desc class=\"y top\">453.164592047</desc><desc class=\"x_label\">2015-04</desc></g><g class=\"dots\"><circle class=\"dot reactive tooltip-trigger\" cx=\"184.11371412474406\" cy=\"499.834477942\" r=\"2.5\" /><desc class=\"value\">1</desc><desc class=\"x top\">184.11371412474406</desc><desc class=\"y top\">499.834477942</desc><desc class=\"x_label\">2015-05</desc></g><g class=\"dots\"><circle class=\"dot reactive tooltip-trigger\" cx=\"197.24593339184423\" cy=\"499.834477942\" r=\"2.5\" /><desc class=\"value\">1</desc><desc class=\"x top\">197.24593339184423</desc><desc class=\"y top\">499.834477942</desc><desc class=\"x_label\">2015-06</desc></g><g class=\"dots\"><circle class=\"dot reactive tooltip-trigger\" cx=\"210.37815265894437\" cy=\"406.494706151\" r=\"2.5\" /><desc class=\"value\">5</desc><desc class=\"x top\">210.37815265894437</desc><desc class=\"y top\">406.494706151</desc><desc class=\"x_label\">2015-07</desc></g><g class=\"dots\"><circle class=\"dot reactive tooltip-trigger\" cx=\"223.5103719260445\" cy=\"336.489877308\" r=\"2.5\" /><desc class=\"value\">8</desc><desc class=\"x top\">223.5103719260445</desc><desc class=\"y top\">336.489877308</desc><desc class=\"x_label\">2015-08</desc></g><g class=\"dots\"><circle class=\"dot reactive tooltip-trigger\" cx=\"236.64259119314463\" cy=\"313.15493436\" r=\"2.5\" /><desc class=\"value\">9</desc><desc class=\"x top\">236.64259119314463</desc><desc class=\"y top\">313.15493436</desc><desc class=\"x_label\">2015-09</desc></g><g class=\"dots\"><circle class=\"dot reactive tooltip-trigger\" cx=\"249.7748104602448\" cy=\"289.819991412\" r=\"2.5\" /><desc class=\"value\">10</desc><desc class=\"x top\">249.7748104602448</desc><desc class=\"y top\">289.819991412</desc><desc class=\"x_label\">2015-10</desc></g><g class=\"dots\"><circle class=\"dot reactive tooltip-trigger\" cx=\"262.90702972734493\" cy=\"196.480219621\" r=\"2.5\" /><desc class=\"value\">14</desc><desc class=\"x \">262.90702972734493</desc><desc class=\"y \">196.480219621</desc><desc class=\"x_label\">2015-11</desc></g><g class=\"dots\"><circle class=\"dot reactive tooltip-trigger\" cx=\"276.03924899444513\" cy=\"266.485048464\" r=\"2.5\" /><desc class=\"value\">11</desc><desc class=\"x top\">276.03924899444513</desc><desc class=\"y top\">266.485048464</desc><desc class=\"x_label\">2015-12</desc></g><g class=\"dots\"><circle class=\"dot reactive tooltip-trigger\" cx=\"289.1714682615452\" cy=\"219.815162568\" r=\"2.5\" /><desc class=\"value\">13</desc><desc class=\"x \">289.1714682615452</desc><desc class=\"y \">219.815162568</desc><desc class=\"x_label\">2016-01</desc></g><g class=\"dots\"><circle class=\"dot reactive tooltip-trigger\" cx=\"302.3036875286454\" cy=\"313.15493436\" r=\"2.5\" /><desc class=\"value\">9</desc><desc class=\"x top\">302.3036875286454</desc><desc class=\"y top\">313.15493436</desc><desc class=\"x_label\">2016-02</desc></g><g class=\"dots\"><circle class=\"dot reactive tooltip-trigger\" cx=\"315.43590679574555\" cy=\"219.815162568\" r=\"2.5\" /><desc class=\"value\">13</desc><desc class=\"x \">315.43590679574555</desc><desc class=\"y \">219.815162568</desc><desc class=\"x_label\">2016-03</desc></g><g class=\"dots\"><circle class=\"dot reactive tooltip-trigger\" cx=\"328.56812606284564\" cy=\"336.489877308\" r=\"2.5\" /><desc class=\"value\">8</desc><desc class=\"x top\">328.56812606284564</desc><desc class=\"y top\">336.489877308</desc><desc class=\"x_label\">2016-04</desc></g><g class=\"dots\"><circle class=\"dot reactive tooltip-trigger\" cx=\"341.7003453299458\" cy=\"429.829649099\" r=\"2.5\" /><desc class=\"value\">4</desc><desc class=\"x top\">341.7003453299458</desc><desc class=\"y top\">429.829649099</desc><desc class=\"x_label\">2016-05</desc></g><g class=\"dots\"><circle class=\"dot reactive tooltip-trigger\" cx=\"354.8325645970459\" cy=\"336.489877308\" r=\"2.5\" /><desc class=\"value\">8</desc><desc class=\"x left top\">354.8325645970459</desc><desc class=\"y left top\">336.489877308</desc><desc class=\"x_label\">2016-06</desc></g><g class=\"dots\"><circle class=\"dot reactive tooltip-trigger\" cx=\"367.96478386414617\" cy=\"289.819991412\" r=\"2.5\" /><desc class=\"value\">10</desc><desc class=\"x left top\">367.96478386414617</desc><desc class=\"y left top\">289.819991412</desc><desc class=\"x_label\">2016-07</desc></g><g class=\"dots\"><circle class=\"dot reactive tooltip-trigger\" cx=\"381.0970031312463\" cy=\"289.819991412\" r=\"2.5\" /><desc class=\"value\">10</desc><desc class=\"x left top\">381.0970031312463</desc><desc class=\"y left top\">289.819991412</desc><desc class=\"x_label\">2016-08</desc></g><g class=\"dots\"><circle class=\"dot reactive tooltip-trigger\" cx=\"394.2292223983464\" cy=\"336.489877308\" r=\"2.5\" /><desc class=\"value\">8</desc><desc class=\"x left top\">394.2292223983464</desc><desc class=\"y left top\">336.489877308</desc><desc class=\"x_label\">2016-09</desc></g><g class=\"dots\"><circle class=\"dot reactive tooltip-trigger\" cx=\"407.3614416654466\" cy=\"289.819991412\" r=\"2.5\" /><desc class=\"value\">10</desc><desc class=\"x left top\">407.3614416654466</desc><desc class=\"y left top\">289.819991412</desc><desc class=\"x_label\">2016-10</desc></g><g class=\"dots\"><circle class=\"dot reactive tooltip-trigger\" cx=\"420.4936609325467\" cy=\"196.480219621\" r=\"2.5\" /><desc class=\"value\">14</desc><desc class=\"x left\">420.4936609325467</desc><desc class=\"y left\">196.480219621</desc><desc class=\"x_label\">2016-11</desc></g><g class=\"dots\"><circle class=\"dot reactive tooltip-trigger\" cx=\"433.6258801996468\" cy=\"336.489877308\" r=\"2.5\" /><desc class=\"value\">8</desc><desc class=\"x left top\">433.6258801996468</desc><desc class=\"y left top\">336.489877308</desc><desc class=\"x_label\">2016-12</desc></g><g class=\"dots\"><circle class=\"dot reactive tooltip-trigger\" cx=\"446.758099466747\" cy=\"453.164592047\" r=\"2.5\" /><desc class=\"value\">3</desc><desc class=\"x left top\">446.758099466747</desc><desc class=\"y left top\">453.164592047</desc><desc class=\"x_label\">2017-01</desc></g><g class=\"dots\"><circle class=\"dot reactive tooltip-trigger\" cx=\"459.8903187338471\" cy=\"266.485048464\" r=\"2.5\" /><desc class=\"value\">11</desc><desc class=\"x left top\">459.8903187338471</desc><desc class=\"y left top\">266.485048464</desc><desc class=\"x_label\">2017-02</desc></g><g class=\"dots\"><circle class=\"dot reactive tooltip-trigger\" cx=\"473.02253800094735\" cy=\"359.824820255\" r=\"2.5\" /><desc class=\"value\">7</desc><desc class=\"x left top\">473.02253800094735</desc><desc class=\"y left top\">359.824820255</desc><desc class=\"x_label\">2017-03</desc></g><g class=\"dots\"><circle class=\"dot reactive tooltip-trigger\" cx=\"486.1547572680475\" cy=\"313.15493436\" r=\"2.5\" /><desc class=\"value\">9</desc><desc class=\"x left top\">486.1547572680475</desc><desc class=\"y left top\">313.15493436</desc><desc class=\"x_label\">2017-04</desc></g><g class=\"dots\"><circle class=\"dot reactive tooltip-trigger\" cx=\"499.2869765351476\" cy=\"289.819991412\" r=\"2.5\" /><desc class=\"value\">10</desc><desc class=\"x left top\">499.2869765351476</desc><desc class=\"y left top\">289.819991412</desc><desc class=\"x_label\">2017-05</desc></g><g class=\"dots\"><circle class=\"dot reactive tooltip-trigger\" cx=\"512.4191958022477\" cy=\"499.834477942\" r=\"2.5\" /><desc class=\"value\">1</desc><desc class=\"x left top\">512.4191958022477</desc><desc class=\"y left top\">499.834477942</desc><desc class=\"x_label\">2017-06</desc></g><g class=\"dots\"><circle class=\"dot reactive tooltip-trigger\" cx=\"525.5514150693479\" cy=\"313.15493436\" r=\"2.5\" /><desc class=\"value\">9</desc><desc class=\"x left top\">525.5514150693479</desc><desc class=\"y left top\">313.15493436</desc><desc class=\"x_label\">2017-07</desc></g><g class=\"dots\"><circle class=\"dot reactive tooltip-trigger\" cx=\"538.683634336448\" cy=\"313.15493436\" r=\"2.5\" /><desc class=\"value\">9</desc><desc class=\"x left top\">538.683634336448</desc><desc class=\"y left top\">313.15493436</desc><desc class=\"x_label\">2017-08</desc></g><g class=\"dots\"><circle class=\"dot reactive tooltip-trigger\" cx=\"551.8158536035482\" cy=\"313.15493436\" r=\"2.5\" /><desc class=\"value\">9</desc><desc class=\"x left top\">551.8158536035482</desc><desc class=\"y left top\">313.15493436</desc><desc class=\"x_label\">2017-09</desc></g><g class=\"dots\"><circle class=\"dot reactive tooltip-trigger\" cx=\"564.9480728706483\" cy=\"313.15493436\" r=\"2.5\" /><desc class=\"value\">9</desc><desc class=\"x left top\">564.9480728706483</desc><desc class=\"y left top\">313.15493436</desc><desc class=\"x_label\">2017-10</desc></g><g class=\"dots\"><circle class=\"dot reactive tooltip-trigger\" cx=\"578.0802921377484\" cy=\"336.489877308\" r=\"2.5\" /><desc class=\"value\">8</desc><desc class=\"x left top\">578.0802921377484</desc><desc class=\"y left top\">336.489877308</desc><desc class=\"x_label\">2017-11</desc></g><g class=\"dots\"><circle class=\"dot reactive tooltip-trigger\" cx=\"591.2125114048487\" cy=\"476.499534994\" r=\"2.5\" /><desc class=\"value\">2</desc><desc class=\"x left top\">591.2125114048487</desc><desc class=\"y left top\">476.499534994</desc><desc class=\"x_label\">2017-12</desc></g><g class=\"dots\"><circle class=\"dot reactive tooltip-trigger\" cx=\"604.3447306719488\" cy=\"453.164592047\" r=\"2.5\" /><desc class=\"value\">3</desc><desc class=\"x left top\">604.3447306719488</desc><desc class=\"y left top\">453.164592047</desc><desc class=\"x_label\">2018-02</desc></g><g class=\"dots\"><circle class=\"dot reactive tooltip-trigger\" cx=\"617.476949939049\" cy=\"243.150105516\" r=\"2.5\" /><desc class=\"value\">12</desc><desc class=\"x left\">617.476949939049</desc><desc class=\"y left\">243.150105516</desc><desc class=\"x_label\">2018-03</desc></g><g class=\"dots\"><circle class=\"dot reactive tooltip-trigger\" cx=\"630.609169206149\" cy=\"406.494706151\" r=\"2.5\" /><desc class=\"value\">5</desc><desc class=\"x left top\">630.609169206149</desc><desc class=\"y left top\">406.494706151</desc><desc class=\"x_label\">2018-04</desc></g><g class=\"dots\"><circle class=\"dot reactive tooltip-trigger\" cx=\"643.7413884732491\" cy=\"336.489877308\" r=\"2.5\" /><desc class=\"value\">8</desc><desc class=\"x left top\">643.7413884732491</desc><desc class=\"y left top\">336.489877308</desc><desc class=\"x_label\">2018-05</desc></g><g class=\"dots\"><circle class=\"dot reactive tooltip-trigger\" cx=\"656.8736077403494\" cy=\"243.150105516\" r=\"2.5\" /><desc class=\"value\">12</desc><desc class=\"x left\">656.8736077403494</desc><desc class=\"y left\">243.150105516</desc><desc class=\"x_label\">2018-06</desc></g><g class=\"dots\"><circle class=\"dot reactive tooltip-trigger\" cx=\"670.0058270074494\" cy=\"9.80067603808\" r=\"2.5\" /><desc class=\"value\">22</desc><desc class=\"x left\">670.0058270074494</desc><desc class=\"y left\">9.80067603808</desc><desc class=\"x_label\">2018-07</desc></g><g class=\"dots\"><circle class=\"dot reactive tooltip-trigger\" cx=\"683.1380462745497\" cy=\"453.164592047\" r=\"2.5\" /><desc class=\"value\">3</desc><desc class=\"x left top\">683.1380462745497</desc><desc class=\"y left top\">453.164592047</desc><desc class=\"x_label\">2018-08</desc></g></g></g><g class=\"plot text-overlay\" transform=\"translate(64, 46)\"><g class=\"series serie-0 color-0\" /></g><g class=\"plot tooltip-overlay\" transform=\"translate(64, 46)\"><g class=\"tooltip\" style=\"opacity: 0\" transform=\"translate(0 0)\"><rect class=\"tooltip-box\" height=\"0\" rx=\"0\" ry=\"0\" width=\"0\" /><g class=\"text\" /></g></g><g class=\"legends\" transform=\"translate(10, 56)\"><g class=\"legend reactive activate-serie\" id=\"activate-serie-0\"><rect class=\"color-0 reactive\" height=\"12\" width=\"12\" x=\"0.0\" y=\"1.0\" /><text x=\"17.0\" y=\"11.2\" /></g></g><g class=\"legends\" transform=\"translate(770, 56)\" /></g></svg>"
      ]
     },
     "metadata": {},
     "output_type": "display_data"
    }
   ],
   "source": [
    "createChart(spons, 'Sponsored articles in Techcabal', '')"
   ]
  },
  {
   "cell_type": "code",
   "execution_count": 268,
   "metadata": {},
   "outputs": [
    {
     "ename": "KeyError",
     "evalue": "66",
     "output_type": "error",
     "traceback": [
      "\u001b[1;31m---------------------------------------------------------------------------\u001b[0m",
      "\u001b[1;31mKeyError\u001b[0m                                  Traceback (most recent call last)",
      "\u001b[1;32m<ipython-input-268-bbbb843cc1dd>\u001b[0m in \u001b[0;36m<module>\u001b[1;34m()\u001b[0m\n\u001b[1;32m----> 1\u001b[1;33m \u001b[0mchart\u001b[0m\u001b[1;33m[\u001b[0m\u001b[1;34m'months'\u001b[0m\u001b[1;33m]\u001b[0m\u001b[1;33m[\u001b[0m\u001b[0mlen\u001b[0m\u001b[1;33m(\u001b[0m\u001b[0mchart\u001b[0m\u001b[1;33m)\u001b[0m\u001b[1;33m]\u001b[0m\u001b[1;33m\u001b[0m\u001b[0m\n\u001b[0m",
      "\u001b[1;32m~\\Miniconda3\\lib\\site-packages\\pandas\\core\\series.py\u001b[0m in \u001b[0;36m__getitem__\u001b[1;34m(self, key)\u001b[0m\n\u001b[0;32m    599\u001b[0m         \u001b[0mkey\u001b[0m \u001b[1;33m=\u001b[0m \u001b[0mcom\u001b[0m\u001b[1;33m.\u001b[0m\u001b[0m_apply_if_callable\u001b[0m\u001b[1;33m(\u001b[0m\u001b[0mkey\u001b[0m\u001b[1;33m,\u001b[0m \u001b[0mself\u001b[0m\u001b[1;33m)\u001b[0m\u001b[1;33m\u001b[0m\u001b[0m\n\u001b[0;32m    600\u001b[0m         \u001b[1;32mtry\u001b[0m\u001b[1;33m:\u001b[0m\u001b[1;33m\u001b[0m\u001b[0m\n\u001b[1;32m--> 601\u001b[1;33m             \u001b[0mresult\u001b[0m \u001b[1;33m=\u001b[0m \u001b[0mself\u001b[0m\u001b[1;33m.\u001b[0m\u001b[0mindex\u001b[0m\u001b[1;33m.\u001b[0m\u001b[0mget_value\u001b[0m\u001b[1;33m(\u001b[0m\u001b[0mself\u001b[0m\u001b[1;33m,\u001b[0m \u001b[0mkey\u001b[0m\u001b[1;33m)\u001b[0m\u001b[1;33m\u001b[0m\u001b[0m\n\u001b[0m\u001b[0;32m    602\u001b[0m \u001b[1;33m\u001b[0m\u001b[0m\n\u001b[0;32m    603\u001b[0m             \u001b[1;32mif\u001b[0m \u001b[1;32mnot\u001b[0m \u001b[0mis_scalar\u001b[0m\u001b[1;33m(\u001b[0m\u001b[0mresult\u001b[0m\u001b[1;33m)\u001b[0m\u001b[1;33m:\u001b[0m\u001b[1;33m\u001b[0m\u001b[0m\n",
      "\u001b[1;32m~\\Miniconda3\\lib\\site-packages\\pandas\\core\\indexes\\base.py\u001b[0m in \u001b[0;36mget_value\u001b[1;34m(self, series, key)\u001b[0m\n\u001b[0;32m   2475\u001b[0m         \u001b[1;32mtry\u001b[0m\u001b[1;33m:\u001b[0m\u001b[1;33m\u001b[0m\u001b[0m\n\u001b[0;32m   2476\u001b[0m             return self._engine.get_value(s, k,\n\u001b[1;32m-> 2477\u001b[1;33m                                           tz=getattr(series.dtype, 'tz', None))\n\u001b[0m\u001b[0;32m   2478\u001b[0m         \u001b[1;32mexcept\u001b[0m \u001b[0mKeyError\u001b[0m \u001b[1;32mas\u001b[0m \u001b[0me1\u001b[0m\u001b[1;33m:\u001b[0m\u001b[1;33m\u001b[0m\u001b[0m\n\u001b[0;32m   2479\u001b[0m             \u001b[1;32mif\u001b[0m \u001b[0mlen\u001b[0m\u001b[1;33m(\u001b[0m\u001b[0mself\u001b[0m\u001b[1;33m)\u001b[0m \u001b[1;33m>\u001b[0m \u001b[1;36m0\u001b[0m \u001b[1;32mand\u001b[0m \u001b[0mself\u001b[0m\u001b[1;33m.\u001b[0m\u001b[0minferred_type\u001b[0m \u001b[1;32min\u001b[0m \u001b[1;33m[\u001b[0m\u001b[1;34m'integer'\u001b[0m\u001b[1;33m,\u001b[0m \u001b[1;34m'boolean'\u001b[0m\u001b[1;33m]\u001b[0m\u001b[1;33m:\u001b[0m\u001b[1;33m\u001b[0m\u001b[0m\n",
      "\u001b[1;32mpandas\\_libs\\index.pyx\u001b[0m in \u001b[0;36mpandas._libs.index.IndexEngine.get_value (pandas\\_libs\\index.c:4404)\u001b[1;34m()\u001b[0m\n",
      "\u001b[1;32mpandas\\_libs\\index.pyx\u001b[0m in \u001b[0;36mpandas._libs.index.IndexEngine.get_value (pandas\\_libs\\index.c:4087)\u001b[1;34m()\u001b[0m\n",
      "\u001b[1;32mpandas\\_libs\\index.pyx\u001b[0m in \u001b[0;36mpandas._libs.index.IndexEngine.get_loc (pandas\\_libs\\index.c:5126)\u001b[1;34m()\u001b[0m\n",
      "\u001b[1;32mpandas\\_libs\\hashtable_class_helper.pxi\u001b[0m in \u001b[0;36mpandas._libs.hashtable.Int64HashTable.get_item (pandas\\_libs\\hashtable.c:14031)\u001b[1;34m()\u001b[0m\n",
      "\u001b[1;32mpandas\\_libs\\hashtable_class_helper.pxi\u001b[0m in \u001b[0;36mpandas._libs.hashtable.Int64HashTable.get_item (pandas\\_libs\\hashtable.c:13975)\u001b[1;34m()\u001b[0m\n",
      "\u001b[1;31mKeyError\u001b[0m: 66"
     ]
    }
   ],
   "source": [
    "chart['months'][len(chart)]"
   ]
  },
  {
   "cell_type": "code",
   "execution_count": 270,
   "metadata": {},
   "outputs": [
    {
     "data": {
      "text/plain": [
       "int"
      ]
     },
     "execution_count": 270,
     "metadata": {},
     "output_type": "execute_result"
    }
   ],
   "source": [
    "len(chart)"
   ]
  },
  {
   "cell_type": "code",
   "execution_count": 184,
   "metadata": {},
   "outputs": [
    {
     "data": {
      "text/html": [
       "<div>\n",
       "<style>\n",
       "    .dataframe thead tr:only-child th {\n",
       "        text-align: right;\n",
       "    }\n",
       "\n",
       "    .dataframe thead th {\n",
       "        text-align: left;\n",
       "    }\n",
       "\n",
       "    .dataframe tbody tr th {\n",
       "        vertical-align: top;\n",
       "    }\n",
       "</style>\n",
       "<table border=\"1\" class=\"dataframe\">\n",
       "  <thead>\n",
       "    <tr style=\"text-align: right;\">\n",
       "      <th></th>\n",
       "      <th>Unnamed: 0</th>\n",
       "      <th>date</th>\n",
       "      <th>headline</th>\n",
       "      <th>sponsored</th>\n",
       "      <th>months</th>\n",
       "      <th>count</th>\n",
       "    </tr>\n",
       "  </thead>\n",
       "  <tbody>\n",
       "    <tr>\n",
       "      <th>75</th>\n",
       "      <td>75</td>\n",
       "      <td>2018-06-27</td>\n",
       "      <td>Bitkoin Africa Has Secured An Undisclosed Amou...</td>\n",
       "      <td>False</td>\n",
       "      <td>2018-06</td>\n",
       "      <td>1</td>\n",
       "    </tr>\n",
       "    <tr>\n",
       "      <th>79</th>\n",
       "      <td>79</td>\n",
       "      <td>2018-06-22</td>\n",
       "      <td>Itel Mobile Raises The Bar In Smartphone Batte...</td>\n",
       "      <td>True</td>\n",
       "      <td>2018-06</td>\n",
       "      <td>1</td>\n",
       "    </tr>\n",
       "    <tr>\n",
       "      <th>173</th>\n",
       "      <td>173</td>\n",
       "      <td>2017-10-16</td>\n",
       "      <td>Building the future, with Kendall Ananyi: reac...</td>\n",
       "      <td>False</td>\n",
       "      <td>2017-10</td>\n",
       "      <td>1</td>\n",
       "    </tr>\n",
       "    <tr>\n",
       "      <th>176</th>\n",
       "      <td>176</td>\n",
       "      <td>2017-10-10</td>\n",
       "      <td>BREAKING: Andela raises $40m from CRE VC, DBL,...</td>\n",
       "      <td>False</td>\n",
       "      <td>2017-10</td>\n",
       "      <td>1</td>\n",
       "    </tr>\n",
       "    <tr>\n",
       "      <th>292</th>\n",
       "      <td>292</td>\n",
       "      <td>2017-05-24</td>\n",
       "      <td>Frontier Car Group Closes $22 Million Investment</td>\n",
       "      <td>False</td>\n",
       "      <td>2017-05</td>\n",
       "      <td>1</td>\n",
       "    </tr>\n",
       "  </tbody>\n",
       "</table>\n",
       "</div>"
      ],
      "text/plain": [
       "     Unnamed: 0       date                                           headline  \\\n",
       "75           75 2018-06-27  Bitkoin Africa Has Secured An Undisclosed Amou...   \n",
       "79           79 2018-06-22  Itel Mobile Raises The Bar In Smartphone Batte...   \n",
       "173         173 2017-10-16  Building the future, with Kendall Ananyi: reac...   \n",
       "176         176 2017-10-10  BREAKING: Andela raises $40m from CRE VC, DBL,...   \n",
       "292         292 2017-05-24   Frontier Car Group Closes $22 Million Investment   \n",
       "\n",
       "     sponsored   months  count  \n",
       "75       False  2018-06      1  \n",
       "79        True  2018-06      1  \n",
       "173      False  2017-10      1  \n",
       "176      False  2017-10      1  \n",
       "292      False  2017-05      1  "
      ]
     },
     "execution_count": 184,
     "metadata": {},
     "output_type": "execute_result"
    }
   ],
   "source": [
    "funding.head()"
   ]
  },
  {
   "cell_type": "code",
   "execution_count": 215,
   "metadata": {},
   "outputs": [
    {
     "data": {
      "text/plain": [
       "array(['2018-08', '2018-08', '2018-08', ..., '2013-04', '2013-04',\n",
       "       '2013-03'], dtype=object)"
      ]
     },
     "execution_count": 215,
     "metadata": {},
     "output_type": "execute_result"
    }
   ],
   "source": [
    "df['months'].values"
   ]
  },
  {
   "cell_type": "code",
   "execution_count": 221,
   "metadata": {},
   "outputs": [
    {
     "data": {
      "text/plain": [
       "<map at 0x195d01f0be0>"
      ]
     },
     "execution_count": 221,
     "metadata": {},
     "output_type": "execute_result"
    }
   ],
   "source": [
    "map(lambda d: d, df['months'].values)"
   ]
  },
  {
   "cell_type": "code",
   "execution_count": 226,
   "metadata": {},
   "outputs": [
    {
     "data": {
      "text/plain": [
       "5231"
      ]
     },
     "execution_count": 226,
     "metadata": {},
     "output_type": "execute_result"
    }
   ],
   "source": [
    "len(df['months'])"
   ]
  },
  {
   "cell_type": "code",
   "execution_count": 237,
   "metadata": {},
   "outputs": [
    {
     "data": {
      "text/plain": [
       "pandas.core.series.Series"
      ]
     },
     "execution_count": 237,
     "metadata": {},
     "output_type": "execute_result"
    }
   ],
   "source": [
    "type(chart)"
   ]
  },
  {
   "cell_type": "code",
   "execution_count": 481,
   "metadata": {},
   "outputs": [
    {
     "data": {
      "text/plain": [
       "98"
      ]
     },
     "execution_count": 481,
     "metadata": {},
     "output_type": "execute_result"
    }
   ],
   "source": [
    "len(funding)"
   ]
  },
  {
   "cell_type": "code",
   "execution_count": 483,
   "metadata": {},
   "outputs": [],
   "source": [
    "# df.groupby('months', as_index=False)['date'].max()"
   ]
  },
  {
   "cell_type": "code",
   "execution_count": 490,
   "metadata": {},
   "outputs": [
    {
     "data": {
      "text/plain": [
       "months\n",
       "2013-08     1\n",
       "2013-12     1\n",
       "2014-01     1\n",
       "2014-03     2\n",
       "2014-05     3\n",
       "2014-07     1\n",
       "2014-10     1\n",
       "2015-01     6\n",
       "2015-02    10\n",
       "2015-04     1\n",
       "2015-05     6\n",
       "2015-06     4\n",
       "2015-07     6\n",
       "2015-08     5\n",
       "2015-09     4\n",
       "2015-10     4\n",
       "2015-11     4\n",
       "2015-12     4\n",
       "2016-01     2\n",
       "2016-03     4\n",
       "2016-04     3\n",
       "2016-05     2\n",
       "2016-06     3\n",
       "2016-07     1\n",
       "2016-08     2\n",
       "2016-09     3\n",
       "2016-11     7\n",
       "2016-12     1\n",
       "2017-02     1\n",
       "2017-05     1\n",
       "2017-10     2\n",
       "2018-06     2\n",
       "Name: count, dtype: int64"
      ]
     },
     "execution_count": 490,
     "metadata": {},
     "output_type": "execute_result"
    }
   ],
   "source": [
    "funding.groupby('months')['count'].sum()"
   ]
  },
  {
   "cell_type": "code",
   "execution_count": 486,
   "metadata": {},
   "outputs": [
    {
     "data": {
      "text/html": [
       "<div>\n",
       "<style>\n",
       "    .dataframe thead tr:only-child th {\n",
       "        text-align: right;\n",
       "    }\n",
       "\n",
       "    .dataframe thead th {\n",
       "        text-align: left;\n",
       "    }\n",
       "\n",
       "    .dataframe tbody tr th {\n",
       "        vertical-align: top;\n",
       "    }\n",
       "</style>\n",
       "<table border=\"1\" class=\"dataframe\">\n",
       "  <thead>\n",
       "    <tr style=\"text-align: right;\">\n",
       "      <th></th>\n",
       "      <th>Unnamed: 0</th>\n",
       "      <th>date</th>\n",
       "      <th>headline</th>\n",
       "      <th>sponsored</th>\n",
       "      <th>months</th>\n",
       "      <th>count</th>\n",
       "    </tr>\n",
       "  </thead>\n",
       "  <tbody>\n",
       "    <tr>\n",
       "      <th>75</th>\n",
       "      <td>75</td>\n",
       "      <td>2018-06-27</td>\n",
       "      <td>Bitkoin Africa Has Secured An Undisclosed Amou...</td>\n",
       "      <td>False</td>\n",
       "      <td>2018-06</td>\n",
       "      <td>1</td>\n",
       "    </tr>\n",
       "    <tr>\n",
       "      <th>79</th>\n",
       "      <td>79</td>\n",
       "      <td>2018-06-22</td>\n",
       "      <td>Itel Mobile Raises The Bar In Smartphone Batte...</td>\n",
       "      <td>True</td>\n",
       "      <td>2018-06</td>\n",
       "      <td>1</td>\n",
       "    </tr>\n",
       "    <tr>\n",
       "      <th>173</th>\n",
       "      <td>173</td>\n",
       "      <td>2017-10-16</td>\n",
       "      <td>Building the future, with Kendall Ananyi: reac...</td>\n",
       "      <td>False</td>\n",
       "      <td>2017-10</td>\n",
       "      <td>1</td>\n",
       "    </tr>\n",
       "    <tr>\n",
       "      <th>176</th>\n",
       "      <td>176</td>\n",
       "      <td>2017-10-10</td>\n",
       "      <td>BREAKING: Andela raises $40m from CRE VC, DBL,...</td>\n",
       "      <td>False</td>\n",
       "      <td>2017-10</td>\n",
       "      <td>1</td>\n",
       "    </tr>\n",
       "    <tr>\n",
       "      <th>292</th>\n",
       "      <td>292</td>\n",
       "      <td>2017-05-24</td>\n",
       "      <td>Frontier Car Group Closes $22 Million Investment</td>\n",
       "      <td>False</td>\n",
       "      <td>2017-05</td>\n",
       "      <td>1</td>\n",
       "    </tr>\n",
       "    <tr>\n",
       "      <th>436</th>\n",
       "      <td>436</td>\n",
       "      <td>2017-02-15</td>\n",
       "      <td>TechCabal daily: Day jobs and seed raises</td>\n",
       "      <td>False</td>\n",
       "      <td>2017-02</td>\n",
       "      <td>1</td>\n",
       "    </tr>\n",
       "    <tr>\n",
       "      <th>496</th>\n",
       "      <td>496</td>\n",
       "      <td>2016-12-07</td>\n",
       "      <td>African Tech Roundup: Zebra Cabs Raises $21.6 ...</td>\n",
       "      <td>False</td>\n",
       "      <td>2016-12</td>\n",
       "      <td>1</td>\n",
       "    </tr>\n",
       "    <tr>\n",
       "      <th>514</th>\n",
       "      <td>514</td>\n",
       "      <td>2016-11-29</td>\n",
       "      <td>South Africa’s Zebra Cabs has raised $21.5 mil...</td>\n",
       "      <td>False</td>\n",
       "      <td>2016-11</td>\n",
       "      <td>1</td>\n",
       "    </tr>\n",
       "    <tr>\n",
       "      <th>546</th>\n",
       "      <td>546</td>\n",
       "      <td>2016-11-22</td>\n",
       "      <td>African Tech Roundup: Kenyan agritech startup ...</td>\n",
       "      <td>False</td>\n",
       "      <td>2016-11</td>\n",
       "      <td>1</td>\n",
       "    </tr>\n",
       "    <tr>\n",
       "      <th>562</th>\n",
       "      <td>562</td>\n",
       "      <td>2016-11-17</td>\n",
       "      <td>South African podcast platform, iono has raise...</td>\n",
       "      <td>False</td>\n",
       "      <td>2016-11</td>\n",
       "      <td>1</td>\n",
       "    </tr>\n",
       "    <tr>\n",
       "      <th>566</th>\n",
       "      <td>566</td>\n",
       "      <td>2016-11-17</td>\n",
       "      <td>Kenya’s WeFarm has raised $1.6 million in seed...</td>\n",
       "      <td>False</td>\n",
       "      <td>2016-11</td>\n",
       "      <td>1</td>\n",
       "    </tr>\n",
       "    <tr>\n",
       "      <th>572</th>\n",
       "      <td>572</td>\n",
       "      <td>2016-11-16</td>\n",
       "      <td>Messaging app, Jongla has raised $5.4 million ...</td>\n",
       "      <td>False</td>\n",
       "      <td>2016-11</td>\n",
       "      <td>1</td>\n",
       "    </tr>\n",
       "    <tr>\n",
       "      <th>583</th>\n",
       "      <td>583</td>\n",
       "      <td>2016-11-15</td>\n",
       "      <td>Cactus Capital has invested an undisclosed amo...</td>\n",
       "      <td>False</td>\n",
       "      <td>2016-11</td>\n",
       "      <td>1</td>\n",
       "    </tr>\n",
       "    <tr>\n",
       "      <th>599</th>\n",
       "      <td>599</td>\n",
       "      <td>2016-11-10</td>\n",
       "      <td>Drone delivery startup, Zipline, has raised $2...</td>\n",
       "      <td>False</td>\n",
       "      <td>2016-11</td>\n",
       "      <td>1</td>\n",
       "    </tr>\n",
       "    <tr>\n",
       "      <th>741</th>\n",
       "      <td>741</td>\n",
       "      <td>2016-09-23</td>\n",
       "      <td>W.TEC’s set up a fund-raising campaign to help...</td>\n",
       "      <td>False</td>\n",
       "      <td>2016-09</td>\n",
       "      <td>1</td>\n",
       "    </tr>\n",
       "    <tr>\n",
       "      <th>745</th>\n",
       "      <td>745</td>\n",
       "      <td>2016-09-22</td>\n",
       "      <td>Kenyan Solar Company, d.light, Has Raised $22....</td>\n",
       "      <td>False</td>\n",
       "      <td>2016-09</td>\n",
       "      <td>1</td>\n",
       "    </tr>\n",
       "    <tr>\n",
       "      <th>756</th>\n",
       "      <td>756</td>\n",
       "      <td>2016-09-20</td>\n",
       "      <td>ToLet.com.ng has raised $1.2 million from Fron...</td>\n",
       "      <td>False</td>\n",
       "      <td>2016-09</td>\n",
       "      <td>1</td>\n",
       "    </tr>\n",
       "    <tr>\n",
       "      <th>857</th>\n",
       "      <td>857</td>\n",
       "      <td>2016-08-18</td>\n",
       "      <td>SA fintech startup, Zoona, has raised $15 mill...</td>\n",
       "      <td>False</td>\n",
       "      <td>2016-08</td>\n",
       "      <td>1</td>\n",
       "    </tr>\n",
       "    <tr>\n",
       "      <th>861</th>\n",
       "      <td>861</td>\n",
       "      <td>2016-08-18</td>\n",
       "      <td>OgaVenue has raised $45,000 from Spark and Hot...</td>\n",
       "      <td>False</td>\n",
       "      <td>2016-08</td>\n",
       "      <td>1</td>\n",
       "    </tr>\n",
       "    <tr>\n",
       "      <th>966</th>\n",
       "      <td>966</td>\n",
       "      <td>2016-07-19</td>\n",
       "      <td>Etisalat raises bar, launches digital educatio...</td>\n",
       "      <td>True</td>\n",
       "      <td>2016-07</td>\n",
       "      <td>1</td>\n",
       "    </tr>\n",
       "    <tr>\n",
       "      <th>1009</th>\n",
       "      <td>1009</td>\n",
       "      <td>2016-06-28</td>\n",
       "      <td>WeChat has closed shop in Nigeria</td>\n",
       "      <td>False</td>\n",
       "      <td>2016-06</td>\n",
       "      <td>1</td>\n",
       "    </tr>\n",
       "    <tr>\n",
       "      <th>1025</th>\n",
       "      <td>1025</td>\n",
       "      <td>2016-06-21</td>\n",
       "      <td>Pay-as-you-go solar firm, PEG Ghana, has raise...</td>\n",
       "      <td>False</td>\n",
       "      <td>2016-06</td>\n",
       "      <td>1</td>\n",
       "    </tr>\n",
       "    <tr>\n",
       "      <th>1042</th>\n",
       "      <td>1042</td>\n",
       "      <td>2016-06-16</td>\n",
       "      <td>Andela has raised $24 million in funding from ...</td>\n",
       "      <td>False</td>\n",
       "      <td>2016-06</td>\n",
       "      <td>1</td>\n",
       "    </tr>\n",
       "    <tr>\n",
       "      <th>1131</th>\n",
       "      <td>1131</td>\n",
       "      <td>2016-05-13</td>\n",
       "      <td>Singularity Investments just invested an undis...</td>\n",
       "      <td>False</td>\n",
       "      <td>2016-05</td>\n",
       "      <td>1</td>\n",
       "    </tr>\n",
       "    <tr>\n",
       "      <th>1156</th>\n",
       "      <td>1156</td>\n",
       "      <td>2016-05-05</td>\n",
       "      <td>Why building your company, NOT capital raising...</td>\n",
       "      <td>False</td>\n",
       "      <td>2016-05</td>\n",
       "      <td>1</td>\n",
       "    </tr>\n",
       "    <tr>\n",
       "      <th>1213</th>\n",
       "      <td>1213</td>\n",
       "      <td>2016-04-19</td>\n",
       "      <td>Singularity Investments backs Asoko Insight wi...</td>\n",
       "      <td>False</td>\n",
       "      <td>2016-04</td>\n",
       "      <td>1</td>\n",
       "    </tr>\n",
       "    <tr>\n",
       "      <th>1220</th>\n",
       "      <td>1220</td>\n",
       "      <td>2016-04-18</td>\n",
       "      <td>Since 2012, only 11 black, female founders hav...</td>\n",
       "      <td>False</td>\n",
       "      <td>2016-04</td>\n",
       "      <td>1</td>\n",
       "    </tr>\n",
       "    <tr>\n",
       "      <th>1257</th>\n",
       "      <td>1257</td>\n",
       "      <td>2016-04-06</td>\n",
       "      <td>Motorcycle hailing service, SafeBoda just rais...</td>\n",
       "      <td>False</td>\n",
       "      <td>2016-04</td>\n",
       "      <td>1</td>\n",
       "    </tr>\n",
       "    <tr>\n",
       "      <th>1297</th>\n",
       "      <td>1297</td>\n",
       "      <td>2016-03-23</td>\n",
       "      <td>Ringier and Silvertree have just acquired Deal...</td>\n",
       "      <td>False</td>\n",
       "      <td>2016-03</td>\n",
       "      <td>1</td>\n",
       "    </tr>\n",
       "    <tr>\n",
       "      <th>1328</th>\n",
       "      <td>1328</td>\n",
       "      <td>2016-03-17</td>\n",
       "      <td>Nigeria’s S&amp;T Media just secured $1 million se...</td>\n",
       "      <td>False</td>\n",
       "      <td>2016-03</td>\n",
       "      <td>1</td>\n",
       "    </tr>\n",
       "    <tr>\n",
       "      <th>...</th>\n",
       "      <td>...</td>\n",
       "      <td>...</td>\n",
       "      <td>...</td>\n",
       "      <td>...</td>\n",
       "      <td>...</td>\n",
       "      <td>...</td>\n",
       "    </tr>\n",
       "    <tr>\n",
       "      <th>3116</th>\n",
       "      <td>3116</td>\n",
       "      <td>2015-05-06</td>\n",
       "      <td>Wednesday News Round Up: The New Pocketmoni, E...</td>\n",
       "      <td>False</td>\n",
       "      <td>2015-05</td>\n",
       "      <td>1</td>\n",
       "    </tr>\n",
       "    <tr>\n",
       "      <th>3123</th>\n",
       "      <td>3123</td>\n",
       "      <td>2015-05-06</td>\n",
       "      <td>SweepSouth has Closed a Funding Round to Scale...</td>\n",
       "      <td>False</td>\n",
       "      <td>2015-05</td>\n",
       "      <td>1</td>\n",
       "    </tr>\n",
       "    <tr>\n",
       "      <th>3124</th>\n",
       "      <td>3124</td>\n",
       "      <td>2015-05-06</td>\n",
       "      <td>Eaton Tower Raises $350 million for Expansion ...</td>\n",
       "      <td>False</td>\n",
       "      <td>2015-05</td>\n",
       "      <td>1</td>\n",
       "    </tr>\n",
       "    <tr>\n",
       "      <th>3308</th>\n",
       "      <td>3308</td>\n",
       "      <td>2015-04-07</td>\n",
       "      <td>Airtel Kenya Launches Fundraising Initiative f...</td>\n",
       "      <td>False</td>\n",
       "      <td>2015-04</td>\n",
       "      <td>1</td>\n",
       "    </tr>\n",
       "    <tr>\n",
       "      <th>3665</th>\n",
       "      <td>3665</td>\n",
       "      <td>2015-02-19</td>\n",
       "      <td>Thursday News Roundup: DealDey Raises $5millio...</td>\n",
       "      <td>False</td>\n",
       "      <td>2015-02</td>\n",
       "      <td>1</td>\n",
       "    </tr>\n",
       "    <tr>\n",
       "      <th>3673</th>\n",
       "      <td>3673</td>\n",
       "      <td>2015-02-19</td>\n",
       "      <td>DealDey Has Just Raised A $5 Million Series B ...</td>\n",
       "      <td>False</td>\n",
       "      <td>2015-02</td>\n",
       "      <td>1</td>\n",
       "    </tr>\n",
       "    <tr>\n",
       "      <th>3684</th>\n",
       "      <td>3684</td>\n",
       "      <td>2015-02-18</td>\n",
       "      <td>Liquid Telecom Secures $150 Million for Furthe...</td>\n",
       "      <td>False</td>\n",
       "      <td>2015-02</td>\n",
       "      <td>1</td>\n",
       "    </tr>\n",
       "    <tr>\n",
       "      <th>3703</th>\n",
       "      <td>3703</td>\n",
       "      <td>2015-02-16</td>\n",
       "      <td>Monday Roundup: Interswitch Launches $10 Milli...</td>\n",
       "      <td>False</td>\n",
       "      <td>2015-02</td>\n",
       "      <td>1</td>\n",
       "    </tr>\n",
       "    <tr>\n",
       "      <th>3704</th>\n",
       "      <td>3704</td>\n",
       "      <td>2015-02-16</td>\n",
       "      <td>African Courier Express Has Just Raised $2.6 M...</td>\n",
       "      <td>False</td>\n",
       "      <td>2015-02</td>\n",
       "      <td>1</td>\n",
       "    </tr>\n",
       "    <tr>\n",
       "      <th>3735</th>\n",
       "      <td>3735</td>\n",
       "      <td>2015-02-11</td>\n",
       "      <td>WEDNESDAY ROUNDUP: Angani Secures Seed Funding...</td>\n",
       "      <td>False</td>\n",
       "      <td>2015-02</td>\n",
       "      <td>1</td>\n",
       "    </tr>\n",
       "    <tr>\n",
       "      <th>3743</th>\n",
       "      <td>3743</td>\n",
       "      <td>2015-02-11</td>\n",
       "      <td>Angani secures seed round, poised for regional...</td>\n",
       "      <td>False</td>\n",
       "      <td>2015-02</td>\n",
       "      <td>1</td>\n",
       "    </tr>\n",
       "    <tr>\n",
       "      <th>3751</th>\n",
       "      <td>3751</td>\n",
       "      <td>2015-02-10</td>\n",
       "      <td>Kenyan Based BitPesa Raises US$1.1m in Funding...</td>\n",
       "      <td>False</td>\n",
       "      <td>2015-02</td>\n",
       "      <td>1</td>\n",
       "    </tr>\n",
       "    <tr>\n",
       "      <th>3795</th>\n",
       "      <td>3795</td>\n",
       "      <td>2015-02-04</td>\n",
       "      <td>Wednesday Roundup: HackJos Organises Hackathon...</td>\n",
       "      <td>False</td>\n",
       "      <td>2015-02</td>\n",
       "      <td>1</td>\n",
       "    </tr>\n",
       "    <tr>\n",
       "      <th>3796</th>\n",
       "      <td>3796</td>\n",
       "      <td>2015-02-04</td>\n",
       "      <td>Popular Blog, Humans of New York, Raises $1M f...</td>\n",
       "      <td>False</td>\n",
       "      <td>2015-02</td>\n",
       "      <td>1</td>\n",
       "    </tr>\n",
       "    <tr>\n",
       "      <th>3825</th>\n",
       "      <td>3825</td>\n",
       "      <td>2015-01-30</td>\n",
       "      <td>Teraco Secures a R400m Investment Facility fro...</td>\n",
       "      <td>False</td>\n",
       "      <td>2015-01</td>\n",
       "      <td>1</td>\n",
       "    </tr>\n",
       "    <tr>\n",
       "      <th>3847</th>\n",
       "      <td>3847</td>\n",
       "      <td>2015-01-28</td>\n",
       "      <td>Fenix International Raises $12.6 Million For I...</td>\n",
       "      <td>False</td>\n",
       "      <td>2015-01</td>\n",
       "      <td>1</td>\n",
       "    </tr>\n",
       "    <tr>\n",
       "      <th>3871</th>\n",
       "      <td>3871</td>\n",
       "      <td>2015-01-24</td>\n",
       "      <td>$40m Series C Investment Secured by Saltside T...</td>\n",
       "      <td>False</td>\n",
       "      <td>2015-01</td>\n",
       "      <td>1</td>\n",
       "    </tr>\n",
       "    <tr>\n",
       "      <th>3923</th>\n",
       "      <td>3923</td>\n",
       "      <td>2015-01-19</td>\n",
       "      <td>Free Internet And Unsecured Loans For Computer...</td>\n",
       "      <td>False</td>\n",
       "      <td>2015-01</td>\n",
       "      <td>1</td>\n",
       "    </tr>\n",
       "    <tr>\n",
       "      <th>3966</th>\n",
       "      <td>3966</td>\n",
       "      <td>2015-01-12</td>\n",
       "      <td>Helios Investment Partners Raised $1 Billion A...</td>\n",
       "      <td>False</td>\n",
       "      <td>2015-01</td>\n",
       "      <td>1</td>\n",
       "    </tr>\n",
       "    <tr>\n",
       "      <th>3996</th>\n",
       "      <td>3996</td>\n",
       "      <td>2015-01-05</td>\n",
       "      <td>Heels.com.ng Secures Seed Capital From Kernel ...</td>\n",
       "      <td>False</td>\n",
       "      <td>2015-01</td>\n",
       "      <td>1</td>\n",
       "    </tr>\n",
       "    <tr>\n",
       "      <th>4170</th>\n",
       "      <td>4170</td>\n",
       "      <td>2014-10-08</td>\n",
       "      <td>Konga Has Just Raised Over $40 Million More To...</td>\n",
       "      <td>False</td>\n",
       "      <td>2014-10</td>\n",
       "      <td>1</td>\n",
       "    </tr>\n",
       "    <tr>\n",
       "      <th>4300</th>\n",
       "      <td>4300</td>\n",
       "      <td>2014-07-21</td>\n",
       "      <td>Raising Digital Women, The W-TEC Way</td>\n",
       "      <td>False</td>\n",
       "      <td>2014-07</td>\n",
       "      <td>1</td>\n",
       "    </tr>\n",
       "    <tr>\n",
       "      <th>4516</th>\n",
       "      <td>4516</td>\n",
       "      <td>2014-05-26</td>\n",
       "      <td>Takealot.Com Raises $100m From Tiger Global fo...</td>\n",
       "      <td>False</td>\n",
       "      <td>2014-05</td>\n",
       "      <td>1</td>\n",
       "    </tr>\n",
       "    <tr>\n",
       "      <th>4542</th>\n",
       "      <td>4542</td>\n",
       "      <td>2014-05-20</td>\n",
       "      <td>M-Changa, Kenya’s Mobile Money Crowdfunding Pl...</td>\n",
       "      <td>False</td>\n",
       "      <td>2014-05</td>\n",
       "      <td>1</td>\n",
       "    </tr>\n",
       "    <tr>\n",
       "      <th>4582</th>\n",
       "      <td>4582</td>\n",
       "      <td>2014-05-12</td>\n",
       "      <td>Raising A New Generation of Programmers with H...</td>\n",
       "      <td>False</td>\n",
       "      <td>2014-05</td>\n",
       "      <td>1</td>\n",
       "    </tr>\n",
       "    <tr>\n",
       "      <th>4789</th>\n",
       "      <td>4789</td>\n",
       "      <td>2014-03-25</td>\n",
       "      <td>Ahonya Secures Seed Funding From Rio Technolog...</td>\n",
       "      <td>False</td>\n",
       "      <td>2014-03</td>\n",
       "      <td>1</td>\n",
       "    </tr>\n",
       "    <tr>\n",
       "      <th>4811</th>\n",
       "      <td>4811</td>\n",
       "      <td>2014-03-20</td>\n",
       "      <td>iSec Raised $10 Million From Synergy Capital A...</td>\n",
       "      <td>False</td>\n",
       "      <td>2014-03</td>\n",
       "      <td>1</td>\n",
       "    </tr>\n",
       "    <tr>\n",
       "      <th>4944</th>\n",
       "      <td>4944</td>\n",
       "      <td>2014-01-03</td>\n",
       "      <td>Exclusive: Online Store, Konga, Raises 25 Mill...</td>\n",
       "      <td>False</td>\n",
       "      <td>2014-01</td>\n",
       "      <td>1</td>\n",
       "    </tr>\n",
       "    <tr>\n",
       "      <th>4966</th>\n",
       "      <td>4966</td>\n",
       "      <td>2013-12-17</td>\n",
       "      <td>Jason Njoku Does It Again: iROKOtv Raises $8 M...</td>\n",
       "      <td>False</td>\n",
       "      <td>2013-12</td>\n",
       "      <td>1</td>\n",
       "    </tr>\n",
       "    <tr>\n",
       "      <th>5088</th>\n",
       "      <td>5088</td>\n",
       "      <td>2013-08-17</td>\n",
       "      <td>ICYMI: Jason Just Raised Another $2 Million Fo...</td>\n",
       "      <td>False</td>\n",
       "      <td>2013-08</td>\n",
       "      <td>1</td>\n",
       "    </tr>\n",
       "  </tbody>\n",
       "</table>\n",
       "<p>98 rows × 6 columns</p>\n",
       "</div>"
      ],
      "text/plain": [
       "      Unnamed: 0       date  \\\n",
       "75            75 2018-06-27   \n",
       "79            79 2018-06-22   \n",
       "173          173 2017-10-16   \n",
       "176          176 2017-10-10   \n",
       "292          292 2017-05-24   \n",
       "436          436 2017-02-15   \n",
       "496          496 2016-12-07   \n",
       "514          514 2016-11-29   \n",
       "546          546 2016-11-22   \n",
       "562          562 2016-11-17   \n",
       "566          566 2016-11-17   \n",
       "572          572 2016-11-16   \n",
       "583          583 2016-11-15   \n",
       "599          599 2016-11-10   \n",
       "741          741 2016-09-23   \n",
       "745          745 2016-09-22   \n",
       "756          756 2016-09-20   \n",
       "857          857 2016-08-18   \n",
       "861          861 2016-08-18   \n",
       "966          966 2016-07-19   \n",
       "1009        1009 2016-06-28   \n",
       "1025        1025 2016-06-21   \n",
       "1042        1042 2016-06-16   \n",
       "1131        1131 2016-05-13   \n",
       "1156        1156 2016-05-05   \n",
       "1213        1213 2016-04-19   \n",
       "1220        1220 2016-04-18   \n",
       "1257        1257 2016-04-06   \n",
       "1297        1297 2016-03-23   \n",
       "1328        1328 2016-03-17   \n",
       "...          ...        ...   \n",
       "3116        3116 2015-05-06   \n",
       "3123        3123 2015-05-06   \n",
       "3124        3124 2015-05-06   \n",
       "3308        3308 2015-04-07   \n",
       "3665        3665 2015-02-19   \n",
       "3673        3673 2015-02-19   \n",
       "3684        3684 2015-02-18   \n",
       "3703        3703 2015-02-16   \n",
       "3704        3704 2015-02-16   \n",
       "3735        3735 2015-02-11   \n",
       "3743        3743 2015-02-11   \n",
       "3751        3751 2015-02-10   \n",
       "3795        3795 2015-02-04   \n",
       "3796        3796 2015-02-04   \n",
       "3825        3825 2015-01-30   \n",
       "3847        3847 2015-01-28   \n",
       "3871        3871 2015-01-24   \n",
       "3923        3923 2015-01-19   \n",
       "3966        3966 2015-01-12   \n",
       "3996        3996 2015-01-05   \n",
       "4170        4170 2014-10-08   \n",
       "4300        4300 2014-07-21   \n",
       "4516        4516 2014-05-26   \n",
       "4542        4542 2014-05-20   \n",
       "4582        4582 2014-05-12   \n",
       "4789        4789 2014-03-25   \n",
       "4811        4811 2014-03-20   \n",
       "4944        4944 2014-01-03   \n",
       "4966        4966 2013-12-17   \n",
       "5088        5088 2013-08-17   \n",
       "\n",
       "                                               headline  sponsored   months  \\\n",
       "75    Bitkoin Africa Has Secured An Undisclosed Amou...      False  2018-06   \n",
       "79    Itel Mobile Raises The Bar In Smartphone Batte...       True  2018-06   \n",
       "173   Building the future, with Kendall Ananyi: reac...      False  2017-10   \n",
       "176   BREAKING: Andela raises $40m from CRE VC, DBL,...      False  2017-10   \n",
       "292    Frontier Car Group Closes $22 Million Investment      False  2017-05   \n",
       "436           TechCabal daily: Day jobs and seed raises      False  2017-02   \n",
       "496   African Tech Roundup: Zebra Cabs Raises $21.6 ...      False  2016-12   \n",
       "514   South Africa’s Zebra Cabs has raised $21.5 mil...      False  2016-11   \n",
       "546   African Tech Roundup: Kenyan agritech startup ...      False  2016-11   \n",
       "562   South African podcast platform, iono has raise...      False  2016-11   \n",
       "566   Kenya’s WeFarm has raised $1.6 million in seed...      False  2016-11   \n",
       "572   Messaging app, Jongla has raised $5.4 million ...      False  2016-11   \n",
       "583   Cactus Capital has invested an undisclosed amo...      False  2016-11   \n",
       "599   Drone delivery startup, Zipline, has raised $2...      False  2016-11   \n",
       "741   W.TEC’s set up a fund-raising campaign to help...      False  2016-09   \n",
       "745   Kenyan Solar Company, d.light, Has Raised $22....      False  2016-09   \n",
       "756   ToLet.com.ng has raised $1.2 million from Fron...      False  2016-09   \n",
       "857   SA fintech startup, Zoona, has raised $15 mill...      False  2016-08   \n",
       "861   OgaVenue has raised $45,000 from Spark and Hot...      False  2016-08   \n",
       "966   Etisalat raises bar, launches digital educatio...       True  2016-07   \n",
       "1009                  WeChat has closed shop in Nigeria      False  2016-06   \n",
       "1025  Pay-as-you-go solar firm, PEG Ghana, has raise...      False  2016-06   \n",
       "1042  Andela has raised $24 million in funding from ...      False  2016-06   \n",
       "1131  Singularity Investments just invested an undis...      False  2016-05   \n",
       "1156  Why building your company, NOT capital raising...      False  2016-05   \n",
       "1213  Singularity Investments backs Asoko Insight wi...      False  2016-04   \n",
       "1220  Since 2012, only 11 black, female founders hav...      False  2016-04   \n",
       "1257  Motorcycle hailing service, SafeBoda just rais...      False  2016-04   \n",
       "1297  Ringier and Silvertree have just acquired Deal...      False  2016-03   \n",
       "1328  Nigeria’s S&T Media just secured $1 million se...      False  2016-03   \n",
       "...                                                 ...        ...      ...   \n",
       "3116  Wednesday News Round Up: The New Pocketmoni, E...      False  2015-05   \n",
       "3123  SweepSouth has Closed a Funding Round to Scale...      False  2015-05   \n",
       "3124  Eaton Tower Raises $350 million for Expansion ...      False  2015-05   \n",
       "3308  Airtel Kenya Launches Fundraising Initiative f...      False  2015-04   \n",
       "3665  Thursday News Roundup: DealDey Raises $5millio...      False  2015-02   \n",
       "3673  DealDey Has Just Raised A $5 Million Series B ...      False  2015-02   \n",
       "3684  Liquid Telecom Secures $150 Million for Furthe...      False  2015-02   \n",
       "3703  Monday Roundup: Interswitch Launches $10 Milli...      False  2015-02   \n",
       "3704  African Courier Express Has Just Raised $2.6 M...      False  2015-02   \n",
       "3735  WEDNESDAY ROUNDUP: Angani Secures Seed Funding...      False  2015-02   \n",
       "3743  Angani secures seed round, poised for regional...      False  2015-02   \n",
       "3751  Kenyan Based BitPesa Raises US$1.1m in Funding...      False  2015-02   \n",
       "3795  Wednesday Roundup: HackJos Organises Hackathon...      False  2015-02   \n",
       "3796  Popular Blog, Humans of New York, Raises $1M f...      False  2015-02   \n",
       "3825  Teraco Secures a R400m Investment Facility fro...      False  2015-01   \n",
       "3847  Fenix International Raises $12.6 Million For I...      False  2015-01   \n",
       "3871  $40m Series C Investment Secured by Saltside T...      False  2015-01   \n",
       "3923  Free Internet And Unsecured Loans For Computer...      False  2015-01   \n",
       "3966  Helios Investment Partners Raised $1 Billion A...      False  2015-01   \n",
       "3996  Heels.com.ng Secures Seed Capital From Kernel ...      False  2015-01   \n",
       "4170  Konga Has Just Raised Over $40 Million More To...      False  2014-10   \n",
       "4300               Raising Digital Women, The W-TEC Way      False  2014-07   \n",
       "4516  Takealot.Com Raises $100m From Tiger Global fo...      False  2014-05   \n",
       "4542  M-Changa, Kenya’s Mobile Money Crowdfunding Pl...      False  2014-05   \n",
       "4582  Raising A New Generation of Programmers with H...      False  2014-05   \n",
       "4789  Ahonya Secures Seed Funding From Rio Technolog...      False  2014-03   \n",
       "4811  iSec Raised $10 Million From Synergy Capital A...      False  2014-03   \n",
       "4944  Exclusive: Online Store, Konga, Raises 25 Mill...      False  2014-01   \n",
       "4966  Jason Njoku Does It Again: iROKOtv Raises $8 M...      False  2013-12   \n",
       "5088  ICYMI: Jason Just Raised Another $2 Million Fo...      False  2013-08   \n",
       "\n",
       "      count  \n",
       "75        1  \n",
       "79        1  \n",
       "173       1  \n",
       "176       1  \n",
       "292       1  \n",
       "436       1  \n",
       "496       1  \n",
       "514       1  \n",
       "546       1  \n",
       "562       1  \n",
       "566       1  \n",
       "572       1  \n",
       "583       1  \n",
       "599       1  \n",
       "741       1  \n",
       "745       1  \n",
       "756       1  \n",
       "857       1  \n",
       "861       1  \n",
       "966       1  \n",
       "1009      1  \n",
       "1025      1  \n",
       "1042      1  \n",
       "1131      1  \n",
       "1156      1  \n",
       "1213      1  \n",
       "1220      1  \n",
       "1257      1  \n",
       "1297      1  \n",
       "1328      1  \n",
       "...     ...  \n",
       "3116      1  \n",
       "3123      1  \n",
       "3124      1  \n",
       "3308      1  \n",
       "3665      1  \n",
       "3673      1  \n",
       "3684      1  \n",
       "3703      1  \n",
       "3704      1  \n",
       "3735      1  \n",
       "3743      1  \n",
       "3751      1  \n",
       "3795      1  \n",
       "3796      1  \n",
       "3825      1  \n",
       "3847      1  \n",
       "3871      1  \n",
       "3923      1  \n",
       "3966      1  \n",
       "3996      1  \n",
       "4170      1  \n",
       "4300      1  \n",
       "4516      1  \n",
       "4542      1  \n",
       "4582      1  \n",
       "4789      1  \n",
       "4811      1  \n",
       "4944      1  \n",
       "4966      1  \n",
       "5088      1  \n",
       "\n",
       "[98 rows x 6 columns]"
      ]
     },
     "execution_count": 486,
     "metadata": {},
     "output_type": "execute_result"
    }
   ],
   "source": [
    "funding"
   ]
  },
  {
   "cell_type": "code",
   "execution_count": null,
   "metadata": {
    "collapsed": true
   },
   "outputs": [],
   "source": [
    "# https://techcabal.com/2015/02/16/\n",
    "# https://techcabal.com/2015/02/10/\n"
   ]
  }
 ],
 "metadata": {
  "kernelspec": {
   "display_name": "Python 3",
   "language": "python",
   "name": "python3"
  }
 },
 "nbformat": 4,
 "nbformat_minor": 2
}
